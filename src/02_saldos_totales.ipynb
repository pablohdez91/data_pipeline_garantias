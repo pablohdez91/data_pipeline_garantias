{
 "cells": [
  {
   "cell_type": "code",
   "execution_count": 7,
   "metadata": {},
   "outputs": [],
   "source": [
    "import polars as pl\n",
    "import pandas as pd"
   ]
  },
  {
   "cell_type": "code",
   "execution_count": 8,
   "metadata": {},
   "outputs": [],
   "source": [
    "from IPython import get_ipython\n",
    "get_ipython().run_line_magic(\"run\", \"01_pagos_recup_functions.ipynb\")"
   ]
  },
  {
   "cell_type": "code",
   "execution_count": 9,
   "metadata": {},
   "outputs": [],
   "source": [
    "import time\n",
    "start_time = time.time()"
   ]
  },
  {
   "cell_type": "code",
   "execution_count": 10,
   "metadata": {},
   "outputs": [],
   "source": [
    "cierre = \"202506\"\n",
    "cierre_l = \"Jun25\"\n",
    "\n",
    "# Carpetas\n",
    "path = \"E:/Users/jhernandezr/DAR/garantias/reporte/fotos/\"\n",
    "wd_data_raw = path + \"data/raw/\"\n",
    "wd_data_external = path + \"data/external/\"\n",
    "wd_data_processed_dwh = \"E:/Users/jhernandezr/DAR/garantias/data_pipeline_garantias/data/processed/DWH/\"\n",
    "\n",
    "\n",
    "# Archivos\n",
    "# Inputs\n",
    "fl_catalogos = wd_data_external + f'Catálogos_{cierre_l}.accdb'\n",
    "fl_saldos = wd_data_raw + f\"Saldos_{cierre}.mdb\"\n",
    "fl_saldos_bmxt = wd_data_raw + f\"Saldos_BMXT_{cierre}.mdb\"\n",
    "fl_saldos_fianzas = wd_data_raw + f\"Saldos_80686_{cierre}.mdb\"\n",
    "\n",
    "# Outputs\n",
    "fl_saldos_totales_vf = wd_data_processed_dwh + f'parquet/DWH_Saldos_Totales_{cierre}_VF.parquet'\n",
    "fl_agrup_saldo_total = wd_data_processed_dwh + f'parquet/BD_DWH_Agrup_SaldoTotal_{cierre}.parquet'\n",
    "fl_agrup_taxo_saldo_total = wd_data_processed_dwh + f'parquet/BD_DWH_AgrupTaxo_SaldoTotal_{cierre}.parquet'"
   ]
  },
  {
   "cell_type": "code",
   "execution_count": 11,
   "metadata": {},
   "outputs": [],
   "source": [
    "schema_saldos = {\n",
    "    'DESC_INDICADOR': pl.String,\n",
    "    'FECHA_CONSULTA': pl.Date,\n",
    "    'HISTORICO': pl.String,\n",
    "    'INDICADOR_ID': pl.Int32,\n",
    "    'INTERMEDIARIO_ID': pl.String,\n",
    "    'PROGRAMA_DESCRIPCION': pl.String,\n",
    "    'PROGRAMA_ID': pl.Int32,\n",
    "    'PROGRAMA_ORIGINAL': pl.Int32,\n",
    "    'RAZON_SOCIAL': pl.String,\n",
    "    'TIPO_CREDITO_ID': pl.Int16,\n",
    "    'Número de registros': pl.Int16,\n",
    "    'SALDO_CONTINGENTE_MN (SUMA)': pl.Float64\n",
    "}"
   ]
  },
  {
   "cell_type": "code",
   "execution_count": 12,
   "metadata": {},
   "outputs": [],
   "source": [
    "def import_saldos_totales():\n",
    "    df_saldos = read_access(fl_saldos, \"DATOS\")\n",
    "    df_saldos_bmxt = read_access(fl_saldos_bmxt, \"DATOS\")\n",
    "    df_saldos_fianzas = read_access(fl_saldos_fianzas, \"DATOS\")\n",
    "\n",
    "    df_saldos_totales = pl.concat([\n",
    "        df_saldos, \n",
    "        df_saldos_bmxt, \n",
    "        df_saldos_fianzas\n",
    "        ], rechunk=True)\n",
    "    \n",
    "    df_saldos_totales = (\n",
    "        df_saldos_totales.select(\n",
    "            pl.col(\"DESC_INDICADOR\").alias(\"Producto\"),\n",
    "            pl.col(\"FECHA_CONSULTA\"),\n",
    "            pl.col(\"INDICADOR_ID\").alias(\"Producto ID\"),\n",
    "            pl.col(\"INTERMEDIARIO_ID\"),\n",
    "            pl.col(\"PROGRAMA_DESCRIPCION\").alias(\"Programa Descripción (ID)\"),\n",
    "            pl.col(\"PROGRAMA_ID\"),\n",
    "            pl.col(\"PROGRAMA_ORIGINAL\"),\n",
    "            pl.col(\"RAZON_SOCIAL\").alias(\"Razón Social (Intermediario)\"),\n",
    "            pl.col(\"TIPO_CREDITO_ID\"),\n",
    "            pl.col(\"SALDO_CONTINGENTE_MN (SUMA)\").alias(\"SUM Saldo_Contingente_Mn\")\n",
    "        )\n",
    "    )\n",
    "    df_saldos_totales = genera_tpro_clave(df_saldos_totales)\n",
    "    return df_saldos_totales\n",
    "\n",
    "df_saldos_totales = import_saldos_totales()"
   ]
  },
  {
   "cell_type": "code",
   "execution_count": 13,
   "metadata": {},
   "outputs": [],
   "source": [
    "def genera_saldos_totales_vf(df):\n",
    "    tipo_credito = read_access(fl_catalogos, \"TIPO_CREDITO\")\n",
    "    tipo_credito = tipo_credito.cast({'Tipo_Credito_ID': pl.Int32})\n",
    "\n",
    "    df_saldos_totales_vf = (\n",
    "        df.join(tipo_credito.select(['Tipo_Credito_ID', 'NR_R']),\n",
    "                            left_on='TIPO_CREDITO_ID', right_on='Tipo_Credito_ID',\n",
    "                            how='left')\n",
    "    )\n",
    "    return df_saldos_totales_vf\n",
    "\n",
    "saldos_totales_vf = genera_saldos_totales_vf(df_saldos_totales)"
   ]
  },
  {
   "cell_type": "code",
   "execution_count": 14,
   "metadata": {},
   "outputs": [
    {
     "data": {
      "text/html": [
       "<div><style>\n",
       ".dataframe > thead > tr,\n",
       ".dataframe > tbody > tr {\n",
       "  text-align: right;\n",
       "  white-space: pre-wrap;\n",
       "}\n",
       "</style>\n",
       "<small>shape: (258, 6)</small><table border=\"1\" class=\"dataframe\"><thead><tr><th>Producto</th><th>Razón Social (Intermediario)</th><th>INTERMEDIARIO_ID</th><th>PROGRAMA_ORIGINAL</th><th>PROGRAMA_ID</th><th>SALDO_MN</th></tr><tr><td>str</td><td>str</td><td>str</td><td>i64</td><td>i64</td><td>f64</td></tr></thead><tbody><tr><td>&quot;GARANTIAS BANCOMEXT&quot;</td><td>&quot;BANCOMEXT/BAJIO&quot;</td><td>&quot;64991057&quot;</td><td>3999</td><td>39451</td><td>5.5599e6</td></tr><tr><td>&quot;GARANTIAS BANCOMEXT&quot;</td><td>&quot;BANCOMEXT / BANSI&quot;</td><td>&quot;481346210&quot;</td><td>3999</td><td>39817</td><td>3.33312e6</td></tr><tr><td>&quot;GARANTIAS BANCOMEXT&quot;</td><td>&quot;BANCOMEXT/BAJIO&quot;</td><td>&quot;64991057&quot;</td><td>3999</td><td>39467</td><td>401028.156</td></tr><tr><td>&quot;GARANTIAS BANCOMEXT&quot;</td><td>&quot;BANCOMEXTBANAMEX&quot;</td><td>&quot;468297752&quot;</td><td>3999</td><td>390161</td><td>1.1855e8</td></tr><tr><td>&quot;GARANTIAS BANCOMEXT&quot;</td><td>&quot;BANCOMEXT/BAJIO&quot;</td><td>&quot;64991057&quot;</td><td>3999</td><td>390194</td><td>2.8833e8</td></tr><tr><td>&hellip;</td><td>&hellip;</td><td>&hellip;</td><td>&hellip;</td><td>&hellip;</td><td>&hellip;</td></tr><tr><td>&quot;GARANTIAS BANCOMEXT&quot;</td><td>&quot;BANCOMEXT/BANCO REGIONAL DE MO…</td><td>&quot;479696360&quot;</td><td>3999</td><td>39914</td><td>1.0379e6</td></tr><tr><td>&quot;GARANTIAS BANCOMEXT&quot;</td><td>&quot;BANCOMEXTBANAMEX&quot;</td><td>&quot;468297752&quot;</td><td>3999</td><td>390102</td><td>5.6703e7</td></tr><tr><td>&quot;GARANTIAS BANCOMEXT&quot;</td><td>&quot;BANCOMEXT/BAJIO&quot;</td><td>&quot;64991057&quot;</td><td>3999</td><td>390058</td><td>1.2167e7</td></tr><tr><td>&quot;GARANTIAS BANCOMEXT&quot;</td><td>&quot;BANCOMEXTHSBC&quot;</td><td>&quot;478809852&quot;</td><td>3999</td><td>390163</td><td>6.2056e7</td></tr><tr><td>&quot;GARANTIAS BANCOMEXT&quot;</td><td>&quot;BANCOMEXT MIFEL&quot;</td><td>&quot;468577182&quot;</td><td>3999</td><td>390086</td><td>4800000.8</td></tr></tbody></table></div>"
      ],
      "text/plain": [
       "shape: (258, 6)\n",
       "┌───────────┬───────────────────┬───────────────────┬───────────────────┬─────────────┬────────────┐\n",
       "│ Producto  ┆ Razón Social      ┆ INTERMEDIARIO_ID  ┆ PROGRAMA_ORIGINAL ┆ PROGRAMA_ID ┆ SALDO_MN   │\n",
       "│ ---       ┆ (Intermediario)   ┆ ---               ┆ ---               ┆ ---         ┆ ---        │\n",
       "│ str       ┆ ---               ┆ str               ┆ i64               ┆ i64         ┆ f64        │\n",
       "│           ┆ str               ┆                   ┆                   ┆             ┆            │\n",
       "╞═══════════╪═══════════════════╪═══════════════════╪═══════════════════╪═════════════╪════════════╡\n",
       "│ GARANTIAS ┆ BANCOMEXT/BAJIO   ┆ 64991057          ┆ 3999              ┆ 39451       ┆ 5.5599e6   │\n",
       "│ BANCOMEXT ┆                   ┆                   ┆                   ┆             ┆            │\n",
       "│ GARANTIAS ┆ BANCOMEXT / BANSI ┆ 481346210         ┆ 3999              ┆ 39817       ┆ 3.33312e6  │\n",
       "│ BANCOMEXT ┆                   ┆                   ┆                   ┆             ┆            │\n",
       "│ GARANTIAS ┆ BANCOMEXT/BAJIO   ┆ 64991057          ┆ 3999              ┆ 39467       ┆ 401028.156 │\n",
       "│ BANCOMEXT ┆                   ┆                   ┆                   ┆             ┆            │\n",
       "│ GARANTIAS ┆ BANCOMEXTBANAMEX  ┆ 468297752         ┆ 3999              ┆ 390161      ┆ 1.1855e8   │\n",
       "│ BANCOMEXT ┆                   ┆                   ┆                   ┆             ┆            │\n",
       "│ GARANTIAS ┆ BANCOMEXT/BAJIO   ┆ 64991057          ┆ 3999              ┆ 390194      ┆ 2.8833e8   │\n",
       "│ BANCOMEXT ┆                   ┆                   ┆                   ┆             ┆            │\n",
       "│ …         ┆ …                 ┆ …                 ┆ …                 ┆ …           ┆ …          │\n",
       "│ GARANTIAS ┆ BANCOMEXT/BANCO   ┆ 479696360         ┆ 3999              ┆ 39914       ┆ 1.0379e6   │\n",
       "│ BANCOMEXT ┆ REGIONAL DE MO…   ┆                   ┆                   ┆             ┆            │\n",
       "│ GARANTIAS ┆ BANCOMEXTBANAMEX  ┆ 468297752         ┆ 3999              ┆ 390102      ┆ 5.6703e7   │\n",
       "│ BANCOMEXT ┆                   ┆                   ┆                   ┆             ┆            │\n",
       "│ GARANTIAS ┆ BANCOMEXT/BAJIO   ┆ 64991057          ┆ 3999              ┆ 390058      ┆ 1.2167e7   │\n",
       "│ BANCOMEXT ┆                   ┆                   ┆                   ┆             ┆            │\n",
       "│ GARANTIAS ┆ BANCOMEXTHSBC     ┆ 478809852         ┆ 3999              ┆ 390163      ┆ 6.2056e7   │\n",
       "│ BANCOMEXT ┆                   ┆                   ┆                   ┆             ┆            │\n",
       "│ GARANTIAS ┆ BANCOMEXT MIFEL   ┆ 468577182         ┆ 3999              ┆ 390086      ┆ 4800000.8  │\n",
       "│ BANCOMEXT ┆                   ┆                   ┆                   ┆             ┆            │\n",
       "└───────────┴───────────────────┴───────────────────┴───────────────────┴─────────────┴────────────┘"
      ]
     },
     "execution_count": 14,
     "metadata": {},
     "output_type": "execute_result"
    }
   ],
   "source": [
    "# Agrup saldo total\n",
    "agrup_saldo_total = (\n",
    "    saldos_totales_vf\n",
    "    .group_by([\n",
    "        \"Producto\", \n",
    "        \"Razón Social (Intermediario)\", \n",
    "        \"INTERMEDIARIO_ID\", \n",
    "        \"PROGRAMA_ORIGINAL\", \n",
    "        \"PROGRAMA_ID\"\n",
    "        ]).agg(\n",
    "            pl.col(\"SUM Saldo_Contingente_Mn\").sum().alias(\"SALDO_MN\")\n",
    "        )\n",
    ")\n",
    "\n",
    "# Agrup saldo total resto\n",
    "(\n",
    "    saldos_totales_vf\n",
    "    .filter(\n",
    "        (pl.col(\"Producto\") == \"GARANTIAS BANCOMEXT\") |\n",
    "        (pl.col(\"Producto\") == \"GARANTIAS SHF/LI FINANCIERO\") |\n",
    "        (pl.col(\"Producto\") == \"GARANTIAS BANSEFI\") |\n",
    "        (pl.col(\"Razón Social (Intermediario)\") == \"FISO PARA EL AHORRO DE ENERGIA ELECTRICA (FASE II)\")\n",
    "    ).group_by([\n",
    "        \"Producto\", \n",
    "        \"Razón Social (Intermediario)\", \n",
    "        \"INTERMEDIARIO_ID\", \n",
    "        \"PROGRAMA_ORIGINAL\", \n",
    "        \"PROGRAMA_ID\"\n",
    "        ]).agg(\n",
    "            pl.col(\"SUM Saldo_Contingente_Mn\").sum().alias(\"SALDO_MN\")\n",
    "        )\n",
    ")"
   ]
  },
  {
   "cell_type": "code",
   "execution_count": 15,
   "metadata": {},
   "outputs": [
    {
     "data": {
      "text/html": [
       "<div><style>\n",
       ".dataframe > thead > tr,\n",
       ".dataframe > tbody > tr {\n",
       "  text-align: right;\n",
       "  white-space: pre-wrap;\n",
       "}\n",
       "</style>\n",
       "<small>shape: (8, 2)</small><table border=\"1\" class=\"dataframe\"><thead><tr><th>Producto</th><th>SALDO_MN</th></tr><tr><td>str</td><td>f64</td></tr></thead><tbody><tr><td>&quot;GARANTIA SUBASTA&quot;</td><td>402382.634663</td></tr><tr><td>&quot;GARANTIAS FEFA&quot;</td><td>3.4366e8</td></tr><tr><td>&quot;GARANTIA EMPRESARIAL&quot;</td><td>9.4991e10</td></tr><tr><td>&quot;EMPRESA MEDIANA&quot;</td><td>3.0404e8</td></tr><tr><td>&quot;GARANTIA FIANZA&quot;</td><td>6.5166e9</td></tr><tr><td>&quot;GARANTIA SECTORIAL&quot;</td><td>1.7708e10</td></tr><tr><td>&quot;GARANTIA EMERGENTES&quot;</td><td>4.7175e8</td></tr><tr><td>&quot;GARANTIA ESPECIAL&quot;</td><td>6.4603e7</td></tr></tbody></table></div>"
      ],
      "text/plain": [
       "shape: (8, 2)\n",
       "┌──────────────────────┬───────────────┐\n",
       "│ Producto             ┆ SALDO_MN      │\n",
       "│ ---                  ┆ ---           │\n",
       "│ str                  ┆ f64           │\n",
       "╞══════════════════════╪═══════════════╡\n",
       "│ GARANTIA SUBASTA     ┆ 402382.634663 │\n",
       "│ GARANTIAS FEFA       ┆ 3.4366e8      │\n",
       "│ GARANTIA EMPRESARIAL ┆ 9.4991e10     │\n",
       "│ EMPRESA MEDIANA      ┆ 3.0404e8      │\n",
       "│ GARANTIA FIANZA      ┆ 6.5166e9      │\n",
       "│ GARANTIA SECTORIAL   ┆ 1.7708e10     │\n",
       "│ GARANTIA EMERGENTES  ┆ 4.7175e8      │\n",
       "│ GARANTIA ESPECIAL    ┆ 6.4603e7      │\n",
       "└──────────────────────┴───────────────┘"
      ]
     },
     "execution_count": 15,
     "metadata": {},
     "output_type": "execute_result"
    }
   ],
   "source": [
    "# Agrup saldo total automatica\n",
    "(\n",
    "    saldos_totales_vf\n",
    "    .filter(\n",
    "        (pl.col(\"Producto\") != \"GARANTIAS BANCOMEXT\") &\n",
    "        (pl.col(\"Producto\") != \"GARANTIAS SHF/LI FINANCIERO\") &\n",
    "        (pl.col(\"Producto\") != \"GARANTIAS BANSEFI\") &\n",
    "        (pl.col(\"Razón Social (Intermediario)\") != \"FISO PARA EL AHORRO DE ENERGIA ELECTRICA (FASE II)\")\n",
    "    ).group_by([\n",
    "        \"Producto\", \n",
    "        \"Razón Social (Intermediario)\", \n",
    "        \"INTERMEDIARIO_ID\", \n",
    "        \"PROGRAMA_ORIGINAL\", \n",
    "        \"PROGRAMA_ID\"\n",
    "        ]).agg(\n",
    "            pl.col(\"SUM Saldo_Contingente_Mn\").sum().alias(\"SALDO_MN\")\n",
    "        )\n",
    ")\n",
    "\n",
    "# AgrupTaxo saldo total\n",
    "agrup_taxo_saldo_total = (\n",
    "    saldos_totales_vf\n",
    "    .group_by([\n",
    "        \"Producto\"\n",
    "        ]).agg(\n",
    "            pl.col(\"SUM Saldo_Contingente_Mn\").sum().alias(\"SALDO_MN\")\n",
    "        )\n",
    ")\n",
    "\n",
    "# AgrupTaxo saldo total resto\n",
    "(\n",
    "    saldos_totales_vf\n",
    "        .filter(\n",
    "            (pl.col(\"Producto\") == \"GARANTIAS BANCOMEXT\") |\n",
    "            (pl.col(\"Producto\") == \"GARANTIAS SHF-LI FINANCIERO\") |\n",
    "            (pl.col(\"Producto\") == \"GARANTIAS BANSEFI\") |\n",
    "            (pl.col(\"Razón Social (Intermediario)\") == \"FISO PARA EL AHORRO DE ENERGIA ELECTRICA (FASE II)\")\n",
    "        ).group_by([\n",
    "            \"Producto\"\n",
    "            ]).agg(\n",
    "            pl.col(\"SUM Saldo_Contingente_Mn\").sum().alias(\"SALDO_MN\")\n",
    "        )\n",
    ")\n",
    "\n",
    "(\n",
    "    saldos_totales_vf\n",
    "    .filter(\n",
    "        (pl.col(\"Producto\") != \"GARANTIAS BANCOMEXT\") &\n",
    "        (pl.col(\"Producto\") != \"GARANTIAS SHF/LI FINANCIERO\") &\n",
    "        (pl.col(\"Producto\") != \"GARANTIAS BANSEFI\") &\n",
    "        (pl.col(\"Razón Social (Intermediario)\") != \"FISO PARA EL AHORRO DE ENERGIA ELECTRICA (FASE II)\")\n",
    "        ).group_by([\n",
    "            \"Producto\"\n",
    "            ]).agg(\n",
    "            pl.col(\"SUM Saldo_Contingente_Mn\").sum().alias(\"SALDO_MN\")\n",
    "        )\n",
    ")"
   ]
  },
  {
   "cell_type": "code",
   "execution_count": 16,
   "metadata": {},
   "outputs": [],
   "source": [
    "# Exporta CSV\n",
    "# saldos_totales_vf.write_csv(fl_saldos_totales_vf, datetime_format=\"%Y-%m-%d\", float_precision=6)\n",
    "# agrup_saldo_total.write_csv(fl_agrup_saldo_total, datetime_format=\"%Y-%m-%d\", float_precision=6)\n",
    "# agrup_taxo_saldo_total.write_csv(fl_agrup_taxo_saldo_total, datetime_format=\"%Y-%m-%d\", float_precision=6)\n"
   ]
  },
  {
   "cell_type": "code",
   "execution_count": 17,
   "metadata": {},
   "outputs": [],
   "source": [
    "# Exporta Parquet\n",
    "saldos_totales_vf.write_parquet(fl_saldos_totales_vf)\n",
    "agrup_saldo_total.write_parquet(fl_agrup_saldo_total)\n",
    "agrup_taxo_saldo_total.write_parquet(fl_agrup_taxo_saldo_total)"
   ]
  },
  {
   "cell_type": "code",
   "execution_count": 18,
   "metadata": {},
   "outputs": [
    {
     "data": {
      "text/plain": [
       "1.2410268783569336"
      ]
     },
     "execution_count": 18,
     "metadata": {},
     "output_type": "execute_result"
    }
   ],
   "source": [
    "end_time = time.time()\n",
    "end_time - start_time"
   ]
  },
  {
   "cell_type": "markdown",
   "metadata": {},
   "source": [
    "### macro_pe_p10"
   ]
  },
  {
   "cell_type": "code",
   "execution_count": null,
   "metadata": {},
   "outputs": [],
   "source": []
  },
  {
   "cell_type": "code",
   "execution_count": null,
   "metadata": {},
   "outputs": [],
   "source": [
    "\n"
   ]
  }
 ],
 "metadata": {
  "kernelspec": {
   "display_name": ".venv",
   "language": "python",
   "name": "python3"
  },
  "language_info": {
   "codemirror_mode": {
    "name": "ipython",
    "version": 3
   },
   "file_extension": ".py",
   "mimetype": "text/x-python",
   "name": "python",
   "nbconvert_exporter": "python",
   "pygments_lexer": "ipython3",
   "version": "3.13.2"
  }
 },
 "nbformat": 4,
 "nbformat_minor": 2
}
