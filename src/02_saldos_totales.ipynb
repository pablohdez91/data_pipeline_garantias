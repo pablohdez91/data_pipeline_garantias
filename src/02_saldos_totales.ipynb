{
 "cells": [
  {
   "cell_type": "code",
   "execution_count": 5,
   "metadata": {},
   "outputs": [],
   "source": [
    "import polars as pl\n",
    "import pandas as pd"
   ]
  },
  {
   "cell_type": "code",
   "execution_count": 6,
   "metadata": {},
   "outputs": [],
   "source": [
    "from IPython import get_ipython\n",
    "get_ipython().run_line_magic(\"run\", \"01_pagos_recup_functions.ipynb\")"
   ]
  },
  {
   "cell_type": "code",
   "execution_count": 7,
   "metadata": {},
   "outputs": [],
   "source": [
    "cierre = \"202504\"\n",
    "cierre_l = \"Abr25\"\n",
    "\n",
    "# Carpetas\n",
    "path = \"E:/Users/jhernandezr/DAR/garantias/reporte/fotos/\"\n",
    "wd_data_raw = path + \"data/raw/\"\n",
    "wd_data_external = path + \"data/external/\"\n",
    "wd_data_processed_dwh = \"E:/Users/jhernandezr/DAR/garantias/data_pipeline_garantias/data/processed/DWH/\"\n",
    "\n",
    "\n",
    "# Archivos\n",
    "# Inputs\n",
    "fl_catalogos = wd_data_external + f'Catálogos_{cierre_l}.accdb'\n",
    "fl_saldos = wd_data_raw + f\"Saldos_{cierre}.mdb\"\n",
    "fl_saldos_bmxt = wd_data_raw + f\"Saldos_BMXT_{cierre}.mdb\"\n",
    "fl_saldos_fianzas = wd_data_raw + f\"Saldos_80686_{cierre}.mdb\"\n",
    "\n",
    "# Outputs\n",
    "fl_saldos_totales_vf = wd_data_processed_dwh + f'parquet/DWH_Saldos_Totales_{cierre}_VF.parquet'\n",
    "fl_agrup_saldo_total = wd_data_processed_dwh + f'parquet/BD_DWH_Agrup_SaldoTotal_{cierre}.parquet'\n",
    "fl_agrup_taxo_saldo_total = wd_data_processed_dwh + f'parquet/BD_DWH_AgrupTaxo_SaldoTotal_{cierre}.parquet'"
   ]
  },
  {
   "cell_type": "code",
   "execution_count": 8,
   "metadata": {},
   "outputs": [],
   "source": [
    "schema_saldos = {\n",
    "    'DESC_INDICADOR': pl.String,\n",
    "    'FECHA_CONSULTA': pl.Date,\n",
    "    'HISTORICO': pl.String,\n",
    "    'INDICADOR_ID': pl.Int32,\n",
    "    'INTERMEDIARIO_ID': pl.String,\n",
    "    'PROGRAMA_DESCRIPCION': pl.String,\n",
    "    'PROGRAMA_ID': pl.Int32,\n",
    "    'PROGRAMA_ORIGINAL': pl.Int32,\n",
    "    'RAZON_SOCIAL': pl.String,\n",
    "    'TIPO_CREDITO_ID': pl.Int16,\n",
    "    'Número de registros': pl.Int16,\n",
    "    'SALDO_CONTINGENTE_MN (SUMA)': pl.Float64\n",
    "}"
   ]
  },
  {
   "cell_type": "code",
   "execution_count": 9,
   "metadata": {},
   "outputs": [],
   "source": [
    "def import_saldos_totales():\n",
    "    df_saldos = read_access(fl_saldos, \"DATOS\")\n",
    "    df_saldos_bmxt = read_access(fl_saldos_bmxt, \"DATOS\")\n",
    "    df_saldos_fianzas = read_access(fl_saldos_fianzas, \"DATOS\")\n",
    "\n",
    "    df_saldos_totales = pl.concat([\n",
    "        df_saldos, \n",
    "        df_saldos_bmxt, \n",
    "        df_saldos_fianzas\n",
    "        ], rechunk=True)\n",
    "    \n",
    "    df_saldos_totales = (\n",
    "        df_saldos_totales.select(\n",
    "            pl.col(\"DESC_INDICADOR\").alias(\"Producto\"),\n",
    "            pl.col(\"FECHA_CONSULTA\"),\n",
    "            pl.col(\"INDICADOR_ID\").alias(\"Producto ID\"),\n",
    "            pl.col(\"INTERMEDIARIO_ID\"),\n",
    "            pl.col(\"PROGRAMA_DESCRIPCION\").alias(\"Programa Descripción (ID)\"),\n",
    "            pl.col(\"PROGRAMA_ID\"),\n",
    "            pl.col(\"PROGRAMA_ORIGINAL\"),\n",
    "            pl.col(\"RAZON_SOCIAL\").alias(\"Razón Social (Intermediario)\"),\n",
    "            pl.col(\"TIPO_CREDITO_ID\"),\n",
    "            pl.col(\"SALDO_CONTINGENTE_MN (SUMA)\").alias(\"SUM Saldo_Contingente_Mn\")\n",
    "        )\n",
    "    )\n",
    "    df_saldos_totales = genera_tpro_clave(df_saldos_totales)\n",
    "    return df_saldos_totales\n",
    "\n",
    "df_saldos_totales = import_saldos_totales()"
   ]
  },
  {
   "cell_type": "code",
   "execution_count": 10,
   "metadata": {},
   "outputs": [],
   "source": [
    "def genera_saldos_totales_vf(df):\n",
    "    tipo_credito = read_access(fl_catalogos, \"TIPO_CREDITO\")\n",
    "    tipo_credito = tipo_credito.cast({'Tipo_Credito_ID': pl.Int32})\n",
    "\n",
    "    df_saldos_totales_vf = (\n",
    "        df.join(tipo_credito.select(['Tipo_Credito_ID', 'NR_R']),\n",
    "                            left_on='TIPO_CREDITO_ID', right_on='Tipo_Credito_ID',\n",
    "                            how='left')\n",
    "    )\n",
    "    return df_saldos_totales_vf\n",
    "\n",
    "saldos_totales_vf = genera_saldos_totales_vf(df_saldos_totales)"
   ]
  },
  {
   "cell_type": "code",
   "execution_count": 11,
   "metadata": {},
   "outputs": [
    {
     "data": {
      "text/html": [
       "<div><style>\n",
       ".dataframe > thead > tr,\n",
       ".dataframe > tbody > tr {\n",
       "  text-align: right;\n",
       "  white-space: pre-wrap;\n",
       "}\n",
       "</style>\n",
       "<small>shape: (256, 6)</small><table border=\"1\" class=\"dataframe\"><thead><tr><th>Producto</th><th>Razón Social (Intermediario)</th><th>INTERMEDIARIO_ID</th><th>PROGRAMA_ORIGINAL</th><th>PROGRAMA_ID</th><th>SALDO_MN</th></tr><tr><td>str</td><td>str</td><td>str</td><td>i64</td><td>i64</td><td>f64</td></tr></thead><tbody><tr><td>&quot;GARANTIAS BANCOMEXT&quot;</td><td>&quot;BANCOMEXTBANAMEX&quot;</td><td>&quot;468297752&quot;</td><td>3999</td><td>39725</td><td>350654.332</td></tr><tr><td>&quot;GARANTIAS BANCOMEXT&quot;</td><td>&quot;BANCOMEXT-BANORTE&quot;</td><td>&quot;59639999&quot;</td><td>3999</td><td>39901</td><td>4.5142e7</td></tr><tr><td>&quot;GARANTIAS BANCOMEXT&quot;</td><td>&quot;BANCOMEXT / BANSI&quot;</td><td>&quot;481346210&quot;</td><td>3999</td><td>39819</td><td>5357131.2</td></tr><tr><td>&quot;GARANTIAS BANCOMEXT&quot;</td><td>&quot;BANCOMEXTHSBC&quot;</td><td>&quot;478809852&quot;</td><td>3999</td><td>39848</td><td>2.4143e7</td></tr><tr><td>&quot;GARANTIAS BANCOMEXT&quot;</td><td>&quot;BANCOMEXT-BANORTE&quot;</td><td>&quot;59639999&quot;</td><td>3999</td><td>39170</td><td>104402.12</td></tr><tr><td>&hellip;</td><td>&hellip;</td><td>&hellip;</td><td>&hellip;</td><td>&hellip;</td><td>&hellip;</td></tr><tr><td>&quot;GARANTIAS BANCOMEXT&quot;</td><td>&quot;BANCOMEXT / BANSI&quot;</td><td>&quot;481346210&quot;</td><td>3999</td><td>390157</td><td>4.5595e7</td></tr><tr><td>&quot;GARANTIAS BANCOMEXT&quot;</td><td>&quot;BANCOMEXT/BAJIO&quot;</td><td>&quot;64991057&quot;</td><td>3999</td><td>390056</td><td>5.3474e7</td></tr><tr><td>&quot;GARANTIAS BANCOMEXT&quot;</td><td>&quot;BANCOMEXT/BANCO REGIONAL DE MO…</td><td>&quot;479696360&quot;</td><td>3999</td><td>390091</td><td>8.9686e6</td></tr><tr><td>&quot;GARANTIAS BANCOMEXT&quot;</td><td>&quot;BANCOMEXT-BANORTE&quot;</td><td>&quot;59639999&quot;</td><td>3999</td><td>39607</td><td>1.4258e6</td></tr><tr><td>&quot;GARANTIAS BANCOMEXT&quot;</td><td>&quot;BANCOMEXT-BANORTE&quot;</td><td>&quot;59639999&quot;</td><td>3999</td><td>390111</td><td>3.1830e8</td></tr></tbody></table></div>"
      ],
      "text/plain": [
       "shape: (256, 6)\n",
       "┌───────────┬───────────────────┬───────────────────┬───────────────────┬─────────────┬────────────┐\n",
       "│ Producto  ┆ Razón Social      ┆ INTERMEDIARIO_ID  ┆ PROGRAMA_ORIGINAL ┆ PROGRAMA_ID ┆ SALDO_MN   │\n",
       "│ ---       ┆ (Intermediario)   ┆ ---               ┆ ---               ┆ ---         ┆ ---        │\n",
       "│ str       ┆ ---               ┆ str               ┆ i64               ┆ i64         ┆ f64        │\n",
       "│           ┆ str               ┆                   ┆                   ┆             ┆            │\n",
       "╞═══════════╪═══════════════════╪═══════════════════╪═══════════════════╪═════════════╪════════════╡\n",
       "│ GARANTIAS ┆ BANCOMEXTBANAMEX  ┆ 468297752         ┆ 3999              ┆ 39725       ┆ 350654.332 │\n",
       "│ BANCOMEXT ┆                   ┆                   ┆                   ┆             ┆            │\n",
       "│ GARANTIAS ┆ BANCOMEXT-BANORTE ┆ 59639999          ┆ 3999              ┆ 39901       ┆ 4.5142e7   │\n",
       "│ BANCOMEXT ┆                   ┆                   ┆                   ┆             ┆            │\n",
       "│ GARANTIAS ┆ BANCOMEXT / BANSI ┆ 481346210         ┆ 3999              ┆ 39819       ┆ 5357131.2  │\n",
       "│ BANCOMEXT ┆                   ┆                   ┆                   ┆             ┆            │\n",
       "│ GARANTIAS ┆ BANCOMEXTHSBC     ┆ 478809852         ┆ 3999              ┆ 39848       ┆ 2.4143e7   │\n",
       "│ BANCOMEXT ┆                   ┆                   ┆                   ┆             ┆            │\n",
       "│ GARANTIAS ┆ BANCOMEXT-BANORTE ┆ 59639999          ┆ 3999              ┆ 39170       ┆ 104402.12  │\n",
       "│ BANCOMEXT ┆                   ┆                   ┆                   ┆             ┆            │\n",
       "│ …         ┆ …                 ┆ …                 ┆ …                 ┆ …           ┆ …          │\n",
       "│ GARANTIAS ┆ BANCOMEXT / BANSI ┆ 481346210         ┆ 3999              ┆ 390157      ┆ 4.5595e7   │\n",
       "│ BANCOMEXT ┆                   ┆                   ┆                   ┆             ┆            │\n",
       "│ GARANTIAS ┆ BANCOMEXT/BAJIO   ┆ 64991057          ┆ 3999              ┆ 390056      ┆ 5.3474e7   │\n",
       "│ BANCOMEXT ┆                   ┆                   ┆                   ┆             ┆            │\n",
       "│ GARANTIAS ┆ BANCOMEXT/BANCO   ┆ 479696360         ┆ 3999              ┆ 390091      ┆ 8.9686e6   │\n",
       "│ BANCOMEXT ┆ REGIONAL DE MO…   ┆                   ┆                   ┆             ┆            │\n",
       "│ GARANTIAS ┆ BANCOMEXT-BANORTE ┆ 59639999          ┆ 3999              ┆ 39607       ┆ 1.4258e6   │\n",
       "│ BANCOMEXT ┆                   ┆                   ┆                   ┆             ┆            │\n",
       "│ GARANTIAS ┆ BANCOMEXT-BANORTE ┆ 59639999          ┆ 3999              ┆ 390111      ┆ 3.1830e8   │\n",
       "│ BANCOMEXT ┆                   ┆                   ┆                   ┆             ┆            │\n",
       "└───────────┴───────────────────┴───────────────────┴───────────────────┴─────────────┴────────────┘"
      ]
     },
     "execution_count": 11,
     "metadata": {},
     "output_type": "execute_result"
    }
   ],
   "source": [
    "# Agrup saldo total\n",
    "agrup_saldo_total = (\n",
    "    saldos_totales_vf\n",
    "    .group_by([\n",
    "        \"Producto\", \n",
    "        \"Razón Social (Intermediario)\", \n",
    "        \"INTERMEDIARIO_ID\", \n",
    "        \"PROGRAMA_ORIGINAL\", \n",
    "        \"PROGRAMA_ID\"\n",
    "        ]).agg(\n",
    "            pl.col(\"SUM Saldo_Contingente_Mn\").sum().alias(\"SALDO_MN\")\n",
    "        )\n",
    ")\n",
    "\n",
    "# Agrup saldo total resto\n",
    "(\n",
    "    saldos_totales_vf\n",
    "    .filter(\n",
    "        (pl.col(\"Producto\") == \"GARANTIAS BANCOMEXT\") |\n",
    "        (pl.col(\"Producto\") == \"GARANTIAS SHF/LI FINANCIERO\") |\n",
    "        (pl.col(\"Producto\") == \"GARANTIAS BANSEFI\") |\n",
    "        (pl.col(\"Razón Social (Intermediario)\") == \"FISO PARA EL AHORRO DE ENERGIA ELECTRICA (FASE II)\")\n",
    "    ).group_by([\n",
    "        \"Producto\", \n",
    "        \"Razón Social (Intermediario)\", \n",
    "        \"INTERMEDIARIO_ID\", \n",
    "        \"PROGRAMA_ORIGINAL\", \n",
    "        \"PROGRAMA_ID\"\n",
    "        ]).agg(\n",
    "            pl.col(\"SUM Saldo_Contingente_Mn\").sum().alias(\"SALDO_MN\")\n",
    "        )\n",
    ")"
   ]
  },
  {
   "cell_type": "code",
   "execution_count": 12,
   "metadata": {},
   "outputs": [
    {
     "data": {
      "text/html": [
       "<div><style>\n",
       ".dataframe > thead > tr,\n",
       ".dataframe > tbody > tr {\n",
       "  text-align: right;\n",
       "  white-space: pre-wrap;\n",
       "}\n",
       "</style>\n",
       "<small>shape: (8, 2)</small><table border=\"1\" class=\"dataframe\"><thead><tr><th>Producto</th><th>SALDO_MN</th></tr><tr><td>str</td><td>f64</td></tr></thead><tbody><tr><td>&quot;GARANTIA EMPRESARIAL&quot;</td><td>9.0811e10</td></tr><tr><td>&quot;GARANTIA SECTORIAL&quot;</td><td>1.7802e10</td></tr><tr><td>&quot;GARANTIAS FEFA&quot;</td><td>3.7984e8</td></tr><tr><td>&quot;GARANTIA SUBASTA&quot;</td><td>483068.119124</td></tr><tr><td>&quot;GARANTIA ESPECIAL&quot;</td><td>6.8376e7</td></tr><tr><td>&quot;GARANTIA FIANZA&quot;</td><td>6.5188e9</td></tr><tr><td>&quot;GARANTIA EMERGENTES&quot;</td><td>4.7541e8</td></tr><tr><td>&quot;EMPRESA MEDIANA&quot;</td><td>4.9736e8</td></tr></tbody></table></div>"
      ],
      "text/plain": [
       "shape: (8, 2)\n",
       "┌──────────────────────┬───────────────┐\n",
       "│ Producto             ┆ SALDO_MN      │\n",
       "│ ---                  ┆ ---           │\n",
       "│ str                  ┆ f64           │\n",
       "╞══════════════════════╪═══════════════╡\n",
       "│ GARANTIA EMPRESARIAL ┆ 9.0811e10     │\n",
       "│ GARANTIA SECTORIAL   ┆ 1.7802e10     │\n",
       "│ GARANTIAS FEFA       ┆ 3.7984e8      │\n",
       "│ GARANTIA SUBASTA     ┆ 483068.119124 │\n",
       "│ GARANTIA ESPECIAL    ┆ 6.8376e7      │\n",
       "│ GARANTIA FIANZA      ┆ 6.5188e9      │\n",
       "│ GARANTIA EMERGENTES  ┆ 4.7541e8      │\n",
       "│ EMPRESA MEDIANA      ┆ 4.9736e8      │\n",
       "└──────────────────────┴───────────────┘"
      ]
     },
     "execution_count": 12,
     "metadata": {},
     "output_type": "execute_result"
    }
   ],
   "source": [
    "# Agrup saldo total automatica\n",
    "(\n",
    "    saldos_totales_vf\n",
    "    .filter(\n",
    "        (pl.col(\"Producto\") != \"GARANTIAS BANCOMEXT\") &\n",
    "        (pl.col(\"Producto\") != \"GARANTIAS SHF/LI FINANCIERO\") &\n",
    "        (pl.col(\"Producto\") != \"GARANTIAS BANSEFI\") &\n",
    "        (pl.col(\"Razón Social (Intermediario)\") != \"FISO PARA EL AHORRO DE ENERGIA ELECTRICA (FASE II)\")\n",
    "    ).group_by([\n",
    "        \"Producto\", \n",
    "        \"Razón Social (Intermediario)\", \n",
    "        \"INTERMEDIARIO_ID\", \n",
    "        \"PROGRAMA_ORIGINAL\", \n",
    "        \"PROGRAMA_ID\"\n",
    "        ]).agg(\n",
    "            pl.col(\"SUM Saldo_Contingente_Mn\").sum().alias(\"SALDO_MN\")\n",
    "        )\n",
    ")\n",
    "\n",
    "# AgrupTaxo saldo total\n",
    "agrup_taxo_saldo_total = (\n",
    "    saldos_totales_vf\n",
    "    .group_by([\n",
    "        \"Producto\"\n",
    "        ]).agg(\n",
    "            pl.col(\"SUM Saldo_Contingente_Mn\").sum().alias(\"SALDO_MN\")\n",
    "        )\n",
    ")\n",
    "\n",
    "# AgrupTaxo saldo total resto\n",
    "(\n",
    "    saldos_totales_vf\n",
    "        .filter(\n",
    "            (pl.col(\"Producto\") == \"GARANTIAS BANCOMEXT\") |\n",
    "            (pl.col(\"Producto\") == \"GARANTIAS SHF-LI FINANCIERO\") |\n",
    "            (pl.col(\"Producto\") == \"GARANTIAS BANSEFI\") |\n",
    "            (pl.col(\"Razón Social (Intermediario)\") == \"FISO PARA EL AHORRO DE ENERGIA ELECTRICA (FASE II)\")\n",
    "        ).group_by([\n",
    "            \"Producto\"\n",
    "            ]).agg(\n",
    "            pl.col(\"SUM Saldo_Contingente_Mn\").sum().alias(\"SALDO_MN\")\n",
    "        )\n",
    ")\n",
    "\n",
    "(\n",
    "    saldos_totales_vf\n",
    "    .filter(\n",
    "        (pl.col(\"Producto\") != \"GARANTIAS BANCOMEXT\") &\n",
    "        (pl.col(\"Producto\") != \"GARANTIAS SHF/LI FINANCIERO\") &\n",
    "        (pl.col(\"Producto\") != \"GARANTIAS BANSEFI\") &\n",
    "        (pl.col(\"Razón Social (Intermediario)\") != \"FISO PARA EL AHORRO DE ENERGIA ELECTRICA (FASE II)\")\n",
    "        ).group_by([\n",
    "            \"Producto\"\n",
    "            ]).agg(\n",
    "            pl.col(\"SUM Saldo_Contingente_Mn\").sum().alias(\"SALDO_MN\")\n",
    "        )\n",
    ")"
   ]
  },
  {
   "cell_type": "code",
   "execution_count": 13,
   "metadata": {},
   "outputs": [],
   "source": [
    "# Exporta CSV\n",
    "# saldos_totales_vf.write_csv(fl_saldos_totales_vf, datetime_format=\"%Y-%m-%d\", float_precision=6)\n",
    "# agrup_saldo_total.write_csv(fl_agrup_saldo_total, datetime_format=\"%Y-%m-%d\", float_precision=6)\n",
    "# agrup_taxo_saldo_total.write_csv(fl_agrup_taxo_saldo_total, datetime_format=\"%Y-%m-%d\", float_precision=6)\n"
   ]
  },
  {
   "cell_type": "code",
   "execution_count": 14,
   "metadata": {},
   "outputs": [],
   "source": [
    "# Exporta Parquet\n",
    "saldos_totales_vf.write_parquet(fl_saldos_totales_vf)\n",
    "agrup_saldo_total.write_parquet(fl_agrup_saldo_total)\n",
    "agrup_taxo_saldo_total.write_parquet(fl_agrup_taxo_saldo_total)"
   ]
  },
  {
   "cell_type": "markdown",
   "metadata": {},
   "source": [
    "### macro_pe_p10"
   ]
  },
  {
   "cell_type": "code",
   "execution_count": null,
   "metadata": {},
   "outputs": [],
   "source": []
  },
  {
   "cell_type": "code",
   "execution_count": null,
   "metadata": {},
   "outputs": [],
   "source": [
    "\n"
   ]
  }
 ],
 "metadata": {
  "kernelspec": {
   "display_name": ".venv",
   "language": "python",
   "name": "python3"
  },
  "language_info": {
   "codemirror_mode": {
    "name": "ipython",
    "version": 3
   },
   "file_extension": ".py",
   "mimetype": "text/x-python",
   "name": "python",
   "nbconvert_exporter": "python",
   "pygments_lexer": "ipython3",
   "version": "3.13.2"
  }
 },
 "nbformat": 4,
 "nbformat_minor": 2
}
