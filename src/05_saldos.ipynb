{
 "cells": [
  {
   "cell_type": "code",
   "execution_count": 1,
   "id": "8d1533fc",
   "metadata": {},
   "outputs": [],
   "source": [
    "import polars as pl\n",
    "import pyodbc\n",
    "from datetime import date"
   ]
  },
  {
   "cell_type": "code",
   "execution_count": 12,
   "id": "874a12e8",
   "metadata": {},
   "outputs": [],
   "source": [
    "cierre = \"202506\"\n",
    "cierre_l = \"Jun25\"\n",
    "cierre_d = date(2025,6,30)\n",
    "\n",
    "# Carpetas\n",
    "wd = \"E:/Users/jhernandezr/DAR/garantias/reporte/fotos/\"\n",
    "wd_data_raw = wd + \"data/raw/\"\n",
    "wd_data_external = wd + \"data/external/\"\n",
    "wd_data_processed_dwh = \"E:/Users/jhernandezr/DAR/garantias/data_pipeline_garantias/data/processed/dwh/\"\n",
    "wd_data_processed_fotos = \"E:/Users/jhernandezr/DAR/garantias/data_pipeline_garantias/data/processed/fotos/\"\n",
    "wd_data_validations = \"E:/Users/jhernandezr/DAR/garantias/data_pipeline_garantias/data/validations/\"\n",
    "\n",
    "# Inputs\n",
    "fl_catalogos = wd_data_external + f'Catálogos_{cierre_l}'\n",
    "fl_db_dwh_nr = wd_data_processed_fotos + f'parquet/DB_DWH_NR_{cierre}.parquet'\n",
    "fl_db_dwh_r = wd_data_processed_fotos + f'parquet/DB_DWH_R_{cierre}.parquet'\n",
    "fl_prem = wd_data_raw + f'Prem_{cierre}.mdb'\n",
    "\n",
    "fl_recuperadas_detalle = wd_data_processed_dwh + f'parquet/Recupera_con_Pagos_Flujos_{cierre}.parquet'\n",
    "fl_pagadas_detalle = wd_data_processed_dwh + f'parquet/Pagadas_Global_VF_{cierre}.parquet'\n",
    "\n",
    "# Outputs\n",
    "fl_base_agrup_final = wd_data_processed_dwh + f'parquet/BASE_AGRUP_FINAL_{cierre}.parquet'\n",
    "fl_valida_saldo = wd_data_validations + f'VALIDA_SALDO.csv'\n",
    "fl_bd_dwh_plazorem = wd_data_processed_dwh + f'parquet/BD_DWH_PlazoRem_{cierre}.parquet'\n",
    "fl_bd_dwh_plazorem_xl = wd_data_processed_dwh + f'parquet/BD_DWH_PlazoRem_{cierre}.xlsx'\n",
    "fl_valida_saldo_prem = wd_data_validations + f'Valida_Saldo_Prem.csv'\n",
    "\n",
    "\n"
   ]
  },
  {
   "cell_type": "markdown",
   "id": "c0acf438",
   "metadata": {},
   "source": [
    "### Macro Saldos"
   ]
  },
  {
   "cell_type": "code",
   "execution_count": 27,
   "id": "7189788f",
   "metadata": {},
   "outputs": [],
   "source": [
    "conn_str = r\"DRIVER={Microsoft Access Driver (*.mdb, *.accdb)};DBQ=\" + fl_catalogos + '.accdb'\n",
    "conn = pyodbc.connect(conn_str)\n",
    "\n",
    "estados = pl.read_database(query='SELECT * FROM ESTADOS', connection=conn, schema_overrides={'Estado_ID': pl.Int32})\n",
    "sector = pl.read_database(query='SELECT * FROM SECTOR', connection=conn, schema_overrides={'Sector_ID': pl.Int32})\n",
    "estrato = pl.read_database(query='SELECT * FROM ESTRATO', connection=conn, schema_overrides={'Estrato_Id': pl.Int32})\n",
    "tipo_credito = pl.read_database(query='SELECT * FROM [TIPO_CREDITO]', connection=conn, schema_overrides={'Tipo_Credito_ID': pl.Int32})\n",
    "tipo_garantia = pl.read_database(query='SELECT * FROM [TIPO_GARANTIA]', connection=conn, schema_overrides={'Tipo_garantia_ID': pl.Int32})\n",
    "sfc = pl.read_database(query='SELECT * FROM [SIN FONDOS CONTRAGARANTIA]', connection=conn)\n",
    "\n",
    "conn.close()"
   ]
  },
  {
   "cell_type": "code",
   "execution_count": 28,
   "id": "1e721108",
   "metadata": {},
   "outputs": [],
   "source": [
    "db_dwh_nr = pl.read_parquet(fl_db_dwh_nr)\n",
    "db_dwh_r = pl.read_parquet(fl_db_dwh_r)"
   ]
  },
  {
   "cell_type": "code",
   "execution_count": 29,
   "id": "50a062fa",
   "metadata": {},
   "outputs": [],
   "source": [
    "def garantias_c_saldo(df):\n",
    "    \"\"\" Filtra garantías con saldo positivo.  \"\"\"\n",
    "    result = df.filter(pl.col(\"Saldo_Contingente_Mn\") > 0)\n",
    "    return result\n",
    "\n",
    "db_dwh_nr = garantias_c_saldo(db_dwh_nr)\n",
    "db_dwh_r = garantias_c_saldo(db_dwh_r)"
   ]
  },
  {
   "cell_type": "code",
   "execution_count": null,
   "id": "850213f1",
   "metadata": {},
   "outputs": [],
   "source": []
  },
  {
   "cell_type": "code",
   "execution_count": 30,
   "id": "13f31937",
   "metadata": {},
   "outputs": [],
   "source": [
    "def cruza_catalogos(df):\n",
    "    \"\"\"Incorpora catálogos. \"\"\"\n",
    "    # sfc_aux = sfc.select(\n",
    "    #     pl.col(\"Intermediario_Id\"),\n",
    "    #     pl.col(\"CLAVE_CREDITO\"),\n",
    "    #     pl.col(\"FONDOS_CONTRAGARANTIA\").alias(\"CSF\")\n",
    "    # )\n",
    "\n",
    "    result = (df.join(estados, left_on=\"ESTADO_ID\", right_on=\"Estado_ID\", how=\"left\")\n",
    "              .join(estrato, left_on=\"ESTRATO_ID\", right_on=\"Estrato_Id\", how=\"left\")\n",
    "              .join(sector, left_on=\"SECTOR_ID\", right_on=\"Sector_ID\", how=\"left\")\n",
    "              .join(tipo_garantia.select(['Tipo_garantia_ID', 'Tipo_garantia']), left_on='TIPO_GARANTIA_ID', right_on='Tipo_garantia_ID', how='left')\n",
    "              .join(tipo_credito.select(['Tipo_Credito_ID', 'Tipo_Credito']), left_on='TIPO_CREDITO_ID', right_on=\"Tipo_Credito_ID\", how='left')\n",
    "              #.join(sfc_aux, left_on=['INTERMEDIARIO_ID', 'NUMERO_CREDITO'], right_on=['Intermediario_Id', 'CLAVE_CREDITO'], how='left')\n",
    "              )\n",
    "    \n",
    "    result = result.with_columns(pl.col(\"CSF\").fill_null(\"CF\"))\n",
    "    return result\n",
    "\n",
    "db_dwh_r = cruza_catalogos(db_dwh_r)\n",
    "db_dwh_nr = cruza_catalogos(db_dwh_nr)"
   ]
  },
  {
   "cell_type": "code",
   "execution_count": 31,
   "id": "b51d5f58",
   "metadata": {},
   "outputs": [],
   "source": [
    "def agrupa_bd_con_saldo(df):\n",
    "    result = df.group_by([\n",
    "        \"BUCKET\", \n",
    "        \"Producto\", \n",
    "        \"TIPO_CREDITO_ID\", \n",
    "        \"MM_UDIS\", \n",
    "        \"TPRO_CLAVE\", \n",
    "        \"NR_R\", \n",
    "        \"CSG\", \n",
    "        \"INTERMEDIARIO_ID\", \n",
    "        \"Razón Social (Intermediario)\", \n",
    "        \"Tipo_Persona\", \n",
    "        \"Porcentaje de Comisión Garantia\", \n",
    "        \"Porcentaje Garantizado\", \n",
    "        \"AGRUPAMIENTO\", \n",
    "        \"Estado\", \n",
    "        \"Sector\", \n",
    "        \"Estrato\", \n",
    "        \"Tipo_garantia\", \n",
    "        \"Tipo_Credito\", \n",
    "        \"PROGRAMA_ID\",  \n",
    "        \"CSF\"\n",
    "    ]).agg(\n",
    "        pl.col(\"Saldo_Contingente_Mn\").sum().alias(\"SALDO_MN\"),\n",
    "        pl.col(\"NUMERO_CREDITO\").count().alias(\"TOT_CREDITOS\")\n",
    "    )\n",
    "    return result\n",
    "\n",
    "db_dwh_r_vf = agrupa_bd_con_saldo(db_dwh_r)\n",
    "db_dwh_nr_vf = agrupa_bd_con_saldo(db_dwh_nr)"
   ]
  },
  {
   "cell_type": "code",
   "execution_count": 32,
   "id": "5c641353",
   "metadata": {},
   "outputs": [],
   "source": [
    "base_agrup_final = pl.concat([db_dwh_r_vf, db_dwh_nr_vf], rechunk=True)"
   ]
  },
  {
   "cell_type": "code",
   "execution_count": 33,
   "id": "1589a2e1",
   "metadata": {},
   "outputs": [],
   "source": [
    "# VALIDA_SALDO\n",
    "valida_saldo = base_agrup_final.group_by(\n",
    "    \"Producto\"\n",
    ").agg(\n",
    "    pl.col(\"SALDO_MN\").sum().alias(\"S_SALDO(MDP)\")\n",
    ")"
   ]
  },
  {
   "cell_type": "code",
   "execution_count": 34,
   "id": "ad10dbea",
   "metadata": {},
   "outputs": [],
   "source": [
    "base_agrup_final.write_parquet(fl_base_agrup_final)\n",
    "valida_saldo.write_csv(fl_valida_saldo, float_precision=10, float_scientific=False)"
   ]
  },
  {
   "cell_type": "markdown",
   "id": "e6a1d9e2",
   "metadata": {},
   "source": [
    "#### Prem"
   ]
  },
  {
   "cell_type": "code",
   "execution_count": 4,
   "id": "b61dfd08",
   "metadata": {},
   "outputs": [],
   "source": [
    "conn_str = r\"DRIVER={Microsoft Access Driver (*.mdb, *.accdb)};DBQ=\" + fl_prem\n",
    "conn = pyodbc.connect(conn_str)\n",
    "prem = pl.read_database(query='SELECT * FROM DATOS', connection=conn)\n",
    "conn.close()"
   ]
  },
  {
   "cell_type": "code",
   "execution_count": 5,
   "id": "55e54246",
   "metadata": {},
   "outputs": [],
   "source": [
    "bd_dwh_plazorem = (\n",
    "    prem.with_columns(\n",
    "        pl.col('BUCKET'),\n",
    "        pl.col('DESC_INDICADOR').alias('Producto'),\n",
    "        pl.col('FECHA_APERTURA').alias('Fecha de Apertura'),\n",
    "        pl.col('FECHA_CONSULTA'),\n",
    "        pl.col('FVTO_RIESGOSD'),\n",
    "        pl.col('INDICADOR_ID').alias('Producto ID'),\n",
    "        pl.col('INTERMEDIARIO_ID'),\n",
    "        pl.col('ORDEN_FREGISTRO'),\n",
    "        pl.col('PROGRAMA_ID'),\n",
    "        pl.col('RAZON_SOCIAL').alias('Razón Social (Intermediario)'),\n",
    "        pl.col('MONTO_CREDITO_MN (SUMA)').alias('SUM Monto _Credito_Mn'),\n",
    "        pl.col('NUMERO_CREDITOS (SUMA)').alias('COUNT Numero_Credito'),\n",
    "        pl.col('SALDO_CONTINGENTE_MN (SUMA)').alias('SUM Saldo_Contingente_Mn'),\n",
    "    )\n",
    ")"
   ]
  },
  {
   "cell_type": "code",
   "execution_count": 11,
   "id": "c7bd3f90",
   "metadata": {},
   "outputs": [],
   "source": [
    "valida_saldo_prem = (\n",
    "    bd_dwh_plazorem.group_by('Producto')\n",
    "    .agg(pl.col('SUM Saldo_Contingente_Mn').sum().alias(\"S_Saldo\"))\n",
    ")\n"
   ]
  },
  {
   "cell_type": "code",
   "execution_count": null,
   "id": "4e9b049c",
   "metadata": {},
   "outputs": [],
   "source": [
    "bd_dwh_plazorem.write_parquet(fl_bd_dwh_plazorem)\n",
    "bd_dwh_plazorem.write_excel(fl_bd_dwh_plazorem_xl)\n",
    "valida_saldo_prem.write_csv(fl_valida_saldo_prem, float_precision=10, float_scientific=False)"
   ]
  },
  {
   "cell_type": "code",
   "execution_count": null,
   "id": "3a57f9f2",
   "metadata": {},
   "outputs": [
    {
     "data": {
      "text/plain": [
       "<xlsxwriter.workbook.Workbook at 0x26a38508590>"
      ]
     },
     "execution_count": 15,
     "metadata": {},
     "output_type": "execute_result"
    }
   ],
   "source": []
  }
 ],
 "metadata": {
  "kernelspec": {
   "display_name": ".venv",
   "language": "python",
   "name": "python3"
  },
  "language_info": {
   "codemirror_mode": {
    "name": "ipython",
    "version": 3
   },
   "file_extension": ".py",
   "mimetype": "text/x-python",
   "name": "python",
   "nbconvert_exporter": "python",
   "pygments_lexer": "ipython3",
   "version": "3.13.2"
  }
 },
 "nbformat": 4,
 "nbformat_minor": 5
}
