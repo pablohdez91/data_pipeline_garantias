{
 "cells": [
  {
   "cell_type": "code",
   "execution_count": 1,
   "id": "8d1533fc",
   "metadata": {},
   "outputs": [],
   "source": [
    "import polars as pl\n",
    "import pyodbc\n",
    "from datetime import date"
   ]
  },
  {
   "cell_type": "code",
   "execution_count": 2,
   "id": "874a12e8",
   "metadata": {},
   "outputs": [],
   "source": [
    "cierre = \"202504\"\n",
    "cierre_l = \"Abr25\"\n",
    "cierre_d = date(2025,4,30)\n",
    "\n",
    "# Carpetas\n",
    "wd = \"E:/Users/jhernandezr/DAR/garantias/reporte/fotos/\"\n",
    "wd_data_raw = wd + \"data/raw/\"\n",
    "wd_data_external = wd + \"data/external/\"\n",
    "wd_data_processed_dwh = \"E:/Users/jhernandezr/DAR/garantias/data_pipeline_garantias/data/processed/dwh/\"\n",
    "wd_data_processed_fotos = \"E:/Users/jhernandezr/DAR/garantias/data_pipeline_garantias/data/processed/fotos/\"\n",
    "\n",
    "# Inputs\n",
    "fl_catalogos = wd_data_external + f'Catálogos_{cierre_l}'\n",
    "fl_db_dwh_nr = wd_data_processed_fotos + f'parquet/DB_DWH_NR_{cierre}.parquet'\n",
    "fl_db_dwh_r = wd_data_processed_fotos + f'parquet/DB_DWH_R_{cierre}.parquet'\n",
    "fl_prem = wd_data_raw + f'Prem_{cierre}.mdb'\n",
    "\n",
    "fl_recuperadas_detalle = wd_data_processed_dwh + f'parquet/Recupera_con_Pagos_Flujos_{cierre}.parquet'\n",
    "fl_pagadas_detalle = wd_data_processed_dwh + f'parquet/Pagadas_Global_VF_{cierre}.parquet'\n",
    "\n",
    "# Outputs\n"
   ]
  },
  {
   "cell_type": "markdown",
   "id": "c0acf438",
   "metadata": {},
   "source": [
    "### Macro Saldos"
   ]
  },
  {
   "cell_type": "code",
   "execution_count": 19,
   "id": "7189788f",
   "metadata": {},
   "outputs": [],
   "source": [
    "conn_str = r\"DRIVER={Microsoft Access Driver (*.mdb, *.accdb)};DBQ=\" + fl_catalogos + '.accdb'\n",
    "conn = pyodbc.connect(conn_str)\n",
    "\n",
    "estados = pl.read_database(query='SELECT * FROM ESTADOS', connection=conn, schema_overrides={'Estado_ID': pl.Int32})\n",
    "sector = pl.read_database(query='SELECT * FROM SECTOR', connection=conn, schema_overrides={'Sector_ID': pl.Int32})\n",
    "estrato = pl.read_database(query='SELECT * FROM ESTRATO', connection=conn, schema_overrides={'Estrato_Id': pl.Int32})\n",
    "tipo_credito = pl.read_database(query='SELECT * FROM [TIPO_CREDITO]', connection=conn, schema_overrides={'Tipo_Credito_ID': pl.Int32})\n",
    "tipo_garantia = pl.read_database(query='SELECT * FROM [TIPO_GARANTIA]', connection=conn, schema_overrides={'Tipo_garantia_ID': pl.Int32})\n",
    "sfc = pl.read_database(query='SELECT * FROM [SIN FONDOS CONTRAGARANTIA]', connection=conn)\n",
    "\n",
    "conn.close()"
   ]
  },
  {
   "cell_type": "code",
   "execution_count": 27,
   "id": "1e721108",
   "metadata": {},
   "outputs": [],
   "source": [
    "db_dwh_nr = pl.read_parquet(fl_db_dwh_nr)\n",
    "db_dwh_r = pl.read_parquet(fl_db_dwh_r)"
   ]
  },
  {
   "cell_type": "code",
   "execution_count": 28,
   "id": "50a062fa",
   "metadata": {},
   "outputs": [],
   "source": [
    "def garantias_c_saldo(df):\n",
    "    \"\"\" Filtra garantías con saldo positivo.  \"\"\"\n",
    "    result = df.filter(pl.col(\"Saldo_Contingente_Mn\") > 0)\n",
    "    return result\n",
    "\n",
    "db_dwh_nr = garantias_c_saldo(db_dwh_nr)\n",
    "db_dwh_r = garantias_c_saldo(db_dwh_r)"
   ]
  },
  {
   "cell_type": "code",
   "execution_count": null,
   "id": "850213f1",
   "metadata": {},
   "outputs": [],
   "source": []
  },
  {
   "cell_type": "code",
   "execution_count": 29,
   "id": "13f31937",
   "metadata": {},
   "outputs": [],
   "source": [
    "def cruza_catalogos(df):\n",
    "    \"\"\"Incorpora catálogos. \"\"\"\n",
    "    # sfc_aux = sfc.select(\n",
    "    #     pl.col(\"Intermediario_Id\"),\n",
    "    #     pl.col(\"CLAVE_CREDITO\"),\n",
    "    #     pl.col(\"FONDOS_CONTRAGARANTIA\").alias(\"CSF\")\n",
    "    # )\n",
    "\n",
    "    result = (df.join(estados, left_on=\"ESTADO_ID\", right_on=\"Estado_ID\", how=\"left\")\n",
    "              .join(estrato, left_on=\"ESTRATO_ID\", right_on=\"Estrato_Id\", how=\"left\")\n",
    "              .join(sector, left_on=\"SECTOR_ID\", right_on=\"Sector_ID\", how=\"left\")\n",
    "              .join(tipo_garantia.select(['Tipo_garantia_ID', 'Tipo_garantia']), left_on='TIPO_GARANTIA_ID', right_on='Tipo_garantia_ID', how='left')\n",
    "              .join(tipo_credito.select(['Tipo_Credito_ID', 'Tipo_Credito']), left_on='TIPO_CREDITO_ID', right_on=\"Tipo_Credito_ID\", how='left')\n",
    "              #.join(sfc_aux, left_on=['INTERMEDIARIO_ID', 'NUMERO_CREDITO'], right_on=['Intermediario_Id', 'CLAVE_CREDITO'], how='left')\n",
    "              )\n",
    "    \n",
    "    result = result.with_columns(pl.col(\"CSF\").fill_null(\"CF\"))\n",
    "    return result\n",
    "\n",
    "db_dwh_r = cruza_catalogos(db_dwh_r)\n",
    "db_dwh_nr = cruza_catalogos(db_dwh_nr)"
   ]
  },
  {
   "cell_type": "code",
   "execution_count": 34,
   "id": "b51d5f58",
   "metadata": {},
   "outputs": [],
   "source": [
    "def agrupa_bd_con_saldo(df):\n",
    "    result = df.group_by([\n",
    "        \"BUCKET\", \n",
    "        \"Producto\", \n",
    "        \"TIPO_CREDITO_ID\", \n",
    "        \"MM_UDIS\", \n",
    "        \"TPRO_CLAVE\", \n",
    "        \"NR_R\", \n",
    "        \"CSG\", \n",
    "        \"INTERMEDIARIO_ID\", \n",
    "        \"Razón Social (Intermediario)\", \n",
    "        \"Tipo_Persona\", \n",
    "        \"Porcentaje de Comisión Garantia\", \n",
    "        \"Porcentaje Garantizado\", \n",
    "        \"AGRUPAMIENTO\", \n",
    "        \"Estado\", \n",
    "        \"Sector\", \n",
    "        \"Estrato\", \n",
    "        \"Tipo_garantia\", \n",
    "        \"Tipo_Credito\", \n",
    "        \"PROGRAMA_ID\",  \n",
    "        \"CSF\"\n",
    "    ]).agg(\n",
    "        pl.col(\"Saldo_Contingente_Mn\").sum().alias(\"SALDO_MN\"),\n",
    "        pl.col(\"NUMERO_CREDITO\").count().alias(\"TOT_CREDITOS\")\n",
    "    )\n",
    "    return result\n",
    "\n",
    "db_dwh_r_vf = agrupa_bd_con_saldo(db_dwh_r)\n",
    "db_dwh_nr_vf = agrupa_bd_con_saldo(db_dwh_nr)"
   ]
  },
  {
   "cell_type": "code",
   "execution_count": 36,
   "id": "5c641353",
   "metadata": {},
   "outputs": [],
   "source": [
    "base_agrup_final = pl.concat([db_dwh_r_vf, db_dwh_nr_vf], rechunk=True)"
   ]
  },
  {
   "cell_type": "code",
   "execution_count": 37,
   "id": "20003883",
   "metadata": {},
   "outputs": [
    {
     "data": {
      "text/html": [
       "<div><style>\n",
       ".dataframe > thead > tr,\n",
       ".dataframe > tbody > tr {\n",
       "  text-align: right;\n",
       "  white-space: pre-wrap;\n",
       "}\n",
       "</style>\n",
       "<small>shape: (48_877, 22)</small><table border=\"1\" class=\"dataframe\"><thead><tr><th>BUCKET</th><th>Producto</th><th>TIPO_CREDITO_ID</th><th>MM_UDIS</th><th>TPRO_CLAVE</th><th>NR_R</th><th>CSG</th><th>INTERMEDIARIO_ID</th><th>Razón Social (Intermediario)</th><th>Tipo_Persona</th><th>Porcentaje de Comisión Garantia</th><th>Porcentaje Garantizado</th><th>AGRUPAMIENTO</th><th>Estado</th><th>Sector</th><th>Estrato</th><th>Tipo_garantia</th><th>Tipo_Credito</th><th>PROGRAMA_ID</th><th>CSF</th><th>SALDO_MN</th><th>TOT_CREDITOS</th></tr><tr><td>i16</td><td>str</td><td>i32</td><td>i32</td><td>i32</td><td>str</td><td>str</td><td>str</td><td>str</td><td>str</td><td>f32</td><td>f32</td><td>str</td><td>str</td><td>str</td><td>str</td><td>str</td><td>str</td><td>i32</td><td>str</td><td>f64</td><td>u32</td></tr></thead><tbody><tr><td>3</td><td>&quot;GARANTIA EMPRESARIAL&quot;</td><td>3</td><td>0</td><td>310168</td><td>&quot;R&quot;</td><td>&quot;SG&quot;</td><td>&quot;10040030&quot;</td><td>&quot;BANCO DEL BAJIO&quot;</td><td>&quot;F&quot;</td><td>3.63</td><td>50.0</td><td>&quot;Producto NAFIN&quot;</td><td>&quot;ZACATECAS&quot;</td><td>&quot;COMERCIO&quot;</td><td>&quot;PEQUEÑA EMPRESA&quot;</td><td>&quot;SIN GARANTIA&quot;</td><td>&quot;CREDITOS EN CUENTA CORRIENTE&quot;</td><td>310168</td><td>&quot;SF&quot;</td><td>179997.61</td><td>2</td></tr><tr><td>4</td><td>&quot;GARANTIA EMPRESARIAL&quot;</td><td>3</td><td>1</td><td>310146</td><td>&quot;R&quot;</td><td>&quot;SG&quot;</td><td>&quot;10000233&quot;</td><td>&quot;BANAMEX&quot;</td><td>&quot;F&quot;</td><td>5.17</td><td>50.0</td><td>&quot;Producto NAFIN&quot;</td><td>&quot;MEXICO&quot;</td><td>&quot;INDUSTRIA&quot;</td><td>&quot;PEQUEÑA EMPRESA&quot;</td><td>&quot;OBLIGADO SOLIDARIO OPCIONAL&quot;</td><td>&quot;CREDITOS EN CUENTA CORRIENTE&quot;</td><td>310146</td><td>&quot;SF&quot;</td><td>501364.07</td><td>2</td></tr><tr><td>1</td><td>&quot;GARANTIA EMPRESARIAL&quot;</td><td>3</td><td>0</td><td>310158</td><td>&quot;R&quot;</td><td>&quot;SG&quot;</td><td>&quot;10040058&quot;</td><td>&quot;BANCO REGIONAL DE MONTERREY&quot;</td><td>&quot;M&quot;</td><td>2.15</td><td>50.0</td><td>&quot;Producto NAFIN&quot;</td><td>&quot;BAJA CALIFORNIA NORTE&quot;</td><td>&quot;COMERCIO&quot;</td><td>&quot;MEDIANA EMPRESA&quot;</td><td>&quot;OBLIGADO Y/O AVALISTA&quot;</td><td>&quot;CREDITOS EN CUENTA CORRIENTE&quot;</td><td>310158</td><td>&quot;SF&quot;</td><td>1.176816e6</td><td>2</td></tr><tr><td>5</td><td>&quot;GARANTIA EMPRESARIAL&quot;</td><td>3</td><td>0</td><td>310135</td><td>&quot;R&quot;</td><td>&quot;SG&quot;</td><td>&quot;10040012&quot;</td><td>&quot;BBV BANCOMER&quot;</td><td>&quot;M&quot;</td><td>5.32</td><td>50.0</td><td>&quot;Producto NAFIN&quot;</td><td>&quot;SONORA&quot;</td><td>&quot;SERVICIOS&quot;</td><td>&quot;PEQUEÑA EMPRESA&quot;</td><td>&quot;OBLIGADO Y/O AVALISTA&quot;</td><td>&quot;CREDITOS EN CUENTA CORRIENTE&quot;</td><td>310135</td><td>&quot;SF&quot;</td><td>29288.31</td><td>2</td></tr><tr><td>3</td><td>&quot;GARANTIA EMPRESARIAL&quot;</td><td>3</td><td>1</td><td>310140</td><td>&quot;R&quot;</td><td>&quot;SG&quot;</td><td>&quot;10040062&quot;</td><td>&quot;BANCA AFIRME&quot;</td><td>&quot;M&quot;</td><td>6.21</td><td>50.0</td><td>&quot;Producto NAFIN&quot;</td><td>&quot;NUEVO LEON&quot;</td><td>&quot;SERVICIOS&quot;</td><td>&quot;MEDIANA EMPRESA&quot;</td><td>&quot;OBLIGADO Y/O AVALISTA&quot;</td><td>&quot;CREDITOS EN CUENTA CORRIENTE&quot;</td><td>310140</td><td>&quot;SF&quot;</td><td>7.673404e6</td><td>2</td></tr><tr><td>&hellip;</td><td>&hellip;</td><td>&hellip;</td><td>&hellip;</td><td>&hellip;</td><td>&hellip;</td><td>&hellip;</td><td>&hellip;</td><td>&hellip;</td><td>&hellip;</td><td>&hellip;</td><td>&hellip;</td><td>&hellip;</td><td>&hellip;</td><td>&hellip;</td><td>&hellip;</td><td>&hellip;</td><td>&hellip;</td><td>&hellip;</td><td>&hellip;</td><td>&hellip;</td><td>&hellip;</td></tr><tr><td>1</td><td>&quot;GARANTIA EMPRESARIAL&quot;</td><td>2</td><td>0</td><td>310183</td><td>&quot;NR&quot;</td><td>&quot;SG&quot;</td><td>&quot;10040030&quot;</td><td>&quot;BANCO DEL BAJIO&quot;</td><td>&quot;M&quot;</td><td>2.5</td><td>50.0</td><td>&quot;Producto NAFIN&quot;</td><td>&quot;SAN LUIS POTOSI&quot;</td><td>&quot;SERVICIOS&quot;</td><td>&quot;PEQUEÑA EMPRESA&quot;</td><td>&quot;OBLIGADO Y/O AVALISTA&quot;</td><td>&quot;CREDITOS SIMPLES&quot;</td><td>310183</td><td>&quot;SF&quot;</td><td>939241.37</td><td>2</td></tr><tr><td>5</td><td>&quot;GARANTIA EMPRESARIAL&quot;</td><td>2</td><td>0</td><td>310084</td><td>&quot;NR&quot;</td><td>&quot;SG&quot;</td><td>&quot;10000171&quot;</td><td>&quot;HSBC MEXICO&quot;</td><td>&quot;F&quot;</td><td>10.51</td><td>50.0</td><td>&quot;Producto NAFIN&quot;</td><td>&quot;DISTRITO FEDERAL&quot;</td><td>&quot;SERVICIOS&quot;</td><td>&quot;MICRO EMPRESA&quot;</td><td>&quot;OBLIGADO Y/O AVALISTA&quot;</td><td>&quot;CREDITOS SIMPLES&quot;</td><td>310084</td><td>&quot;SF&quot;</td><td>42392.61</td><td>2</td></tr><tr><td>4</td><td>&quot;GARANTIA EMPRESARIAL&quot;</td><td>2</td><td>0</td><td>310163</td><td>&quot;NR&quot;</td><td>&quot;SG&quot;</td><td>&quot;10040012&quot;</td><td>&quot;BBV BANCOMER&quot;</td><td>&quot;F&quot;</td><td>4.8</td><td>50.0</td><td>&quot;Producto NAFIN&quot;</td><td>&quot;HIDALGO&quot;</td><td>&quot;SERVICIOS&quot;</td><td>&quot;PEQUEÑA EMPRESA&quot;</td><td>&quot;OBLIGADO Y/O AVALISTA&quot;</td><td>&quot;CREDITOS SIMPLES&quot;</td><td>310163</td><td>&quot;SF&quot;</td><td>8.3544e6</td><td>8</td></tr><tr><td>2</td><td>&quot;GARANTIA EMPRESARIAL&quot;</td><td>2</td><td>0</td><td>310183</td><td>&quot;NR&quot;</td><td>&quot;SG&quot;</td><td>&quot;10040030&quot;</td><td>&quot;BANCO DEL BAJIO&quot;</td><td>&quot;M&quot;</td><td>2.98</td><td>50.0</td><td>&quot;Producto NAFIN&quot;</td><td>&quot;AGUASCALIENTES&quot;</td><td>&quot;INDUSTRIA&quot;</td><td>&quot;PEQUEÑA EMPRESA&quot;</td><td>&quot;OBLIGADO Y/O AVALISTA&quot;</td><td>&quot;CREDITOS SIMPLES&quot;</td><td>310183</td><td>&quot;SF&quot;</td><td>3e6</td><td>2</td></tr><tr><td>2</td><td>&quot;GARANTIA EMPRESARIAL&quot;</td><td>2</td><td>0</td><td>310158</td><td>&quot;NR&quot;</td><td>&quot;SG&quot;</td><td>&quot;10040058&quot;</td><td>&quot;BANCO REGIONAL DE MONTERREY&quot;</td><td>&quot;F&quot;</td><td>4.12</td><td>50.0</td><td>&quot;Producto NAFIN&quot;</td><td>&quot;VERACRUZ&quot;</td><td>&quot;COMERCIO&quot;</td><td>&quot;PEQUEÑA EMPRESA&quot;</td><td>&quot;OBLIGADO Y/O AVALISTA&quot;</td><td>&quot;CREDITOS SIMPLES&quot;</td><td>310158</td><td>&quot;SF&quot;</td><td>1583333.3</td><td>2</td></tr></tbody></table></div>"
      ],
      "text/plain": [
       "shape: (48_877, 22)\n",
       "┌────────┬──────────────┬─────────────┬─────────┬───┬─────────────┬─────┬────────────┬─────────────┐\n",
       "│ BUCKET ┆ Producto     ┆ TIPO_CREDIT ┆ MM_UDIS ┆ … ┆ PROGRAMA_ID ┆ CSF ┆ SALDO_MN   ┆ TOT_CREDITO │\n",
       "│ ---    ┆ ---          ┆ O_ID        ┆ ---     ┆   ┆ ---         ┆ --- ┆ ---        ┆ S           │\n",
       "│ i16    ┆ str          ┆ ---         ┆ i32     ┆   ┆ i32         ┆ str ┆ f64        ┆ ---         │\n",
       "│        ┆              ┆ i32         ┆         ┆   ┆             ┆     ┆            ┆ u32         │\n",
       "╞════════╪══════════════╪═════════════╪═════════╪═══╪═════════════╪═════╪════════════╪═════════════╡\n",
       "│ 3      ┆ GARANTIA     ┆ 3           ┆ 0       ┆ … ┆ 310168      ┆ SF  ┆ 179997.61  ┆ 2           │\n",
       "│        ┆ EMPRESARIAL  ┆             ┆         ┆   ┆             ┆     ┆            ┆             │\n",
       "│ 4      ┆ GARANTIA     ┆ 3           ┆ 1       ┆ … ┆ 310146      ┆ SF  ┆ 501364.07  ┆ 2           │\n",
       "│        ┆ EMPRESARIAL  ┆             ┆         ┆   ┆             ┆     ┆            ┆             │\n",
       "│ 1      ┆ GARANTIA     ┆ 3           ┆ 0       ┆ … ┆ 310158      ┆ SF  ┆ 1.176816e6 ┆ 2           │\n",
       "│        ┆ EMPRESARIAL  ┆             ┆         ┆   ┆             ┆     ┆            ┆             │\n",
       "│ 5      ┆ GARANTIA     ┆ 3           ┆ 0       ┆ … ┆ 310135      ┆ SF  ┆ 29288.31   ┆ 2           │\n",
       "│        ┆ EMPRESARIAL  ┆             ┆         ┆   ┆             ┆     ┆            ┆             │\n",
       "│ 3      ┆ GARANTIA     ┆ 3           ┆ 1       ┆ … ┆ 310140      ┆ SF  ┆ 7.673404e6 ┆ 2           │\n",
       "│        ┆ EMPRESARIAL  ┆             ┆         ┆   ┆             ┆     ┆            ┆             │\n",
       "│ …      ┆ …            ┆ …           ┆ …       ┆ … ┆ …           ┆ …   ┆ …          ┆ …           │\n",
       "│ 1      ┆ GARANTIA     ┆ 2           ┆ 0       ┆ … ┆ 310183      ┆ SF  ┆ 939241.37  ┆ 2           │\n",
       "│        ┆ EMPRESARIAL  ┆             ┆         ┆   ┆             ┆     ┆            ┆             │\n",
       "│ 5      ┆ GARANTIA     ┆ 2           ┆ 0       ┆ … ┆ 310084      ┆ SF  ┆ 42392.61   ┆ 2           │\n",
       "│        ┆ EMPRESARIAL  ┆             ┆         ┆   ┆             ┆     ┆            ┆             │\n",
       "│ 4      ┆ GARANTIA     ┆ 2           ┆ 0       ┆ … ┆ 310163      ┆ SF  ┆ 8.3544e6   ┆ 8           │\n",
       "│        ┆ EMPRESARIAL  ┆             ┆         ┆   ┆             ┆     ┆            ┆             │\n",
       "│ 2      ┆ GARANTIA     ┆ 2           ┆ 0       ┆ … ┆ 310183      ┆ SF  ┆ 3e6        ┆ 2           │\n",
       "│        ┆ EMPRESARIAL  ┆             ┆         ┆   ┆             ┆     ┆            ┆             │\n",
       "│ 2      ┆ GARANTIA     ┆ 2           ┆ 0       ┆ … ┆ 310158      ┆ SF  ┆ 1583333.3  ┆ 2           │\n",
       "│        ┆ EMPRESARIAL  ┆             ┆         ┆   ┆             ┆     ┆            ┆             │\n",
       "└────────┴──────────────┴─────────────┴─────────┴───┴─────────────┴─────┴────────────┴─────────────┘"
      ]
     },
     "execution_count": 37,
     "metadata": {},
     "output_type": "execute_result"
    }
   ],
   "source": [
    "base_agrup_final"
   ]
  },
  {
   "cell_type": "code",
   "execution_count": null,
   "id": "1589a2e1",
   "metadata": {},
   "outputs": [
    {
     "data": {
      "text/html": [
       "<div><style>\n",
       ".dataframe > thead > tr,\n",
       ".dataframe > tbody > tr {\n",
       "  text-align: right;\n",
       "  white-space: pre-wrap;\n",
       "}\n",
       "</style>\n",
       "<small>shape: (8, 2)</small><table border=\"1\" class=\"dataframe\"><thead><tr><th>Producto</th><th>S_SALDO(MDP)</th></tr><tr><td>str</td><td>f64</td></tr></thead><tbody><tr><td>&quot;GARANTIA SECTORIAL&quot;</td><td>3.5604e10</td></tr><tr><td>&quot;GARANTIA EMPRESARIAL&quot;</td><td>1.8162e11</td></tr><tr><td>&quot;GARANTIAS FEFA&quot;</td><td>7.5969e8</td></tr><tr><td>&quot;GARANTIA FIANZA&quot;</td><td>1.3038e10</td></tr><tr><td>&quot;GARANTIA ESPECIAL&quot;</td><td>1.3675e8</td></tr><tr><td>&quot;GARANTIA SUBASTA&quot;</td><td>483068.119124</td></tr><tr><td>&quot;EMPRESA MEDIANA&quot;</td><td>9.9472e8</td></tr><tr><td>&quot;GARANTIA EMERGENTES&quot;</td><td>9.5083e8</td></tr></tbody></table></div>"
      ],
      "text/plain": [
       "shape: (8, 2)\n",
       "┌──────────────────────┬───────────────┐\n",
       "│ Producto             ┆ S_SALDO(MDP)  │\n",
       "│ ---                  ┆ ---           │\n",
       "│ str                  ┆ f64           │\n",
       "╞══════════════════════╪═══════════════╡\n",
       "│ GARANTIA SECTORIAL   ┆ 3.5604e10     │\n",
       "│ GARANTIA EMPRESARIAL ┆ 1.8162e11     │\n",
       "│ GARANTIAS FEFA       ┆ 7.5969e8      │\n",
       "│ GARANTIA FIANZA      ┆ 1.3038e10     │\n",
       "│ GARANTIA ESPECIAL    ┆ 1.3675e8      │\n",
       "│ GARANTIA SUBASTA     ┆ 483068.119124 │\n",
       "│ EMPRESA MEDIANA      ┆ 9.9472e8      │\n",
       "│ GARANTIA EMERGENTES  ┆ 9.5083e8      │\n",
       "└──────────────────────┴───────────────┘"
      ]
     },
     "execution_count": 38,
     "metadata": {},
     "output_type": "execute_result"
    }
   ],
   "source": [
    "# VALIDA_SALDO\n",
    "base_agrup_final.group_by(\n",
    "    \"Producto\"\n",
    ").agg(\n",
    "    pl.col(\"SALDO_MN\").sum().alias(\"S_SALDO(MDP)\")\n",
    ")"
   ]
  },
  {
   "cell_type": "markdown",
   "id": "e6a1d9e2",
   "metadata": {},
   "source": [
    "#### Prem"
   ]
  },
  {
   "cell_type": "code",
   "execution_count": null,
   "id": "b61dfd08",
   "metadata": {},
   "outputs": [],
   "source": []
  },
  {
   "cell_type": "code",
   "execution_count": null,
   "id": "55e54246",
   "metadata": {},
   "outputs": [],
   "source": []
  },
  {
   "cell_type": "code",
   "execution_count": null,
   "id": "c7bd3f90",
   "metadata": {},
   "outputs": [],
   "source": []
  }
 ],
 "metadata": {
  "kernelspec": {
   "display_name": ".venv",
   "language": "python",
   "name": "python3"
  },
  "language_info": {
   "codemirror_mode": {
    "name": "ipython",
    "version": 3
   },
   "file_extension": ".py",
   "mimetype": "text/x-python",
   "name": "python",
   "nbconvert_exporter": "python",
   "pygments_lexer": "ipython3",
   "version": "3.13.2"
  }
 },
 "nbformat": 4,
 "nbformat_minor": 5
}
