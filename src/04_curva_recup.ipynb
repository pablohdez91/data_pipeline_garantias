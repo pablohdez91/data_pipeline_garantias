{
 "cells": [
  {
   "cell_type": "code",
   "execution_count": 1,
   "id": "6867f8eb",
   "metadata": {},
   "outputs": [],
   "source": [
    "import polars as pl\n",
    "import pyodbc\n",
    "from datetime import date"
   ]
  },
  {
   "cell_type": "markdown",
   "id": "3ab50c1f",
   "metadata": {},
   "source": [
    "### Definición de Rutas"
   ]
  },
  {
   "cell_type": "code",
   "execution_count": 2,
   "id": "d5ce8333",
   "metadata": {},
   "outputs": [],
   "source": [
    "cierre = \"202505\"\n",
    "cierre_l = \"May25\"\n",
    "cierre_d = date(2025,5,31)\n",
    "\n",
    "# Carpetas\n",
    "wd = \"E:/Users/jhernandezr/DAR/garantias/reporte/fotos/\"\n",
    "wd_data_raw = wd + \"data/raw/\"\n",
    "wd_data_external = wd + \"data/external/\"\n",
    "wd_data_processed_dwh = \"E:/Users/jhernandezr/DAR/garantias/data_pipeline_garantias/data/processed/dwh/\"\n",
    "wd_data_processed_fotos = \"E:/Users/jhernandezr/DAR/garantias/data_pipeline_garantias/data/processed/fotos/\"\n",
    "\n",
    "# Inputs\n",
    "fl_catalogos = wd_data_external + f'Catálogos_{cierre_l}'\n",
    "fl_recuperadas_detalle = wd_data_processed_dwh + f'parquet/Recupera_con_Pagos_Flujos_{cierre}.parquet'\n",
    "fl_pagadas_detalle = wd_data_processed_dwh + f'parquet/Pagadas_Global_VF_{cierre}.parquet'\n",
    "\n",
    "# Outputs\n"
   ]
  },
  {
   "cell_type": "markdown",
   "id": "7f96d4c1",
   "metadata": {},
   "source": [
    "### Importa tablas"
   ]
  },
  {
   "cell_type": "code",
   "execution_count": 3,
   "id": "664b3858",
   "metadata": {},
   "outputs": [],
   "source": [
    "schema_recuperadas = {\n",
    "    'Concatenar_Saldos': pl.String,\n",
    "    'Fecha_Consulta': pl.Datetime,\n",
    "    'Programa_Id': pl.Int32,\n",
    "    'Tipo_Garantia_Id': pl.Int16,\n",
    "    'Tipo_Cambio_Cierre': pl.Float32,\n",
    "    'Programa_Original': pl.Int32,\n",
    "    'Porcentaje_Garantizado': pl.Float32,\n",
    "    'Monto _Credito_Mn': pl.Float64,\n",
    "    'Fecha_Apertura': pl.Datetime,\n",
    "    'Moneda_Id': pl.Int16,\n",
    "    'Tipo_Credito_Id': pl.Int16,\n",
    "    'Fecha_Garantia_Honrada': pl.Datetime,\n",
    "    'TPRO_CLAVE': pl.Int32,\n",
    "    'NR_R': pl.String,\n",
    "    'Producto': pl.String,\n",
    "    'AGRUPAMIENTO_ID': pl.Float64,\n",
    "    'AGRUPAMIENTO': pl.String,\n",
    "    'Intermediario_Id': pl.String,\n",
    "    'Numero_Credito': pl.String,\n",
    "    'Id': pl.Int16,\n",
    "    'Monto': pl.Float64,\n",
    "    'Interes': pl.Float64,\n",
    "    'Moratorios': pl.Float64,\n",
    "    'Descripcion': pl.String,\n",
    "    'Estatus': pl.String,\n",
    "    'Fecha_Registro': pl.Datetime,\n",
    "    'Fecha': pl.Datetime,\n",
    "    'Monto_Mn': pl.Float64,\n",
    "    'Interes_Mn': pl.Float64,\n",
    "    'Excedente': pl.Float64,\n",
    "    'Excedente_Mn': pl.Float64,\n",
    "    'Moratorios_Mn': pl.Float64,\n",
    "    'Sub_Total_Mn': pl.Float64,\n",
    "    'RazÃ³n Social (Intermediario)': pl.String,\n",
    "    'Empresa / Acreditado (DescripciÃ³n)': pl.String,\n",
    "    'RFC Empresa / Acreditado': pl.String,\n",
    "    'TIPO_PERSONA': pl.String,\n",
    "    'Recup_Rescat': pl.String,\n",
    "    'MM_UDIS': pl.Int64,\n",
    "    'ESQUEMA': pl.String,\n",
    "    'CSG': pl.String,\n",
    "    'CSF': pl.String,\n",
    "    'Gastos_Juicio_Mn': pl.Float64,\n",
    "    'Monto_Total_Mn': pl.Float64,\n",
    "    'MPagado_Mn': pl.Float64,\n",
    "    'Historico': pl.String,\n",
    "    'Fecha Registro Alta': pl.Datetime}\n",
    "\n",
    "schema_pagadas = {\n",
    "    'Concatenado': pl.String,\n",
    "    'Fecha_Consulta': pl.Datetime,\n",
    "    'Intermediario_Id': pl.String,\n",
    "    'Numero_Credito': pl.String,\n",
    "    'Producto': pl.String,\n",
    "    'Pago ID': pl.Int16,\n",
    "    'RazÃ³n Social (Intermediario)': pl.String,\n",
    "    'MIN_Fecha_Registro': pl.Datetime,\n",
    "    'Fecha_Garantia_Honrada': pl.Datetime,\n",
    "    'TPRO_CLAVE': pl.Float32,\n",
    "    'Programa_Original': pl.Int32,\n",
    "    'Programa_Id': pl.Int32,\n",
    "    'Monto _Credito_Mn': pl.Float64,\n",
    "    'Moneda_Id': pl.Int16,\n",
    "    'Fecha de Apertura': pl.Datetime,\n",
    "    'Tipo_Garantia_Id': pl.Int16,\n",
    "    'TIPO_PERSONA': pl.String,\n",
    "    'RFC Empresa / Acreditado': pl.String,\n",
    "    'Monto_Desembolsado': pl.Float64,\n",
    "    'Interes_Desembolso': pl.Float64,\n",
    "    'Interes_Moratorios': pl.Float64,\n",
    "    'Porcentaje_Garantizado': pl.Float32,\n",
    "    'Tipo_Credito_Id': pl.Int16,\n",
    "    'Estatus_Recuperacion': pl.String,\n",
    "    'Empresa / Acreditado (DescripciÃ³n)': pl.String,\n",
    "    'Fecha Registro Alta': pl.Datetime,\n",
    "    'TC': pl.Float32,\n",
    "    'AGRUPAMIENTO_ID': pl.Float32, # Revisar\n",
    "    'AGRUPAMIENTO': pl.String,\n",
    "    'ESQUEMA': pl.String,\n",
    "    'SUBESQUEMA': pl.String,\n",
    "    'CAMBIO': pl.Float64,\n",
    "    'MM_UDIS': pl.Int16,\n",
    "    'NR_R': pl.String,\n",
    "    'CSG': pl.String,\n",
    "    'CSF': pl.String,\n",
    "    'Monto_Desembolso_Mn': pl.Float64,\n",
    "    'Interes_Desembolso_Mn': pl.Float64,\n",
    "    'Interes_Moratorios_Mn': pl.Float64,\n",
    "    'Monto_Pagado_Mn': pl.Float64\n",
    "}"
   ]
  },
  {
   "cell_type": "code",
   "execution_count": 4,
   "id": "f9821723",
   "metadata": {},
   "outputs": [
    {
     "data": {
      "text/plain": [
       "' recuperadas_detalle = (recuperadas_detalle\\n                        .filter(\\n                        (pl.col(\"Producto\") != \"GARANTIAS BANCOMEXT\") &\\n                        (pl.col(\"Producto\") != \"GARANTIAS SHF/LI FINANCIERO\") &\\n                        (pl.col(\"Producto\") != \"GARANTIAS BANSEFI\")\\n                        )) '"
      ]
     },
     "execution_count": 4,
     "metadata": {},
     "output_type": "execute_result"
    }
   ],
   "source": [
    "# Importa Recuperadas\n",
    "recuperadas_detalle = pl.read_parquet(fl_recuperadas_detalle)\n",
    "\"\"\" recuperadas_detalle = (recuperadas_detalle\n",
    "                        .filter(\n",
    "                        (pl.col(\"Producto\") != \"GARANTIAS BANCOMEXT\") &\n",
    "                        (pl.col(\"Producto\") != \"GARANTIAS SHF/LI FINANCIERO\") &\n",
    "                        (pl.col(\"Producto\") != \"GARANTIAS BANSEFI\")\n",
    "                        )) \"\"\""
   ]
  },
  {
   "cell_type": "code",
   "execution_count": 5,
   "id": "e1a2e5df",
   "metadata": {},
   "outputs": [
    {
     "data": {
      "text/plain": [
       "' pagadas_detalle = (pagadas_detalle\\n                   .filter(\\n                        (pl.col(\"Producto\") != \"GARANTIAS BANCOMEXT\") &\\n                        (pl.col(\"Producto\") != \"GARANTIAS SHF/LI FINANCIERO\") &\\n                        (pl.col(\"Producto\") != \"GARANTIAS BANSEFI\")\\n                   ))\\npagadas_detalle.shape '"
      ]
     },
     "execution_count": 5,
     "metadata": {},
     "output_type": "execute_result"
    }
   ],
   "source": [
    "# Importa Pagadas\n",
    "pagadas_detalle = pl.read_parquet(fl_pagadas_detalle)\n",
    "\"\"\" pagadas_detalle = (pagadas_detalle\n",
    "                   .filter(\n",
    "                        (pl.col(\"Producto\") != \"GARANTIAS BANCOMEXT\") &\n",
    "                        (pl.col(\"Producto\") != \"GARANTIAS SHF/LI FINANCIERO\") &\n",
    "                        (pl.col(\"Producto\") != \"GARANTIAS BANSEFI\")\n",
    "                   ))\n",
    "pagadas_detalle.shape \"\"\""
   ]
  },
  {
   "cell_type": "code",
   "execution_count": 6,
   "id": "465289a1",
   "metadata": {},
   "outputs": [
    {
     "name": "stdout",
     "output_type": "stream",
     "text": [
      "(1566470, 47)\n",
      "(514042, 40)\n"
     ]
    }
   ],
   "source": [
    "print(recuperadas_detalle.shape)\n",
    "print(pagadas_detalle.shape)"
   ]
  },
  {
   "cell_type": "code",
   "execution_count": 7,
   "id": "788fdc63",
   "metadata": {},
   "outputs": [],
   "source": [
    "# Importa Catálogos\n",
    "conn_str = r\"DRIVER={Microsoft Access Driver (*.mdb, *.accdb)};DBQ=\" + fl_catalogos + '.accdb'\n",
    "conn = pyodbc.connect(conn_str)\n",
    "estatus = pl.read_database(query='SELECT * FROM [ESTATUS]', connection=conn)\n",
    "llave = pl.read_database(query='SELECT * FROM [LLAVE]', connection=conn, schema_overrides={'Programa Mezcla ID': pl.Int32})\n",
    "conn.close()\n",
    "\n"
   ]
  },
  {
   "cell_type": "code",
   "execution_count": 8,
   "id": "e06d4553",
   "metadata": {},
   "outputs": [],
   "source": [
    "recuperadas_con_llave = recuperadas_detalle.join(\n",
    "    llave.select([\n",
    "            \"Programa Mezcla ID\",\n",
    "            \"Intermediario_Id\",\n",
    "            \"LLAVE_FINAL\"]),\n",
    "        left_on=[\"TPRO_CLAVE\", \"Intermediario_Id\"],\n",
    "        right_on=[\"Programa Mezcla ID\", \"Intermediario_Id\"],\n",
    "        how=\"left\")\n"
   ]
  },
  {
   "cell_type": "code",
   "execution_count": 9,
   "id": "9067cb3b",
   "metadata": {},
   "outputs": [],
   "source": [
    "pagadas_con_llave = pagadas_detalle.join(\n",
    "    llave.select([\n",
    "            \"Programa Mezcla ID\",\n",
    "            \"Intermediario_Id\",\n",
    "            \"LLAVE_FINAL\"]),\n",
    "        left_on=[\"TPRO_CLAVE\", \"Intermediario_Id\"],\n",
    "        right_on=[\"Programa Mezcla ID\", \"Intermediario_Id\"],\n",
    "        how=\"left\")"
   ]
  },
  {
   "cell_type": "code",
   "execution_count": 10,
   "id": "c321fcb5",
   "metadata": {},
   "outputs": [],
   "source": [
    "# RECUP_PREVIO_202504\n",
    "def base_recup_detalle(recuperadas, estatus):\n",
    "    # Se realiza el Join\n",
    "    df = recuperadas.join(\n",
    "            estatus.select([\"Estatus ID\", \"Estatus\"]),\n",
    "            left_on=\"Estatus\",\n",
    "            right_on=\"Estatus ID\",\n",
    "            how=\"left\"\n",
    "    )\n",
    "    df = df.with_columns([\n",
    "        (pl.col(\"Monto_Mn\").fill_null(0) / 1_000_000).alias(\"CAPRECUP(MDP)\"),\n",
    "        (pl.col(\"Interes_Mn\").fill_null(0) / 1_000_000).alias(\"INTRECUP(MDP)\"),\n",
    "        (pl.col(\"Moratorios_Mn\").fill_null(0) / 1_000_000).alias(\"MORAT(MDP)\"),\n",
    "        (pl.col(\"Excedente_Mn\").fill_null(0) / 1_000_000).alias(\"EXCEDENTE(MDP)\"),\n",
    "        (pl.col(\"Gastos_Juicio_Mn\").fill_null(0) / 1_000_000).alias(\"GASTOSJUICIO(MDP)\"),\n",
    "        (pl.col(\"Sub_Total_Mn\").fill_null(0) / 1_000_000).alias(\"SUBTOTAL (MDP)\"),\n",
    "        (pl.col(\"Monto_Total_Mn\").fill_null(0) / 1_000_000).alias(\"MONTOTOTAL (MDP)\"),\n",
    "        (pl.when(pl.col(\"Estatus\") == \"E\").then(pl.lit(\"E\")).otherwise(pl.lit(\"NE\")).alias(\"REEST\")),\n",
    "        pl.col(\"Estatus_right\").alias(\"STATUS_RECUP\"),\n",
    "        pl.when(pl.col(\"Fecha\") > pl.col(\"Fecha_Garantia_Honrada\")).then(1).otherwise(0).alias(\"IND_ENTRA\"),\n",
    "        \n",
    "        # MRECUP_TOT(MDP)\n",
    "        pl.when(pl.col(\"Estatus\") == \"Recuperada\").then(\n",
    "            (\n",
    "                pl.col(\"Monto_Mn\").fill_null(0) +\n",
    "                pl.col(\"Interes_Mn\").fill_null(0) +\n",
    "                pl.col(\"Moratorios_Mn\").fill_null(0) +\n",
    "                pl.col(\"Excedente_Mn\").fill_null(0) -\n",
    "                pl.col(\"Gastos_Juicio_Mn\").fill_null(0)\n",
    "            ) / 1_000_000\n",
    "        ).otherwise(0).alias(\"MRECUP_TOT(MDP)\"),\n",
    "        \n",
    "        # MRESCAT_TOT(MDP)\n",
    "        pl.when(pl.col(\"Estatus\") == \"Rescatada\").then(\n",
    "            (\n",
    "                pl.col(\"Monto_Mn\").fill_null(0) +\n",
    "                pl.col(\"Interes_Mn\").fill_null(0) +\n",
    "                pl.col(\"Moratorios_Mn\").fill_null(0) +\n",
    "                pl.col(\"Excedente_Mn\").fill_null(0) -\n",
    "                pl.col(\"Gastos_Juicio_Mn\").fill_null(0)\n",
    "            ) / 1_000_000\n",
    "        ).otherwise(0).alias(\"MRESCAT_TOT(MDP)\"),\n",
    "\n",
    "        # Diferencia en meses entre fechas\n",
    "        ((pl.col(\"Fecha\").dt.year() - pl.col(\"Fecha_Garantia_Honrada\").dt.year()) * 12 +\n",
    "        (pl.col(\"Fecha\").dt.month() - pl.col(\"Fecha_Garantia_Honrada\").dt.month())).alias(\"DIFERENCIAS_MESES\"),\n",
    "\n",
    "        pl.col(\"Fecha_Garantia_Honrada\").dt.year().alias(\"ANIO_PAGO\"),\n",
    "        (pl.col(\"Fecha_Garantia_Honrada\").dt.year() * 100 + pl.col(\"Fecha_Garantia_Honrada\").dt.month()).alias(\"ORDEN_PAGO\"),\n",
    "\n",
    "        # Concatenación de campos como string\n",
    "        (pl.col(\"Numero_Credito\").cast(str) + pl.col(\"Intermediario_Id\").cast(str)).alias(\"CONCATENAR_SALDOS\")\n",
    "    ])\n",
    "\n",
    "    return df\n",
    "\n",
    "recup_previo = base_recup_detalle(recuperadas_con_llave, estatus)"
   ]
  },
  {
   "cell_type": "code",
   "execution_count": 11,
   "id": "59d7af3f",
   "metadata": {},
   "outputs": [],
   "source": [
    "# CICLOS_RESCATE\n",
    "def gen_ciclos_rescate(df):\n",
    "    df_filtered = df.filter(\n",
    "        pl.col(\"Numero_Credito\").is_not_null() & \n",
    "        pl.col(\"Razón Social (Intermediario)\").is_not_null()\n",
    "    )\n",
    "\n",
    "    # Agrupar y sumar\n",
    "    agg_df = (\n",
    "        df_filtered\n",
    "        .group_by([\"Numero_Credito\", \"Razón Social (Intermediario)\", \"CONCATENAR_SALDOS\"])\n",
    "        .agg(\n",
    "            (pl.col(\"MRESCAT_TOT(MDP)\") * pl.col(\"IND_ENTRA\")).sum().alias(\"MRESCAT_TOTAL\")\n",
    "        )\n",
    "    )\n",
    "\n",
    "    # Agregar columnas requeridas\n",
    "    final_df = (\n",
    "        agg_df.with_columns([\n",
    "            pl.col(\"Numero_Credito\").alias(\"Prestamo\"),\n",
    "            pl.col(\"Razón Social (Intermediario)\").alias(\"INTERMEDIARIO\"),\n",
    "            pl.when(pl.col(\"MRESCAT_TOTAL\") == 0).then(1).otherwise(0).alias(\"CICLOS_RESCAT\")\n",
    "        ])\n",
    "        .select([\n",
    "            \"CONCATENAR_SALDOS\", \n",
    "            \"Prestamo\", \n",
    "            \"INTERMEDIARIO\", \n",
    "            \"MRESCAT_TOTAL\", \n",
    "            \"CICLOS_RESCAT\"\n",
    "        ])\n",
    "    )\n",
    "    return final_df\n",
    "\n",
    "ciclos_rescate = gen_ciclos_rescate(recup_previo)"
   ]
  },
  {
   "cell_type": "markdown",
   "id": "7f1a4110",
   "metadata": {},
   "source": [
    "#### Parte 2"
   ]
  },
  {
   "cell_type": "code",
   "execution_count": 12,
   "id": "286595b6",
   "metadata": {},
   "outputs": [],
   "source": [
    "# CURVA_RECUP_202504\n",
    "curva_recup = recup_previo.join(\n",
    "    ciclos_rescate.select([\"CONCATENAR_SALDOS\", \"CICLOS_RESCAT\"]),\n",
    "    on=\"CONCATENAR_SALDOS\",\n",
    "    how=\"left\"\n",
    ")"
   ]
  },
  {
   "cell_type": "code",
   "execution_count": null,
   "id": "0495f1ce",
   "metadata": {},
   "outputs": [],
   "source": []
  },
  {
   "cell_type": "code",
   "execution_count": 13,
   "id": "3008045b",
   "metadata": {},
   "outputs": [
    {
     "data": {
      "text/html": [
       "<div><style>\n",
       ".dataframe > thead > tr,\n",
       ".dataframe > tbody > tr {\n",
       "  text-align: right;\n",
       "  white-space: pre-wrap;\n",
       "}\n",
       "</style>\n",
       "<small>shape: (232_837, 22)</small><table border=\"1\" class=\"dataframe\"><thead><tr><th>IND_ENTRA</th><th>MM_UDIS</th><th>TAXONOMIA</th><th>NR_R</th><th>LLAVE_FINAL</th><th>TPRO_CLAVE</th><th>BANCO</th><th>CSG</th><th>CSF</th><th>AGRUPAMIENTO</th><th>AGRUPAMIENTO_ID</th><th>Intermediario_Id</th><th>CICLOS_RESCAT</th><th>DIFERENCIAS_MESES</th><th>TIPGAR_CLAVE</th><th>ANIO(PAGO)</th><th>REEST</th><th>Anio_REG_RECUP</th><th>ESQUEMA</th><th>ORDEN_PAGO</th><th>MRECUP_TOT</th><th>MRESCAT_TOT</th></tr><tr><td>i32</td><td>i32</td><td>str</td><td>str</td><td>str</td><td>i32</td><td>str</td><td>str</td><td>str</td><td>str</td><td>f64</td><td>str</td><td>i32</td><td>i32</td><td>i32</td><td>i32</td><td>str</td><td>i32</td><td>str</td><td>i32</td><td>f64</td><td>f64</td></tr></thead><tbody><tr><td>1</td><td>0</td><td>&quot;GARANTIA EMPRESARIAL&quot;</td><td>&quot;R&quot;</td><td>&quot;CREDIACTIVO DIANA&quot;</td><td>31028</td><td>&quot;BANCO MERCANTIL DEL NORTE&quot;</td><td>&quot;SG&quot;</td><td>&quot;CF&quot;</td><td>&quot;Crediactivo Diana&quot;</td><td>1275.0</td><td>&quot;10040072&quot;</td><td>1</td><td>27</td><td>5</td><td>2012</td><td>&quot;NE&quot;</td><td>2015</td><td>&quot;PP&quot;</td><td>201212</td><td>0.0</td><td>0.0</td></tr><tr><td>1</td><td>0</td><td>&quot;GARANTIA EMPRESARIAL&quot;</td><td>&quot;R&quot;</td><td>&quot;CREDITO A NEGOCIOS&quot;</td><td>3851</td><td>&quot;HSBC MEXICO&quot;</td><td>&quot;SG&quot;</td><td>&quot;SF&quot;</td><td>&quot;Montos Menores Self Employ&quot;</td><td>1635.0</td><td>&quot;10000171&quot;</td><td>1</td><td>150</td><td>5</td><td>2011</td><td>&quot;NE&quot;</td><td>2024</td><td>&quot;PP&quot;</td><td>201106</td><td>0.0</td><td>0.0</td></tr><tr><td>1</td><td>0</td><td>&quot;GARANTIA SUBASTA&quot;</td><td>&quot;R&quot;</td><td>&quot;MICROCREDITO&quot;</td><td>3338</td><td>&quot;BANAMEX&quot;</td><td>&quot;SG&quot;</td><td>&quot;CF&quot;</td><td>&quot;Subasta Extraordinaria&quot;</td><td>1750.0</td><td>&quot;10000233&quot;</td><td>1</td><td>44</td><td>5</td><td>2011</td><td>&quot;NE&quot;</td><td>2014</td><td>&quot;1P&quot;</td><td>201104</td><td>0.0</td><td>0.0</td></tr><tr><td>1</td><td>0</td><td>&quot;GARANTIA EMPRESARIAL&quot;</td><td>&quot;R&quot;</td><td>null</td><td>35709</td><td>&quot;BANAMEX&quot;</td><td>&quot;SG&quot;</td><td>&quot;CF&quot;</td><td>&quot;PyMe&quot;</td><td>1690.0</td><td>&quot;10000233&quot;</td><td>1</td><td>41</td><td>5</td><td>2019</td><td>&quot;NE&quot;</td><td>2022</td><td>&quot;PP&quot;</td><td>201905</td><td>0.0</td><td>0.0</td></tr><tr><td>1</td><td>0</td><td>&quot;GARANTIA EMPRESARIAL&quot;</td><td>&quot;NR&quot;</td><td>&quot;CREDITO PYME&quot;</td><td>35175</td><td>&quot;BANCO SANTANDER&quot;</td><td>&quot;SG&quot;</td><td>&quot;CF&quot;</td><td>&quot;PyMe&quot;</td><td>1690.0</td><td>&quot;10000144&quot;</td><td>1</td><td>5</td><td>4</td><td>2015</td><td>&quot;NE&quot;</td><td>2016</td><td>&quot;PP&quot;</td><td>201508</td><td>0.0</td><td>0.0</td></tr><tr><td>&hellip;</td><td>&hellip;</td><td>&hellip;</td><td>&hellip;</td><td>&hellip;</td><td>&hellip;</td><td>&hellip;</td><td>&hellip;</td><td>&hellip;</td><td>&hellip;</td><td>&hellip;</td><td>&hellip;</td><td>&hellip;</td><td>&hellip;</td><td>&hellip;</td><td>&hellip;</td><td>&hellip;</td><td>&hellip;</td><td>&hellip;</td><td>&hellip;</td><td>&hellip;</td><td>&hellip;</td></tr><tr><td>1</td><td>0</td><td>&quot;GARANTIA EMERGENTES&quot;</td><td>&quot;NR&quot;</td><td>&quot;CREDITO PYME&quot;</td><td>31015</td><td>&quot;BANCO SANTANDER&quot;</td><td>&quot;SG&quot;</td><td>&quot;CF&quot;</td><td>&quot;Emergente Contingencia Sanitar…</td><td>1390.0</td><td>&quot;10000144&quot;</td><td>1</td><td>48</td><td>4</td><td>2011</td><td>&quot;NE&quot;</td><td>2015</td><td>&quot;PP&quot;</td><td>201105</td><td>0.0</td><td>0.0</td></tr><tr><td>1</td><td>0</td><td>&quot;GARANTIA SECTORIAL&quot;</td><td>&quot;NR&quot;</td><td>&quot;TRADICIONAL&quot;</td><td>3268</td><td>&quot;BANCA MIFEL&quot;</td><td>&quot;SG&quot;</td><td>&quot;CF&quot;</td><td>&quot;Taxi DF&quot;</td><td>1930.0</td><td>&quot;10000420&quot;</td><td>1</td><td>2</td><td>4</td><td>2011</td><td>&quot;NE&quot;</td><td>2012</td><td>&quot;PP&quot;</td><td>201112</td><td>0.0</td><td>0.0</td></tr><tr><td>1</td><td>0</td><td>&quot;GARANTIA EMPRESARIAL&quot;</td><td>&quot;R&quot;</td><td>&quot;CREDITO A NEGOCIOS&quot;</td><td>32907</td><td>&quot;HSBC MEXICO&quot;</td><td>&quot;SG&quot;</td><td>&quot;CF&quot;</td><td>&quot;Micro Empresa PM&quot;</td><td>1595.0</td><td>&quot;10000171&quot;</td><td>1</td><td>2</td><td>5</td><td>2016</td><td>&quot;NE&quot;</td><td>2017</td><td>&quot;PP&quot;</td><td>201611</td><td>0.0</td><td>0.0</td></tr><tr><td>1</td><td>0</td><td>&quot;GARANTIA SUBASTA&quot;</td><td>&quot;NR&quot;</td><td>&quot;PYME&quot;</td><td>33268</td><td>&quot;BANAMEX&quot;</td><td>&quot;SG&quot;</td><td>&quot;CF&quot;</td><td>&quot;Subasta Marzo 2015&quot;</td><td>1870.0</td><td>&quot;10000233&quot;</td><td>1</td><td>5</td><td>5</td><td>2018</td><td>&quot;NE&quot;</td><td>2019</td><td>&quot;1P&quot;</td><td>201809</td><td>0.0</td><td>0.0</td></tr><tr><td>1</td><td>0</td><td>&quot;GARANTIA EMPRESARIAL&quot;</td><td>&quot;NR&quot;</td><td>&quot;CREDITO PYME&quot;</td><td>35220</td><td>&quot;BANCO SANTANDER&quot;</td><td>&quot;SG&quot;</td><td>&quot;CF&quot;</td><td>&quot;PyMe&quot;</td><td>1690.0</td><td>&quot;10000144&quot;</td><td>1</td><td>7</td><td>4</td><td>2016</td><td>&quot;NE&quot;</td><td>2017</td><td>&quot;PP&quot;</td><td>201606</td><td>0.0</td><td>0.0</td></tr></tbody></table></div>"
      ],
      "text/plain": [
       "shape: (232_837, 22)\n",
       "┌───────────┬─────────┬───────────────┬──────┬───┬─────────┬────────────┬────────────┬─────────────┐\n",
       "│ IND_ENTRA ┆ MM_UDIS ┆ TAXONOMIA     ┆ NR_R ┆ … ┆ ESQUEMA ┆ ORDEN_PAGO ┆ MRECUP_TOT ┆ MRESCAT_TOT │\n",
       "│ ---       ┆ ---     ┆ ---           ┆ ---  ┆   ┆ ---     ┆ ---        ┆ ---        ┆ ---         │\n",
       "│ i32       ┆ i32     ┆ str           ┆ str  ┆   ┆ str     ┆ i32        ┆ f64        ┆ f64         │\n",
       "╞═══════════╪═════════╪═══════════════╪══════╪═══╪═════════╪════════════╪════════════╪═════════════╡\n",
       "│ 1         ┆ 0       ┆ GARANTIA      ┆ R    ┆ … ┆ PP      ┆ 201212     ┆ 0.0        ┆ 0.0         │\n",
       "│           ┆         ┆ EMPRESARIAL   ┆      ┆   ┆         ┆            ┆            ┆             │\n",
       "│ 1         ┆ 0       ┆ GARANTIA      ┆ R    ┆ … ┆ PP      ┆ 201106     ┆ 0.0        ┆ 0.0         │\n",
       "│           ┆         ┆ EMPRESARIAL   ┆      ┆   ┆         ┆            ┆            ┆             │\n",
       "│ 1         ┆ 0       ┆ GARANTIA      ┆ R    ┆ … ┆ 1P      ┆ 201104     ┆ 0.0        ┆ 0.0         │\n",
       "│           ┆         ┆ SUBASTA       ┆      ┆   ┆         ┆            ┆            ┆             │\n",
       "│ 1         ┆ 0       ┆ GARANTIA      ┆ R    ┆ … ┆ PP      ┆ 201905     ┆ 0.0        ┆ 0.0         │\n",
       "│           ┆         ┆ EMPRESARIAL   ┆      ┆   ┆         ┆            ┆            ┆             │\n",
       "│ 1         ┆ 0       ┆ GARANTIA      ┆ NR   ┆ … ┆ PP      ┆ 201508     ┆ 0.0        ┆ 0.0         │\n",
       "│           ┆         ┆ EMPRESARIAL   ┆      ┆   ┆         ┆            ┆            ┆             │\n",
       "│ …         ┆ …       ┆ …             ┆ …    ┆ … ┆ …       ┆ …          ┆ …          ┆ …           │\n",
       "│ 1         ┆ 0       ┆ GARANTIA      ┆ NR   ┆ … ┆ PP      ┆ 201105     ┆ 0.0        ┆ 0.0         │\n",
       "│           ┆         ┆ EMERGENTES    ┆      ┆   ┆         ┆            ┆            ┆             │\n",
       "│ 1         ┆ 0       ┆ GARANTIA      ┆ NR   ┆ … ┆ PP      ┆ 201112     ┆ 0.0        ┆ 0.0         │\n",
       "│           ┆         ┆ SECTORIAL     ┆      ┆   ┆         ┆            ┆            ┆             │\n",
       "│ 1         ┆ 0       ┆ GARANTIA      ┆ R    ┆ … ┆ PP      ┆ 201611     ┆ 0.0        ┆ 0.0         │\n",
       "│           ┆         ┆ EMPRESARIAL   ┆      ┆   ┆         ┆            ┆            ┆             │\n",
       "│ 1         ┆ 0       ┆ GARANTIA      ┆ NR   ┆ … ┆ 1P      ┆ 201809     ┆ 0.0        ┆ 0.0         │\n",
       "│           ┆         ┆ SUBASTA       ┆      ┆   ┆         ┆            ┆            ┆             │\n",
       "│ 1         ┆ 0       ┆ GARANTIA      ┆ NR   ┆ … ┆ PP      ┆ 201606     ┆ 0.0        ┆ 0.0         │\n",
       "│           ┆         ┆ EMPRESARIAL   ┆      ┆   ┆         ┆            ┆            ┆             │\n",
       "└───────────┴─────────┴───────────────┴──────┴───┴─────────┴────────────┴────────────┴─────────────┘"
      ]
     },
     "execution_count": 13,
     "metadata": {},
     "output_type": "execute_result"
    }
   ],
   "source": [
    "curva_recup = curva_recup.with_columns([\n",
    "    pl.col(\"Fecha_Registro\").dt.year().alias(\"Anio_REG_RECUP\"),\n",
    "    pl.col(\"Fecha_Registro\").dt.month().alias(\"Mes_REG_RECUP\")\n",
    "])\n",
    "\n",
    "# Agrupar y sumar\n",
    "# RECUP_AGRUP_202504_inter\n",
    "recup_agrup_inter = (\n",
    "    curva_recup\n",
    "    .group_by([\n",
    "        \"IND_ENTRA\", \"MM_UDIS\", \"Producto\", \"NR_R\", \"LLAVE_FINAL\", \"TPRO_CLAVE\",\n",
    "        \"Razón Social (Intermediario)\", \"CSG\", \"CSF\", \"AGRUPAMIENTO\", \"AGRUPAMIENTO_ID\",\n",
    "        \"Intermediario_Id\", \"CICLOS_RESCAT\", \"DIFERENCIAS_MESES\", \"Tipo_Garantia_Id\",\n",
    "        \"ANIO_PAGO\", \"REEST\", \"Anio_REG_RECUP\", \"ESQUEMA\", \"ORDEN_PAGO\"\n",
    "    ])\n",
    "    .agg([\n",
    "        pl.col(\"MRECUP_TOT(MDP)\").sum().alias(\"MRECUP_TOT\"),\n",
    "        pl.col(\"MRESCAT_TOT(MDP)\").sum().alias(\"MRESCAT_TOT\")\n",
    "    ])\n",
    "    .rename({\n",
    "        \"Producto\": \"TAXONOMIA\",\n",
    "        \"Tipo_Garantia_Id\": \"TIPGAR_CLAVE\",\n",
    "        \"ANIO_PAGO\": \"ANIO(PAGO)\",\n",
    "        \"Razón Social (Intermediario)\": \"BANCO\"\n",
    "    })\n",
    ")\n",
    "recup_agrup_inter"
   ]
  },
  {
   "cell_type": "code",
   "execution_count": 14,
   "id": "19829e41",
   "metadata": {},
   "outputs": [
    {
     "data": {
      "text/html": [
       "<div><style>\n",
       ".dataframe > thead > tr,\n",
       ".dataframe > tbody > tr {\n",
       "  text-align: right;\n",
       "  white-space: pre-wrap;\n",
       "}\n",
       "</style>\n",
       "<small>shape: (239_579, 23)</small><table border=\"1\" class=\"dataframe\"><thead><tr><th>IND_ENTRA</th><th>MM_UDIS</th><th>TAXONOMIA</th><th>NR_R</th><th>LLAVE_FINAL</th><th>TPRO_CLAVE</th><th>BANCO</th><th>CSG</th><th>CSF</th><th>AGRUPAMIENTO</th><th>AGRUPAMIENTO_ID</th><th>Intermediario_Id</th><th>CICLOS_RESCAT</th><th>DIFERENCIAS_MESES</th><th>TIPGAR_CLAVE</th><th>ANIO(PAGO)</th><th>REEST</th><th>Anio_REG_RECUP</th><th>Mes_REG_RECUP</th><th>ESQUEMA</th><th>ORDEN_PAGO</th><th>MRECUP_TOT</th><th>MRESCAT_TOT</th></tr><tr><td>i32</td><td>i32</td><td>str</td><td>str</td><td>str</td><td>i32</td><td>str</td><td>str</td><td>str</td><td>str</td><td>f64</td><td>str</td><td>i32</td><td>i32</td><td>i32</td><td>i32</td><td>str</td><td>i32</td><td>i8</td><td>str</td><td>i32</td><td>f64</td><td>f64</td></tr></thead><tbody><tr><td>1</td><td>0</td><td>&quot;GARANTIA EMPRESARIAL&quot;</td><td>&quot;NR&quot;</td><td>null</td><td>35660</td><td>&quot;HSBC MEXICO&quot;</td><td>&quot;SG&quot;</td><td>&quot;CF&quot;</td><td>&quot;PYME Negocios&quot;</td><td>2080.0</td><td>&quot;10000171&quot;</td><td>1</td><td>56</td><td>4</td><td>2019</td><td>&quot;NE&quot;</td><td>2024</td><td>5</td><td>&quot;PP&quot;</td><td>201904</td><td>0.0</td><td>0.0</td></tr><tr><td>1</td><td>0</td><td>&quot;GARANTIA EMPRESARIAL&quot;</td><td>&quot;NR&quot;</td><td>&quot;CREDITO SIMPLE&quot;</td><td>35321</td><td>&quot;BBV BANCOMER&quot;</td><td>&quot;SG&quot;</td><td>&quot;CF&quot;</td><td>&quot;PyMe&quot;</td><td>1690.0</td><td>&quot;10040012&quot;</td><td>1</td><td>30</td><td>4</td><td>2018</td><td>&quot;NE&quot;</td><td>2020</td><td>12</td><td>&quot;PP&quot;</td><td>201806</td><td>0.0</td><td>0.0</td></tr><tr><td>1</td><td>0</td><td>&quot;GARANTIA SECTORIAL&quot;</td><td>&quot;NR&quot;</td><td>null</td><td>36535</td><td>&quot;BANCO SANTANDER&quot;</td><td>&quot;SG&quot;</td><td>&quot;CF&quot;</td><td>&quot;Mujer PYME&quot;</td><td>1645.0</td><td>&quot;10000144&quot;</td><td>1</td><td>39</td><td>4</td><td>2019</td><td>&quot;NE&quot;</td><td>2022</td><td>10</td><td>&quot;PP&quot;</td><td>201907</td><td>0.0</td><td>0.0</td></tr><tr><td>1</td><td>0</td><td>&quot;GARANTIAS BANCOMEXT&quot;</td><td>&quot;NR&quot;</td><td>null</td><td>39620</td><td>&quot;BANCOMEXTBANAMEX&quot;</td><td>&quot;SG&quot;</td><td>&quot;CF&quot;</td><td>&quot;Bancomext&quot;</td><td>1225.0</td><td>&quot;468297752&quot;</td><td>1</td><td>22</td><td>5</td><td>2020</td><td>&quot;NE&quot;</td><td>2022</td><td>8</td><td>&quot;PP&quot;</td><td>202010</td><td>0.0</td><td>0.0</td></tr><tr><td>1</td><td>0</td><td>&quot;GARANTIA EMPRESARIAL&quot;</td><td>&quot;NR&quot;</td><td>&quot;CREDITO PYME&quot;</td><td>35115</td><td>&quot;BANCO SANTANDER&quot;</td><td>&quot;SG&quot;</td><td>&quot;CF&quot;</td><td>&quot;PyMe&quot;</td><td>1690.0</td><td>&quot;10000144&quot;</td><td>1</td><td>12</td><td>4</td><td>2015</td><td>&quot;NE&quot;</td><td>2016</td><td>2</td><td>&quot;PP&quot;</td><td>201502</td><td>0.0</td><td>0.0</td></tr><tr><td>&hellip;</td><td>&hellip;</td><td>&hellip;</td><td>&hellip;</td><td>&hellip;</td><td>&hellip;</td><td>&hellip;</td><td>&hellip;</td><td>&hellip;</td><td>&hellip;</td><td>&hellip;</td><td>&hellip;</td><td>&hellip;</td><td>&hellip;</td><td>&hellip;</td><td>&hellip;</td><td>&hellip;</td><td>&hellip;</td><td>&hellip;</td><td>&hellip;</td><td>&hellip;</td><td>&hellip;</td><td>&hellip;</td></tr><tr><td>1</td><td>0</td><td>&quot;GARANTIA EMPRESARIAL&quot;</td><td>&quot;NR&quot;</td><td>&quot;CREDITO PYME&quot;</td><td>35201</td><td>&quot;BANCO SANTANDER&quot;</td><td>&quot;SG&quot;</td><td>&quot;CF&quot;</td><td>&quot;PyMe&quot;</td><td>1690.0</td><td>&quot;10000144&quot;</td><td>1</td><td>5</td><td>4</td><td>2017</td><td>&quot;NE&quot;</td><td>2017</td><td>12</td><td>&quot;PP&quot;</td><td>201707</td><td>0.0</td><td>0.0</td></tr><tr><td>1</td><td>0</td><td>&quot;GARANTIA SECTORIAL&quot;</td><td>&quot;NR&quot;</td><td>null</td><td>37066</td><td>&quot;BANCO SANTANDER&quot;</td><td>&quot;SG&quot;</td><td>&quot;CF&quot;</td><td>&quot;Impulso Económico&quot;</td><td>1575.0</td><td>&quot;10000144&quot;</td><td>1</td><td>17</td><td>4</td><td>2020</td><td>&quot;NE&quot;</td><td>2022</td><td>3</td><td>&quot;PP&quot;</td><td>202010</td><td>0.0</td><td>0.0</td></tr><tr><td>1</td><td>0</td><td>&quot;GARANTIA EMPRESARIAL&quot;</td><td>&quot;R&quot;</td><td>&quot;CREDITO LIQUIDO&quot;</td><td>3198</td><td>&quot;BBV BANCOMER&quot;</td><td>&quot;SG&quot;</td><td>&quot;CF&quot;</td><td>&quot;Paraguas&quot;</td><td>1545.0</td><td>&quot;10040012&quot;</td><td>1</td><td>11</td><td>4</td><td>2011</td><td>&quot;NE&quot;</td><td>2012</td><td>8</td><td>&quot;PP&quot;</td><td>201108</td><td>0.0</td><td>0.0</td></tr><tr><td>1</td><td>0</td><td>&quot;GARANTIA SUBASTA&quot;</td><td>&quot;NR&quot;</td><td>&quot;CREDITO SIMPLE TASA TOPE&quot;</td><td>31312</td><td>&quot;BANCO SANTANDER&quot;</td><td>&quot;SG&quot;</td><td>&quot;CF&quot;</td><td>&quot;Subasta Octubre 2011&quot;</td><td>1890.0</td><td>&quot;10000144&quot;</td><td>1</td><td>2</td><td>4</td><td>2014</td><td>&quot;NE&quot;</td><td>2014</td><td>5</td><td>&quot;1P&quot;</td><td>201403</td><td>0.0</td><td>0.0</td></tr><tr><td>1</td><td>0</td><td>&quot;GARANTIA EMPRESARIAL&quot;</td><td>&quot;NR&quot;</td><td>null</td><td>35710</td><td>&quot;BANAMEX&quot;</td><td>&quot;SG&quot;</td><td>&quot;CF&quot;</td><td>&quot;PyMe&quot;</td><td>1690.0</td><td>&quot;10000233&quot;</td><td>1</td><td>13</td><td>5</td><td>2020</td><td>&quot;NE&quot;</td><td>2021</td><td>4</td><td>&quot;PP&quot;</td><td>202003</td><td>0.0</td><td>0.0</td></tr></tbody></table></div>"
      ],
      "text/plain": [
       "shape: (239_579, 23)\n",
       "┌───────────┬─────────┬───────────────┬──────┬───┬─────────┬────────────┬────────────┬─────────────┐\n",
       "│ IND_ENTRA ┆ MM_UDIS ┆ TAXONOMIA     ┆ NR_R ┆ … ┆ ESQUEMA ┆ ORDEN_PAGO ┆ MRECUP_TOT ┆ MRESCAT_TOT │\n",
       "│ ---       ┆ ---     ┆ ---           ┆ ---  ┆   ┆ ---     ┆ ---        ┆ ---        ┆ ---         │\n",
       "│ i32       ┆ i32     ┆ str           ┆ str  ┆   ┆ str     ┆ i32        ┆ f64        ┆ f64         │\n",
       "╞═══════════╪═════════╪═══════════════╪══════╪═══╪═════════╪════════════╪════════════╪═════════════╡\n",
       "│ 1         ┆ 0       ┆ GARANTIA      ┆ NR   ┆ … ┆ PP      ┆ 201904     ┆ 0.0        ┆ 0.0         │\n",
       "│           ┆         ┆ EMPRESARIAL   ┆      ┆   ┆         ┆            ┆            ┆             │\n",
       "│ 1         ┆ 0       ┆ GARANTIA      ┆ NR   ┆ … ┆ PP      ┆ 201806     ┆ 0.0        ┆ 0.0         │\n",
       "│           ┆         ┆ EMPRESARIAL   ┆      ┆   ┆         ┆            ┆            ┆             │\n",
       "│ 1         ┆ 0       ┆ GARANTIA      ┆ NR   ┆ … ┆ PP      ┆ 201907     ┆ 0.0        ┆ 0.0         │\n",
       "│           ┆         ┆ SECTORIAL     ┆      ┆   ┆         ┆            ┆            ┆             │\n",
       "│ 1         ┆ 0       ┆ GARANTIAS     ┆ NR   ┆ … ┆ PP      ┆ 202010     ┆ 0.0        ┆ 0.0         │\n",
       "│           ┆         ┆ BANCOMEXT     ┆      ┆   ┆         ┆            ┆            ┆             │\n",
       "│ 1         ┆ 0       ┆ GARANTIA      ┆ NR   ┆ … ┆ PP      ┆ 201502     ┆ 0.0        ┆ 0.0         │\n",
       "│           ┆         ┆ EMPRESARIAL   ┆      ┆   ┆         ┆            ┆            ┆             │\n",
       "│ …         ┆ …       ┆ …             ┆ …    ┆ … ┆ …       ┆ …          ┆ …          ┆ …           │\n",
       "│ 1         ┆ 0       ┆ GARANTIA      ┆ NR   ┆ … ┆ PP      ┆ 201707     ┆ 0.0        ┆ 0.0         │\n",
       "│           ┆         ┆ EMPRESARIAL   ┆      ┆   ┆         ┆            ┆            ┆             │\n",
       "│ 1         ┆ 0       ┆ GARANTIA      ┆ NR   ┆ … ┆ PP      ┆ 202010     ┆ 0.0        ┆ 0.0         │\n",
       "│           ┆         ┆ SECTORIAL     ┆      ┆   ┆         ┆            ┆            ┆             │\n",
       "│ 1         ┆ 0       ┆ GARANTIA      ┆ R    ┆ … ┆ PP      ┆ 201108     ┆ 0.0        ┆ 0.0         │\n",
       "│           ┆         ┆ EMPRESARIAL   ┆      ┆   ┆         ┆            ┆            ┆             │\n",
       "│ 1         ┆ 0       ┆ GARANTIA      ┆ NR   ┆ … ┆ 1P      ┆ 201403     ┆ 0.0        ┆ 0.0         │\n",
       "│           ┆         ┆ SUBASTA       ┆      ┆   ┆         ┆            ┆            ┆             │\n",
       "│ 1         ┆ 0       ┆ GARANTIA      ┆ NR   ┆ … ┆ PP      ┆ 202003     ┆ 0.0        ┆ 0.0         │\n",
       "│           ┆         ┆ EMPRESARIAL   ┆      ┆   ┆         ┆            ┆            ┆             │\n",
       "└───────────┴─────────┴───────────────┴──────┴───┴─────────┴────────────┴────────────┴─────────────┘"
      ]
     },
     "execution_count": 14,
     "metadata": {},
     "output_type": "execute_result"
    }
   ],
   "source": [
    "# Agrupar y agregar\n",
    "# RECUP_AGRUP_202504_inter_Mes\n",
    "recup_agrup_inter_mes = (\n",
    "    curva_recup\n",
    "    .group_by([\n",
    "        \"IND_ENTRA\", \"MM_UDIS\", \"Producto\", \"NR_R\", \"LLAVE_FINAL\", \"TPRO_CLAVE\",\n",
    "        \"Razón Social (Intermediario)\", \"CSG\", \"CSF\", \"AGRUPAMIENTO\", \"AGRUPAMIENTO_ID\",\n",
    "        \"Intermediario_Id\", \"CICLOS_RESCAT\", \"DIFERENCIAS_MESES\", \"Tipo_Garantia_Id\",\n",
    "        \"ANIO_PAGO\", \"REEST\", \"Anio_REG_RECUP\", \"Mes_REG_RECUP\", \"ESQUEMA\", \"ORDEN_PAGO\"\n",
    "    ])\n",
    "    .agg([\n",
    "        pl.col(\"MRECUP_TOT(MDP)\").sum().alias(\"MRECUP_TOT\"),\n",
    "        pl.col(\"MRESCAT_TOT(MDP)\").sum().alias(\"MRESCAT_TOT\")\n",
    "    ])\n",
    "    .rename({\n",
    "        \"Producto\": \"TAXONOMIA\",\n",
    "        \"Tipo_Garantia_Id\": \"TIPGAR_CLAVE\",\n",
    "        \"ANIO_PAGO\": \"ANIO(PAGO)\",\n",
    "        \"Razón Social (Intermediario)\": \"BANCO\"\n",
    "    })\n",
    ")\n",
    "recup_agrup_inter_mes"
   ]
  },
  {
   "cell_type": "code",
   "execution_count": null,
   "id": "d589142c",
   "metadata": {},
   "outputs": [],
   "source": [
    "# RECUP_AGRUP_202504_Completa\n",
    "recup_agrup_inter_completa = recup_agrup_inter.with_columns([\n",
    "    pl.when(pl.col(\"ESQUEMA\") == \"PP\")\n",
    "      .then(pl.lit(\"Pari Passu\"))\n",
    "      .when(pl.col(\"ESQUEMA\").is_null())\n",
    "      .then(pl.lit(\"Pari Passu\"))\n",
    "      .otherwise(pl.lit(\"1P\"))\n",
    "      .alias(\"ESQUEMA_VF\"),\n",
    "\n",
    "    pl.when(pl.col(\"ANIO(PAGO)\") <= 2006)\n",
    "      .then(2006)\n",
    "      .otherwise(pl.col(\"ANIO(PAGO)\"))\n",
    "      .alias(\"ANIO(PAGO)_New\")\n",
    "])"
   ]
  },
  {
   "cell_type": "code",
   "execution_count": 16,
   "id": "afa83f42",
   "metadata": {},
   "outputs": [],
   "source": [
    "# RECUP_AGRUP_202504_Completa_Mes\n",
    "recup_agrup_inter_mes = recup_agrup_inter_mes.with_columns([\n",
    "    pl.when(pl.col(\"ESQUEMA\") == \"PP\")\n",
    "      .then(pl.lit(\"Pari Passu\"))\n",
    "      .when(pl.col(\"ESQUEMA\").is_null())\n",
    "      .then(pl.lit(\"Pari Passu\"))\n",
    "      .otherwise(pl.lit(\"1P\"))\n",
    "      .alias(\"ESQUEMA_VF\"),\n",
    "\n",
    "    pl.when(pl.col(\"ANIO(PAGO)\") <= 2006)\n",
    "      .then(2006)\n",
    "      .otherwise(pl.col(\"ANIO(PAGO)\"))\n",
    "      .alias(\"ANIO(PAGO)_New\")\n",
    "])"
   ]
  },
  {
   "cell_type": "code",
   "execution_count": null,
   "id": "7c8e99af",
   "metadata": {},
   "outputs": [
    {
     "data": {
      "text/html": [
       "<div><style>\n",
       ".dataframe > thead > tr,\n",
       ".dataframe > tbody > tr {\n",
       "  text-align: right;\n",
       "  white-space: pre-wrap;\n",
       "}\n",
       "</style>\n",
       "<small>shape: (232_837, 22)</small><table border=\"1\" class=\"dataframe\"><thead><tr><th>IND_ENTRA</th><th>MM_UDIS</th><th>TAXONOMIA</th><th>NR_R</th><th>BANCO</th><th>CSG</th><th>CSF</th><th>AGRUPAMIENTO</th><th>AGRUPAMIENTO_ID</th><th>CICLOS_RESCAT</th><th>DIFERENCIAS_MESES</th><th>TIPGAR_CLAVE</th><th>ANIO(PAGO)</th><th>REEST</th><th>MRECUP_TOT</th><th>MRESCAT_TOT</th><th>Anio_REG_RECUP</th><th>ESQUEMA</th><th>ANIO(PAGO)_New</th><th>Intermediario_Id</th><th>TPRO_CLAVE</th><th>ORDEN_PAGO</th></tr><tr><td>i32</td><td>i32</td><td>str</td><td>str</td><td>str</td><td>str</td><td>str</td><td>str</td><td>f64</td><td>i32</td><td>i32</td><td>i32</td><td>i32</td><td>str</td><td>f64</td><td>f64</td><td>i32</td><td>str</td><td>i32</td><td>str</td><td>i32</td><td>i32</td></tr></thead><tbody><tr><td>1</td><td>0</td><td>&quot;GARANTIA EMPRESARIAL&quot;</td><td>&quot;R&quot;</td><td>&quot;BANCO MERCANTIL DEL NORTE&quot;</td><td>&quot;SG&quot;</td><td>&quot;CF&quot;</td><td>&quot;Crediactivo Diana&quot;</td><td>1275.0</td><td>1</td><td>27</td><td>5</td><td>2012</td><td>&quot;NE&quot;</td><td>0.0</td><td>0.0</td><td>2015</td><td>&quot;Pari Passu&quot;</td><td>2012</td><td>&quot;10040072&quot;</td><td>31028</td><td>201212</td></tr><tr><td>1</td><td>0</td><td>&quot;GARANTIA EMPRESARIAL&quot;</td><td>&quot;R&quot;</td><td>&quot;HSBC MEXICO&quot;</td><td>&quot;SG&quot;</td><td>&quot;SF&quot;</td><td>&quot;Montos Menores Self Employ&quot;</td><td>1635.0</td><td>1</td><td>150</td><td>5</td><td>2011</td><td>&quot;NE&quot;</td><td>0.0</td><td>0.0</td><td>2024</td><td>&quot;Pari Passu&quot;</td><td>2011</td><td>&quot;10000171&quot;</td><td>3851</td><td>201106</td></tr><tr><td>1</td><td>0</td><td>&quot;GARANTIA SUBASTA&quot;</td><td>&quot;R&quot;</td><td>&quot;BANAMEX&quot;</td><td>&quot;SG&quot;</td><td>&quot;CF&quot;</td><td>&quot;Subasta Extraordinaria&quot;</td><td>1750.0</td><td>1</td><td>44</td><td>5</td><td>2011</td><td>&quot;NE&quot;</td><td>0.0</td><td>0.0</td><td>2014</td><td>&quot;1P&quot;</td><td>2011</td><td>&quot;10000233&quot;</td><td>3338</td><td>201104</td></tr><tr><td>1</td><td>0</td><td>&quot;GARANTIA EMPRESARIAL&quot;</td><td>&quot;R&quot;</td><td>&quot;BANAMEX&quot;</td><td>&quot;SG&quot;</td><td>&quot;CF&quot;</td><td>&quot;PyMe&quot;</td><td>1690.0</td><td>1</td><td>41</td><td>5</td><td>2019</td><td>&quot;NE&quot;</td><td>0.0</td><td>0.0</td><td>2022</td><td>&quot;Pari Passu&quot;</td><td>2019</td><td>&quot;10000233&quot;</td><td>35709</td><td>201905</td></tr><tr><td>1</td><td>0</td><td>&quot;GARANTIA EMPRESARIAL&quot;</td><td>&quot;NR&quot;</td><td>&quot;BANCO SANTANDER&quot;</td><td>&quot;SG&quot;</td><td>&quot;CF&quot;</td><td>&quot;PyMe&quot;</td><td>1690.0</td><td>1</td><td>5</td><td>4</td><td>2015</td><td>&quot;NE&quot;</td><td>0.0</td><td>0.0</td><td>2016</td><td>&quot;Pari Passu&quot;</td><td>2015</td><td>&quot;10000144&quot;</td><td>35175</td><td>201508</td></tr><tr><td>&hellip;</td><td>&hellip;</td><td>&hellip;</td><td>&hellip;</td><td>&hellip;</td><td>&hellip;</td><td>&hellip;</td><td>&hellip;</td><td>&hellip;</td><td>&hellip;</td><td>&hellip;</td><td>&hellip;</td><td>&hellip;</td><td>&hellip;</td><td>&hellip;</td><td>&hellip;</td><td>&hellip;</td><td>&hellip;</td><td>&hellip;</td><td>&hellip;</td><td>&hellip;</td><td>&hellip;</td></tr><tr><td>1</td><td>0</td><td>&quot;GARANTIA EMERGENTES&quot;</td><td>&quot;NR&quot;</td><td>&quot;BANCO SANTANDER&quot;</td><td>&quot;SG&quot;</td><td>&quot;CF&quot;</td><td>&quot;Emergente Contingencia Sanitar…</td><td>1390.0</td><td>1</td><td>48</td><td>4</td><td>2011</td><td>&quot;NE&quot;</td><td>0.0</td><td>0.0</td><td>2015</td><td>&quot;Pari Passu&quot;</td><td>2011</td><td>&quot;10000144&quot;</td><td>31015</td><td>201105</td></tr><tr><td>1</td><td>0</td><td>&quot;GARANTIA SECTORIAL&quot;</td><td>&quot;NR&quot;</td><td>&quot;BANCA MIFEL&quot;</td><td>&quot;SG&quot;</td><td>&quot;CF&quot;</td><td>&quot;Taxi DF&quot;</td><td>1930.0</td><td>1</td><td>2</td><td>4</td><td>2011</td><td>&quot;NE&quot;</td><td>0.0</td><td>0.0</td><td>2012</td><td>&quot;Pari Passu&quot;</td><td>2011</td><td>&quot;10000420&quot;</td><td>3268</td><td>201112</td></tr><tr><td>1</td><td>0</td><td>&quot;GARANTIA EMPRESARIAL&quot;</td><td>&quot;R&quot;</td><td>&quot;HSBC MEXICO&quot;</td><td>&quot;SG&quot;</td><td>&quot;CF&quot;</td><td>&quot;Micro Empresa PM&quot;</td><td>1595.0</td><td>1</td><td>2</td><td>5</td><td>2016</td><td>&quot;NE&quot;</td><td>0.0</td><td>0.0</td><td>2017</td><td>&quot;Pari Passu&quot;</td><td>2016</td><td>&quot;10000171&quot;</td><td>32907</td><td>201611</td></tr><tr><td>1</td><td>0</td><td>&quot;GARANTIA SUBASTA&quot;</td><td>&quot;NR&quot;</td><td>&quot;BANAMEX&quot;</td><td>&quot;SG&quot;</td><td>&quot;CF&quot;</td><td>&quot;Subasta Marzo 2015&quot;</td><td>1870.0</td><td>1</td><td>5</td><td>5</td><td>2018</td><td>&quot;NE&quot;</td><td>0.0</td><td>0.0</td><td>2019</td><td>&quot;1P&quot;</td><td>2018</td><td>&quot;10000233&quot;</td><td>33268</td><td>201809</td></tr><tr><td>1</td><td>0</td><td>&quot;GARANTIA EMPRESARIAL&quot;</td><td>&quot;NR&quot;</td><td>&quot;BANCO SANTANDER&quot;</td><td>&quot;SG&quot;</td><td>&quot;CF&quot;</td><td>&quot;PyMe&quot;</td><td>1690.0</td><td>1</td><td>7</td><td>4</td><td>2016</td><td>&quot;NE&quot;</td><td>0.0</td><td>0.0</td><td>2017</td><td>&quot;Pari Passu&quot;</td><td>2016</td><td>&quot;10000144&quot;</td><td>35220</td><td>201606</td></tr></tbody></table></div>"
      ],
      "text/plain": [
       "shape: (232_837, 22)\n",
       "┌───────────┬─────────┬─────────────┬──────┬───┬────────────┬────────────┬────────────┬────────────┐\n",
       "│ IND_ENTRA ┆ MM_UDIS ┆ TAXONOMIA   ┆ NR_R ┆ … ┆ ANIO(PAGO) ┆ Intermedia ┆ TPRO_CLAVE ┆ ORDEN_PAGO │\n",
       "│ ---       ┆ ---     ┆ ---         ┆ ---  ┆   ┆ _New       ┆ rio_Id     ┆ ---        ┆ ---        │\n",
       "│ i32       ┆ i32     ┆ str         ┆ str  ┆   ┆ ---        ┆ ---        ┆ i32        ┆ i32        │\n",
       "│           ┆         ┆             ┆      ┆   ┆ i32        ┆ str        ┆            ┆            │\n",
       "╞═══════════╪═════════╪═════════════╪══════╪═══╪════════════╪════════════╪════════════╪════════════╡\n",
       "│ 1         ┆ 0       ┆ GARANTIA    ┆ R    ┆ … ┆ 2012       ┆ 10040072   ┆ 31028      ┆ 201212     │\n",
       "│           ┆         ┆ EMPRESARIAL ┆      ┆   ┆            ┆            ┆            ┆            │\n",
       "│ 1         ┆ 0       ┆ GARANTIA    ┆ R    ┆ … ┆ 2011       ┆ 10000171   ┆ 3851       ┆ 201106     │\n",
       "│           ┆         ┆ EMPRESARIAL ┆      ┆   ┆            ┆            ┆            ┆            │\n",
       "│ 1         ┆ 0       ┆ GARANTIA    ┆ R    ┆ … ┆ 2011       ┆ 10000233   ┆ 3338       ┆ 201104     │\n",
       "│           ┆         ┆ SUBASTA     ┆      ┆   ┆            ┆            ┆            ┆            │\n",
       "│ 1         ┆ 0       ┆ GARANTIA    ┆ R    ┆ … ┆ 2019       ┆ 10000233   ┆ 35709      ┆ 201905     │\n",
       "│           ┆         ┆ EMPRESARIAL ┆      ┆   ┆            ┆            ┆            ┆            │\n",
       "│ 1         ┆ 0       ┆ GARANTIA    ┆ NR   ┆ … ┆ 2015       ┆ 10000144   ┆ 35175      ┆ 201508     │\n",
       "│           ┆         ┆ EMPRESARIAL ┆      ┆   ┆            ┆            ┆            ┆            │\n",
       "│ …         ┆ …       ┆ …           ┆ …    ┆ … ┆ …          ┆ …          ┆ …          ┆ …          │\n",
       "│ 1         ┆ 0       ┆ GARANTIA    ┆ NR   ┆ … ┆ 2011       ┆ 10000144   ┆ 31015      ┆ 201105     │\n",
       "│           ┆         ┆ EMERGENTES  ┆      ┆   ┆            ┆            ┆            ┆            │\n",
       "│ 1         ┆ 0       ┆ GARANTIA    ┆ NR   ┆ … ┆ 2011       ┆ 10000420   ┆ 3268       ┆ 201112     │\n",
       "│           ┆         ┆ SECTORIAL   ┆      ┆   ┆            ┆            ┆            ┆            │\n",
       "│ 1         ┆ 0       ┆ GARANTIA    ┆ R    ┆ … ┆ 2016       ┆ 10000171   ┆ 32907      ┆ 201611     │\n",
       "│           ┆         ┆ EMPRESARIAL ┆      ┆   ┆            ┆            ┆            ┆            │\n",
       "│ 1         ┆ 0       ┆ GARANTIA    ┆ NR   ┆ … ┆ 2018       ┆ 10000233   ┆ 33268      ┆ 201809     │\n",
       "│           ┆         ┆ SUBASTA     ┆      ┆   ┆            ┆            ┆            ┆            │\n",
       "│ 1         ┆ 0       ┆ GARANTIA    ┆ NR   ┆ … ┆ 2016       ┆ 10000144   ┆ 35220      ┆ 201606     │\n",
       "│           ┆         ┆ EMPRESARIAL ┆      ┆   ┆            ┆            ┆            ┆            │\n",
       "└───────────┴─────────┴─────────────┴──────┴───┴────────────┴────────────┴────────────┴────────────┘"
      ]
     },
     "execution_count": 17,
     "metadata": {},
     "output_type": "execute_result"
    }
   ],
   "source": [
    "# RECUP_AGRUP_202504\n",
    "recup_agrup = recup_agrup_inter_completa.select([\n",
    "    \"IND_ENTRA\",\n",
    "    \"MM_UDIS\",\n",
    "    \"TAXONOMIA\",\n",
    "    \"NR_R\",\n",
    "    \"BANCO\",\n",
    "    \"CSG\",\n",
    "    \"CSF\",\n",
    "    \"AGRUPAMIENTO\",\n",
    "    \"AGRUPAMIENTO_ID\",\n",
    "    \"CICLOS_RESCAT\",\n",
    "    \"DIFERENCIAS_MESES\",\n",
    "    \"TIPGAR_CLAVE\",\n",
    "    \"ANIO(PAGO)\",\n",
    "    \"REEST\",\n",
    "    \"MRECUP_TOT\",\n",
    "    \"MRESCAT_TOT\",\n",
    "    \"Anio_REG_RECUP\",\n",
    "    pl.col(\"ESQUEMA_VF\").alias(\"ESQUEMA\"),\n",
    "    \"ANIO(PAGO)_New\",\n",
    "    \"Intermediario_Id\",\n",
    "    \"TPRO_CLAVE\",\n",
    "    \"ORDEN_PAGO\"\n",
    "])\n",
    "recup_agrup"
   ]
  },
  {
   "cell_type": "code",
   "execution_count": 18,
   "id": "15e46ec8",
   "metadata": {},
   "outputs": [
    {
     "data": {
      "text/html": [
       "<div><style>\n",
       ".dataframe > thead > tr,\n",
       ".dataframe > tbody > tr {\n",
       "  text-align: right;\n",
       "  white-space: pre-wrap;\n",
       "}\n",
       "</style>\n",
       "<small>shape: (513_901, 3)</small><table border=\"1\" class=\"dataframe\"><thead><tr><th>Intermediario_Id</th><th>Numero_Credito</th><th>ULT_PAGO</th></tr><tr><td>str</td><td>str</td><td>i64</td></tr></thead><tbody><tr><td>&quot;465666078&quot;</td><td>&quot;30251539&quot;</td><td>1</td></tr><tr><td>&quot;248156063&quot;</td><td>&quot;180596798&quot;</td><td>1</td></tr><tr><td>&quot;248156063&quot;</td><td>&quot;124999280&quot;</td><td>1</td></tr><tr><td>&quot;10000233&quot;</td><td>&quot;RN88110800019565&quot;</td><td>1</td></tr><tr><td>&quot;248156063&quot;</td><td>&quot;175792219&quot;</td><td>1</td></tr><tr><td>&hellip;</td><td>&hellip;</td><td>&hellip;</td></tr><tr><td>&quot;248156063&quot;</td><td>&quot;200538865&quot;</td><td>1</td></tr><tr><td>&quot;10000171&quot;</td><td>&quot;79332311&quot;</td><td>1</td></tr><tr><td>&quot;248156063&quot;</td><td>&quot;155356602&quot;</td><td>1</td></tr><tr><td>&quot;248156063&quot;</td><td>&quot;141940434&quot;</td><td>1</td></tr><tr><td>&quot;69695696&quot;</td><td>&quot;1526915238494&quot;</td><td>1</td></tr></tbody></table></div>"
      ],
      "text/plain": [
       "shape: (513_901, 3)\n",
       "┌──────────────────┬──────────────────┬──────────┐\n",
       "│ Intermediario_Id ┆ Numero_Credito   ┆ ULT_PAGO │\n",
       "│ ---              ┆ ---              ┆ ---      │\n",
       "│ str              ┆ str              ┆ i64      │\n",
       "╞══════════════════╪══════════════════╪══════════╡\n",
       "│ 465666078        ┆ 30251539         ┆ 1        │\n",
       "│ 248156063        ┆ 180596798        ┆ 1        │\n",
       "│ 248156063        ┆ 124999280        ┆ 1        │\n",
       "│ 10000233         ┆ RN88110800019565 ┆ 1        │\n",
       "│ 248156063        ┆ 175792219        ┆ 1        │\n",
       "│ …                ┆ …                ┆ …        │\n",
       "│ 248156063        ┆ 200538865        ┆ 1        │\n",
       "│ 10000171         ┆ 79332311         ┆ 1        │\n",
       "│ 248156063        ┆ 155356602        ┆ 1        │\n",
       "│ 248156063        ┆ 141940434        ┆ 1        │\n",
       "│ 69695696         ┆ 1526915238494    ┆ 1        │\n",
       "└──────────────────┴──────────────────┴──────────┘"
      ]
     },
     "execution_count": 18,
     "metadata": {},
     "output_type": "execute_result"
    }
   ],
   "source": [
    "# TABLA_ULT_PAGO\n",
    "ult_pago = (\n",
    "    pagadas_con_llave.group_by([\"Intermediario_Id\", \"Numero_Credito\"])\n",
    "      .agg(pl.col(\"Pago ID\").max().alias(\"ULT_PAGO\"))\n",
    ")\n",
    "ult_pago\n"
   ]
  },
  {
   "cell_type": "code",
   "execution_count": 19,
   "id": "2d9e7b6b",
   "metadata": {},
   "outputs": [],
   "source": [
    "# RECUP_PREVIO_202504_cUP\n",
    "def gen_recup_previo_cup(pagadas_con_llave, ult_pago):\n",
    "    df_joined = pagadas_con_llave.join(\n",
    "        ult_pago,\n",
    "        on=[\"Intermediario_Id\", \"Numero_Credito\"],\n",
    "        how=\"left\"\n",
    "    )\n",
    "\n",
    "    # Filtrar donde 'Pago ID' == 'ULT_PAGO' y ULT_PAGO no es null\n",
    "    df_result = (\n",
    "        df_joined.filter(\n",
    "            (pl.col(\"Pago ID\") == pl.col(\"ULT_PAGO\")) &\n",
    "            (pl.col(\"ULT_PAGO\").is_not_null())\n",
    "        )\n",
    "    )\n",
    "    return df_result\n",
    "recup_previo_cup = gen_recup_previo_cup(pagadas_con_llave, ult_pago)"
   ]
  },
  {
   "cell_type": "code",
   "execution_count": 20,
   "id": "2cb2e4ba",
   "metadata": {},
   "outputs": [],
   "source": [
    "# PAGADAS_PREVIO_202504\n",
    "pagadas_previo = (\n",
    "    recup_previo_cup.with_columns([\n",
    "        (pl.col(\"Monto_Pagado_Mn\").fill_null(0) / 1_000_000).alias(\"MPAGADO (MDP)\"),\n",
    "        pl.col(\"Fecha_Garantia_Honrada\").dt.year().alias(\"ANIO_PAGO\"),\n",
    "        (\n",
    "            pl.col(\"Fecha_Garantia_Honrada\").dt.year() * 100 +\n",
    "            pl.col(\"Fecha_Garantia_Honrada\").dt.month()\n",
    "        ).alias(\"ORDEN_PAGO\"),\n",
    "        (pl.col(\"Numero_Credito\").cast(str) + pl.col(\"Intermediario_Id\").cast(str)).alias(\"CONCATENAR_SALDOS\")\n",
    "    ])\n",
    ")\n"
   ]
  },
  {
   "cell_type": "markdown",
   "id": "3f6b4ef0",
   "metadata": {},
   "source": [
    "#### Parte 3"
   ]
  },
  {
   "cell_type": "code",
   "execution_count": 21,
   "id": "c1983e93",
   "metadata": {},
   "outputs": [
    {
     "data": {
      "text/plain": [
       "(513901, 47)"
      ]
     },
     "execution_count": 21,
     "metadata": {},
     "output_type": "execute_result"
    }
   ],
   "source": [
    "# PAGADAS_DETALLE_VF_202504\n",
    "pagadas_detalle_vf = pagadas_previo.join(\n",
    "    ciclos_rescate.select([\"CONCATENAR_SALDOS\", \"CICLOS_RESCAT\"]),\n",
    "    on=\"CONCATENAR_SALDOS\",\n",
    "    how=\"left\"\n",
    ")\n",
    "pagadas_detalle_vf.shape"
   ]
  },
  {
   "cell_type": "code",
   "execution_count": 22,
   "id": "5362d228",
   "metadata": {},
   "outputs": [
    {
     "data": {
      "text/plain": [
       "(51650, 17)"
      ]
     },
     "execution_count": 22,
     "metadata": {},
     "output_type": "execute_result"
    }
   ],
   "source": [
    "#PAGADAS_AGRUP_202504_inter\n",
    "pagadas_agrup_inter = (\n",
    "    pagadas_detalle_vf.group_by([\n",
    "        \"MM_UDIS\", \"Producto\", \"NR_R\", \"LLAVE_FINAL\", \"TPRO_CLAVE\",\n",
    "        \"Razón Social (Intermediario)\", \"CSG\", \"CSF\", \"AGRUPAMIENTO\",\n",
    "        \"AGRUPAMIENTO_ID\", \"Intermediario_Id\", \"CICLOS_RESCAT\",\n",
    "        \"Tipo_Garantia_Id\", \"ANIO_PAGO\", \"ESQUEMA\", \"ORDEN_PAGO\"\n",
    "    ])\n",
    "    .agg([\n",
    "        pl.col(\"MPAGADO (MDP)\").sum().alias(\"MPAGADO\")\n",
    "    ])\n",
    "    .rename({\n",
    "        \"Producto\": \"TAXONOMIA\",\n",
    "        \"Razón Social (Intermediario)\": \"BANCO\",\n",
    "        \"Tipo_Garantia_Id\": \"TIPGAR_CLAVE\",\n",
    "        \"ANIO_PAGO\": \"ANIO(PAGO)\"\n",
    "    })\n",
    ")\n",
    "pagadas_agrup_inter.shape"
   ]
  },
  {
   "cell_type": "code",
   "execution_count": 23,
   "id": "082f7741",
   "metadata": {},
   "outputs": [
    {
     "data": {
      "text/html": [
       "<div><style>\n",
       ".dataframe > thead > tr,\n",
       ".dataframe > tbody > tr {\n",
       "  text-align: right;\n",
       "  white-space: pre-wrap;\n",
       "}\n",
       "</style>\n",
       "<small>shape: (51_650, 20)</small><table border=\"1\" class=\"dataframe\"><thead><tr><th>MM_UDIS</th><th>TAXONOMIA</th><th>NR_R</th><th>LLAVE_FINAL</th><th>TPRO_CLAVE</th><th>BANCO</th><th>CSG</th><th>CSF</th><th>AGRUPAMIENTO</th><th>AGRUPAMIENTO_ID</th><th>Intermediario_Id</th><th>CICLOS_RESCAT</th><th>TIPGAR_CLAVE</th><th>ANIO(PAGO)</th><th>ESQUEMA</th><th>ORDEN_PAGO</th><th>MPAGADO</th><th>CICLOS_RESCAT_VF</th><th>ESQUEMA_VF</th><th>ANIO(PAGO)_New</th></tr><tr><td>i32</td><td>str</td><td>str</td><td>str</td><td>i32</td><td>str</td><td>str</td><td>str</td><td>str</td><td>f64</td><td>str</td><td>i32</td><td>i16</td><td>i32</td><td>str</td><td>i32</td><td>f64</td><td>i32</td><td>str</td><td>i32</td></tr></thead><tbody><tr><td>0</td><td>&quot;GARANTIA SECTORIAL&quot;</td><td>&quot;NR&quot;</td><td>null</td><td>320132</td><td>&quot;BANAMEX&quot;</td><td>&quot;SG&quot;</td><td>&quot;CF&quot;</td><td>&quot;Mujer Crezcamos Juntas&quot;</td><td>2045.0</td><td>&quot;10000233&quot;</td><td>1</td><td>5</td><td>2022</td><td>&quot;PP&quot;</td><td>202202</td><td>-0.159818</td><td>1</td><td>&quot;Pari Passu&quot;</td><td>2022</td></tr><tr><td>0</td><td>&quot;GARANTIA EMPRESARIAL&quot;</td><td>&quot;NR&quot;</td><td>&quot;CREDITO PYME&quot;</td><td>31759</td><td>&quot;BANCO SANTANDER&quot;</td><td>&quot;SG&quot;</td><td>&quot;CF&quot;</td><td>&quot;PyMe&quot;</td><td>1690.0</td><td>&quot;10000144&quot;</td><td>1</td><td>4</td><td>2015</td><td>&quot;PP&quot;</td><td>201506</td><td>-0.038288</td><td>1</td><td>&quot;Pari Passu&quot;</td><td>2015</td></tr><tr><td>0</td><td>&quot;GARANTIA SECTORIAL&quot;</td><td>&quot;NR&quot;</td><td>null</td><td>320512</td><td>&quot;BANCO SANTANDER&quot;</td><td>&quot;SG&quot;</td><td>&quot;CF&quot;</td><td>&quot;Impulso NAFIN&quot;</td><td>2195.0</td><td>&quot;10000144&quot;</td><td>null</td><td>4</td><td>2024</td><td>&quot;PP&quot;</td><td>202402</td><td>-0.020209</td><td>1</td><td>&quot;Pari Passu&quot;</td><td>2024</td></tr><tr><td>0</td><td>&quot;GARANTIA EMPRESARIAL&quot;</td><td>&quot;NR&quot;</td><td>null</td><td>35606</td><td>&quot;BANCO SANTANDER&quot;</td><td>&quot;SG&quot;</td><td>&quot;CF&quot;</td><td>&quot;PyMe&quot;</td><td>1690.0</td><td>&quot;10000144&quot;</td><td>1</td><td>4</td><td>2019</td><td>&quot;PP&quot;</td><td>201906</td><td>-0.594916</td><td>1</td><td>&quot;Pari Passu&quot;</td><td>2019</td></tr><tr><td>0</td><td>&quot;GARANTIA EMPRESARIAL&quot;</td><td>&quot;NR&quot;</td><td>&quot;CREDITO SIMPLE&quot;</td><td>35005</td><td>&quot;BBV BANCOMER&quot;</td><td>&quot;SG&quot;</td><td>&quot;CF&quot;</td><td>&quot;PyMe&quot;</td><td>1690.0</td><td>&quot;10040012&quot;</td><td>1</td><td>4</td><td>2015</td><td>&quot;PP&quot;</td><td>201511</td><td>-0.146386</td><td>1</td><td>&quot;Pari Passu&quot;</td><td>2015</td></tr><tr><td>&hellip;</td><td>&hellip;</td><td>&hellip;</td><td>&hellip;</td><td>&hellip;</td><td>&hellip;</td><td>&hellip;</td><td>&hellip;</td><td>&hellip;</td><td>&hellip;</td><td>&hellip;</td><td>&hellip;</td><td>&hellip;</td><td>&hellip;</td><td>&hellip;</td><td>&hellip;</td><td>&hellip;</td><td>&hellip;</td><td>&hellip;</td><td>&hellip;</td></tr><tr><td>0</td><td>&quot;GARANTIA SECTORIAL&quot;</td><td>&quot;NR&quot;</td><td>null</td><td>33760</td><td>&quot;BANCO MERCANTIL DEL NORTE&quot;</td><td>&quot;SG&quot;</td><td>&quot;CF&quot;</td><td>&quot;ZEE&quot;</td><td>2050.0</td><td>&quot;10040072&quot;</td><td>null</td><td>4</td><td>2018</td><td>&quot;PP&quot;</td><td>201803</td><td>-0.500346</td><td>1</td><td>&quot;Pari Passu&quot;</td><td>2018</td></tr><tr><td>0</td><td>&quot;GARANTIA EMPRESARIAL&quot;</td><td>&quot;R&quot;</td><td>null</td><td>310020</td><td>&quot;BANCO REGIONAL DE MONTERREY&quot;</td><td>&quot;SG&quot;</td><td>&quot;SF&quot;</td><td>&quot;Producto NAFIN&quot;</td><td>10000.0</td><td>&quot;10040058&quot;</td><td>null</td><td>4</td><td>2022</td><td>&quot;PP&quot;</td><td>202202</td><td>-1.270542</td><td>1</td><td>&quot;Pari Passu&quot;</td><td>2022</td></tr><tr><td>1</td><td>&quot;GARANTIA EMPRESARIAL&quot;</td><td>&quot;NR&quot;</td><td>null</td><td>310163</td><td>&quot;BBV BANCOMER&quot;</td><td>&quot;SG&quot;</td><td>&quot;SF&quot;</td><td>&quot;Producto NAFIN&quot;</td><td>10000.0</td><td>&quot;10040012&quot;</td><td>null</td><td>4</td><td>2025</td><td>&quot;PP&quot;</td><td>202503</td><td>-8.545175</td><td>1</td><td>&quot;Pari Passu&quot;</td><td>2025</td></tr><tr><td>0</td><td>&quot;GARANTIA EMPRESARIAL&quot;</td><td>&quot;R&quot;</td><td>&quot;CREDITO COMERCIAL&quot;</td><td>32866</td><td>&quot;BANCA AFIRME&quot;</td><td>&quot;SG&quot;</td><td>&quot;CF&quot;</td><td>&quot;Credito Comercial Micro&quot;</td><td>1990.0</td><td>&quot;10040062&quot;</td><td>1</td><td>4</td><td>2017</td><td>&quot;PP&quot;</td><td>201708</td><td>-0.25814</td><td>1</td><td>&quot;Pari Passu&quot;</td><td>2017</td></tr><tr><td>0</td><td>&quot;GARANTIA EMPRESARIAL&quot;</td><td>&quot;NR&quot;</td><td>null</td><td>36811</td><td>&quot;BANCO REGIONAL DE MONTERREY&quot;</td><td>&quot;SG&quot;</td><td>&quot;CF&quot;</td><td>&quot;Global PYME&quot;</td><td>1555.0</td><td>&quot;10040058&quot;</td><td>1</td><td>4</td><td>2021</td><td>&quot;PP&quot;</td><td>202110</td><td>-1.522422</td><td>1</td><td>&quot;Pari Passu&quot;</td><td>2021</td></tr></tbody></table></div>"
      ],
      "text/plain": [
       "shape: (51_650, 20)\n",
       "┌─────────┬─────────────┬──────┬────────────┬───┬───────────┬────────────┬────────────┬────────────┐\n",
       "│ MM_UDIS ┆ TAXONOMIA   ┆ NR_R ┆ LLAVE_FINA ┆ … ┆ MPAGADO   ┆ CICLOS_RES ┆ ESQUEMA_VF ┆ ANIO(PAGO) │\n",
       "│ ---     ┆ ---         ┆ ---  ┆ L          ┆   ┆ ---       ┆ CAT_VF     ┆ ---        ┆ _New       │\n",
       "│ i32     ┆ str         ┆ str  ┆ ---        ┆   ┆ f64       ┆ ---        ┆ str        ┆ ---        │\n",
       "│         ┆             ┆      ┆ str        ┆   ┆           ┆ i32        ┆            ┆ i32        │\n",
       "╞═════════╪═════════════╪══════╪════════════╪═══╪═══════════╪════════════╪════════════╪════════════╡\n",
       "│ 0       ┆ GARANTIA    ┆ NR   ┆ null       ┆ … ┆ -0.159818 ┆ 1          ┆ Pari Passu ┆ 2022       │\n",
       "│         ┆ SECTORIAL   ┆      ┆            ┆   ┆           ┆            ┆            ┆            │\n",
       "│ 0       ┆ GARANTIA    ┆ NR   ┆ CREDITO    ┆ … ┆ -0.038288 ┆ 1          ┆ Pari Passu ┆ 2015       │\n",
       "│         ┆ EMPRESARIAL ┆      ┆ PYME       ┆   ┆           ┆            ┆            ┆            │\n",
       "│ 0       ┆ GARANTIA    ┆ NR   ┆ null       ┆ … ┆ -0.020209 ┆ 1          ┆ Pari Passu ┆ 2024       │\n",
       "│         ┆ SECTORIAL   ┆      ┆            ┆   ┆           ┆            ┆            ┆            │\n",
       "│ 0       ┆ GARANTIA    ┆ NR   ┆ null       ┆ … ┆ -0.594916 ┆ 1          ┆ Pari Passu ┆ 2019       │\n",
       "│         ┆ EMPRESARIAL ┆      ┆            ┆   ┆           ┆            ┆            ┆            │\n",
       "│ 0       ┆ GARANTIA    ┆ NR   ┆ CREDITO    ┆ … ┆ -0.146386 ┆ 1          ┆ Pari Passu ┆ 2015       │\n",
       "│         ┆ EMPRESARIAL ┆      ┆ SIMPLE     ┆   ┆           ┆            ┆            ┆            │\n",
       "│ …       ┆ …           ┆ …    ┆ …          ┆ … ┆ …         ┆ …          ┆ …          ┆ …          │\n",
       "│ 0       ┆ GARANTIA    ┆ NR   ┆ null       ┆ … ┆ -0.500346 ┆ 1          ┆ Pari Passu ┆ 2018       │\n",
       "│         ┆ SECTORIAL   ┆      ┆            ┆   ┆           ┆            ┆            ┆            │\n",
       "│ 0       ┆ GARANTIA    ┆ R    ┆ null       ┆ … ┆ -1.270542 ┆ 1          ┆ Pari Passu ┆ 2022       │\n",
       "│         ┆ EMPRESARIAL ┆      ┆            ┆   ┆           ┆            ┆            ┆            │\n",
       "│ 1       ┆ GARANTIA    ┆ NR   ┆ null       ┆ … ┆ -8.545175 ┆ 1          ┆ Pari Passu ┆ 2025       │\n",
       "│         ┆ EMPRESARIAL ┆      ┆            ┆   ┆           ┆            ┆            ┆            │\n",
       "│ 0       ┆ GARANTIA    ┆ R    ┆ CREDITO    ┆ … ┆ -0.25814  ┆ 1          ┆ Pari Passu ┆ 2017       │\n",
       "│         ┆ EMPRESARIAL ┆      ┆ COMERCIAL  ┆   ┆           ┆            ┆            ┆            │\n",
       "│ 0       ┆ GARANTIA    ┆ NR   ┆ null       ┆ … ┆ -1.522422 ┆ 1          ┆ Pari Passu ┆ 2021       │\n",
       "│         ┆ EMPRESARIAL ┆      ┆            ┆   ┆           ┆            ┆            ┆            │\n",
       "└─────────┴─────────────┴──────┴────────────┴───┴───────────┴────────────┴────────────┴────────────┘"
      ]
     },
     "execution_count": 23,
     "metadata": {},
     "output_type": "execute_result"
    }
   ],
   "source": [
    "# PAGADAS_AGRUP_202504_Completa\n",
    "pagadas_agrup_completa = pagadas_agrup_inter.with_columns([\n",
    "    # CICLOS_RESCAT_VF: 1 si es nulo, 0 si es 0, 1 si no es 0\n",
    "    pl.when(pl.col(\"CICLOS_RESCAT\").is_null())\n",
    "        .then(1)\n",
    "        .when(pl.col(\"CICLOS_RESCAT\") == 0)\n",
    "        .then(0)\n",
    "        .otherwise(1)\n",
    "        .alias(\"CICLOS_RESCAT_VF\"),\n",
    "\n",
    "    # ESQUEMA_VF: 'Pari Passu' si ESQUEMA es 'PP' o null, sino '1P'\n",
    "    pl.when(pl.col(\"ESQUEMA\") == 'PP')\n",
    "        .then(pl.lit(\"Pari Passu\"))\n",
    "        .when(pl.col(\"ESQUEMA\").is_null())\n",
    "        .then(pl.lit(\"Pari Passu\"))\n",
    "        .otherwise(pl.lit(\"1P\"))\n",
    "        .alias(\"ESQUEMA_VF\"),\n",
    "\n",
    "    # ANIO(PAGO)_New: si ANIO(PAGO) <= 2006, entonces 2006\n",
    "    pl.when(pl.col(\"ANIO(PAGO)\") <= 2006)\n",
    "        .then(2006)\n",
    "        .otherwise(pl.col(\"ANIO(PAGO)\"))\n",
    "        .alias(\"ANIO(PAGO)_New\")\n",
    "])\n",
    "pagadas_agrup_completa\n"
   ]
  },
  {
   "cell_type": "code",
   "execution_count": 24,
   "id": "9a72fb37",
   "metadata": {},
   "outputs": [
    {
     "data": {
      "text/html": [
       "<div><style>\n",
       ".dataframe > thead > tr,\n",
       ".dataframe > tbody > tr {\n",
       "  text-align: right;\n",
       "  white-space: pre-wrap;\n",
       "}\n",
       "</style>\n",
       "<small>shape: (51_650, 17)</small><table border=\"1\" class=\"dataframe\"><thead><tr><th>MM_UDIS</th><th>TAXONOMIA</th><th>NR_R</th><th>BANCO</th><th>CSG</th><th>CSF</th><th>AGRUPAMIENTO</th><th>AGRUPAMIENTO_ID</th><th>CICLOS_RESCAT</th><th>TIPGAR_CLAVE</th><th>ANIO(PAGO)</th><th>MPAGADO</th><th>ESQUEMA</th><th>ANIO(PAGO)_New</th><th>Intermediario_Id</th><th>TPRO_CLAVE</th><th>ORDEN_PAGO</th></tr><tr><td>i32</td><td>str</td><td>str</td><td>str</td><td>str</td><td>str</td><td>str</td><td>f64</td><td>i32</td><td>i16</td><td>i32</td><td>f64</td><td>str</td><td>i32</td><td>str</td><td>i32</td><td>i32</td></tr></thead><tbody><tr><td>0</td><td>&quot;GARANTIA SECTORIAL&quot;</td><td>&quot;NR&quot;</td><td>&quot;BANAMEX&quot;</td><td>&quot;SG&quot;</td><td>&quot;CF&quot;</td><td>&quot;Mujer Crezcamos Juntas&quot;</td><td>2045.0</td><td>1</td><td>5</td><td>2022</td><td>-0.159818</td><td>&quot;Pari Passu&quot;</td><td>2022</td><td>&quot;10000233&quot;</td><td>320132</td><td>202202</td></tr><tr><td>0</td><td>&quot;GARANTIA EMPRESARIAL&quot;</td><td>&quot;NR&quot;</td><td>&quot;BANCO SANTANDER&quot;</td><td>&quot;SG&quot;</td><td>&quot;CF&quot;</td><td>&quot;PyMe&quot;</td><td>1690.0</td><td>1</td><td>4</td><td>2015</td><td>-0.038288</td><td>&quot;Pari Passu&quot;</td><td>2015</td><td>&quot;10000144&quot;</td><td>31759</td><td>201506</td></tr><tr><td>0</td><td>&quot;GARANTIA SECTORIAL&quot;</td><td>&quot;NR&quot;</td><td>&quot;BANCO SANTANDER&quot;</td><td>&quot;SG&quot;</td><td>&quot;CF&quot;</td><td>&quot;Impulso NAFIN&quot;</td><td>2195.0</td><td>1</td><td>4</td><td>2024</td><td>-0.020209</td><td>&quot;Pari Passu&quot;</td><td>2024</td><td>&quot;10000144&quot;</td><td>320512</td><td>202402</td></tr><tr><td>0</td><td>&quot;GARANTIA EMPRESARIAL&quot;</td><td>&quot;NR&quot;</td><td>&quot;BANCO SANTANDER&quot;</td><td>&quot;SG&quot;</td><td>&quot;CF&quot;</td><td>&quot;PyMe&quot;</td><td>1690.0</td><td>1</td><td>4</td><td>2019</td><td>-0.594916</td><td>&quot;Pari Passu&quot;</td><td>2019</td><td>&quot;10000144&quot;</td><td>35606</td><td>201906</td></tr><tr><td>0</td><td>&quot;GARANTIA EMPRESARIAL&quot;</td><td>&quot;NR&quot;</td><td>&quot;BBV BANCOMER&quot;</td><td>&quot;SG&quot;</td><td>&quot;CF&quot;</td><td>&quot;PyMe&quot;</td><td>1690.0</td><td>1</td><td>4</td><td>2015</td><td>-0.146386</td><td>&quot;Pari Passu&quot;</td><td>2015</td><td>&quot;10040012&quot;</td><td>35005</td><td>201511</td></tr><tr><td>&hellip;</td><td>&hellip;</td><td>&hellip;</td><td>&hellip;</td><td>&hellip;</td><td>&hellip;</td><td>&hellip;</td><td>&hellip;</td><td>&hellip;</td><td>&hellip;</td><td>&hellip;</td><td>&hellip;</td><td>&hellip;</td><td>&hellip;</td><td>&hellip;</td><td>&hellip;</td><td>&hellip;</td></tr><tr><td>0</td><td>&quot;GARANTIA SECTORIAL&quot;</td><td>&quot;NR&quot;</td><td>&quot;BANCO MERCANTIL DEL NORTE&quot;</td><td>&quot;SG&quot;</td><td>&quot;CF&quot;</td><td>&quot;ZEE&quot;</td><td>2050.0</td><td>1</td><td>4</td><td>2018</td><td>-0.500346</td><td>&quot;Pari Passu&quot;</td><td>2018</td><td>&quot;10040072&quot;</td><td>33760</td><td>201803</td></tr><tr><td>0</td><td>&quot;GARANTIA EMPRESARIAL&quot;</td><td>&quot;R&quot;</td><td>&quot;BANCO REGIONAL DE MONTERREY&quot;</td><td>&quot;SG&quot;</td><td>&quot;SF&quot;</td><td>&quot;Producto NAFIN&quot;</td><td>10000.0</td><td>1</td><td>4</td><td>2022</td><td>-1.270542</td><td>&quot;Pari Passu&quot;</td><td>2022</td><td>&quot;10040058&quot;</td><td>310020</td><td>202202</td></tr><tr><td>1</td><td>&quot;GARANTIA EMPRESARIAL&quot;</td><td>&quot;NR&quot;</td><td>&quot;BBV BANCOMER&quot;</td><td>&quot;SG&quot;</td><td>&quot;SF&quot;</td><td>&quot;Producto NAFIN&quot;</td><td>10000.0</td><td>1</td><td>4</td><td>2025</td><td>-8.545175</td><td>&quot;Pari Passu&quot;</td><td>2025</td><td>&quot;10040012&quot;</td><td>310163</td><td>202503</td></tr><tr><td>0</td><td>&quot;GARANTIA EMPRESARIAL&quot;</td><td>&quot;R&quot;</td><td>&quot;BANCA AFIRME&quot;</td><td>&quot;SG&quot;</td><td>&quot;CF&quot;</td><td>&quot;Credito Comercial Micro&quot;</td><td>1990.0</td><td>1</td><td>4</td><td>2017</td><td>-0.25814</td><td>&quot;Pari Passu&quot;</td><td>2017</td><td>&quot;10040062&quot;</td><td>32866</td><td>201708</td></tr><tr><td>0</td><td>&quot;GARANTIA EMPRESARIAL&quot;</td><td>&quot;NR&quot;</td><td>&quot;BANCO REGIONAL DE MONTERREY&quot;</td><td>&quot;SG&quot;</td><td>&quot;CF&quot;</td><td>&quot;Global PYME&quot;</td><td>1555.0</td><td>1</td><td>4</td><td>2021</td><td>-1.522422</td><td>&quot;Pari Passu&quot;</td><td>2021</td><td>&quot;10040058&quot;</td><td>36811</td><td>202110</td></tr></tbody></table></div>"
      ],
      "text/plain": [
       "shape: (51_650, 17)\n",
       "┌─────────┬────────────┬──────┬────────────┬───┬────────────┬────────────┬────────────┬────────────┐\n",
       "│ MM_UDIS ┆ TAXONOMIA  ┆ NR_R ┆ BANCO      ┆ … ┆ ANIO(PAGO) ┆ Intermedia ┆ TPRO_CLAVE ┆ ORDEN_PAGO │\n",
       "│ ---     ┆ ---        ┆ ---  ┆ ---        ┆   ┆ _New       ┆ rio_Id     ┆ ---        ┆ ---        │\n",
       "│ i32     ┆ str        ┆ str  ┆ str        ┆   ┆ ---        ┆ ---        ┆ i32        ┆ i32        │\n",
       "│         ┆            ┆      ┆            ┆   ┆ i32        ┆ str        ┆            ┆            │\n",
       "╞═════════╪════════════╪══════╪════════════╪═══╪════════════╪════════════╪════════════╪════════════╡\n",
       "│ 0       ┆ GARANTIA   ┆ NR   ┆ BANAMEX    ┆ … ┆ 2022       ┆ 10000233   ┆ 320132     ┆ 202202     │\n",
       "│         ┆ SECTORIAL  ┆      ┆            ┆   ┆            ┆            ┆            ┆            │\n",
       "│ 0       ┆ GARANTIA   ┆ NR   ┆ BANCO      ┆ … ┆ 2015       ┆ 10000144   ┆ 31759      ┆ 201506     │\n",
       "│         ┆ EMPRESARIA ┆      ┆ SANTANDER  ┆   ┆            ┆            ┆            ┆            │\n",
       "│         ┆ L          ┆      ┆            ┆   ┆            ┆            ┆            ┆            │\n",
       "│ 0       ┆ GARANTIA   ┆ NR   ┆ BANCO      ┆ … ┆ 2024       ┆ 10000144   ┆ 320512     ┆ 202402     │\n",
       "│         ┆ SECTORIAL  ┆      ┆ SANTANDER  ┆   ┆            ┆            ┆            ┆            │\n",
       "│ 0       ┆ GARANTIA   ┆ NR   ┆ BANCO      ┆ … ┆ 2019       ┆ 10000144   ┆ 35606      ┆ 201906     │\n",
       "│         ┆ EMPRESARIA ┆      ┆ SANTANDER  ┆   ┆            ┆            ┆            ┆            │\n",
       "│         ┆ L          ┆      ┆            ┆   ┆            ┆            ┆            ┆            │\n",
       "│ 0       ┆ GARANTIA   ┆ NR   ┆ BBV        ┆ … ┆ 2015       ┆ 10040012   ┆ 35005      ┆ 201511     │\n",
       "│         ┆ EMPRESARIA ┆      ┆ BANCOMER   ┆   ┆            ┆            ┆            ┆            │\n",
       "│         ┆ L          ┆      ┆            ┆   ┆            ┆            ┆            ┆            │\n",
       "│ …       ┆ …          ┆ …    ┆ …          ┆ … ┆ …          ┆ …          ┆ …          ┆ …          │\n",
       "│ 0       ┆ GARANTIA   ┆ NR   ┆ BANCO      ┆ … ┆ 2018       ┆ 10040072   ┆ 33760      ┆ 201803     │\n",
       "│         ┆ SECTORIAL  ┆      ┆ MERCANTIL  ┆   ┆            ┆            ┆            ┆            │\n",
       "│         ┆            ┆      ┆ DEL NORTE  ┆   ┆            ┆            ┆            ┆            │\n",
       "│ 0       ┆ GARANTIA   ┆ R    ┆ BANCO      ┆ … ┆ 2022       ┆ 10040058   ┆ 310020     ┆ 202202     │\n",
       "│         ┆ EMPRESARIA ┆      ┆ REGIONAL   ┆   ┆            ┆            ┆            ┆            │\n",
       "│         ┆ L          ┆      ┆ DE         ┆   ┆            ┆            ┆            ┆            │\n",
       "│         ┆            ┆      ┆ MONTERREY  ┆   ┆            ┆            ┆            ┆            │\n",
       "│ 1       ┆ GARANTIA   ┆ NR   ┆ BBV        ┆ … ┆ 2025       ┆ 10040012   ┆ 310163     ┆ 202503     │\n",
       "│         ┆ EMPRESARIA ┆      ┆ BANCOMER   ┆   ┆            ┆            ┆            ┆            │\n",
       "│         ┆ L          ┆      ┆            ┆   ┆            ┆            ┆            ┆            │\n",
       "│ 0       ┆ GARANTIA   ┆ R    ┆ BANCA      ┆ … ┆ 2017       ┆ 10040062   ┆ 32866      ┆ 201708     │\n",
       "│         ┆ EMPRESARIA ┆      ┆ AFIRME     ┆   ┆            ┆            ┆            ┆            │\n",
       "│         ┆ L          ┆      ┆            ┆   ┆            ┆            ┆            ┆            │\n",
       "│ 0       ┆ GARANTIA   ┆ NR   ┆ BANCO      ┆ … ┆ 2021       ┆ 10040058   ┆ 36811      ┆ 202110     │\n",
       "│         ┆ EMPRESARIA ┆      ┆ REGIONAL   ┆   ┆            ┆            ┆            ┆            │\n",
       "│         ┆ L          ┆      ┆ DE         ┆   ┆            ┆            ┆            ┆            │\n",
       "│         ┆            ┆      ┆ MONTERREY  ┆   ┆            ┆            ┆            ┆            │\n",
       "└─────────┴────────────┴──────┴────────────┴───┴────────────┴────────────┴────────────┴────────────┘"
      ]
     },
     "execution_count": 24,
     "metadata": {},
     "output_type": "execute_result"
    }
   ],
   "source": [
    "# PAGADAS_AGRUP_202504\n",
    "pagadas_agrup = pagadas_agrup_completa.select([\n",
    "    \"MM_UDIS\",\n",
    "    \"TAXONOMIA\",\n",
    "    \"NR_R\",\n",
    "    \"BANCO\",\n",
    "    \"CSG\",\n",
    "    \"CSF\",\n",
    "    \"AGRUPAMIENTO\",\n",
    "    \"AGRUPAMIENTO_ID\",\n",
    "    pl.col(\"CICLOS_RESCAT_VF\").alias(\"CICLOS_RESCAT\"),\n",
    "    \"TIPGAR_CLAVE\",\n",
    "    \"ANIO(PAGO)\",\n",
    "    \"MPAGADO\",\n",
    "    pl.col(\"ESQUEMA_VF\").alias(\"ESQUEMA\"),\n",
    "    \"ANIO(PAGO)_New\",\n",
    "    \"Intermediario_Id\",\n",
    "    \"TPRO_CLAVE\",\n",
    "    \"ORDEN_PAGO\"\n",
    "])\n",
    "pagadas_agrup"
   ]
  },
  {
   "cell_type": "markdown",
   "id": "8d7c6728",
   "metadata": {},
   "source": [
    "#### Parte 4"
   ]
  },
  {
   "cell_type": "code",
   "execution_count": 25,
   "id": "82733d9e",
   "metadata": {},
   "outputs": [],
   "source": [
    "# CURVA_RECUP_202504_VF\n",
    "curva_recup_vf = curva_recup.join(\n",
    "    pagadas_detalle_vf.select([\"CONCATENAR_SALDOS\", \"Monto_Pagado_Mn\"]),\n",
    "    on=\"CONCATENAR_SALDOS\",\n",
    "    how=\"left\"\n",
    ").with_columns(\n",
    "    (pl.col(\"Monto_Pagado_Mn\") / 1_000_000).alias(\"MPAGADO (MDP)\")\n",
    ")"
   ]
  },
  {
   "cell_type": "code",
   "execution_count": 26,
   "id": "b1ba07eb",
   "metadata": {},
   "outputs": [
    {
     "data": {
      "text/html": [
       "<div><style>\n",
       ".dataframe > thead > tr,\n",
       ".dataframe > tbody > tr {\n",
       "  text-align: right;\n",
       "  white-space: pre-wrap;\n",
       "}\n",
       "</style>\n",
       "<small>shape: (149_524, 14)</small><table border=\"1\" class=\"dataframe\"><thead><tr><th>MM_UDIS</th><th>TAXONOMIA</th><th>NR_R</th><th>BANCO</th><th>CSG</th><th>AGRUPAMIENTO</th><th>AGRUPAMIENTO_ID</th><th>TIPGAR_CLAVE</th><th>ESQUEMA</th><th>TPRO_CLAVE</th><th>ANIO(PAGO)_New</th><th>CONCEPTO</th><th>PERIODO</th><th>MONTO</th></tr><tr><td>i32</td><td>str</td><td>str</td><td>str</td><td>str</td><td>str</td><td>f64</td><td>i32</td><td>str</td><td>i32</td><td>i32</td><td>str</td><td>str</td><td>f64</td></tr></thead><tbody><tr><td>0</td><td>&quot;GARANTIA EMPRESARIAL&quot;</td><td>&quot;R&quot;</td><td>&quot;BANCO MERCANTIL DEL NORTE&quot;</td><td>&quot;SG&quot;</td><td>&quot;Crediactivo Diana&quot;</td><td>1275.0</td><td>5</td><td>&quot;Pari Passu&quot;</td><td>31028</td><td>2012</td><td>&quot;Recup&quot;</td><td>&quot;Inicio&quot;</td><td>0.0</td></tr><tr><td>0</td><td>&quot;GARANTIA EMPRESARIAL&quot;</td><td>&quot;R&quot;</td><td>&quot;HSBC MEXICO&quot;</td><td>&quot;SG&quot;</td><td>&quot;Montos Menores Self Employ&quot;</td><td>1635.0</td><td>5</td><td>&quot;Pari Passu&quot;</td><td>3851</td><td>2011</td><td>&quot;Recup&quot;</td><td>&quot;Acum&quot;</td><td>0.0</td></tr><tr><td>0</td><td>&quot;GARANTIA SUBASTA&quot;</td><td>&quot;R&quot;</td><td>&quot;BANAMEX&quot;</td><td>&quot;SG&quot;</td><td>&quot;Subasta Extraordinaria&quot;</td><td>1750.0</td><td>5</td><td>&quot;1P&quot;</td><td>3338</td><td>2011</td><td>&quot;Recup&quot;</td><td>&quot;Inicio&quot;</td><td>0.0</td></tr><tr><td>0</td><td>&quot;GARANTIA EMPRESARIAL&quot;</td><td>&quot;NR&quot;</td><td>&quot;BANCO SANTANDER&quot;</td><td>&quot;SG&quot;</td><td>&quot;PyMe&quot;</td><td>1690.0</td><td>4</td><td>&quot;Pari Passu&quot;</td><td>35175</td><td>2015</td><td>&quot;Recup&quot;</td><td>&quot;Inicio&quot;</td><td>0.0</td></tr><tr><td>0</td><td>&quot;GARANTIA EMPRESARIAL&quot;</td><td>&quot;NR&quot;</td><td>&quot;BANCO DEL BAJIO&quot;</td><td>&quot;CG&quot;</td><td>&quot;Tradicional&quot;</td><td>1950.0</td><td>1</td><td>&quot;Pari Passu&quot;</td><td>35145</td><td>2018</td><td>&quot;Recup&quot;</td><td>&quot;Inicio&quot;</td><td>0.0</td></tr><tr><td>&hellip;</td><td>&hellip;</td><td>&hellip;</td><td>&hellip;</td><td>&hellip;</td><td>&hellip;</td><td>&hellip;</td><td>&hellip;</td><td>&hellip;</td><td>&hellip;</td><td>&hellip;</td><td>&hellip;</td><td>&hellip;</td><td>&hellip;</td></tr><tr><td>0</td><td>&quot;GARANTIA EMERGENTES&quot;</td><td>&quot;NR&quot;</td><td>&quot;BANCO SANTANDER&quot;</td><td>&quot;SG&quot;</td><td>&quot;Emergente Contingencia Sanitar…</td><td>1390.0</td><td>4</td><td>&quot;Pari Passu&quot;</td><td>31015</td><td>2011</td><td>&quot;Recup&quot;</td><td>&quot;Inicio&quot;</td><td>0.0</td></tr><tr><td>0</td><td>&quot;GARANTIA SECTORIAL&quot;</td><td>&quot;NR&quot;</td><td>&quot;BANCA MIFEL&quot;</td><td>&quot;SG&quot;</td><td>&quot;Taxi DF&quot;</td><td>1930.0</td><td>4</td><td>&quot;Pari Passu&quot;</td><td>3268</td><td>2011</td><td>&quot;Recup&quot;</td><td>&quot;Inicio&quot;</td><td>0.0</td></tr><tr><td>0</td><td>&quot;GARANTIA EMPRESARIAL&quot;</td><td>&quot;R&quot;</td><td>&quot;HSBC MEXICO&quot;</td><td>&quot;SG&quot;</td><td>&quot;Micro Empresa PM&quot;</td><td>1595.0</td><td>5</td><td>&quot;Pari Passu&quot;</td><td>32907</td><td>2016</td><td>&quot;Recup&quot;</td><td>&quot;Inicio&quot;</td><td>0.0</td></tr><tr><td>0</td><td>&quot;GARANTIA SUBASTA&quot;</td><td>&quot;NR&quot;</td><td>&quot;BANAMEX&quot;</td><td>&quot;SG&quot;</td><td>&quot;Subasta Marzo 2015&quot;</td><td>1870.0</td><td>5</td><td>&quot;1P&quot;</td><td>33268</td><td>2018</td><td>&quot;Recup&quot;</td><td>&quot;Acum&quot;</td><td>0.0</td></tr><tr><td>0</td><td>&quot;GARANTIA EMPRESARIAL&quot;</td><td>&quot;NR&quot;</td><td>&quot;BANCO SANTANDER&quot;</td><td>&quot;SG&quot;</td><td>&quot;PyMe&quot;</td><td>1690.0</td><td>4</td><td>&quot;Pari Passu&quot;</td><td>35220</td><td>2016</td><td>&quot;Recup&quot;</td><td>&quot;Inicio&quot;</td><td>0.0</td></tr></tbody></table></div>"
      ],
      "text/plain": [
       "shape: (149_524, 14)\n",
       "┌─────────┬────────────────┬──────┬───────────────┬───┬───────────────┬──────────┬─────────┬───────┐\n",
       "│ MM_UDIS ┆ TAXONOMIA      ┆ NR_R ┆ BANCO         ┆ … ┆ ANIO(PAGO)_Ne ┆ CONCEPTO ┆ PERIODO ┆ MONTO │\n",
       "│ ---     ┆ ---            ┆ ---  ┆ ---           ┆   ┆ w             ┆ ---      ┆ ---     ┆ ---   │\n",
       "│ i32     ┆ str            ┆ str  ┆ str           ┆   ┆ ---           ┆ str      ┆ str     ┆ f64   │\n",
       "│         ┆                ┆      ┆               ┆   ┆ i32           ┆          ┆         ┆       │\n",
       "╞═════════╪════════════════╪══════╪═══════════════╪═══╪═══════════════╪══════════╪═════════╪═══════╡\n",
       "│ 0       ┆ GARANTIA       ┆ R    ┆ BANCO         ┆ … ┆ 2012          ┆ Recup    ┆ Inicio  ┆ 0.0   │\n",
       "│         ┆ EMPRESARIAL    ┆      ┆ MERCANTIL DEL ┆   ┆               ┆          ┆         ┆       │\n",
       "│         ┆                ┆      ┆ NORTE         ┆   ┆               ┆          ┆         ┆       │\n",
       "│ 0       ┆ GARANTIA       ┆ R    ┆ HSBC MEXICO   ┆ … ┆ 2011          ┆ Recup    ┆ Acum    ┆ 0.0   │\n",
       "│         ┆ EMPRESARIAL    ┆      ┆               ┆   ┆               ┆          ┆         ┆       │\n",
       "│ 0       ┆ GARANTIA       ┆ R    ┆ BANAMEX       ┆ … ┆ 2011          ┆ Recup    ┆ Inicio  ┆ 0.0   │\n",
       "│         ┆ SUBASTA        ┆      ┆               ┆   ┆               ┆          ┆         ┆       │\n",
       "│ 0       ┆ GARANTIA       ┆ NR   ┆ BANCO         ┆ … ┆ 2015          ┆ Recup    ┆ Inicio  ┆ 0.0   │\n",
       "│         ┆ EMPRESARIAL    ┆      ┆ SANTANDER     ┆   ┆               ┆          ┆         ┆       │\n",
       "│ 0       ┆ GARANTIA       ┆ NR   ┆ BANCO DEL     ┆ … ┆ 2018          ┆ Recup    ┆ Inicio  ┆ 0.0   │\n",
       "│         ┆ EMPRESARIAL    ┆      ┆ BAJIO         ┆   ┆               ┆          ┆         ┆       │\n",
       "│ …       ┆ …              ┆ …    ┆ …             ┆ … ┆ …             ┆ …        ┆ …       ┆ …     │\n",
       "│ 0       ┆ GARANTIA       ┆ NR   ┆ BANCO         ┆ … ┆ 2011          ┆ Recup    ┆ Inicio  ┆ 0.0   │\n",
       "│         ┆ EMERGENTES     ┆      ┆ SANTANDER     ┆   ┆               ┆          ┆         ┆       │\n",
       "│ 0       ┆ GARANTIA       ┆ NR   ┆ BANCA MIFEL   ┆ … ┆ 2011          ┆ Recup    ┆ Inicio  ┆ 0.0   │\n",
       "│         ┆ SECTORIAL      ┆      ┆               ┆   ┆               ┆          ┆         ┆       │\n",
       "│ 0       ┆ GARANTIA       ┆ R    ┆ HSBC MEXICO   ┆ … ┆ 2016          ┆ Recup    ┆ Inicio  ┆ 0.0   │\n",
       "│         ┆ EMPRESARIAL    ┆      ┆               ┆   ┆               ┆          ┆         ┆       │\n",
       "│ 0       ┆ GARANTIA       ┆ NR   ┆ BANAMEX       ┆ … ┆ 2018          ┆ Recup    ┆ Acum    ┆ 0.0   │\n",
       "│         ┆ SUBASTA        ┆      ┆               ┆   ┆               ┆          ┆         ┆       │\n",
       "│ 0       ┆ GARANTIA       ┆ NR   ┆ BANCO         ┆ … ┆ 2016          ┆ Recup    ┆ Inicio  ┆ 0.0   │\n",
       "│         ┆ EMPRESARIAL    ┆      ┆ SANTANDER     ┆   ┆               ┆          ┆         ┆       │\n",
       "└─────────┴────────────────┴──────┴───────────────┴───┴───────────────┴──────────┴─────────┴───────┘"
      ]
     },
     "execution_count": 26,
     "metadata": {},
     "output_type": "execute_result"
    }
   ],
   "source": [
    "# TABLA_SEV_OBS_202504\n",
    "# Filtrar condiciones\n",
    "tabla_sev_obs = recup_agrup.filter(\n",
    "    (pl.col(\"CICLOS_RESCAT\") == 1) &\n",
    "    (pl.col(\"ANIO(PAGO)\") <= 2018) &\n",
    "    (pl.col(\"IND_ENTRA\") == 1)\n",
    ").select([   # Seleccionar y transformar columnas\n",
    "    pl.col(\"MM_UDIS\"),\n",
    "    pl.col(\"TAXONOMIA\"),\n",
    "    pl.col(\"NR_R\"),\n",
    "    pl.col(\"BANCO\"),\n",
    "    pl.col(\"CSG\"),\n",
    "    pl.col(\"AGRUPAMIENTO\"),\n",
    "    pl.col(\"AGRUPAMIENTO_ID\"),\n",
    "    pl.col(\"TIPGAR_CLAVE\"),\n",
    "    pl.col(\"ESQUEMA\"),\n",
    "    pl.col(\"TPRO_CLAVE\"),\n",
    "    pl.col(\"ANIO(PAGO)_New\"),\n",
    "    pl.lit(\"Recup\").alias(\"CONCEPTO\"),\n",
    "    pl.when(pl.col(\"Anio_REG_RECUP\") <= 2018)\n",
    "      .then(pl.lit(\"Inicio\"))\n",
    "      .otherwise(pl.lit(\"Acum\"))\n",
    "      .alias(\"PERIODO\"),\n",
    "    pl.col(\"MRECUP_TOT\").alias(\"MONTO\")\n",
    "])\n",
    "\n",
    "\n",
    "tabla_sev_obs"
   ]
  },
  {
   "cell_type": "code",
   "execution_count": 27,
   "id": "e72e08c3",
   "metadata": {},
   "outputs": [
    {
     "data": {
      "text/html": [
       "<div><style>\n",
       ".dataframe > thead > tr,\n",
       ".dataframe > tbody > tr {\n",
       "  text-align: right;\n",
       "  white-space: pre-wrap;\n",
       "}\n",
       "</style>\n",
       "<small>shape: (31_590, 14)</small><table border=\"1\" class=\"dataframe\"><thead><tr><th>MM_UDIS</th><th>TAXONOMIA</th><th>NR_R</th><th>BANCO</th><th>CSG</th><th>AGRUPAMIENTO</th><th>AGRUPAMIENTO_ID</th><th>TIPGAR_CLAVE</th><th>ESQUEMA</th><th>TPRO_CLAVE</th><th>ANIO(PAGO)_New</th><th>CONCEPTO</th><th>PERIODO</th><th>MONTO</th></tr><tr><td>i32</td><td>str</td><td>str</td><td>str</td><td>str</td><td>str</td><td>f64</td><td>i16</td><td>str</td><td>i32</td><td>i32</td><td>str</td><td>str</td><td>f64</td></tr></thead><tbody><tr><td>0</td><td>&quot;GARANTIA EMPRESARIAL&quot;</td><td>&quot;NR&quot;</td><td>&quot;BANCO SANTANDER&quot;</td><td>&quot;SG&quot;</td><td>&quot;PyMe&quot;</td><td>1690.0</td><td>4</td><td>&quot;Pari Passu&quot;</td><td>31759</td><td>2015</td><td>&quot;Pago&quot;</td><td>&quot;Inicio&quot;</td><td>-0.038288</td></tr><tr><td>0</td><td>&quot;GARANTIA EMPRESARIAL&quot;</td><td>&quot;NR&quot;</td><td>&quot;BBV BANCOMER&quot;</td><td>&quot;SG&quot;</td><td>&quot;PyMe&quot;</td><td>1690.0</td><td>4</td><td>&quot;Pari Passu&quot;</td><td>35005</td><td>2015</td><td>&quot;Pago&quot;</td><td>&quot;Inicio&quot;</td><td>-0.146386</td></tr><tr><td>1</td><td>&quot;GARANTIA EMPRESARIAL&quot;</td><td>&quot;NR&quot;</td><td>&quot;BBV BANCOMER&quot;</td><td>&quot;CG&quot;</td><td>&quot;Empresas&quot;</td><td>1480.0</td><td>1</td><td>&quot;Pari Passu&quot;</td><td>3205</td><td>2013</td><td>&quot;Pago&quot;</td><td>&quot;Inicio&quot;</td><td>-3.689824</td></tr><tr><td>0</td><td>&quot;GARANTIA SUBASTA&quot;</td><td>&quot;NR&quot;</td><td>&quot;GM FINANCIAL DE MEXICO SA DE C…</td><td>&quot;CG&quot;</td><td>&quot;Subasta Diciembre 2013&quot;</td><td>1845.0</td><td>3</td><td>&quot;1P&quot;</td><td>32444</td><td>2015</td><td>&quot;Pago&quot;</td><td>&quot;Inicio&quot;</td><td>-0.457342</td></tr><tr><td>0</td><td>&quot;GARANTIA EMPRESARIAL&quot;</td><td>&quot;R&quot;</td><td>&quot;BANCA AFIRME&quot;</td><td>&quot;SG&quot;</td><td>&quot;Tarjeta Credito Pyme&quot;</td><td>2005.0</td><td>4</td><td>&quot;Pari Passu&quot;</td><td>32494</td><td>2016</td><td>&quot;Pago&quot;</td><td>&quot;Inicio&quot;</td><td>-0.418594</td></tr><tr><td>&hellip;</td><td>&hellip;</td><td>&hellip;</td><td>&hellip;</td><td>&hellip;</td><td>&hellip;</td><td>&hellip;</td><td>&hellip;</td><td>&hellip;</td><td>&hellip;</td><td>&hellip;</td><td>&hellip;</td><td>&hellip;</td><td>&hellip;</td></tr><tr><td>0</td><td>&quot;GARANTIA SECTORIAL&quot;</td><td>&quot;NR&quot;</td><td>&quot;BANCO SANTANDER&quot;</td><td>&quot;SG&quot;</td><td>&quot;Emprendedores Tradicional&quot;</td><td>1470.0</td><td>4</td><td>&quot;Pari Passu&quot;</td><td>31166</td><td>2013</td><td>&quot;Pago&quot;</td><td>&quot;Inicio&quot;</td><td>-0.197204</td></tr><tr><td>0</td><td>&quot;GARANTIA EMPRESARIAL&quot;</td><td>&quot;R&quot;</td><td>&quot;BBV BANCOMER&quot;</td><td>&quot;SG&quot;</td><td>&quot;Tarjeta Negocios&quot;</td><td>1920.0</td><td>4</td><td>&quot;Pari Passu&quot;</td><td>35260</td><td>2017</td><td>&quot;Pago&quot;</td><td>&quot;Inicio&quot;</td><td>-0.482677</td></tr><tr><td>0</td><td>&quot;GARANTIA EMPRESARIAL&quot;</td><td>&quot;NR&quot;</td><td>&quot;BANCO DEL BAJIO&quot;</td><td>&quot;CG&quot;</td><td>&quot;Tradicional&quot;</td><td>1950.0</td><td>1</td><td>&quot;Pari Passu&quot;</td><td>3028</td><td>2011</td><td>&quot;Pago&quot;</td><td>&quot;Inicio&quot;</td><td>-1.258048</td></tr><tr><td>0</td><td>&quot;GARANTIA SECTORIAL&quot;</td><td>&quot;NR&quot;</td><td>&quot;BANCO MERCANTIL DEL NORTE&quot;</td><td>&quot;SG&quot;</td><td>&quot;ZEE&quot;</td><td>2050.0</td><td>4</td><td>&quot;Pari Passu&quot;</td><td>33760</td><td>2018</td><td>&quot;Pago&quot;</td><td>&quot;Inicio&quot;</td><td>-0.500346</td></tr><tr><td>0</td><td>&quot;GARANTIA EMPRESARIAL&quot;</td><td>&quot;R&quot;</td><td>&quot;BANCA AFIRME&quot;</td><td>&quot;SG&quot;</td><td>&quot;Credito Comercial Micro&quot;</td><td>1990.0</td><td>4</td><td>&quot;Pari Passu&quot;</td><td>32866</td><td>2017</td><td>&quot;Pago&quot;</td><td>&quot;Inicio&quot;</td><td>-0.25814</td></tr></tbody></table></div>"
      ],
      "text/plain": [
       "shape: (31_590, 14)\n",
       "┌─────────┬──────────────┬──────┬──────────────┬───┬──────────────┬──────────┬─────────┬───────────┐\n",
       "│ MM_UDIS ┆ TAXONOMIA    ┆ NR_R ┆ BANCO        ┆ … ┆ ANIO(PAGO)_N ┆ CONCEPTO ┆ PERIODO ┆ MONTO     │\n",
       "│ ---     ┆ ---          ┆ ---  ┆ ---          ┆   ┆ ew           ┆ ---      ┆ ---     ┆ ---       │\n",
       "│ i32     ┆ str          ┆ str  ┆ str          ┆   ┆ ---          ┆ str      ┆ str     ┆ f64       │\n",
       "│         ┆              ┆      ┆              ┆   ┆ i32          ┆          ┆         ┆           │\n",
       "╞═════════╪══════════════╪══════╪══════════════╪═══╪══════════════╪══════════╪═════════╪═══════════╡\n",
       "│ 0       ┆ GARANTIA     ┆ NR   ┆ BANCO        ┆ … ┆ 2015         ┆ Pago     ┆ Inicio  ┆ -0.038288 │\n",
       "│         ┆ EMPRESARIAL  ┆      ┆ SANTANDER    ┆   ┆              ┆          ┆         ┆           │\n",
       "│ 0       ┆ GARANTIA     ┆ NR   ┆ BBV BANCOMER ┆ … ┆ 2015         ┆ Pago     ┆ Inicio  ┆ -0.146386 │\n",
       "│         ┆ EMPRESARIAL  ┆      ┆              ┆   ┆              ┆          ┆         ┆           │\n",
       "│ 1       ┆ GARANTIA     ┆ NR   ┆ BBV BANCOMER ┆ … ┆ 2013         ┆ Pago     ┆ Inicio  ┆ -3.689824 │\n",
       "│         ┆ EMPRESARIAL  ┆      ┆              ┆   ┆              ┆          ┆         ┆           │\n",
       "│ 0       ┆ GARANTIA     ┆ NR   ┆ GM FINANCIAL ┆ … ┆ 2015         ┆ Pago     ┆ Inicio  ┆ -0.457342 │\n",
       "│         ┆ SUBASTA      ┆      ┆ DE MEXICO SA ┆   ┆              ┆          ┆         ┆           │\n",
       "│         ┆              ┆      ┆ DE C…        ┆   ┆              ┆          ┆         ┆           │\n",
       "│ 0       ┆ GARANTIA     ┆ R    ┆ BANCA AFIRME ┆ … ┆ 2016         ┆ Pago     ┆ Inicio  ┆ -0.418594 │\n",
       "│         ┆ EMPRESARIAL  ┆      ┆              ┆   ┆              ┆          ┆         ┆           │\n",
       "│ …       ┆ …            ┆ …    ┆ …            ┆ … ┆ …            ┆ …        ┆ …       ┆ …         │\n",
       "│ 0       ┆ GARANTIA     ┆ NR   ┆ BANCO        ┆ … ┆ 2013         ┆ Pago     ┆ Inicio  ┆ -0.197204 │\n",
       "│         ┆ SECTORIAL    ┆      ┆ SANTANDER    ┆   ┆              ┆          ┆         ┆           │\n",
       "│ 0       ┆ GARANTIA     ┆ R    ┆ BBV BANCOMER ┆ … ┆ 2017         ┆ Pago     ┆ Inicio  ┆ -0.482677 │\n",
       "│         ┆ EMPRESARIAL  ┆      ┆              ┆   ┆              ┆          ┆         ┆           │\n",
       "│ 0       ┆ GARANTIA     ┆ NR   ┆ BANCO DEL    ┆ … ┆ 2011         ┆ Pago     ┆ Inicio  ┆ -1.258048 │\n",
       "│         ┆ EMPRESARIAL  ┆      ┆ BAJIO        ┆   ┆              ┆          ┆         ┆           │\n",
       "│ 0       ┆ GARANTIA     ┆ NR   ┆ BANCO        ┆ … ┆ 2018         ┆ Pago     ┆ Inicio  ┆ -0.500346 │\n",
       "│         ┆ SECTORIAL    ┆      ┆ MERCANTIL    ┆   ┆              ┆          ┆         ┆           │\n",
       "│         ┆              ┆      ┆ DEL NORTE    ┆   ┆              ┆          ┆         ┆           │\n",
       "│ 0       ┆ GARANTIA     ┆ R    ┆ BANCA AFIRME ┆ … ┆ 2017         ┆ Pago     ┆ Inicio  ┆ -0.25814  │\n",
       "│         ┆ EMPRESARIAL  ┆      ┆              ┆   ┆              ┆          ┆         ┆           │\n",
       "└─────────┴──────────────┴──────┴──────────────┴───┴──────────────┴──────────┴─────────┴───────────┘"
      ]
     },
     "execution_count": 27,
     "metadata": {},
     "output_type": "execute_result"
    }
   ],
   "source": [
    "# TABLA_SEV_OBS_202504_Temp\n",
    "tabla_sev_obs_temp = pagadas_agrup.filter(\n",
    "    (pl.col(\"CICLOS_RESCAT\") == 1) &\n",
    "    (pl.col(\"ANIO(PAGO)\") <= 2018)\n",
    ").select([    # Seleccionar y transformar columnas\n",
    "    pl.col(\"MM_UDIS\"),\n",
    "    pl.col(\"TAXONOMIA\"),\n",
    "    pl.col(\"NR_R\"),\n",
    "    pl.col(\"BANCO\"),\n",
    "    pl.col(\"CSG\"),\n",
    "    pl.col(\"AGRUPAMIENTO\"),\n",
    "    pl.col(\"AGRUPAMIENTO_ID\"),\n",
    "    pl.col(\"TIPGAR_CLAVE\"),\n",
    "    pl.col(\"ESQUEMA\"),\n",
    "    pl.col(\"TPRO_CLAVE\"),\n",
    "    pl.col(\"ANIO(PAGO)_New\"),\n",
    "    pl.lit(\"Pago\").alias(\"CONCEPTO\"),\n",
    "    pl.lit(\"Inicio\").alias(\"PERIODO\"),\n",
    "    pl.col(\"MPAGADO\").alias(\"MONTO\")\n",
    "])\n",
    "\n",
    "tabla_sev_obs_temp"
   ]
  },
  {
   "cell_type": "code",
   "execution_count": 34,
   "id": "82f16016",
   "metadata": {},
   "outputs": [],
   "source": [
    "# TABLA_SEV_OBS_202504\n",
    "tabla_sev_obs = pl.concat([tabla_sev_obs, tabla_sev_obs_temp.cast({'TIPGAR_CLAVE': pl.Int32})])"
   ]
  },
  {
   "cell_type": "code",
   "execution_count": 43,
   "id": "ed256b7d",
   "metadata": {},
   "outputs": [],
   "source": [
    "# Definir lista de TAXONOMIA a excluir\n",
    "excluir_taxonomia = [\n",
    "    \"GARANTIAS BANCOMEXT\",\n",
    "    \"GARANTIAS SHF/LI FINANCIERO\",\n",
    "    \"GARANTIAS SHF-LI FINANCIERO\",\n",
    "    \"GARANTIAS BANSEFI\"\n",
    "]\n",
    "\n",
    "# PAGADAS_AGRUP_202504_VF\n",
    "pagadas_vf = pagadas_agrup.filter(~pl.col(\"TAXONOMIA\").is_in(excluir_taxonomia))\n",
    "\n",
    "# RECUP_AGRUP_202504_VF\n",
    "recup_vf = recup_agrup.filter(~pl.col(\"TAXONOMIA\").is_in(excluir_taxonomia))"
   ]
  },
  {
   "cell_type": "code",
   "execution_count": 51,
   "id": "4a649518",
   "metadata": {},
   "outputs": [
    {
     "data": {
      "text/html": [
       "<div><style>\n",
       ".dataframe > thead > tr,\n",
       ".dataframe > tbody > tr {\n",
       "  text-align: right;\n",
       "  white-space: pre-wrap;\n",
       "}\n",
       "</style>\n",
       "<small>shape: (225_576, 22)</small><table border=\"1\" class=\"dataframe\"><thead><tr><th>IND_ENTRA</th><th>MM_UDIS</th><th>TAXONOMIA</th><th>NR_R</th><th>BANCO</th><th>CSG</th><th>CSF</th><th>AGRUPAMIENTO</th><th>AGRUPAMIENTO_ID</th><th>CICLOS_RESCAT</th><th>DIFERENCIAS_MESES</th><th>TIPGAR_CLAVE</th><th>ANIO(PAGO)</th><th>REEST</th><th>MRECUP_TOT</th><th>MRESCAT_TOT</th><th>Anio_REG_RECUP</th><th>ESQUEMA</th><th>ANIO(PAGO)_New</th><th>Intermediario_Id</th><th>TPRO_CLAVE</th><th>ORDEN_PAGO</th></tr><tr><td>i32</td><td>i32</td><td>str</td><td>str</td><td>str</td><td>str</td><td>str</td><td>str</td><td>f64</td><td>i32</td><td>i32</td><td>i32</td><td>i32</td><td>str</td><td>f64</td><td>f64</td><td>i32</td><td>str</td><td>i32</td><td>str</td><td>i32</td><td>i32</td></tr></thead><tbody><tr><td>1</td><td>0</td><td>&quot;GARANTIA EMPRESARIAL&quot;</td><td>&quot;R&quot;</td><td>&quot;BANCO MERCANTIL DEL NORTE&quot;</td><td>&quot;SG&quot;</td><td>&quot;CF&quot;</td><td>&quot;Crediactivo Diana&quot;</td><td>1275.0</td><td>1</td><td>27</td><td>5</td><td>2012</td><td>&quot;NE&quot;</td><td>0.0</td><td>0.0</td><td>2015</td><td>&quot;Pari Passu&quot;</td><td>2012</td><td>&quot;10040072&quot;</td><td>31028</td><td>201212</td></tr><tr><td>1</td><td>0</td><td>&quot;GARANTIA EMPRESARIAL&quot;</td><td>&quot;R&quot;</td><td>&quot;HSBC MEXICO&quot;</td><td>&quot;SG&quot;</td><td>&quot;SF&quot;</td><td>&quot;Montos Menores Self Employ&quot;</td><td>1635.0</td><td>1</td><td>150</td><td>5</td><td>2011</td><td>&quot;NE&quot;</td><td>0.0</td><td>0.0</td><td>2024</td><td>&quot;Pari Passu&quot;</td><td>2011</td><td>&quot;10000171&quot;</td><td>3851</td><td>201106</td></tr><tr><td>1</td><td>0</td><td>&quot;GARANTIA SUBASTA&quot;</td><td>&quot;R&quot;</td><td>&quot;BANAMEX&quot;</td><td>&quot;SG&quot;</td><td>&quot;CF&quot;</td><td>&quot;Subasta Extraordinaria&quot;</td><td>1750.0</td><td>1</td><td>44</td><td>5</td><td>2011</td><td>&quot;NE&quot;</td><td>0.0</td><td>0.0</td><td>2014</td><td>&quot;1P&quot;</td><td>2011</td><td>&quot;10000233&quot;</td><td>3338</td><td>201104</td></tr><tr><td>1</td><td>0</td><td>&quot;GARANTIA EMPRESARIAL&quot;</td><td>&quot;R&quot;</td><td>&quot;BANAMEX&quot;</td><td>&quot;SG&quot;</td><td>&quot;CF&quot;</td><td>&quot;PyMe&quot;</td><td>1690.0</td><td>1</td><td>41</td><td>5</td><td>2019</td><td>&quot;NE&quot;</td><td>0.0</td><td>0.0</td><td>2022</td><td>&quot;Pari Passu&quot;</td><td>2019</td><td>&quot;10000233&quot;</td><td>35709</td><td>201905</td></tr><tr><td>1</td><td>0</td><td>&quot;GARANTIA EMPRESARIAL&quot;</td><td>&quot;NR&quot;</td><td>&quot;BANCO SANTANDER&quot;</td><td>&quot;SG&quot;</td><td>&quot;CF&quot;</td><td>&quot;PyMe&quot;</td><td>1690.0</td><td>1</td><td>5</td><td>4</td><td>2015</td><td>&quot;NE&quot;</td><td>0.0</td><td>0.0</td><td>2016</td><td>&quot;Pari Passu&quot;</td><td>2015</td><td>&quot;10000144&quot;</td><td>35175</td><td>201508</td></tr><tr><td>&hellip;</td><td>&hellip;</td><td>&hellip;</td><td>&hellip;</td><td>&hellip;</td><td>&hellip;</td><td>&hellip;</td><td>&hellip;</td><td>&hellip;</td><td>&hellip;</td><td>&hellip;</td><td>&hellip;</td><td>&hellip;</td><td>&hellip;</td><td>&hellip;</td><td>&hellip;</td><td>&hellip;</td><td>&hellip;</td><td>&hellip;</td><td>&hellip;</td><td>&hellip;</td><td>&hellip;</td></tr><tr><td>1</td><td>0</td><td>&quot;GARANTIA EMERGENTES&quot;</td><td>&quot;NR&quot;</td><td>&quot;BANCO SANTANDER&quot;</td><td>&quot;SG&quot;</td><td>&quot;CF&quot;</td><td>&quot;Emergente Contingencia Sanitar…</td><td>1390.0</td><td>1</td><td>48</td><td>4</td><td>2011</td><td>&quot;NE&quot;</td><td>0.0</td><td>0.0</td><td>2015</td><td>&quot;Pari Passu&quot;</td><td>2011</td><td>&quot;10000144&quot;</td><td>31015</td><td>201105</td></tr><tr><td>1</td><td>0</td><td>&quot;GARANTIA SECTORIAL&quot;</td><td>&quot;NR&quot;</td><td>&quot;BANCA MIFEL&quot;</td><td>&quot;SG&quot;</td><td>&quot;CF&quot;</td><td>&quot;Taxi DF&quot;</td><td>1930.0</td><td>1</td><td>2</td><td>4</td><td>2011</td><td>&quot;NE&quot;</td><td>0.0</td><td>0.0</td><td>2012</td><td>&quot;Pari Passu&quot;</td><td>2011</td><td>&quot;10000420&quot;</td><td>3268</td><td>201112</td></tr><tr><td>1</td><td>0</td><td>&quot;GARANTIA EMPRESARIAL&quot;</td><td>&quot;R&quot;</td><td>&quot;HSBC MEXICO&quot;</td><td>&quot;SG&quot;</td><td>&quot;CF&quot;</td><td>&quot;Micro Empresa PM&quot;</td><td>1595.0</td><td>1</td><td>2</td><td>5</td><td>2016</td><td>&quot;NE&quot;</td><td>0.0</td><td>0.0</td><td>2017</td><td>&quot;Pari Passu&quot;</td><td>2016</td><td>&quot;10000171&quot;</td><td>32907</td><td>201611</td></tr><tr><td>1</td><td>0</td><td>&quot;GARANTIA SUBASTA&quot;</td><td>&quot;NR&quot;</td><td>&quot;BANAMEX&quot;</td><td>&quot;SG&quot;</td><td>&quot;CF&quot;</td><td>&quot;Subasta Marzo 2015&quot;</td><td>1870.0</td><td>1</td><td>5</td><td>5</td><td>2018</td><td>&quot;NE&quot;</td><td>0.0</td><td>0.0</td><td>2019</td><td>&quot;1P&quot;</td><td>2018</td><td>&quot;10000233&quot;</td><td>33268</td><td>201809</td></tr><tr><td>1</td><td>0</td><td>&quot;GARANTIA EMPRESARIAL&quot;</td><td>&quot;NR&quot;</td><td>&quot;BANCO SANTANDER&quot;</td><td>&quot;SG&quot;</td><td>&quot;CF&quot;</td><td>&quot;PyMe&quot;</td><td>1690.0</td><td>1</td><td>7</td><td>4</td><td>2016</td><td>&quot;NE&quot;</td><td>0.0</td><td>0.0</td><td>2017</td><td>&quot;Pari Passu&quot;</td><td>2016</td><td>&quot;10000144&quot;</td><td>35220</td><td>201606</td></tr></tbody></table></div>"
      ],
      "text/plain": [
       "shape: (225_576, 22)\n",
       "┌───────────┬─────────┬─────────────┬──────┬───┬────────────┬────────────┬────────────┬────────────┐\n",
       "│ IND_ENTRA ┆ MM_UDIS ┆ TAXONOMIA   ┆ NR_R ┆ … ┆ ANIO(PAGO) ┆ Intermedia ┆ TPRO_CLAVE ┆ ORDEN_PAGO │\n",
       "│ ---       ┆ ---     ┆ ---         ┆ ---  ┆   ┆ _New       ┆ rio_Id     ┆ ---        ┆ ---        │\n",
       "│ i32       ┆ i32     ┆ str         ┆ str  ┆   ┆ ---        ┆ ---        ┆ i32        ┆ i32        │\n",
       "│           ┆         ┆             ┆      ┆   ┆ i32        ┆ str        ┆            ┆            │\n",
       "╞═══════════╪═════════╪═════════════╪══════╪═══╪════════════╪════════════╪════════════╪════════════╡\n",
       "│ 1         ┆ 0       ┆ GARANTIA    ┆ R    ┆ … ┆ 2012       ┆ 10040072   ┆ 31028      ┆ 201212     │\n",
       "│           ┆         ┆ EMPRESARIAL ┆      ┆   ┆            ┆            ┆            ┆            │\n",
       "│ 1         ┆ 0       ┆ GARANTIA    ┆ R    ┆ … ┆ 2011       ┆ 10000171   ┆ 3851       ┆ 201106     │\n",
       "│           ┆         ┆ EMPRESARIAL ┆      ┆   ┆            ┆            ┆            ┆            │\n",
       "│ 1         ┆ 0       ┆ GARANTIA    ┆ R    ┆ … ┆ 2011       ┆ 10000233   ┆ 3338       ┆ 201104     │\n",
       "│           ┆         ┆ SUBASTA     ┆      ┆   ┆            ┆            ┆            ┆            │\n",
       "│ 1         ┆ 0       ┆ GARANTIA    ┆ R    ┆ … ┆ 2019       ┆ 10000233   ┆ 35709      ┆ 201905     │\n",
       "│           ┆         ┆ EMPRESARIAL ┆      ┆   ┆            ┆            ┆            ┆            │\n",
       "│ 1         ┆ 0       ┆ GARANTIA    ┆ NR   ┆ … ┆ 2015       ┆ 10000144   ┆ 35175      ┆ 201508     │\n",
       "│           ┆         ┆ EMPRESARIAL ┆      ┆   ┆            ┆            ┆            ┆            │\n",
       "│ …         ┆ …       ┆ …           ┆ …    ┆ … ┆ …          ┆ …          ┆ …          ┆ …          │\n",
       "│ 1         ┆ 0       ┆ GARANTIA    ┆ NR   ┆ … ┆ 2011       ┆ 10000144   ┆ 31015      ┆ 201105     │\n",
       "│           ┆         ┆ EMERGENTES  ┆      ┆   ┆            ┆            ┆            ┆            │\n",
       "│ 1         ┆ 0       ┆ GARANTIA    ┆ NR   ┆ … ┆ 2011       ┆ 10000420   ┆ 3268       ┆ 201112     │\n",
       "│           ┆         ┆ SECTORIAL   ┆      ┆   ┆            ┆            ┆            ┆            │\n",
       "│ 1         ┆ 0       ┆ GARANTIA    ┆ R    ┆ … ┆ 2016       ┆ 10000171   ┆ 32907      ┆ 201611     │\n",
       "│           ┆         ┆ EMPRESARIAL ┆      ┆   ┆            ┆            ┆            ┆            │\n",
       "│ 1         ┆ 0       ┆ GARANTIA    ┆ NR   ┆ … ┆ 2018       ┆ 10000233   ┆ 33268      ┆ 201809     │\n",
       "│           ┆         ┆ SUBASTA     ┆      ┆   ┆            ┆            ┆            ┆            │\n",
       "│ 1         ┆ 0       ┆ GARANTIA    ┆ NR   ┆ … ┆ 2016       ┆ 10000144   ┆ 35220      ┆ 201606     │\n",
       "│           ┆         ┆ EMPRESARIAL ┆      ┆   ┆            ┆            ┆            ┆            │\n",
       "└───────────┴─────────┴─────────────┴──────┴───┴────────────┴────────────┴────────────┴────────────┘"
      ]
     },
     "execution_count": 51,
     "metadata": {},
     "output_type": "execute_result"
    }
   ],
   "source": [
    "recup_vf"
   ]
  },
  {
   "cell_type": "code",
   "execution_count": null,
   "id": "a8121135",
   "metadata": {},
   "outputs": [],
   "source": []
  },
  {
   "cell_type": "markdown",
   "id": "e27a60c0",
   "metadata": {},
   "source": [
    "##### Validadores"
   ]
  },
  {
   "cell_type": "code",
   "execution_count": 44,
   "id": "64a10037",
   "metadata": {},
   "outputs": [
    {
     "data": {
      "text/html": [
       "<div><style>\n",
       ".dataframe > thead > tr,\n",
       ".dataframe > tbody > tr {\n",
       "  text-align: right;\n",
       "  white-space: pre-wrap;\n",
       "}\n",
       "</style>\n",
       "<small>shape: (10, 2)</small><table border=\"1\" class=\"dataframe\"><thead><tr><th>TAXONOMIA</th><th>S_MPagado</th></tr><tr><td>str</td><td>f64</td></tr></thead><tbody><tr><td>&quot;GARANTIA SECTORIAL&quot;</td><td>-8639.926469</td></tr><tr><td>&quot;GARANTIA EMPRESARIAL&quot;</td><td>-39222.382216</td></tr><tr><td>&quot;GARANTIA EMERGENTES&quot;</td><td>-2219.294959</td></tr><tr><td>&quot;GARANTIA EMERGENCIAS&quot;</td><td>-1.227871</td></tr><tr><td>&quot;EMPRESA MEDIANA&quot;</td><td>-1529.779209</td></tr><tr><td>&quot;GARANTIA SUBASTA&quot;</td><td>-8557.131859</td></tr><tr><td>&quot;GARANTIA FIANZA&quot;</td><td>-7.096223</td></tr><tr><td>&quot;GARANTIAS FEFA&quot;</td><td>-69.381424</td></tr><tr><td>&quot;GARANTIA MICROCREDITO&quot;</td><td>-688.199388</td></tr><tr><td>&quot;GARANTIA SELECTIVA&quot;</td><td>-7.604453</td></tr></tbody></table></div>"
      ],
      "text/plain": [
       "shape: (10, 2)\n",
       "┌───────────────────────┬───────────────┐\n",
       "│ TAXONOMIA             ┆ S_MPagado     │\n",
       "│ ---                   ┆ ---           │\n",
       "│ str                   ┆ f64           │\n",
       "╞═══════════════════════╪═══════════════╡\n",
       "│ GARANTIA SECTORIAL    ┆ -8639.926469  │\n",
       "│ GARANTIA EMPRESARIAL  ┆ -39222.382216 │\n",
       "│ GARANTIA EMERGENTES   ┆ -2219.294959  │\n",
       "│ GARANTIA EMERGENCIAS  ┆ -1.227871     │\n",
       "│ EMPRESA MEDIANA       ┆ -1529.779209  │\n",
       "│ GARANTIA SUBASTA      ┆ -8557.131859  │\n",
       "│ GARANTIA FIANZA       ┆ -7.096223     │\n",
       "│ GARANTIAS FEFA        ┆ -69.381424    │\n",
       "│ GARANTIA MICROCREDITO ┆ -688.199388   │\n",
       "│ GARANTIA SELECTIVA    ┆ -7.604453     │\n",
       "└───────────────────────┴───────────────┘"
      ]
     },
     "execution_count": 44,
     "metadata": {},
     "output_type": "execute_result"
    }
   ],
   "source": [
    "valida_pagos = (\n",
    "    pagadas_vf\n",
    "    .group_by(\"TAXONOMIA\")\n",
    "    .agg(pl.col(\"MPAGADO\").sum().alias(\"S_MPagado\"))\n",
    ")\n",
    "valida_pagos"
   ]
  },
  {
   "cell_type": "code",
   "execution_count": 45,
   "id": "852f8f13",
   "metadata": {},
   "outputs": [
    {
     "data": {
      "text/html": [
       "<div><style>\n",
       ".dataframe > thead > tr,\n",
       ".dataframe > tbody > tr {\n",
       "  text-align: right;\n",
       "  white-space: pre-wrap;\n",
       "}\n",
       "</style>\n",
       "<small>shape: (8, 3)</small><table border=\"1\" class=\"dataframe\"><thead><tr><th>TAXONOMIA</th><th>S_MRcup</th><th>S_MRescat</th></tr><tr><td>str</td><td>f64</td><td>f64</td></tr></thead><tbody><tr><td>&quot;EMPRESA MEDIANA&quot;</td><td>0.0</td><td>0.0</td></tr><tr><td>&quot;GARANTIA SUBASTA&quot;</td><td>0.0</td><td>0.0</td></tr><tr><td>&quot;GARANTIA SELECTIVA&quot;</td><td>0.0</td><td>0.0</td></tr><tr><td>&quot;GARANTIA EMPRESARIAL&quot;</td><td>0.0</td><td>0.0</td></tr><tr><td>&quot;GARANTIA MICROCREDITO&quot;</td><td>0.0</td><td>0.0</td></tr><tr><td>&quot;GARANTIA SECTORIAL&quot;</td><td>0.0</td><td>0.0</td></tr><tr><td>&quot;GARANTIA EMERGENTES&quot;</td><td>0.0</td><td>0.0</td></tr><tr><td>&quot;GARANTIA FIANZA&quot;</td><td>0.0</td><td>0.0</td></tr></tbody></table></div>"
      ],
      "text/plain": [
       "shape: (8, 3)\n",
       "┌───────────────────────┬─────────┬───────────┐\n",
       "│ TAXONOMIA             ┆ S_MRcup ┆ S_MRescat │\n",
       "│ ---                   ┆ ---     ┆ ---       │\n",
       "│ str                   ┆ f64     ┆ f64       │\n",
       "╞═══════════════════════╪═════════╪═══════════╡\n",
       "│ EMPRESA MEDIANA       ┆ 0.0     ┆ 0.0       │\n",
       "│ GARANTIA SUBASTA      ┆ 0.0     ┆ 0.0       │\n",
       "│ GARANTIA SELECTIVA    ┆ 0.0     ┆ 0.0       │\n",
       "│ GARANTIA EMPRESARIAL  ┆ 0.0     ┆ 0.0       │\n",
       "│ GARANTIA MICROCREDITO ┆ 0.0     ┆ 0.0       │\n",
       "│ GARANTIA SECTORIAL    ┆ 0.0     ┆ 0.0       │\n",
       "│ GARANTIA EMERGENTES   ┆ 0.0     ┆ 0.0       │\n",
       "│ GARANTIA FIANZA       ┆ 0.0     ┆ 0.0       │\n",
       "└───────────────────────┴─────────┴───────────┘"
      ]
     },
     "execution_count": 45,
     "metadata": {},
     "output_type": "execute_result"
    }
   ],
   "source": [
    "valida_recup_rescat = (\n",
    "    recup_vf\n",
    "    .filter(pl.col(\"IND_ENTRA\") == 1)\n",
    "    .group_by(\"TAXONOMIA\")\n",
    "    .agg([\n",
    "        pl.col(\"MRECUP_TOT\").sum().alias(\"S_MRcup\"),\n",
    "        pl.col(\"MRESCAT_TOT\").sum().alias(\"S_MRescat\")\n",
    "    ])\n",
    ")\n",
    "valida_recup_rescat"
   ]
  },
  {
   "cell_type": "code",
   "execution_count": 46,
   "id": "70922a14",
   "metadata": {},
   "outputs": [
    {
     "data": {
      "text/html": [
       "<div><style>\n",
       ".dataframe > thead > tr,\n",
       ".dataframe > tbody > tr {\n",
       "  text-align: right;\n",
       "  white-space: pre-wrap;\n",
       "}\n",
       "</style>\n",
       "<small>shape: (1, 2)</small><table border=\"1\" class=\"dataframe\"><thead><tr><th>TAXONOMIA</th><th>S_MPagado</th></tr><tr><td>str</td><td>f64</td></tr></thead><tbody><tr><td>&quot;GARANTIA MICROCREDITO&quot;</td><td>-469.87856</td></tr></tbody></table></div>"
      ],
      "text/plain": [
       "shape: (1, 2)\n",
       "┌───────────────────────┬────────────┐\n",
       "│ TAXONOMIA             ┆ S_MPagado  │\n",
       "│ ---                   ┆ ---        │\n",
       "│ str                   ┆ f64        │\n",
       "╞═══════════════════════╪════════════╡\n",
       "│ GARANTIA MICROCREDITO ┆ -469.87856 │\n",
       "└───────────────────────┴────────────┘"
      ]
     },
     "execution_count": 46,
     "metadata": {},
     "output_type": "execute_result"
    }
   ],
   "source": [
    "valida_pagos_fide = (\n",
    "    pagadas_vf\n",
    "    .filter(pl.col(\"AGRUPAMIENTO\") == \"FIDE\")\n",
    "    .group_by(\"TAXONOMIA\")\n",
    "    .agg(pl.col(\"MPAGADO\").sum().alias(\"S_MPagado\"))\n",
    ")\n",
    "valida_pagos_fide"
   ]
  },
  {
   "cell_type": "code",
   "execution_count": 48,
   "id": "399377db",
   "metadata": {},
   "outputs": [
    {
     "data": {
      "text/html": [
       "<div><style>\n",
       ".dataframe > thead > tr,\n",
       ".dataframe > tbody > tr {\n",
       "  text-align: right;\n",
       "  white-space: pre-wrap;\n",
       "}\n",
       "</style>\n",
       "<small>shape: (8, 3)</small><table border=\"1\" class=\"dataframe\"><thead><tr><th>TAXONOMIA</th><th>S_MRcup</th><th>S_MRescat</th></tr><tr><td>str</td><td>f64</td><td>f64</td></tr></thead><tbody><tr><td>&quot;EMPRESA MEDIANA&quot;</td><td>0.0</td><td>0.0</td></tr><tr><td>&quot;GARANTIA SUBASTA&quot;</td><td>0.0</td><td>0.0</td></tr><tr><td>&quot;GARANTIA SELECTIVA&quot;</td><td>0.0</td><td>0.0</td></tr><tr><td>&quot;GARANTIA EMPRESARIAL&quot;</td><td>0.0</td><td>0.0</td></tr><tr><td>&quot;GARANTIA MICROCREDITO&quot;</td><td>0.0</td><td>0.0</td></tr><tr><td>&quot;GARANTIA SECTORIAL&quot;</td><td>0.0</td><td>0.0</td></tr><tr><td>&quot;GARANTIA EMERGENTES&quot;</td><td>0.0</td><td>0.0</td></tr><tr><td>&quot;GARANTIA FIANZA&quot;</td><td>0.0</td><td>0.0</td></tr></tbody></table></div>"
      ],
      "text/plain": [
       "shape: (8, 3)\n",
       "┌───────────────────────┬─────────┬───────────┐\n",
       "│ TAXONOMIA             ┆ S_MRcup ┆ S_MRescat │\n",
       "│ ---                   ┆ ---     ┆ ---       │\n",
       "│ str                   ┆ f64     ┆ f64       │\n",
       "╞═══════════════════════╪═════════╪═══════════╡\n",
       "│ EMPRESA MEDIANA       ┆ 0.0     ┆ 0.0       │\n",
       "│ GARANTIA SUBASTA      ┆ 0.0     ┆ 0.0       │\n",
       "│ GARANTIA SELECTIVA    ┆ 0.0     ┆ 0.0       │\n",
       "│ GARANTIA EMPRESARIAL  ┆ 0.0     ┆ 0.0       │\n",
       "│ GARANTIA MICROCREDITO ┆ 0.0     ┆ 0.0       │\n",
       "│ GARANTIA SECTORIAL    ┆ 0.0     ┆ 0.0       │\n",
       "│ GARANTIA EMERGENTES   ┆ 0.0     ┆ 0.0       │\n",
       "│ GARANTIA FIANZA       ┆ 0.0     ┆ 0.0       │\n",
       "└───────────────────────┴─────────┴───────────┘"
      ]
     },
     "execution_count": 48,
     "metadata": {},
     "output_type": "execute_result"
    }
   ],
   "source": [
    "valida_recup_rescat_fide = (\n",
    "    recup_vf\n",
    "    .filter((pl.col(\"AGRUPAMIENTO\") == \"FIDE\") & (pl.col(\"IND_ENTRA\") == 1))\n",
    "    .group_by(\"TAXONOMIA\")\n",
    "    .agg([\n",
    "        pl.col(\"MRECUP_TOT\").sum().alias(\"S_MRcup\"),\n",
    "        pl.col(\"MRESCAT_TOT\").sum().alias(\"S_MRescat\")\n",
    "    ])\n",
    ")\n",
    "valida_recup_rescat"
   ]
  }
 ],
 "metadata": {
  "kernelspec": {
   "display_name": ".venv",
   "language": "python",
   "name": "python3"
  },
  "language_info": {
   "codemirror_mode": {
    "name": "ipython",
    "version": 3
   },
   "file_extension": ".py",
   "mimetype": "text/x-python",
   "name": "python",
   "nbconvert_exporter": "python",
   "pygments_lexer": "ipython3",
   "version": "3.13.2"
  }
 },
 "nbformat": 4,
 "nbformat_minor": 5
}
