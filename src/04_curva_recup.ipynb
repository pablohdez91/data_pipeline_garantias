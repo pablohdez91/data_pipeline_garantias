{
 "cells": [
  {
   "cell_type": "code",
   "execution_count": 1,
   "id": "6867f8eb",
   "metadata": {},
   "outputs": [],
   "source": [
    "import polars as pl\n",
    "import pyodbc\n",
    "from datetime import date"
   ]
  },
  {
   "cell_type": "markdown",
   "id": "3ab50c1f",
   "metadata": {},
   "source": [
    "### Definición de Rutas"
   ]
  },
  {
   "cell_type": "code",
   "execution_count": 5,
   "id": "d5ce8333",
   "metadata": {},
   "outputs": [],
   "source": [
    "cierre = \"202504\"\n",
    "cierre_l = \"Abr25\"\n",
    "cierre_d = date(2025,4,30)\n",
    "\n",
    "# Carpetas\n",
    "wd = \"E:/Users/jhernandezr/DAR/garantias/reporte/fotos/\"\n",
    "wd_data_raw = wd + \"data/raw/\"\n",
    "wd_data_external = wd + \"data/external/\"\n",
    "wd_data_processed_dwh = \"E:/Users/jhernandezr/DAR/garantias/data_pipeline_garantias/data/processed/dwh/\"\n",
    "wd_data_processed_fotos = \"E:/Users/jhernandezr/DAR/garantias/data_pipeline_garantias/data/processed/fotos/\"\n",
    "\n",
    "# Inputs\n",
    "fl_catalogos = wd_data_external + f'Catálogos_{cierre_l}'\n",
    "fl_recuperadas_detalle = wd_data_processed_dwh + f'parquet/Recupera_con_Pagos_Flujos_{cierre}.parquet'\n",
    "fl_pagadas_detalle = wd_data_processed_dwh + f'parquet/Pagadas_Global_VF_{cierre}.parquet'\n",
    "\n",
    "# Outputs\n"
   ]
  },
  {
   "cell_type": "markdown",
   "id": "7f96d4c1",
   "metadata": {},
   "source": [
    "### Importa tablas"
   ]
  },
  {
   "cell_type": "code",
   "execution_count": 4,
   "id": "664b3858",
   "metadata": {},
   "outputs": [],
   "source": [
    "schema_recuperadas = {\n",
    "    'Concatenar_Saldos': pl.String,\n",
    "    'Fecha_Consulta': pl.Datetime,\n",
    "    'Programa_Id': pl.Int32,\n",
    "    'Tipo_Garantia_Id': pl.Int16,\n",
    "    'Tipo_Cambio_Cierre': pl.Float32,\n",
    "    'Programa_Original': pl.Int32,\n",
    "    'Porcentaje_Garantizado': pl.Float32,\n",
    "    'Monto _Credito_Mn': pl.Float64,\n",
    "    'Fecha_Apertura': pl.Datetime,\n",
    "    'Moneda_Id': pl.Int16,\n",
    "    'Tipo_Credito_Id': pl.Int16,\n",
    "    'Fecha_Garantia_Honrada': pl.Datetime,\n",
    "    'TPRO_CLAVE': pl.Int32,\n",
    "    'NR_R': pl.String,\n",
    "    'Producto': pl.String,\n",
    "    'AGRUPAMIENTO_ID': pl.Float64,\n",
    "    'AGRUPAMIENTO': pl.String,\n",
    "    'Intermediario_Id': pl.String,\n",
    "    'Numero_Credito': pl.String,\n",
    "    'Id': pl.Int16,\n",
    "    'Monto': pl.Float64,\n",
    "    'Interes': pl.Float64,\n",
    "    'Moratorios': pl.Float64,\n",
    "    'Descripcion': pl.String,\n",
    "    'Estatus': pl.String,\n",
    "    'Fecha_Registro': pl.Datetime,\n",
    "    'Fecha': pl.Datetime,\n",
    "    'Monto_Mn': pl.Float64,\n",
    "    'Interes_Mn': pl.Float64,\n",
    "    'Excedente': pl.Float64,\n",
    "    'Excedente_Mn': pl.Float64,\n",
    "    'Moratorios_Mn': pl.Float64,\n",
    "    'Sub_Total_Mn': pl.Float64,\n",
    "    'RazÃ³n Social (Intermediario)': pl.String,\n",
    "    'Empresa / Acreditado (DescripciÃ³n)': pl.String,\n",
    "    'RFC Empresa / Acreditado': pl.String,\n",
    "    'TIPO_PERSONA': pl.String,\n",
    "    'Recup_Rescat': pl.String,\n",
    "    'MM_UDIS': pl.Int64,\n",
    "    'ESQUEMA': pl.String,\n",
    "    'CSG': pl.String,\n",
    "    'CSF': pl.String,\n",
    "    'Gastos_Juicio_Mn': pl.Float64,\n",
    "    'Monto_Total_Mn': pl.Float64,\n",
    "    'MPagado_Mn': pl.Float64,\n",
    "    'Historico': pl.String,\n",
    "    'Fecha Registro Alta': pl.Datetime}\n",
    "\n",
    "schema_pagadas = {\n",
    "    'Concatenado': pl.String,\n",
    "    'Fecha_Consulta': pl.Datetime,\n",
    "    'Intermediario_Id': pl.String,\n",
    "    'Numero_Credito': pl.String,\n",
    "    'Producto': pl.String,\n",
    "    'Pago ID': pl.Int16,\n",
    "    'RazÃ³n Social (Intermediario)': pl.String,\n",
    "    'MIN_Fecha_Registro': pl.Datetime,\n",
    "    'Fecha_Garantia_Honrada': pl.Datetime,\n",
    "    'TPRO_CLAVE': pl.Float32,\n",
    "    'Programa_Original': pl.Int32,\n",
    "    'Programa_Id': pl.Int32,\n",
    "    'Monto _Credito_Mn': pl.Float64,\n",
    "    'Moneda_Id': pl.Int16,\n",
    "    'Fecha de Apertura': pl.Datetime,\n",
    "    'Tipo_Garantia_Id': pl.Int16,\n",
    "    'TIPO_PERSONA': pl.String,\n",
    "    'RFC Empresa / Acreditado': pl.String,\n",
    "    'Monto_Desembolsado': pl.Float64,\n",
    "    'Interes_Desembolso': pl.Float64,\n",
    "    'Interes_Moratorios': pl.Float64,\n",
    "    'Porcentaje_Garantizado': pl.Float32,\n",
    "    'Tipo_Credito_Id': pl.Int16,\n",
    "    'Estatus_Recuperacion': pl.String,\n",
    "    'Empresa / Acreditado (DescripciÃ³n)': pl.String,\n",
    "    'Fecha Registro Alta': pl.Datetime,\n",
    "    'TC': pl.Float32,\n",
    "    'AGRUPAMIENTO_ID': pl.Float32, # Revisar\n",
    "    'AGRUPAMIENTO': pl.String,\n",
    "    'ESQUEMA': pl.String,\n",
    "    'SUBESQUEMA': pl.String,\n",
    "    'CAMBIO': pl.Float64,\n",
    "    'MM_UDIS': pl.Int16,\n",
    "    'NR_R': pl.String,\n",
    "    'CSG': pl.String,\n",
    "    'CSF': pl.String,\n",
    "    'Monto_Desembolso_Mn': pl.Float64,\n",
    "    'Interes_Desembolso_Mn': pl.Float64,\n",
    "    'Interes_Moratorios_Mn': pl.Float64,\n",
    "    'Monto_Pagado_Mn': pl.Float64\n",
    "}"
   ]
  },
  {
   "cell_type": "code",
   "execution_count": 7,
   "id": "f9821723",
   "metadata": {},
   "outputs": [],
   "source": [
    "recuperadas_detalle = pl.read_parquet(fl_recuperadas_detalle)"
   ]
  },
  {
   "cell_type": "code",
   "execution_count": 8,
   "id": "108f718f",
   "metadata": {},
   "outputs": [
    {
     "data": {
      "text/html": [
       "<div><style>\n",
       ".dataframe > thead > tr,\n",
       ".dataframe > tbody > tr {\n",
       "  text-align: right;\n",
       "  white-space: pre-wrap;\n",
       "}\n",
       "</style>\n",
       "<small>shape: (1_563_961, 47)</small><table border=\"1\" class=\"dataframe\"><thead><tr><th>Concatenar_Saldos</th><th>Fecha_Consulta</th><th>Programa_Id</th><th>Tipo_Garantia_Id</th><th>Tipo_Cambio_Cierre</th><th>Programa_Original</th><th>Porcentaje_Garantizado</th><th>Monto _Credito_Mn</th><th>Fecha_Apertura</th><th>Moneda_Id</th><th>Tipo_Credito_Id</th><th>Fecha_Garantia_Honrada</th><th>TPRO_CLAVE</th><th>NR_R</th><th>Producto</th><th>AGRUPAMIENTO_ID</th><th>AGRUPAMIENTO</th><th>Intermediario_Id</th><th>Numero_Credito</th><th>Id</th><th>Monto</th><th>Interes</th><th>Moratorios</th><th>Descripcion</th><th>Estatus</th><th>Fecha_Registro</th><th>Fecha</th><th>Monto_Mn</th><th>Interes_Mn</th><th>Excedente</th><th>Excedente_Mn</th><th>Moratorios_Mn</th><th>Sub_Total_Mn</th><th>Razón Social (Intermediario)</th><th>Empresa / Acreditado (Descripción)</th><th>RFC Empresa / Acreditado</th><th>TIPO_PERSONA</th><th>Recup_Rescat</th><th>MM_UDIS</th><th>ESQUEMA</th><th>CSG</th><th>CSF</th><th>Gastos_Juicio_Mn</th><th>Monto_Total_Mn</th><th>MPagado_Mn</th><th>Historico</th><th>Fecha Registro Alta</th></tr><tr><td>str</td><td>datetime[μs]</td><td>i32</td><td>i32</td><td>f32</td><td>i32</td><td>f32</td><td>f64</td><td>datetime[μs]</td><td>i64</td><td>i32</td><td>datetime[μs]</td><td>i32</td><td>str</td><td>str</td><td>f64</td><td>str</td><td>str</td><td>str</td><td>i64</td><td>f64</td><td>f64</td><td>f64</td><td>str</td><td>str</td><td>datetime[μs]</td><td>datetime[μs]</td><td>f64</td><td>f64</td><td>f64</td><td>f64</td><td>f64</td><td>f64</td><td>str</td><td>str</td><td>str</td><td>str</td><td>str</td><td>i32</td><td>str</td><td>str</td><td>str</td><td>f64</td><td>f64</td><td>f64</td><td>str</td><td>datetime[μs]</td></tr></thead><tbody><tr><td>&quot;1004020012709009602672806&quot;</td><td>2025-04-30 00:00:00</td><td>3253</td><td>3</td><td>1.0</td><td>3999</td><td>100.0</td><td>20233.33</td><td>2008-03-19 00:00:00</td><td>1</td><td>25</td><td>2010-05-10 00:00:00</td><td>3253</td><td>&quot;NR&quot;</td><td>&quot;GARANTIA EMERGENTES&quot;</td><td>1335.0</td><td>&quot;Emergente 2007 Tabasco&quot;</td><td>&quot;10040200&quot;</td><td>&quot;12709009602672806&quot;</td><td>2</td><td>-5547.65</td><td>-69.34</td><td>null</td><td>&quot;CS P.253 - 1063733 DEP 2408201…</td><td>&quot;CS&quot;</td><td>2010-08-24 00:00:00</td><td>2010-08-24 00:00:00</td><td>-5547.65</td><td>-69.34</td><td>0.0</td><td>0.0</td><td>null</td><td>-5616.99</td><td>&quot;BANCO AZTECA&quot;</td><td>&quot;BONIFACIO HERNANDEZ DIONICIO&quot;</td><td>&quot;HEDB-721016-&quot;</td><td>&quot;F&quot;</td><td>&quot;Rescatada&quot;</td><td>0</td><td>&quot;PP&quot;</td><td>&quot;CG&quot;</td><td>&quot;CF&quot;</td><td>0.0</td><td>-5616.99</td><td>-5616.99</td><td>&quot;H&quot;</td><td>2008-04-18 00:00:00</td></tr><tr><td>&quot;1004020012709009602663086&quot;</td><td>2025-04-30 00:00:00</td><td>3253</td><td>3</td><td>1.0</td><td>3999</td><td>100.0</td><td>111283.33</td><td>2008-01-17 00:00:00</td><td>1</td><td>25</td><td>2010-02-12 00:00:00</td><td>3253</td><td>&quot;NR&quot;</td><td>&quot;GARANTIA EMERGENTES&quot;</td><td>1335.0</td><td>&quot;Emergente 2007 Tabasco&quot;</td><td>&quot;10040200&quot;</td><td>&quot;12709009602663086&quot;</td><td>2</td><td>-34220.15</td><td>-900.33</td><td>null</td><td>&quot;CS P.253 - 1063733 DEP 2408201…</td><td>&quot;CS&quot;</td><td>2010-08-24 00:00:00</td><td>2010-08-24 00:00:00</td><td>-34220.15</td><td>-900.33</td><td>0.0</td><td>0.0</td><td>null</td><td>-35120.48</td><td>&quot;BANCO AZTECA&quot;</td><td>&quot;JOSE ANTONIO GERONIMO TORRES&quot;</td><td>&quot;GETJ-480906-&quot;</td><td>&quot;F&quot;</td><td>&quot;Rescatada&quot;</td><td>0</td><td>&quot;PP&quot;</td><td>&quot;CG&quot;</td><td>&quot;CF&quot;</td><td>0.0</td><td>-35120.48</td><td>-34640.11</td><td>&quot;H&quot;</td><td>2008-07-08 00:00:00</td></tr><tr><td>&quot;1004020012762089602666527&quot;</td><td>2025-04-30 00:00:00</td><td>3253</td><td>3</td><td>1.0</td><td>3999</td><td>100.0</td><td>101166.67</td><td>2008-02-11 00:00:00</td><td>1</td><td>25</td><td>2009-03-12 00:00:00</td><td>3253</td><td>&quot;NR&quot;</td><td>&quot;GARANTIA EMERGENTES&quot;</td><td>1335.0</td><td>&quot;Emergente 2007 Tabasco&quot;</td><td>&quot;10040200&quot;</td><td>&quot;12762089602666527&quot;</td><td>1</td><td>6423.66</td><td>0.0</td><td>null</td><td>&quot;RP P.253 - 1063733 DEP 1408200…</td><td>&quot;D&quot;</td><td>2009-09-02 00:00:00</td><td>2009-09-02 00:00:00</td><td>6423.66</td><td>0.0</td><td>0.0</td><td>0.0</td><td>null</td><td>6423.66</td><td>&quot;BANCO AZTECA&quot;</td><td>&quot;FRANCISCO LUNA AVALOS&quot;</td><td>&quot;LUAF-671010-&quot;</td><td>&quot;F&quot;</td><td>&quot;Recuperada&quot;</td><td>0</td><td>&quot;PP&quot;</td><td>&quot;CG&quot;</td><td>&quot;CF&quot;</td><td>null</td><td>null</td><td>-75300.66</td><td>&quot;H&quot;</td><td>2008-04-28 00:00:00</td></tr><tr><td>&quot;1004020012709009602671295&quot;</td><td>2025-04-30 00:00:00</td><td>3253</td><td>3</td><td>1.0</td><td>3999</td><td>100.0</td><td>91050.0</td><td>2008-03-06 00:00:00</td><td>1</td><td>25</td><td>2010-05-10 00:00:00</td><td>3253</td><td>&quot;NR&quot;</td><td>&quot;GARANTIA EMERGENTES&quot;</td><td>1335.0</td><td>&quot;Emergente 2007 Tabasco&quot;</td><td>&quot;10040200&quot;</td><td>&quot;12709009602671295&quot;</td><td>1</td><td>338.71</td><td>0.0</td><td>null</td><td>&quot;Recuperacion automatica, carga…</td><td>&quot;D&quot;</td><td>2010-06-18 00:00:00</td><td>2010-06-02 00:00:00</td><td>338.71</td><td>0.0</td><td>0.0</td><td>0.0</td><td>null</td><td>338.71</td><td>&quot;BANCO AZTECA&quot;</td><td>&quot;ROBERTO MELENDREZ MONTES&quot;</td><td>&quot;MEMR-770620-&quot;</td><td>&quot;F&quot;</td><td>&quot;Recuperada&quot;</td><td>0</td><td>&quot;PP&quot;</td><td>&quot;CG&quot;</td><td>&quot;CF&quot;</td><td>0.0</td><td>338.71</td><td>-17784.22</td><td>&quot;H&quot;</td><td>2008-04-18 00:00:00</td></tr><tr><td>&quot;1004020012709009602663292&quot;</td><td>2025-04-30 00:00:00</td><td>3253</td><td>3</td><td>1.0</td><td>3999</td><td>100.0</td><td>151750.0</td><td>2008-01-21 00:00:00</td><td>1</td><td>25</td><td>2010-08-12 00:00:00</td><td>3253</td><td>&quot;NR&quot;</td><td>&quot;GARANTIA EMERGENTES&quot;</td><td>1335.0</td><td>&quot;Emergente 2007 Tabasco&quot;</td><td>&quot;10040200&quot;</td><td>&quot;12709009602663292&quot;</td><td>1</td><td>170.89</td><td>0.0</td><td>null</td><td>&quot;Recuperacion automatica, carga…</td><td>&quot;D&quot;</td><td>2010-09-07 00:00:00</td><td>2010-09-06 00:00:00</td><td>170.89</td><td>0.0</td><td>0.0</td><td>0.0</td><td>null</td><td>170.89</td><td>&quot;BANCO AZTECA&quot;</td><td>&quot;ESTHER CAROLINA JASSO GARCIA&quot;</td><td>&quot;JAGE-661123-&quot;</td><td>&quot;F&quot;</td><td>&quot;Recuperada&quot;</td><td>0</td><td>&quot;PP&quot;</td><td>&quot;CG&quot;</td><td>&quot;CF&quot;</td><td>0.0</td><td>170.89</td><td>-1908.45</td><td>&quot;H&quot;</td><td>2008-06-13 00:00:00</td></tr><tr><td>&hellip;</td><td>&hellip;</td><td>&hellip;</td><td>&hellip;</td><td>&hellip;</td><td>&hellip;</td><td>&hellip;</td><td>&hellip;</td><td>&hellip;</td><td>&hellip;</td><td>&hellip;</td><td>&hellip;</td><td>&hellip;</td><td>&hellip;</td><td>&hellip;</td><td>&hellip;</td><td>&hellip;</td><td>&hellip;</td><td>&hellip;</td><td>&hellip;</td><td>&hellip;</td><td>&hellip;</td><td>&hellip;</td><td>&hellip;</td><td>&hellip;</td><td>&hellip;</td><td>&hellip;</td><td>&hellip;</td><td>&hellip;</td><td>&hellip;</td><td>&hellip;</td><td>&hellip;</td><td>&hellip;</td><td>&hellip;</td><td>&hellip;</td><td>&hellip;</td><td>&hellip;</td><td>&hellip;</td><td>&hellip;</td><td>&hellip;</td><td>&hellip;</td><td>&hellip;</td><td>&hellip;</td><td>&hellip;</td><td>&hellip;</td><td>&hellip;</td><td>&hellip;</td></tr><tr><td>&quot;604239589666359810&quot;</td><td>2025-04-30 00:00:00</td><td>390160</td><td>4</td><td>1.0</td><td>3999</td><td>60.0</td><td>2.5e6</td><td>2024-05-31 00:00:00</td><td>1</td><td>2</td><td>2024-11-13 00:00:00</td><td>390160</td><td>&quot;NR&quot;</td><td>&quot;GARANTIAS BANCOMEXT&quot;</td><td>1225.0</td><td>&quot;Bancomext&quot;</td><td>&quot;60423958&quot;</td><td>&quot;9666359810&quot;</td><td>2</td><td>18608.82</td><td>0.0</td><td>0.0</td><td>&quot;Recuperacion automatica, carga…</td><td>&quot;D&quot;</td><td>2024-12-16 10:13:57</td><td>2024-12-13 00:00:00</td><td>18608.82</td><td>0.0</td><td>0.0</td><td>0.0</td><td>0.0</td><td>18608.82</td><td>&quot;BANCOMEXT BBVA BANCOMER&quot;</td><td>&quot;GNESHA COMMERCE AND RELATED SE…</td><td>&quot;GCR-200622-A1A&quot;</td><td>&quot;M&quot;</td><td>&quot;Recuperada&quot;</td><td>0</td><td>&quot;PP&quot;</td><td>&quot;SG&quot;</td><td>&quot;CF&quot;</td><td>0.0</td><td>18608.82</td><td>-1.5470e6</td><td>&quot;V&quot;</td><td>2024-06-06 15:01:36</td></tr><tr><td>&quot;604239589666359810&quot;</td><td>2025-04-30 00:00:00</td><td>390160</td><td>4</td><td>1.0</td><td>3999</td><td>60.0</td><td>2.5e6</td><td>2024-05-31 00:00:00</td><td>1</td><td>2</td><td>2024-11-13 00:00:00</td><td>390160</td><td>&quot;NR&quot;</td><td>&quot;GARANTIAS BANCOMEXT&quot;</td><td>1225.0</td><td>&quot;Bancomext&quot;</td><td>&quot;60423958&quot;</td><td>&quot;9666359810&quot;</td><td>3</td><td>1.3975e6</td><td>47017.67</td><td>0.0</td><td>&quot;Recuperacion automatica, carga…</td><td>&quot;RS&quot;</td><td>2025-01-17 10:03:14</td><td>2025-01-16 00:00:00</td><td>1.3975e6</td><td>47017.67</td><td>0.0</td><td>0.0</td><td>0.0</td><td>1.4445e6</td><td>&quot;BANCOMEXT BBVA BANCOMER&quot;</td><td>&quot;GNESHA COMMERCE AND RELATED SE…</td><td>&quot;GCR-200622-A1A&quot;</td><td>&quot;M&quot;</td><td>&quot;Rescatada&quot;</td><td>0</td><td>&quot;PP&quot;</td><td>&quot;SG&quot;</td><td>&quot;CF&quot;</td><td>0.0</td><td>1.4445e6</td><td>-1.5470e6</td><td>&quot;V&quot;</td><td>2024-06-06 15:01:36</td></tr><tr><td>&quot;47880985286616798&quot;</td><td>2025-04-30 00:00:00</td><td>390163</td><td>4</td><td>1.0</td><td>3999</td><td>60.0</td><td>2.2e6</td><td>2024-05-03 00:00:00</td><td>1</td><td>2</td><td>2024-11-28 00:00:00</td><td>390163</td><td>&quot;NR&quot;</td><td>&quot;GARANTIAS BANCOMEXT&quot;</td><td>1225.0</td><td>&quot;Bancomext&quot;</td><td>&quot;478809852&quot;</td><td>&quot;86616798&quot;</td><td>1</td><td>46366.59</td><td>0.0</td><td>0.0</td><td>&quot;Recuperacion automatica, carga…</td><td>&quot;D&quot;</td><td>2024-12-31 09:27:06</td><td>2024-12-30 00:00:00</td><td>46366.59</td><td>0.0</td><td>0.0</td><td>0.0</td><td>0.0</td><td>46366.59</td><td>&quot;BANCOMEXTHSBC&quot;</td><td>&quot;AGAVE TRADING MEXICO S DE RL D&quot;</td><td>&quot;ATM-051107-AU7&quot;</td><td>&quot;M&quot;</td><td>&quot;Recuperada&quot;</td><td>0</td><td>&quot;PP&quot;</td><td>&quot;SG&quot;</td><td>&quot;CF&quot;</td><td>0.0</td><td>46366.59</td><td>-1.3589e6</td><td>&quot;V&quot;</td><td>2024-05-28 15:35:00</td></tr><tr><td>&quot;47880985286616798&quot;</td><td>2025-04-30 00:00:00</td><td>390163</td><td>4</td><td>1.0</td><td>3999</td><td>60.0</td><td>2.2e6</td><td>2024-05-03 00:00:00</td><td>1</td><td>2</td><td>2024-11-28 00:00:00</td><td>390163</td><td>&quot;NR&quot;</td><td>&quot;GARANTIAS BANCOMEXT&quot;</td><td>1225.0</td><td>&quot;Bancomext&quot;</td><td>&quot;478809852&quot;</td><td>&quot;86616798&quot;</td><td>2</td><td>-46366.59</td><td>0.0</td><td>0.0</td><td>&quot;DEVOLUCIÓN A SOL DEL IF&quot;</td><td>&quot;D&quot;</td><td>2025-02-11 00:00:00</td><td>2025-02-11 00:00:00</td><td>-46366.59</td><td>0.0</td><td>0.0</td><td>0.0</td><td>0.0</td><td>-46366.59</td><td>&quot;BANCOMEXTHSBC&quot;</td><td>&quot;AGAVE TRADING MEXICO S DE RL D&quot;</td><td>&quot;ATM-051107-AU7&quot;</td><td>&quot;M&quot;</td><td>&quot;Recuperada&quot;</td><td>0</td><td>&quot;PP&quot;</td><td>&quot;SG&quot;</td><td>&quot;CF&quot;</td><td>0.0</td><td>-46366.59</td><td>-1.3589e6</td><td>&quot;V&quot;</td><td>2024-05-28 15:35:00</td></tr><tr><td>&quot;5963999988942628&quot;</td><td>2025-04-30 00:00:00</td><td>390175</td><td>17</td><td>1.0</td><td>3999</td><td>60.0</td><td>1e6</td><td>2024-04-01 00:00:00</td><td>1</td><td>3</td><td>2025-02-14 00:00:00</td><td>390175</td><td>&quot;R&quot;</td><td>&quot;GARANTIAS BANCOMEXT&quot;</td><td>1225.0</td><td>&quot;Bancomext&quot;</td><td>&quot;59639999&quot;</td><td>&quot;88942628&quot;</td><td>1</td><td>599999.83</td><td>0.0</td><td>0.0</td><td>&quot;Recuperacion automatica, carga…</td><td>&quot;RS&quot;</td><td>2025-04-24 09:44:37</td><td>2025-04-23 00:00:00</td><td>599999.83</td><td>0.0</td><td>0.0</td><td>0.0</td><td>0.0</td><td>599999.83</td><td>&quot;BANCOMEXT-BANORTE&quot;</td><td>&quot;V R ACABADOS S DE RL DE CV&quot;</td><td>&quot;VAC-140228-998&quot;</td><td>&quot;M&quot;</td><td>&quot;Rescatada&quot;</td><td>0</td><td>&quot;PP&quot;</td><td>&quot;SG&quot;</td><td>&quot;CF&quot;</td><td>0.0</td><td>599999.83</td><td>-599999.83</td><td>&quot;V&quot;</td><td>2024-04-04 12:01:11</td></tr></tbody></table></div>"
      ],
      "text/plain": [
       "shape: (1_563_961, 47)\n",
       "┌───────────┬───────────┬───────────┬───────────┬───┬───────────┬───────────┬───────────┬──────────┐\n",
       "│ Concatena ┆ Fecha_Con ┆ Programa_ ┆ Tipo_Gara ┆ … ┆ Monto_Tot ┆ MPagado_M ┆ Historico ┆ Fecha    │\n",
       "│ r_Saldos  ┆ sulta     ┆ Id        ┆ ntia_Id   ┆   ┆ al_Mn     ┆ n         ┆ ---       ┆ Registro │\n",
       "│ ---       ┆ ---       ┆ ---       ┆ ---       ┆   ┆ ---       ┆ ---       ┆ str       ┆ Alta     │\n",
       "│ str       ┆ datetime[ ┆ i32       ┆ i32       ┆   ┆ f64       ┆ f64       ┆           ┆ ---      │\n",
       "│           ┆ μs]       ┆           ┆           ┆   ┆           ┆           ┆           ┆ datetime │\n",
       "│           ┆           ┆           ┆           ┆   ┆           ┆           ┆           ┆ [μs]     │\n",
       "╞═══════════╪═══════════╪═══════════╪═══════════╪═══╪═══════════╪═══════════╪═══════════╪══════════╡\n",
       "│ 100402001 ┆ 2025-04-3 ┆ 3253      ┆ 3         ┆ … ┆ -5616.99  ┆ -5616.99  ┆ H         ┆ 2008-04- │\n",
       "│ 270900960 ┆ 0         ┆           ┆           ┆   ┆           ┆           ┆           ┆ 18       │\n",
       "│ 2672806   ┆ 00:00:00  ┆           ┆           ┆   ┆           ┆           ┆           ┆ 00:00:00 │\n",
       "│ 100402001 ┆ 2025-04-3 ┆ 3253      ┆ 3         ┆ … ┆ -35120.48 ┆ -34640.11 ┆ H         ┆ 2008-07- │\n",
       "│ 270900960 ┆ 0         ┆           ┆           ┆   ┆           ┆           ┆           ┆ 08       │\n",
       "│ 2663086   ┆ 00:00:00  ┆           ┆           ┆   ┆           ┆           ┆           ┆ 00:00:00 │\n",
       "│ 100402001 ┆ 2025-04-3 ┆ 3253      ┆ 3         ┆ … ┆ null      ┆ -75300.66 ┆ H         ┆ 2008-04- │\n",
       "│ 276208960 ┆ 0         ┆           ┆           ┆   ┆           ┆           ┆           ┆ 28       │\n",
       "│ 2666527   ┆ 00:00:00  ┆           ┆           ┆   ┆           ┆           ┆           ┆ 00:00:00 │\n",
       "│ 100402001 ┆ 2025-04-3 ┆ 3253      ┆ 3         ┆ … ┆ 338.71    ┆ -17784.22 ┆ H         ┆ 2008-04- │\n",
       "│ 270900960 ┆ 0         ┆           ┆           ┆   ┆           ┆           ┆           ┆ 18       │\n",
       "│ 2671295   ┆ 00:00:00  ┆           ┆           ┆   ┆           ┆           ┆           ┆ 00:00:00 │\n",
       "│ 100402001 ┆ 2025-04-3 ┆ 3253      ┆ 3         ┆ … ┆ 170.89    ┆ -1908.45  ┆ H         ┆ 2008-06- │\n",
       "│ 270900960 ┆ 0         ┆           ┆           ┆   ┆           ┆           ┆           ┆ 13       │\n",
       "│ 2663292   ┆ 00:00:00  ┆           ┆           ┆   ┆           ┆           ┆           ┆ 00:00:00 │\n",
       "│ …         ┆ …         ┆ …         ┆ …         ┆ … ┆ …         ┆ …         ┆ …         ┆ …        │\n",
       "│ 604239589 ┆ 2025-04-3 ┆ 390160    ┆ 4         ┆ … ┆ 18608.82  ┆ -1.5470e6 ┆ V         ┆ 2024-06- │\n",
       "│ 666359810 ┆ 0         ┆           ┆           ┆   ┆           ┆           ┆           ┆ 06       │\n",
       "│           ┆ 00:00:00  ┆           ┆           ┆   ┆           ┆           ┆           ┆ 15:01:36 │\n",
       "│ 604239589 ┆ 2025-04-3 ┆ 390160    ┆ 4         ┆ … ┆ 1.4445e6  ┆ -1.5470e6 ┆ V         ┆ 2024-06- │\n",
       "│ 666359810 ┆ 0         ┆           ┆           ┆   ┆           ┆           ┆           ┆ 06       │\n",
       "│           ┆ 00:00:00  ┆           ┆           ┆   ┆           ┆           ┆           ┆ 15:01:36 │\n",
       "│ 478809852 ┆ 2025-04-3 ┆ 390163    ┆ 4         ┆ … ┆ 46366.59  ┆ -1.3589e6 ┆ V         ┆ 2024-05- │\n",
       "│ 86616798  ┆ 0         ┆           ┆           ┆   ┆           ┆           ┆           ┆ 28       │\n",
       "│           ┆ 00:00:00  ┆           ┆           ┆   ┆           ┆           ┆           ┆ 15:35:00 │\n",
       "│ 478809852 ┆ 2025-04-3 ┆ 390163    ┆ 4         ┆ … ┆ -46366.59 ┆ -1.3589e6 ┆ V         ┆ 2024-05- │\n",
       "│ 86616798  ┆ 0         ┆           ┆           ┆   ┆           ┆           ┆           ┆ 28       │\n",
       "│           ┆ 00:00:00  ┆           ┆           ┆   ┆           ┆           ┆           ┆ 15:35:00 │\n",
       "│ 596399998 ┆ 2025-04-3 ┆ 390175    ┆ 17        ┆ … ┆ 599999.83 ┆ -599999.8 ┆ V         ┆ 2024-04- │\n",
       "│ 8942628   ┆ 0         ┆           ┆           ┆   ┆           ┆ 3         ┆           ┆ 04       │\n",
       "│           ┆ 00:00:00  ┆           ┆           ┆   ┆           ┆           ┆           ┆ 12:01:11 │\n",
       "└───────────┴───────────┴───────────┴───────────┴───┴───────────┴───────────┴───────────┴──────────┘"
      ]
     },
     "execution_count": 8,
     "metadata": {},
     "output_type": "execute_result"
    }
   ],
   "source": [
    "recuperadas_detalle"
   ]
  },
  {
   "cell_type": "code",
   "execution_count": 5,
   "id": "8b1ad5a8",
   "metadata": {},
   "outputs": [],
   "source": [
    "df_recuperadas_detalle = pl.read_csv(fl_recuperadas_detalle, schema_overrides=schema_recuperadas)\n",
    "df_recuperadas_detalle = (df_recuperadas_detalle\n",
    "                          .filter(\n",
    "                            (pl.col(\"Producto\") != \"GARANTIAS BANCOMEXT\") &\n",
    "                            (pl.col(\"Producto\") != \"GARANTIAS SHF/LI FINANCIERO\") &\n",
    "                            (pl.col(\"Producto\") != \"GARANTIAS BANSEFI\")\n",
    "                          ))"
   ]
  },
  {
   "cell_type": "code",
   "execution_count": 6,
   "id": "065e8e87",
   "metadata": {},
   "outputs": [],
   "source": [
    "df_pagadas_detalle = pl.read_csv(fl_pagadas_detalle, schema_overrides=schema_pagadas)\n",
    "df_pagadas_detalle = (df_pagadas_detalle\n",
    "                          .filter(\n",
    "                            (pl.col(\"Producto\") != \"GARANTIAS BANCOMEXT\") &\n",
    "                            (pl.col(\"Producto\") != \"GARANTIAS SHF/LI FINANCIERO\") &\n",
    "                            (pl.col(\"Producto\") != \"GARANTIAS BANSEFI\")\n",
    "                          ))"
   ]
  },
  {
   "cell_type": "code",
   "execution_count": null,
   "id": "788fdc63",
   "metadata": {},
   "outputs": [],
   "source": [
    "conn_str = r\"DRIVER={Microsoft Access Driver (*.mdb, *.accdb)};DBQ=\" + fl_catalogos + '.accdb'\n",
    "conn = pyodbc.connect(conn_str)\n",
    "estatus = pl.read_database(query='SELECT * FROM [ESTATUS]', connection=conn)\n",
    "llave = pl.read_database(query='SELECT * FROM [LLAVE]', connection=conn)\n",
    "conn.close()\n",
    "\n"
   ]
  },
  {
   "cell_type": "code",
   "execution_count": 4,
   "id": "e06d4553",
   "metadata": {},
   "outputs": [
    {
     "data": {
      "text/plain": [
       "'E:/Users/jhernandezr/DAR/garantias/data_pipeline_garantias/data/processed/dwh/parquet/Recupera_con_Pagos_Flujos_202504.csv'"
      ]
     },
     "execution_count": 4,
     "metadata": {},
     "output_type": "execute_result"
    }
   ],
   "source": [
    "fl_recuperadas_detalle"
   ]
  }
 ],
 "metadata": {
  "kernelspec": {
   "display_name": ".venv",
   "language": "python",
   "name": "python3"
  },
  "language_info": {
   "codemirror_mode": {
    "name": "ipython",
    "version": 3
   },
   "file_extension": ".py",
   "mimetype": "text/x-python",
   "name": "python",
   "nbconvert_exporter": "python",
   "pygments_lexer": "ipython3",
   "version": "3.13.2"
  }
 },
 "nbformat": 4,
 "nbformat_minor": 5
}
