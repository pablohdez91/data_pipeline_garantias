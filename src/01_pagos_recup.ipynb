{
 "cells": [
  {
   "cell_type": "code",
   "execution_count": 1,
   "metadata": {},
   "outputs": [],
   "source": [
    "import polars as pl\n",
    "import pandas as pd\n",
    "import pyodbc\n",
    "from datetime import date\n",
    "\n",
    "import time\n",
    "start_time = time.time()"
   ]
  },
  {
   "cell_type": "code",
   "execution_count": 2,
   "metadata": {},
   "outputs": [],
   "source": [
    "from IPython import get_ipython\n",
    "get_ipython().run_line_magic(\"run\", \"01_pagos_recup_functions.ipynb\")"
   ]
  },
  {
   "cell_type": "markdown",
   "metadata": {},
   "source": [
    "#### Definición de Rutas"
   ]
  },
  {
   "cell_type": "code",
   "execution_count": 3,
   "metadata": {},
   "outputs": [],
   "source": [
    "cierre = \"202505\"\n",
    "cierre_l = \"May25\"\n",
    "cierre_d = date(2025,5,31)\n",
    "\n",
    "# Carpetas\n",
    "path = \"E:/Users/jhernandezr/DAR/garantias/reporte/fotos/\"\n",
    "wd_data_raw = path + \"data/raw/\"\n",
    "wd_data_external = path + \"data/external/\"\n",
    "\n",
    "wd_data_processed_dwh = \"E:/Users/jhernandezr/DAR/garantias/data_pipeline_garantias/data/processed/DWH/\"\n",
    "wd_data_validations = \"E:/Users/jhernandezr/DAR/garantias/data_pipeline_garantias/data/validations/\"\n",
    "\n",
    "# Archivos\n",
    "## Inputs\n",
    "fl_desembolsos_p1 = wd_data_raw + f'Desembolsos_P1_{cierre}'\n",
    "fl_desembolsos_p1_bmxt = wd_data_raw + f'Desembolsos_P1_80686_{cierre}'\n",
    "fl_desembolsos_p1_fianzas = wd_data_raw + f'Desembolsos_P1_BMXT_{cierre}'\n",
    "fl_desembolsos_p2 = wd_data_raw + f'Desembolsos_P2_{cierre}'\n",
    "fl_desembolsos_p2_bmxt = wd_data_raw + f'Desembolsos_P2_80686_{cierre}'\n",
    "fl_desembolsos_p2_fianzas = wd_data_raw + f'Desembolsos_P2_BMXT_{cierre}'\n",
    "fl_catalogos = wd_data_external + f'Catálogos_{cierre_l}'\n",
    "fl_recuperaciones = wd_data_raw + f'Recuperaciones_{cierre}.csv'\n",
    "fl_recuperaciones_bmxt = wd_data_raw + f'Recuperaciones_BMXT_{cierre}.mdb'\n",
    "\n",
    "# Outputs\n",
    "## Tablas \n",
    "fl_pagadas_global_vf = wd_data_processed_dwh + f\"parquet/Pagadas_Global_VF_{cierre}.parquet\"\n",
    "fl_recuperadas_global_vf = wd_data_processed_dwh + f'parquet/Recuperadas_Global_VF_{cierre}.parquet'\n",
    "fl_recupera_con_pagos_flujos = wd_data_processed_dwh + f'parquet/Recupera_con_Pagos_Flujos_{cierre}.parquet'\n",
    "\n",
    "## Validadores\n",
    "fl_valida_pagos = wd_data_validations + f'Valida_Pagos.csv'\n",
    "fl_valida_dwh_dac = wd_data_validations + f'Recuperadas_Valida_DWHvsDAC.csv'\n",
    "fl_valida_td = wd_data_validations + f'Recuperadas_Valida_TD.csv'\n",
    "fl_valida_base_pagos = wd_data_validations + f'Valida_Base_Pagos.csv'\n",
    "fl_valida_base_pagos_mn = wd_data_validations + f'Valida_Base_Pagos_Mn.csv'\n",
    "fl_valida_base_recup = wd_data_validations + f'Valida_Base_Recup.csv'\n",
    "fl_valida_base_recup_mn = wd_data_validations + f'Valida_Base_Recup_Mn.csv'\n",
    "\n",
    "# Outputs Access\n",
    "acc_pagadas_global_vf = wd_data_processed_dwh + f\"Pagadas_Global_VF_{cierre}.accdb\"\n",
    "acc_querie_pagadas = wd_data_processed_dwh + f\"Querie_Pagadas_{cierre}.accdb\"\n",
    "acc_querie_recuperaciones = wd_data_processed_dwh + f\"Querie_Recuperaciones_{cierre}.accdb\"\n",
    "acc_querie_unionflujos = wd_data_processed_dwh + f\"Querie_UnionFlujos_{cierre}.accdb\"\n",
    "acc_recupera_con_pagos_flujos = wd_data_processed_dwh + f\"Querie_Recupera_con_Pagos_Flujos_{cierre}.accdb\"\n",
    "\n",
    "\n"
   ]
  },
  {
   "cell_type": "markdown",
   "metadata": {},
   "source": [
    "### Catálogos"
   ]
  },
  {
   "cell_type": "code",
   "execution_count": 4,
   "metadata": {},
   "outputs": [
    {
     "data": {
      "text/plain": [
       "19.3957"
      ]
     },
     "execution_count": 4,
     "metadata": {},
     "output_type": "execute_result"
    }
   ],
   "source": [
    "conn_str = r\"DRIVER={Microsoft Access Driver (*.mdb, *.accdb)};DBQ=\" + fl_catalogos + '.accdb'\n",
    "conn = pyodbc.connect(conn_str)\n",
    "\n",
    "# Solo Recuperaciones\n",
    "estatus = pl.read_database(query='SELECT * FROM [ESTATUS]', connection=conn)\n",
    "\n",
    "# Recuperaciones, Pagos\n",
    "tipo_cambio = pl.read_database(query='SELECT * FROM [TIPO CAMBIO]', connection=conn)\n",
    "programa = pl.read_database(query='SELECT * FROM [PROGRAMA]', connection=conn, schema_overrides={'PROGRAMA_ID': pl.Int128})\n",
    "agrupamiento = pl.read_database(query='SELECT * FROM [AGRUPAMIENTO]', connection=conn)\n",
    "udis = pl.read_database(query='SELECT * FROM [UDIS]', connection=conn, schema_overrides={'Fecha_Paridad': pl.Datetime})\n",
    "#udis = udis.with_columns(pl.col(\"Fecha_Paridad\").cast(pl.Date))\n",
    "tipo_credito = pl.read_database(query='SELECT * FROM [TIPO_CREDITO]', connection=conn, schema_overrides={'Tipo_Credito_ID': pl.Int32})\n",
    "tipo_garantia = pl.read_database(query='SELECT * FROM [TIPO_GARANTIA]', connection=conn, schema_overrides={'Tipo_garantia_ID': pl.Int32})\n",
    "sfc = pl.read_database(query='SELECT * FROM [SIN FONDOS CONTRAGARANTIA]', connection=conn)\n",
    "\n",
    "conn.close()\n",
    "\n",
    "tipo_cambio.columns = [\"Anio\", \"Mes\", \"TC\"]\n",
    "tdc = tipo_cambio.filter((pl.col(\"Anio\")==cierre_d.year) & (pl.col(\"Mes\")==cierre_d.month)).select(\"TC\").item()\n",
    "tdc"
   ]
  },
  {
   "cell_type": "markdown",
   "metadata": {},
   "source": [
    "### Querie Pagos"
   ]
  },
  {
   "cell_type": "code",
   "execution_count": 5,
   "metadata": {},
   "outputs": [],
   "source": [
    "def main_querie_pagadas():\n",
    "    pagos_f1 = import_f1()\n",
    "    pagos_f2 = import_f2()\n",
    "\n",
    "    # Crea Concatenados y TPRO_CLAVE\n",
    "    pagos_f1 = genera_concatenado(pagos_f1)\n",
    "    pagos_f1 = genera_tpro_clave(pagos_f1)\n",
    "    pagos_f2 = genera_concatenado(pagos_f2)\n",
    "\n",
    "    pagadas_global_inter = genera_pagadas_global_inter(pagos_f1, pagos_f2)\n",
    "    pagadas_global_vf = genera_pagadas_global_vf(pagadas_global_inter)\n",
    "    pagadas_global_vf = complementa_pagadas_global_vf(pagadas_global_vf)\n",
    "\n",
    "    valida_pagos = genera_valida_pagos(pagos_f2)\n",
    "    valida_base_pagos = genera_valida_base_pagos(pagadas_global_vf)\n",
    "    valida_base_pagos_mn = genera_valida_base_pagos_mn(pagadas_global_vf)\n",
    "\n",
    "    # Exporta Tablas\n",
    "    # pagadas_global_vf.write_csv(fl_pagadas_global_vf, datetime_format=\"%Y-%m-%d\", float_precision=10)\n",
    "    pagadas_global_vf.write_parquet(fl_pagadas_global_vf)\n",
    "\n",
    "    # Exporta validadores\n",
    "    valida_pagos.write_csv(fl_valida_pagos)\n",
    "    valida_base_pagos.write_csv(fl_valida_base_pagos, float_precision = 10)\n",
    "    valida_base_pagos_mn.write_csv(fl_valida_base_pagos_mn, float_precision = 10)\n",
    "    \n",
    "\n",
    "    return pagadas_global_vf\n",
    "\n",
    "pagadas_global_vf = main_querie_pagadas()"
   ]
  },
  {
   "cell_type": "code",
   "execution_count": 6,
   "metadata": {},
   "outputs": [
    {
     "data": {
      "text/html": [
       "<div><style>\n",
       ".dataframe > thead > tr,\n",
       ".dataframe > tbody > tr {\n",
       "  text-align: right;\n",
       "  white-space: pre-wrap;\n",
       "}\n",
       "</style>\n",
       "<small>shape: (94, 40)</small><table border=\"1\" class=\"dataframe\"><thead><tr><th>Concatenado</th><th>Fecha_Consulta</th><th>Intermediario_Id</th><th>Numero_Credito</th><th>Producto</th><th>Pago ID</th><th>Razón Social (Intermediario)</th><th>MIN_Fecha_Registro</th><th>Fecha_Garantia_Honrada</th><th>TPRO_CLAVE</th><th>Programa_Original</th><th>Programa_Id</th><th>Monto _Credito_Mn</th><th>Moneda_Id</th><th>Fecha de Apertura</th><th>Tipo_Garantia_Id</th><th>TIPO_PERSONA</th><th>RFC Empresa / Acreditado</th><th>Monto_Desembolsado</th><th>Interes_Desembolso</th><th>Interes_Moratorios</th><th>Porcentaje_Garantizado</th><th>Tipo_Credito_Id</th><th>Estatus_Recuperacion</th><th>Empresa / Acreditado (Descripción)</th><th>Fecha Registro Alta</th><th>TC</th><th>AGRUPAMIENTO_ID</th><th>AGRUPAMIENTO</th><th>ESQUEMA</th><th>SUBESQUEMA</th><th>CAMBIO</th><th>MM_UDIS</th><th>NR_R</th><th>CSG</th><th>CSF</th><th>Monto_Desembolso_Mn</th><th>Interes_Desembolso_Mn</th><th>Interes_Moratorios_Mn</th><th>Monto_Pagado_Mn</th></tr><tr><td>str</td><td>datetime[μs]</td><td>str</td><td>str</td><td>str</td><td>i64</td><td>str</td><td>datetime[μs]</td><td>datetime[μs]</td><td>i32</td><td>i32</td><td>i32</td><td>f64</td><td>i16</td><td>datetime[μs]</td><td>i16</td><td>str</td><td>str</td><td>f64</td><td>f64</td><td>f64</td><td>f32</td><td>i16</td><td>str</td><td>str</td><td>datetime[μs]</td><td>f64</td><td>f64</td><td>str</td><td>str</td><td>str</td><td>f64</td><td>i32</td><td>str</td><td>str</td><td>str</td><td>f64</td><td>f64</td><td>f64</td><td>f64</td></tr></thead><tbody><tr><td>&quot;100400723198941&quot;</td><td>2025-05-31 00:00:00</td><td>&quot;10040072&quot;</td><td>&quot;3198941&quot;</td><td>&quot;GARANTIA EMPRESARIAL&quot;</td><td>1</td><td>&quot;BANCO MERCANTIL DEL NORTE&quot;</td><td>null</td><td>2002-08-29 00:00:00</td><td>3003</td><td>3999</td><td>3003</td><td>362445.9732</td><td>54</td><td>2000-09-28 00:00:00</td><td>1</td><td>&quot;M&quot;</td><td>&quot;RME-981118-9F1&quot;</td><td>-8462.03</td><td>0.0</td><td>null</td><td>50.0</td><td>6</td><td>&quot;RT&quot;</td><td>&quot;RUIBALAS DE MEXICO SA CV&quot;</td><td>2001-01-30 12:34:07</td><td>19.3957</td><td>1275.0</td><td>&quot;Crediactivo Diana&quot;</td><td>&quot;PP&quot;</td><td>&quot;Tradicional&quot;</td><td>2.84175</td><td>0</td><td>&quot;NR&quot;</td><td>&quot;CG&quot;</td><td>&quot;CF&quot;</td><td>164126.995271</td><td>-0.0</td><td>null</td><td>164126.995271</td></tr><tr><td>&quot;100400726585030&quot;</td><td>2025-05-31 00:00:00</td><td>&quot;10040072&quot;</td><td>&quot;6585030&quot;</td><td>&quot;GARANTIA EMPRESARIAL&quot;</td><td>1</td><td>&quot;BANCO MERCANTIL DEL NORTE&quot;</td><td>null</td><td>2003-04-30 00:00:00</td><td>3003</td><td>3999</td><td>3003</td><td>188004.1</td><td>54</td><td>2002-09-04 00:00:00</td><td>1</td><td>&quot;M&quot;</td><td>&quot;CHI-990710-132&quot;</td><td>-7250.0</td><td>-58.09</td><td>null</td><td>50.0</td><td>7</td><td>&quot;RT&quot;</td><td>&quot;COMERCIALIZADORA HISA SA DE CV&quot;</td><td>2002-10-11 13:28:25</td><td>19.3957</td><td>1275.0</td><td>&quot;Crediactivo Diana&quot;</td><td>&quot;PP&quot;</td><td>&quot;Tradicional&quot;</td><td>3.15491</td><td>0</td><td>&quot;R&quot;</td><td>&quot;CG&quot;</td><td>&quot;CF&quot;</td><td>140618.825</td><td>1126.696213</td><td>null</td><td>141745.521213</td></tr><tr><td>&quot;100400726621503&quot;</td><td>2025-05-31 00:00:00</td><td>&quot;10040072&quot;</td><td>&quot;6621503&quot;</td><td>&quot;GARANTIA EMPRESARIAL&quot;</td><td>1</td><td>&quot;BANCO MERCANTIL DEL NORTE&quot;</td><td>null</td><td>2003-04-30 00:00:00</td><td>3003</td><td>3999</td><td>3003</td><td>359800.95</td><td>54</td><td>2002-09-12 00:00:00</td><td>1</td><td>&quot;M&quot;</td><td>&quot;CHI-990710-132&quot;</td><td>-13875.0</td><td>-109.77</td><td>null</td><td>50.0</td><td>7</td><td>&quot;RT&quot;</td><td>&quot;COMERCIALIZADORA HISA SA DE CV&quot;</td><td>2002-10-11 13:28:25</td><td>19.3957</td><td>1275.0</td><td>&quot;Crediactivo Diana&quot;</td><td>&quot;PP&quot;</td><td>&quot;Tradicional&quot;</td><td>3.15832</td><td>0</td><td>&quot;R&quot;</td><td>&quot;CG&quot;</td><td>&quot;CF&quot;</td><td>269115.3375</td><td>2129.065989</td><td>null</td><td>271244.403489</td></tr><tr><td>&quot;100400726642341&quot;</td><td>2025-05-31 00:00:00</td><td>&quot;10040072&quot;</td><td>&quot;6642341&quot;</td><td>&quot;GARANTIA EMPRESARIAL&quot;</td><td>1</td><td>&quot;BANCO MERCANTIL DEL NORTE&quot;</td><td>null</td><td>2003-04-30 00:00:00</td><td>3003</td><td>3999</td><td>3003</td><td>489458.95</td><td>54</td><td>2002-09-18 00:00:00</td><td>1</td><td>&quot;M&quot;</td><td>&quot;CHI-990710-132&quot;</td><td>-18875.0</td><td>-148.06</td><td>null</td><td>50.0</td><td>7</td><td>&quot;RT&quot;</td><td>&quot;COMERCIALIZADORA HISA SA DE CV&quot;</td><td>2002-10-11 13:28:25</td><td>19.3957</td><td>1275.0</td><td>&quot;Crediactivo Diana&quot;</td><td>&quot;PP&quot;</td><td>&quot;Tradicional&quot;</td><td>3.15979</td><td>0</td><td>&quot;R&quot;</td><td>&quot;CG&quot;</td><td>&quot;CF&quot;</td><td>366093.8375</td><td>2871.727342</td><td>null</td><td>368965.564842</td></tr><tr><td>&quot;100400728557430&quot;</td><td>2025-05-31 00:00:00</td><td>&quot;10040072&quot;</td><td>&quot;8557430&quot;</td><td>&quot;GARANTIA EMPRESARIAL&quot;</td><td>1</td><td>&quot;BANCO MERCANTIL DEL NORTE&quot;</td><td>null</td><td>2004-05-28 00:00:00</td><td>3003</td><td>3003</td><td>3500</td><td>259316.0</td><td>54</td><td>2003-07-14 00:00:00</td><td>5</td><td>&quot;M&quot;</td><td>&quot;SMU-950315-790&quot;</td><td>-10000.0</td><td>0.0</td><td>null</td><td>50.0</td><td>3</td><td>&quot;RT&quot;</td><td>&quot;SILLAS Y MUEBLES SA&quot;</td><td>2003-08-14 18:42:03</td><td>19.3957</td><td>1545.0</td><td>&quot;Paraguas&quot;</td><td>&quot;PP&quot;</td><td>&quot;Tradicional&quot;</td><td>3.27215</td><td>0</td><td>&quot;R&quot;</td><td>&quot;SG&quot;</td><td>&quot;CF&quot;</td><td>193957.0</td><td>-0.0</td><td>null</td><td>193957.0</td></tr><tr><td>&hellip;</td><td>&hellip;</td><td>&hellip;</td><td>&hellip;</td><td>&hellip;</td><td>&hellip;</td><td>&hellip;</td><td>&hellip;</td><td>&hellip;</td><td>&hellip;</td><td>&hellip;</td><td>&hellip;</td><td>&hellip;</td><td>&hellip;</td><td>&hellip;</td><td>&hellip;</td><td>&hellip;</td><td>&hellip;</td><td>&hellip;</td><td>&hellip;</td><td>&hellip;</td><td>&hellip;</td><td>&hellip;</td><td>&hellip;</td><td>&hellip;</td><td>&hellip;</td><td>&hellip;</td><td>&hellip;</td><td>&hellip;</td><td>&hellip;</td><td>&hellip;</td><td>&hellip;</td><td>&hellip;</td><td>&hellip;</td><td>&hellip;</td><td>&hellip;</td><td>&hellip;</td><td>&hellip;</td><td>&hellip;</td><td>&hellip;</td></tr><tr><td>&quot;6499105748249&quot;</td><td>2025-05-31 00:00:00</td><td>&quot;64991057&quot;</td><td>&quot;48249&quot;</td><td>&quot;GARANTIAS BANCOMEXT&quot;</td><td>1</td><td>&quot;BANCOMEXT/BAJIO&quot;</td><td>2025-01-03 14:07:17</td><td>2025-01-08 00:00:00</td><td>39336</td><td>3999</td><td>39336</td><td>7.3826e6</td><td>54</td><td>2022-05-27 00:00:00</td><td>4</td><td>&quot;M&quot;</td><td>&quot;PAU-130307-UM1&quot;</td><td>-240938.06</td><td>-6340.27</td><td>0.0</td><td>90.0</td><td>10</td><td>null</td><td>&quot;PYA AUTOMOTIVE S DE RL DE CV&quot;</td><td>2022-06-08 09:08:29</td><td>19.3957</td><td>1225.0</td><td>&quot;Bancomext&quot;</td><td>&quot;PP&quot;</td><td>&quot;Tradicional&quot;</td><td>7.33128</td><td>1</td><td>&quot;NR&quot;</td><td>&quot;SG&quot;</td><td>&quot;CF&quot;</td><td>4.6732e6</td><td>122973.974839</td><td>-0.0</td><td>4.7961e6</td></tr><tr><td>&quot;6499105748246&quot;</td><td>2025-05-31 00:00:00</td><td>&quot;64991057&quot;</td><td>&quot;48246&quot;</td><td>&quot;GARANTIAS BANCOMEXT&quot;</td><td>1</td><td>&quot;BANCOMEXT/BAJIO&quot;</td><td>2025-01-16 13:38:10</td><td>2025-01-22 00:00:00</td><td>39336</td><td>3999</td><td>39336</td><td>2.4176e6</td><td>54</td><td>2022-05-27 00:00:00</td><td>4</td><td>&quot;M&quot;</td><td>&quot;PAU-130307-UM1&quot;</td><td>-77032.59</td><td>-1905.18</td><td>0.0</td><td>90.0</td><td>10</td><td>null</td><td>&quot;PYA AUTOMOTIVE S DE RL DE CV&quot;</td><td>2022-06-08 09:08:29</td><td>19.3957</td><td>1225.0</td><td>&quot;Bancomext&quot;</td><td>&quot;PP&quot;</td><td>&quot;Tradicional&quot;</td><td>7.33128</td><td>0</td><td>&quot;NR&quot;</td><td>&quot;SG&quot;</td><td>&quot;CF&quot;</td><td>1.4941e6</td><td>36952.299726</td><td>-0.0</td><td>1.5311e6</td></tr><tr><td>&quot;6499105748248&quot;</td><td>2025-05-31 00:00:00</td><td>&quot;64991057&quot;</td><td>&quot;48248&quot;</td><td>&quot;GARANTIAS BANCOMEXT&quot;</td><td>1</td><td>&quot;BANCOMEXT/BAJIO&quot;</td><td>2025-02-18 13:20:50</td><td>2025-02-24 00:00:00</td><td>39336</td><td>3999</td><td>39336</td><td>3.3396e6</td><td>54</td><td>2022-05-27 00:00:00</td><td>4</td><td>&quot;M&quot;</td><td>&quot;PAU-130307-UM1&quot;</td><td>-103827.19</td><td>-2371.26</td><td>0.0</td><td>90.0</td><td>10</td><td>null</td><td>&quot;PYA AUTOMOTIVE S DE RL DE CV&quot;</td><td>2022-06-08 09:08:29</td><td>19.3957</td><td>1225.0</td><td>&quot;Bancomext&quot;</td><td>&quot;PP&quot;</td><td>&quot;Tradicional&quot;</td><td>7.33128</td><td>0</td><td>&quot;NR&quot;</td><td>&quot;SG&quot;</td><td>&quot;CF&quot;</td><td>2.0138e6</td><td>45992.247582</td><td>-0.0</td><td>2.0598e6</td></tr><tr><td>&quot;604239589675729827&quot;</td><td>2025-05-31 00:00:00</td><td>&quot;60423958&quot;</td><td>&quot;9675729827&quot;</td><td>&quot;GARANTIAS BANCOMEXT&quot;</td><td>1</td><td>&quot;BANCOMEXT BBVA BANCOMER&quot;</td><td>2025-03-04 10:59:08</td><td>2025-03-06 00:00:00</td><td>390159</td><td>3999</td><td>390159</td><td>1.551656e7</td><td>54</td><td>2024-06-28 00:00:00</td><td>12</td><td>&quot;M&quot;</td><td>&quot;PJA-051103-US2&quot;</td><td>-480000.0</td><td>-4096.6</td><td>0.0</td><td>60.0</td><td>3</td><td>&quot;RT&quot;</td><td>&quot;PRODUCTOS JAKO SA DE CV&quot;</td><td>2024-08-07 08:45:49</td><td>19.3957</td><td>1225.0</td><td>&quot;Bancomext&quot;</td><td>&quot;PP&quot;</td><td>&quot;Tradicional&quot;</td><td>8.12591</td><td>1</td><td>&quot;R&quot;</td><td>&quot;CG&quot;</td><td>&quot;CF&quot;</td><td>9.309936e6</td><td>79456.42462</td><td>-0.0</td><td>9.3894e6</td></tr><tr><td>&quot;604239589809272958&quot;</td><td>2025-05-31 00:00:00</td><td>&quot;60423958&quot;</td><td>&quot;9809272958&quot;</td><td>&quot;GARANTIAS BANCOMEXT&quot;</td><td>1</td><td>&quot;BANCOMEXT BBVA BANCOMER&quot;</td><td>2025-04-25 14:08:30</td><td>2025-04-30 00:00:00</td><td>39897</td><td>3999</td><td>39897</td><td>7.75828e6</td><td>54</td><td>2021-11-30 00:00:00</td><td>4</td><td>&quot;M&quot;</td><td>&quot;EIM-960521-GMA&quot;</td><td>-91596.13</td><td>-1279.68</td><td>0.0</td><td>60.0</td><td>2</td><td>null</td><td>&quot;ESPUMAS INDUSTRIALES MONTERREY&quot;</td><td>2021-12-30 12:14:53</td><td>19.3957</td><td>1225.0</td><td>&quot;Bancomext&quot;</td><td>&quot;PP&quot;</td><td>&quot;Tradicional&quot;</td><td>7.03669</td><td>1</td><td>&quot;NR&quot;</td><td>&quot;SG&quot;</td><td>&quot;CF&quot;</td><td>1.7766e6</td><td>24820.289376</td><td>-0.0</td><td>1.8014e6</td></tr></tbody></table></div>"
      ],
      "text/plain": [
       "shape: (94, 40)\n",
       "┌───────────┬───────────┬───────────┬───────────┬───┬───────────┬───────────┬───────────┬──────────┐\n",
       "│ Concatena ┆ Fecha_Con ┆ Intermedi ┆ Numero_Cr ┆ … ┆ Monto_Des ┆ Interes_D ┆ Interes_M ┆ Monto_Pa │\n",
       "│ do        ┆ sulta     ┆ ario_Id   ┆ edito     ┆   ┆ embolso_M ┆ esembolso ┆ oratorios ┆ gado_Mn  │\n",
       "│ ---       ┆ ---       ┆ ---       ┆ ---       ┆   ┆ n         ┆ _Mn       ┆ _Mn       ┆ ---      │\n",
       "│ str       ┆ datetime[ ┆ str       ┆ str       ┆   ┆ ---       ┆ ---       ┆ ---       ┆ f64      │\n",
       "│           ┆ μs]       ┆           ┆           ┆   ┆ f64       ┆ f64       ┆ f64       ┆          │\n",
       "╞═══════════╪═══════════╪═══════════╪═══════════╪═══╪═══════════╪═══════════╪═══════════╪══════════╡\n",
       "│ 100400723 ┆ 2025-05-3 ┆ 10040072  ┆ 3198941   ┆ … ┆ 164126.99 ┆ -0.0      ┆ null      ┆ 164126.9 │\n",
       "│ 198941    ┆ 1         ┆           ┆           ┆   ┆ 5271      ┆           ┆           ┆ 95271    │\n",
       "│           ┆ 00:00:00  ┆           ┆           ┆   ┆           ┆           ┆           ┆          │\n",
       "│ 100400726 ┆ 2025-05-3 ┆ 10040072  ┆ 6585030   ┆ … ┆ 140618.82 ┆ 1126.6962 ┆ null      ┆ 141745.5 │\n",
       "│ 585030    ┆ 1         ┆           ┆           ┆   ┆ 5         ┆ 13        ┆           ┆ 21213    │\n",
       "│           ┆ 00:00:00  ┆           ┆           ┆   ┆           ┆           ┆           ┆          │\n",
       "│ 100400726 ┆ 2025-05-3 ┆ 10040072  ┆ 6621503   ┆ … ┆ 269115.33 ┆ 2129.0659 ┆ null      ┆ 271244.4 │\n",
       "│ 621503    ┆ 1         ┆           ┆           ┆   ┆ 75        ┆ 89        ┆           ┆ 03489    │\n",
       "│           ┆ 00:00:00  ┆           ┆           ┆   ┆           ┆           ┆           ┆          │\n",
       "│ 100400726 ┆ 2025-05-3 ┆ 10040072  ┆ 6642341   ┆ … ┆ 366093.83 ┆ 2871.7273 ┆ null      ┆ 368965.5 │\n",
       "│ 642341    ┆ 1         ┆           ┆           ┆   ┆ 75        ┆ 42        ┆           ┆ 64842    │\n",
       "│           ┆ 00:00:00  ┆           ┆           ┆   ┆           ┆           ┆           ┆          │\n",
       "│ 100400728 ┆ 2025-05-3 ┆ 10040072  ┆ 8557430   ┆ … ┆ 193957.0  ┆ -0.0      ┆ null      ┆ 193957.0 │\n",
       "│ 557430    ┆ 1         ┆           ┆           ┆   ┆           ┆           ┆           ┆          │\n",
       "│           ┆ 00:00:00  ┆           ┆           ┆   ┆           ┆           ┆           ┆          │\n",
       "│ …         ┆ …         ┆ …         ┆ …         ┆ … ┆ …         ┆ …         ┆ …         ┆ …        │\n",
       "│ 649910574 ┆ 2025-05-3 ┆ 64991057  ┆ 48249     ┆ … ┆ 4.6732e6  ┆ 122973.97 ┆ -0.0      ┆ 4.7961e6 │\n",
       "│ 8249      ┆ 1         ┆           ┆           ┆   ┆           ┆ 4839      ┆           ┆          │\n",
       "│           ┆ 00:00:00  ┆           ┆           ┆   ┆           ┆           ┆           ┆          │\n",
       "│ 649910574 ┆ 2025-05-3 ┆ 64991057  ┆ 48246     ┆ … ┆ 1.4941e6  ┆ 36952.299 ┆ -0.0      ┆ 1.5311e6 │\n",
       "│ 8246      ┆ 1         ┆           ┆           ┆   ┆           ┆ 726       ┆           ┆          │\n",
       "│           ┆ 00:00:00  ┆           ┆           ┆   ┆           ┆           ┆           ┆          │\n",
       "│ 649910574 ┆ 2025-05-3 ┆ 64991057  ┆ 48248     ┆ … ┆ 2.0138e6  ┆ 45992.247 ┆ -0.0      ┆ 2.0598e6 │\n",
       "│ 8248      ┆ 1         ┆           ┆           ┆   ┆           ┆ 582       ┆           ┆          │\n",
       "│           ┆ 00:00:00  ┆           ┆           ┆   ┆           ┆           ┆           ┆          │\n",
       "│ 604239589 ┆ 2025-05-3 ┆ 60423958  ┆ 967572982 ┆ … ┆ 9.309936e ┆ 79456.424 ┆ -0.0      ┆ 9.3894e6 │\n",
       "│ 675729827 ┆ 1         ┆           ┆ 7         ┆   ┆ 6         ┆ 62        ┆           ┆          │\n",
       "│           ┆ 00:00:00  ┆           ┆           ┆   ┆           ┆           ┆           ┆          │\n",
       "│ 604239589 ┆ 2025-05-3 ┆ 60423958  ┆ 980927295 ┆ … ┆ 1.7766e6  ┆ 24820.289 ┆ -0.0      ┆ 1.8014e6 │\n",
       "│ 809272958 ┆ 1         ┆           ┆ 8         ┆   ┆           ┆ 376       ┆           ┆          │\n",
       "│           ┆ 00:00:00  ┆           ┆           ┆   ┆           ┆           ┆           ┆          │\n",
       "└───────────┴───────────┴───────────┴───────────┴───┴───────────┴───────────┴───────────┴──────────┘"
      ]
     },
     "execution_count": 6,
     "metadata": {},
     "output_type": "execute_result"
    }
   ],
   "source": [
    "pagadas_global_vf.filter(pl.col(\"Moneda_Id\")==54)"
   ]
  },
  {
   "cell_type": "markdown",
   "metadata": {},
   "source": [
    "### Querie Recuperaciones"
   ]
  },
  {
   "cell_type": "markdown",
   "metadata": {},
   "source": [
    "#### Ejecución"
   ]
  },
  {
   "cell_type": "code",
   "execution_count": 7,
   "metadata": {},
   "outputs": [],
   "source": [
    "def main_querie_recuperaciones():\n",
    "    dwh_recuperaciones = importa_recuperaciones()\n",
    "    recuperadas_global_inter = genera_recuperadas_global_inter(dwh_recuperaciones)\n",
    "    recuperadas_global_vf = genera_recuperadas_global_vf(recuperadas_global_inter)\n",
    "\n",
    "    #recuperadas_global_vf_bancomext = genera_recuperadas_global_bancomext(recuperadas_global_vf)\n",
    "    #recuperadas_global_vf_sin_bancomext = genera_recuperadas_global_sin_bancomext(recuperadas_global_vf)\n",
    "\n",
    "    valida_dwh_dac = genera_valida_dwh_dac(dwh_recuperaciones)\n",
    "    valida_td = genera_valida_td(dwh_recuperaciones)\n",
    "\n",
    "    # Exporta Tablas\n",
    "    # recuperadas_global_vf.write_csv(fl_recuperadas_global_vf, datetime_format=\"%Y-%m-%d\", float_precision=6)\n",
    "    recuperadas_global_vf.write_parquet(fl_recuperadas_global_vf)\n",
    "\n",
    "    # Exporta Validadores\n",
    "    valida_dwh_dac.write_csv(fl_valida_dwh_dac, float_precision=10, float_scientific=False)\n",
    "    valida_td.write_csv(fl_valida_td,float_precision=10, float_scientific=False)\n",
    "    \n",
    "    return recuperadas_global_vf\n",
    "\n",
    "recuperadas_global_vf = main_querie_recuperaciones()"
   ]
  },
  {
   "cell_type": "markdown",
   "metadata": {},
   "source": [
    "### Querie Union Flujos"
   ]
  },
  {
   "cell_type": "markdown",
   "metadata": {},
   "source": [
    "#### Ejecución"
   ]
  },
  {
   "cell_type": "code",
   "execution_count": 8,
   "metadata": {},
   "outputs": [
    {
     "data": {
      "text/plain": [
       "0"
      ]
     },
     "execution_count": 8,
     "metadata": {},
     "output_type": "execute_result"
    }
   ],
   "source": [
    "def main_querie_union_flujos(pagadas_global_vf, recuperadas_global_vf):\n",
    "    pagos_agrup = genera_pagos_agrup(pagadas_global_vf)\n",
    "    pagos_agrup = genera_concatenado(pagos_agrup, intermediario=\"Intermediario_Id\", no_credito=\"Numero_Credito\")\n",
    "\n",
    "    recuperadas_global_vf = genera_concatenado(recuperadas_global_vf)\n",
    "    #recuperaciones_agrup = genera_recuperaciones_agrup(recuperadas_global_vf)\n",
    "\n",
    "    # Falta depurar columnas de B\n",
    "    #uf_pagos_recuperaciones = pagos_agrup.join(recuperadas_global_vf, on=\"Concatenado\", how='left')\n",
    "\n",
    "    # Falta depurar columnas de B\n",
    "    uf_recuperaciones_pagos = recuperadas_global_vf.join(pagos_agrup, on=\"Concatenado\", how='left')\n",
    "\n",
    "    #t_roberto = pagos_agrup.join(recuperaciones_agrup, on=\"Concatenado\", how='left')\n",
    "\n",
    "    recupera_con_pagos_flujos = genera_recupera_con_pagos_flujos(uf_recuperaciones_pagos)\n",
    "    #recupera_con_pagos_flujos_bmxt = genera_recupera_con_pagos_flujos_bancomext(recupera_con_pagos_flujos)\n",
    "    #recupera_con_pagos_flujos_sin_bmxt = genera_recupera_con_pagos_flujos_sin_bancomext(recupera_con_pagos_flujos)\n",
    "\n",
    "    valida_base_pagos_recup = genera_valida_base_pagos_recup(recuperadas_global_vf)\n",
    "    valida_base_pagos_recup_mn = genera_valida_base_pagos_recup_mn(recuperadas_global_vf)\n",
    "\n",
    "    # Exporta tablas\n",
    "    # recupera_con_pagos_flujos.write_csv(fl_recupera_con_pagos_flujos, datetime_format=\"%Y-%m-%d\", float_precision=6)\n",
    "    recupera_con_pagos_flujos.write_parquet(fl_recupera_con_pagos_flujos)\n",
    "\n",
    "    # Exporta Validadores\n",
    "    valida_base_pagos_recup.write_csv(fl_valida_base_recup)\n",
    "    valida_base_pagos_recup_mn.write_csv(fl_valida_base_recup_mn)\n",
    "\n",
    "    return 0\n",
    "\n",
    "main_querie_union_flujos(pagadas_global_vf, recuperadas_global_vf)\n"
   ]
  },
  {
   "cell_type": "code",
   "execution_count": 9,
   "metadata": {},
   "outputs": [
    {
     "data": {
      "text/plain": [
       "66063669834.664955"
      ]
     },
     "execution_count": 9,
     "metadata": {},
     "output_type": "execute_result"
    }
   ],
   "source": [
    "pagadas_global_vf['Monto_Pagado_Mn'].sum()"
   ]
  },
  {
   "cell_type": "markdown",
   "metadata": {},
   "source": [
    "### Ejecución Principal"
   ]
  },
  {
   "cell_type": "code",
   "execution_count": 10,
   "metadata": {},
   "outputs": [],
   "source": [
    "# if __name__ ==  \"__main__\":\n",
    "#     pagadas_global_vf = main_querie_pagadas()\n",
    "#     recuperadas_global_vf = main_querie_recuperaciones()\n",
    "#     main_querie_union_flujos(pagadas_global_vf, recuperadas_global_vf)"
   ]
  },
  {
   "cell_type": "code",
   "execution_count": 11,
   "metadata": {},
   "outputs": [
    {
     "data": {
      "text/plain": [
       "25.949511528015137"
      ]
     },
     "execution_count": 11,
     "metadata": {},
     "output_type": "execute_result"
    }
   ],
   "source": [
    "end_time = time.time()\n",
    "end_time - start_time"
   ]
  }
 ],
 "metadata": {
  "kernelspec": {
   "display_name": ".venv",
   "language": "python",
   "name": "python3"
  },
  "language_info": {
   "codemirror_mode": {
    "name": "ipython",
    "version": 3
   },
   "file_extension": ".py",
   "mimetype": "text/x-python",
   "name": "python",
   "nbconvert_exporter": "python",
   "pygments_lexer": "ipython3",
   "version": "3.13.2"
  }
 },
 "nbformat": 4,
 "nbformat_minor": 2
}
