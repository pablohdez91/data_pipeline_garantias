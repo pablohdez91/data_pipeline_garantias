{
 "cells": [
  {
   "cell_type": "code",
   "execution_count": 1,
   "metadata": {},
   "outputs": [],
   "source": [
    "import polars as pl\n",
    "import pyodbc\n",
    "from datetime import date\n",
    "\n",
    "import time\n",
    "start_time = time.time()"
   ]
  },
  {
   "cell_type": "code",
   "execution_count": 2,
   "metadata": {},
   "outputs": [],
   "source": [
    "from IPython import get_ipython\n",
    "get_ipython().run_line_magic(\"run\", \"functions.ipynb\")"
   ]
  },
  {
   "cell_type": "markdown",
   "metadata": {},
   "source": [
    "#### Definición de Rutas"
   ]
  },
  {
   "cell_type": "code",
   "execution_count": 3,
   "metadata": {},
   "outputs": [],
   "source": [
    "cierre = \"202503\"\n",
    "cierre_l = \"Mar25\"\n",
    "\n",
    "# Carpetas\n",
    "path = \"E:/Users/jhernandezr/DAR/garantias/reporte/fotos/\"\n",
    "wd_data_raw = path + \"data/raw/\"\n",
    "wd_data_external = path + \"data/external/\"\n",
    "\n",
    "wd_data_processed_dwh = \"E:/Users/jhernandezr/DAR/garantias/data_pipeline_garantias/data/processed/DWH/csv/\"\n",
    "\n",
    "# Archivos\n",
    "## Inputs\n",
    "fl_desembolsos_p1 = wd_data_raw + f'Desembolsos_P1_{cierre}'\n",
    "fl_desembolsos_p1_bmxt = wd_data_raw + f'Desembolsos_P1_80686_{cierre}'\n",
    "fl_desembolsos_p1_fianzas = wd_data_raw + f'Desembolsos_P1_BMXT_{cierre}'\n",
    "fl_desembolsos_p2 = wd_data_raw + f'Desembolsos_P2_{cierre}'\n",
    "fl_desembolsos_p2_bmxt = wd_data_raw + f'Desembolsos_P2_80686_{cierre}'\n",
    "fl_desembolsos_p2_fianzas = wd_data_raw + f'Desembolsos_P2_BMXT_{cierre}'\n",
    "fl_catalogos = wd_data_external + f'Catálogos_{cierre_l}'\n",
    "fl_recuperaciones = wd_data_raw + f'Recuperaciones_{cierre}.csv'\n",
    "fl_recuperaciones_bmxt = wd_data_raw + f'Recuperaciones_BMXT_{cierre}.mdb'\n",
    "\n",
    "# Outputs\n",
    "fl_pagadas_global_vf = wd_data_processed_dwh + f\"Pagadas_Global_VF_{cierre}.csv\"\n",
    "fl_valida_pagos = wd_data_processed_dwh + f'Valida_Pagos.csv'\n",
    "fl_recuperadas_global_vf = wd_data_processed_dwh + f'Recuperadas_Global_VF_{cierre}.csv'\n",
    "fl_valida_dwh_dac = wd_data_processed_dwh + f'Recuperadas_Valida_DWHvsDAC.csv'\n",
    "fl_valida_td = wd_data_processed_dwh + f'Recuperadas_Valida_TD.csv'\n",
    "fl_recupera_con_pagos_flujos = wd_data_processed_dwh + f'Recupera_con_Pagos_Flujos_{cierre}.csv'\n",
    "fl_valida_base_pagos = wd_data_processed_dwh + f'Valida_Base_Pagos.csv'\n",
    "fl_valida_base_pagos_mn = wd_data_processed_dwh + f'Valida_Base_Pagos_Mn.csv'\n",
    "fl_valida_base_recup = wd_data_processed_dwh + f'Valida_Base_Recup.csv'\n",
    "fl_valida_base_recup_mn = wd_data_processed_dwh + f'Valida_Base_Recup_Mn.csv'\n",
    "\n",
    "\n"
   ]
  },
  {
   "cell_type": "markdown",
   "metadata": {},
   "source": [
    "### Catálogos"
   ]
  },
  {
   "cell_type": "code",
   "execution_count": 4,
   "metadata": {},
   "outputs": [
    {
     "data": {
      "text/plain": [
       "20.4604"
      ]
     },
     "execution_count": 4,
     "metadata": {},
     "output_type": "execute_result"
    }
   ],
   "source": [
    "conn_str = r\"DRIVER={Microsoft Access Driver (*.mdb, *.accdb)};DBQ=\" + fl_catalogos + '.accdb'\n",
    "conn = pyodbc.connect(conn_str)\n",
    "\n",
    "# Solo Recuperaciones\n",
    "estatus = pl.read_database(query='SELECT * FROM [ESTATUS]', connection=conn)\n",
    "\n",
    "# Recuperaciones, Pagos\n",
    "tipo_cambio = pl.read_database(query='SELECT * FROM [TIPO CAMBIO]', connection=conn)\n",
    "programa = pl.read_database(query='SELECT * FROM [PROGRAMA]', connection=conn, schema_overrides={'PROGRAMA_ID': pl.Int128})\n",
    "agrupamiento = pl.read_database(query='SELECT * FROM [AGRUPAMIENTO]', connection=conn)\n",
    "udis = pl.read_database(query='SELECT * FROM [UDIS]', connection=conn, schema_overrides={'Fecha_Paridad': pl.Datetime})\n",
    "#udis = udis.with_columns(pl.col(\"Fecha_Paridad\").cast(pl.Date))\n",
    "tipo_credito = pl.read_database(query='SELECT * FROM [TIPO_CREDITO]', connection=conn, schema_overrides={'Tipo_Credito_ID': pl.Int32})\n",
    "tipo_garantia = pl.read_database(query='SELECT * FROM [TIPO_GARANTIA]', connection=conn, schema_overrides={'Tipo_garantia_ID': pl.Int32})\n",
    "sfc = pl.read_database(query='SELECT * FROM [SIN FONDOS CONTRAGARANTIA]', connection=conn)\n",
    "\n",
    "conn.close()\n",
    "\n",
    "tipo_cambio.columns = [\"Anio\", \"Mes\", \"TC\"]\n",
    "cierre = date(2025,3,31)\n",
    "tdc = tipo_cambio.filter((pl.col(\"Anio\")==cierre.year) & (pl.col(\"Mes\")==cierre.month)).select(\"TC\").item()\n",
    "tdc"
   ]
  },
  {
   "cell_type": "markdown",
   "metadata": {},
   "source": [
    "### Querie Pagos"
   ]
  },
  {
   "cell_type": "code",
   "execution_count": 5,
   "metadata": {},
   "outputs": [],
   "source": [
    "def main_querie_pagadas():\n",
    "    pagos_f1 = import_f1()\n",
    "    pagos_f2 = import_f2()\n",
    "\n",
    "    # Crea Concatenados y TPRO_CLAVE\n",
    "    pagos_f1 = genera_concatenado(pagos_f1)\n",
    "    pagos_f1 = genera_tpro_clave(pagos_f1)\n",
    "    pagos_f2 = genera_concatenado(pagos_f2)\n",
    "\n",
    "    pagadas_global_inter = genera_pagadas_global_inter(pagos_f1, pagos_f2)\n",
    "    pagadas_global_vf = genera_pagadas_global_vf(pagadas_global_inter)\n",
    "    pagadas_global_vf = complementa_pagadas_global_vf(pagadas_global_vf)\n",
    "\n",
    "    valida_pagos = genera_valida_pagos(pagos_f2)\n",
    "    # pagadas_global_vf_bancomext = genera_pagadas_global_bancomext(pagadas_global_vf)\n",
    "    # pagadas_global_vf_sin_bancomext = genera_pagadas_global_sin_bancomext(pagadas_global_vf)\n",
    "\n",
    "    valida_base_pagos = genera_valida_base_pagos(pagadas_global_vf)\n",
    "    valida_base_pagos_mn = genera_valida_base_pagos_mn(pagadas_global_vf)\n",
    "\n",
    "    pagadas_global_vf.write_csv(fl_pagadas_global_vf, datetime_format=\"%Y-%m-%d\", float_precision=10)\n",
    "    valida_pagos.write_csv(fl_valida_pagos)\n",
    "    #pagadas_global_vf_bancomext.write_csv('./../data/processed/DWH/pagadas_global_vf_bancomext.csv')\n",
    "    #pagadas_global_vf_sin_bancomext.write_csv('./../data/processed/DWH/pagadas_global_vf_sin_bancomext.csv')\n",
    "    \n",
    "    valida_base_pagos.write_csv(fl_valida_base_pagos, float_precision = 10)\n",
    "    valida_base_pagos_mn.write_csv(fl_valida_base_pagos_mn, float_precision = 10)\n",
    "\n",
    "    return pagadas_global_vf\n",
    "\n",
    "pagadas_global_vf = main_querie_pagadas()"
   ]
  },
  {
   "cell_type": "code",
   "execution_count": null,
   "metadata": {},
   "outputs": [],
   "source": []
  },
  {
   "cell_type": "markdown",
   "metadata": {},
   "source": [
    "### Querie Recuperaciones"
   ]
  },
  {
   "cell_type": "markdown",
   "metadata": {},
   "source": [
    "#### Ejecución"
   ]
  },
  {
   "cell_type": "code",
   "execution_count": 6,
   "metadata": {},
   "outputs": [],
   "source": [
    "def main_querie_recuperaciones():\n",
    "    dwh_recuperaciones = importa_recuperaciones()\n",
    "    recuperadas_global_inter = genera_recuperadas_global_inter(dwh_recuperaciones)\n",
    "    recuperadas_global_vf = genera_recuperadas_global_vf(recuperadas_global_inter)\n",
    "\n",
    "    #recuperadas_global_vf_bancomext = genera_recuperadas_global_bancomext(recuperadas_global_vf)\n",
    "    #recuperadas_global_vf_sin_bancomext = genera_recuperadas_global_sin_bancomext(recuperadas_global_vf)\n",
    "\n",
    "    valida_dwh_dac = genera_valida_dwh_dac(dwh_recuperaciones)\n",
    "    valida_td = genera_valida_td(dwh_recuperaciones)\n",
    "\n",
    "    recuperadas_global_vf.write_csv(fl_recuperadas_global_vf, datetime_format=\"%Y-%m-%d\", float_precision=6)\n",
    "    valida_dwh_dac.write_csv(fl_valida_dwh_dac, float_precision=6, float_scientific=False)\n",
    "    valida_td.write_csv(fl_valida_td,float_precision=6, float_scientific=False)\n",
    "    #recuperadas_global_vf_bancomext.write_csv('./../data/processed/DWH/recuperadas_global_vf_bancomext.csv')\n",
    "    #recuperadas_global_vf_sin_bancomext.write_csv('./../data/processed/DWH/recuperadas_global_vf_sin_bancomext.csv')\n",
    "    \n",
    "    return recuperadas_global_vf\n",
    "#recuperadas_global_vf = main_querie_recuperaciones()"
   ]
  },
  {
   "cell_type": "markdown",
   "metadata": {},
   "source": [
    "### Querie Union Flujos"
   ]
  },
  {
   "cell_type": "markdown",
   "metadata": {},
   "source": [
    "#### Ejecución"
   ]
  },
  {
   "cell_type": "code",
   "execution_count": 7,
   "metadata": {},
   "outputs": [],
   "source": [
    "def genera_concatenado(df, intermediario=\"INTERMEDIARIO_ID\", no_credito=\"NUMERO_CREDITO\"):\n",
    "    result = (df.with_columns(\n",
    "                (pl.col(intermediario) + pl.col(no_credito))\n",
    "                .alias(\"Concatenado\"))\n",
    "            )\n",
    "    \n",
    "    return result"
   ]
  },
  {
   "cell_type": "code",
   "execution_count": 8,
   "metadata": {},
   "outputs": [],
   "source": [
    "def main_querie_union_flujos(pagadas_global_vf, recuperadas_global_vf):\n",
    "    pagos_agrup = genera_pagos_agrup(pagadas_global_vf)\n",
    "    pagos_agrup = genera_concatenado(pagos_agrup, intermediario=\"Intermediario_Id\", no_credito=\"Numero_Credito\")\n",
    "\n",
    "    recuperadas_global_vf = genera_concatenado(recuperadas_global_vf)\n",
    "    #recuperaciones_agrup = genera_recuperaciones_agrup(recuperadas_global_vf)\n",
    "\n",
    "    # Falta depurar columnas de B\n",
    "    #uf_pagos_recuperaciones = pagos_agrup.join(recuperadas_global_vf, on=\"Concatenado\", how='left')\n",
    "\n",
    "    # Falta depurar columnas de B\n",
    "    uf_recuperaciones_pagos = recuperadas_global_vf.join(pagos_agrup, on=\"Concatenado\", how='left')\n",
    "\n",
    "    #t_roberto = pagos_agrup.join(recuperaciones_agrup, on=\"Concatenado\", how='left')\n",
    "\n",
    "    recupera_con_pagos_flujos = genera_recupera_con_pagos_flujos(uf_recuperaciones_pagos)\n",
    "    #recupera_con_pagos_flujos_bmxt = genera_recupera_con_pagos_flujos_bancomext(recupera_con_pagos_flujos)\n",
    "    #recupera_con_pagos_flujos_sin_bmxt = genera_recupera_con_pagos_flujos_sin_bancomext(recupera_con_pagos_flujos)\n",
    "\n",
    "    valida_base_pagos_recup = genera_valida_base_pagos_recup(recuperadas_global_vf)\n",
    "    valida_base_pagos_recup_mn = genera_valida_base_pagos_recup_mn(recuperadas_global_vf)\n",
    "    \n",
    "    recupera_con_pagos_flujos.write_csv(fl_recupera_con_pagos_flujos, datetime_format=\"%Y-%m-%d\", float_precision=6)\n",
    "    # recupera_con_pagos_flujos_bmxt.write_csv('./../data/processed/DWH/recupera_con_pagos_flujos_bmxt.csv')\n",
    "    # recupera_con_pagos_flujos_sin_bmxt.write_csv('./../data/processed/DWH/recupera_con_pagos_flujos_sin_bmxt.csv')\n",
    "    valida_base_pagos_recup.write_csv(fl_valida_base_recup)\n",
    "    valida_base_pagos_recup_mn.write_csv(fl_valida_base_recup_mn)\n",
    "\n",
    "    return 0\n",
    "#main_querie_union_flujos(pagadas_global_vf, recuperadas_global_vf)\n"
   ]
  },
  {
   "cell_type": "code",
   "execution_count": 9,
   "metadata": {},
   "outputs": [],
   "source": [
    "#main_querie_union_flujos(pagadas_global_vf, recuperadas_global_vf)"
   ]
  },
  {
   "cell_type": "code",
   "execution_count": null,
   "metadata": {},
   "outputs": [],
   "source": []
  },
  {
   "cell_type": "markdown",
   "metadata": {},
   "source": [
    "### Ejecución Principal"
   ]
  },
  {
   "cell_type": "code",
   "execution_count": 10,
   "metadata": {},
   "outputs": [],
   "source": [
    "if __name__ ==  \"__main__\":\n",
    "    pagadas_global_vf = main_querie_pagadas()\n",
    "    recuperadas_global_vf = main_querie_recuperaciones()\n",
    "    main_querie_union_flujos(pagadas_global_vf, recuperadas_global_vf)"
   ]
  },
  {
   "cell_type": "code",
   "execution_count": 11,
   "metadata": {},
   "outputs": [
    {
     "data": {
      "text/plain": [
       "39.50812077522278"
      ]
     },
     "execution_count": 11,
     "metadata": {},
     "output_type": "execute_result"
    }
   ],
   "source": [
    "end_time = time.time()\n",
    "end_time - start_time"
   ]
  }
 ],
 "metadata": {
  "kernelspec": {
   "display_name": ".venv",
   "language": "python",
   "name": "python3"
  },
  "language_info": {
   "codemirror_mode": {
    "name": "ipython",
    "version": 3
   },
   "file_extension": ".py",
   "mimetype": "text/x-python",
   "name": "python",
   "nbconvert_exporter": "python",
   "pygments_lexer": "ipython3",
   "version": "3.13.2"
  }
 },
 "nbformat": 4,
 "nbformat_minor": 2
}
