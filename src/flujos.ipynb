{
 "cells": [
  {
   "cell_type": "code",
   "execution_count": 1,
   "metadata": {},
   "outputs": [],
   "source": [
    "import polars as pl\n",
    "import pyodbc\n",
    "from datetime import date\n",
    "\n",
    "import time\n",
    "start_time = time.time()"
   ]
  },
  {
   "cell_type": "code",
   "execution_count": 2,
   "metadata": {},
   "outputs": [],
   "source": [
    "from IPython import get_ipython\n",
    "get_ipython().run_line_magic(\"run\", \"functions.ipynb\")"
   ]
  },
  {
   "cell_type": "markdown",
   "metadata": {},
   "source": [
    "#### Definición de Rutas"
   ]
  },
  {
   "cell_type": "code",
   "execution_count": 3,
   "metadata": {},
   "outputs": [],
   "source": [
    "cierre = \"202502\"\n",
    "cierre_l = \"Feb25\"\n",
    "\n",
    "# Carpetas\n",
    "path = \"E:/Users/jhernandezr/DAR/garantias/reporte/fotos/\"\n",
    "wd_data_raw = path + \"data/raw/\"\n",
    "wd_data_external = path + \"data/external/\"\n",
    "\n",
    "# Archivos\n",
    "fl_desembolsos_p1 = wd_data_raw + f'Desembolsos_P1_{cierre}'\n",
    "fl_desembolsos_p1_bmxt = wd_data_raw + f'Desembolsos_P1_80686_{cierre}'\n",
    "fl_desembolsos_p1_fianzas = wd_data_raw + f'Desembolsos_P1_BMXT_{cierre}'\n",
    "fl_desembolsos_p2 = wd_data_raw + f'Desembolsos_P2_{cierre}'\n",
    "fl_desembolsos_p2_bmxt = wd_data_raw + f'Desembolsos_P2_80686_{cierre}'\n",
    "fl_desembolsos_p2_fianzas = wd_data_raw + f'Desembolsos_P2_BMXT_{cierre}'\n",
    "fl_catalogos = wd_data_external + f'Catálogos_{cierre_l}'\n",
    "\n"
   ]
  },
  {
   "cell_type": "markdown",
   "metadata": {},
   "source": [
    "### Catálogos"
   ]
  },
  {
   "cell_type": "code",
   "execution_count": 10,
   "metadata": {},
   "outputs": [
    {
     "data": {
      "text/plain": [
       "20.8829"
      ]
     },
     "execution_count": 10,
     "metadata": {},
     "output_type": "execute_result"
    }
   ],
   "source": [
    "conn_str = r\"DRIVER={Microsoft Access Driver (*.mdb, *.accdb)};DBQ=\" + fl_catalogos + '.accdb'\n",
    "conn = pyodbc.connect(conn_str)\n",
    "\n",
    "# Solo Recuperaciones\n",
    "estatus = pl.read_database(query='SELECT * FROM [ESTATUS]', connection=conn)\n",
    "\n",
    "# Recuperaciones, Pagos\n",
    "tipo_cambio = pl.read_database(query='SELECT * FROM [TIPO CAMBIO]', connection=conn)\n",
    "programa = pl.read_database(query='SELECT * FROM [PROGRAMA]', connection=conn, schema_overrides={'PROGRAMA_ID': pl.Int128})\n",
    "agrupamiento = pl.read_database(query='SELECT * FROM [AGRUPAMIENTO]', connection=conn)\n",
    "udis = pl.read_database(query='SELECT * FROM [UDIS]', connection=conn, schema_overrides={'Fecha_Paridad': pl.Datetime})\n",
    "#udis = udis.with_columns(pl.col(\"Fecha_Paridad\").cast(pl.Date))\n",
    "tipo_credito = pl.read_database(query='SELECT * FROM [TIPO_CREDITO]', connection=conn, schema_overrides={'Tipo_Credito_ID': pl.Int32})\n",
    "tipo_garantia = pl.read_database(query='SELECT * FROM [TIPO_GARANTIA]', connection=conn, schema_overrides={'Tipo_garantia_ID': pl.Int32})\n",
    "sfc = pl.read_database(query='SELECT * FROM [SIN FONDOS CONTRAGARANTIA]', connection=conn)\n",
    "\n",
    "conn.close()\n",
    "\n",
    "tipo_cambio.columns = [\"Anio\", \"Mes\", \"TC\"]\n",
    "cierre = date(2024,12,31)\n",
    "tdc = tipo_cambio.filter((pl.col(\"Anio\")==cierre.year) & (pl.col(\"Mes\")==cierre.month)).select(\"TC\").item()\n",
    "tdc"
   ]
  },
  {
   "cell_type": "markdown",
   "metadata": {},
   "source": [
    "### Querie Pagos"
   ]
  },
  {
   "cell_type": "code",
   "execution_count": 5,
   "metadata": {},
   "outputs": [],
   "source": [
    "pagos_f1 = import_f1()\n",
    "pagos_f2 = import_f2()"
   ]
  },
  {
   "cell_type": "code",
   "execution_count": 11,
   "metadata": {},
   "outputs": [],
   "source": [
    "pagos_f1 = genera_concatenado(pagos_f1)\n",
    "pagos_f1 = genera_tpro_clave(pagos_f1)\n",
    "pagos_f2 = genera_concatenado(pagos_f2)\n",
    "pagadas_global_inter = genera_pagadas_global_inter(pagos_f1, pagos_f2)"
   ]
  },
  {
   "cell_type": "code",
   "execution_count": 9,
   "metadata": {},
   "outputs": [
    {
     "data": {
      "text/html": [
       "<div><style>\n",
       ".dataframe > thead > tr,\n",
       ".dataframe > tbody > tr {\n",
       "  text-align: right;\n",
       "  white-space: pre-wrap;\n",
       "}\n",
       "</style>\n",
       "<small>shape: (10_924, 2)</small><table border=\"1\" class=\"dataframe\"><thead><tr><th>Fecha_Paridad</th><th>Paridad_Peso</th></tr><tr><td>date</td><td>f64</td></tr></thead><tbody><tr><td>2024-05-20</td><td>8.149012</td></tr><tr><td>2024-05-21</td><td>8.150367</td></tr><tr><td>2024-05-22</td><td>8.151722</td></tr><tr><td>2024-05-23</td><td>8.153078</td></tr><tr><td>2024-05-24</td><td>8.154433</td></tr><tr><td>&hellip;</td><td>&hellip;</td></tr><tr><td>2025-01-27</td><td>8.3685</td></tr><tr><td>2025-01-28</td><td>8.36956</td></tr><tr><td>2025-01-29</td><td>8.37062</td></tr><tr><td>2025-01-30</td><td>8.37168</td></tr><tr><td>2025-01-31</td><td>8.37274</td></tr></tbody></table></div>"
      ],
      "text/plain": [
       "shape: (10_924, 2)\n",
       "┌───────────────┬──────────────┐\n",
       "│ Fecha_Paridad ┆ Paridad_Peso │\n",
       "│ ---           ┆ ---          │\n",
       "│ date          ┆ f64          │\n",
       "╞═══════════════╪══════════════╡\n",
       "│ 2024-05-20    ┆ 8.149012     │\n",
       "│ 2024-05-21    ┆ 8.150367     │\n",
       "│ 2024-05-22    ┆ 8.151722     │\n",
       "│ 2024-05-23    ┆ 8.153078     │\n",
       "│ 2024-05-24    ┆ 8.154433     │\n",
       "│ …             ┆ …            │\n",
       "│ 2025-01-27    ┆ 8.3685       │\n",
       "│ 2025-01-28    ┆ 8.36956      │\n",
       "│ 2025-01-29    ┆ 8.37062      │\n",
       "│ 2025-01-30    ┆ 8.37168      │\n",
       "│ 2025-01-31    ┆ 8.37274      │\n",
       "└───────────────┴──────────────┘"
      ]
     },
     "execution_count": 9,
     "metadata": {},
     "output_type": "execute_result"
    }
   ],
   "source": [
    "udis"
   ]
  },
  {
   "cell_type": "code",
   "execution_count": 12,
   "metadata": {},
   "outputs": [],
   "source": [
    "\n",
    "pagadas_global_vf = genera_pagadas_global_vf(pagadas_global_inter)\n"
   ]
  },
  {
   "cell_type": "code",
   "execution_count": 13,
   "metadata": {},
   "outputs": [],
   "source": [
    "def main_querie_pagadas():\n",
    "    pagos_f1 = import_f1()\n",
    "    pagos_f2 = import_f2()\n",
    "\n",
    "    # Crea Concatenados y TPRO_CLAVE\n",
    "    pagos_f1 = genera_concatenado(pagos_f1)\n",
    "    pagos_f1 = genera_tpro_clave(pagos_f1)\n",
    "    pagos_f2 = genera_concatenado(pagos_f2)\n",
    "\n",
    "    pagadas_global_inter = genera_pagadas_global_inter(pagos_f1, pagos_f2)\n",
    "    pagadas_global_vf = genera_pagadas_global_vf(pagadas_global_inter)\n",
    "    pagadas_global_vf = complementa_pagadas_global_vf(pagadas_global_vf)\n",
    "\n",
    "    valida_pagos = genera_validador(pagos_f2)\n",
    "    pagadas_global_vf_bancomext = genera_pagadas_global_bancomext(pagadas_global_vf)\n",
    "    pagadas_global_vf_sin_bancomext = genera_pagadas_global_sin_bancomext(pagadas_global_vf)\n",
    "\n",
    "    valida_base_pagos = genera_valida_base_pagos(pagadas_global_vf)\n",
    "    valida_base_pagos_mn = genera_valida_base_pagos_mn(pagadas_global_vf)\n",
    "\n",
    "    pagadas_global_vf.write_csv('./../data/processed/DWH/pagadas_global_vf.csv')\n",
    "    pagadas_global_vf_bancomext.write_csv('./../data/processed/DWH/pagadas_global_vf_bancomext.csv')\n",
    "    pagadas_global_vf_sin_bancomext.write_csv('./../data/processed/DWH/pagadas_global_vf_sin_bancomext.csv')\n",
    "    valida_pagos.write_csv('./../data/processed/DWH/valida_pagos.csv')\n",
    "    valida_base_pagos.write_csv('./../data/processed/DWH/valida_base_pagos.csv')\n",
    "    valida_base_pagos_mn.write_csv('./../data/processed/DWH/valida_base_pagos_mn.csv')\n",
    "\n",
    "    return pagadas_global_vf\n",
    "\n",
    "pagadas_global_vf = main_querie_pagadas()"
   ]
  },
  {
   "cell_type": "markdown",
   "metadata": {},
   "source": [
    "### Querie Recuperaciones"
   ]
  },
  {
   "cell_type": "markdown",
   "metadata": {},
   "source": [
    "#### Funciones"
   ]
  },
  {
   "cell_type": "code",
   "execution_count": 9,
   "metadata": {},
   "outputs": [],
   "source": [
    "schema_recuperaciones = {\n",
    "    'ANIO DEGL': pl.String,\n",
    "    'DESC_INDICADOR': pl.String,\n",
    "    'DESCRIPCION': pl.String,\n",
    "    'ESTATUS': pl.String,\n",
    "    'FECHA': pl.Date,\n",
    "    'FECHA_APERTURA': pl.Date,\n",
    "    'FECHA_CONSULTA': pl.Date,\n",
    "    'FECHA_GARANTIA_HONRADA': pl.Date,\n",
    "    'FECHA_REGISTRO': pl.Date,\n",
    "    'FECHA_REGISTRO_ALTA': pl.Date,\n",
    "    'FISO_ID': pl.Int32,\n",
    "    'HISTORICO': pl.String,\n",
    "    'ID': pl.Int64,\n",
    "    'INTERMEDIARIO_ID': pl.String,\n",
    "    'MES DEGL': pl.Int8,\n",
    "    'MONEDA_ID': pl.Int8,\n",
    "    'NOMBRE_EMPRESA': pl.String,\n",
    "    'NUMERO_CREDITO': pl.String,\n",
    "    'PORCENTAJE_GARANTIZADO': pl.Float32,\n",
    "    'PROGRAMA_ID': pl.Int32,\n",
    "    'PROGRAMA_ORIGINAL': pl.Int32,\n",
    "    'RAZON_SOCIAL': pl.String,\n",
    "    'RFC_EMPRESA': pl.String,\n",
    "    'TIPO_CAMBIO_GARANTIA': pl.Float32,\n",
    "    'TIPO_CREDITO_ID': pl.Int32,\n",
    "    'TIPO_GARANTIA_ID': pl.Int32,\n",
    "    'TIPO_PERSONA': pl.String,\n",
    "    'GASTO_JUICIOS': pl.Float32,\n",
    "    'INTER_MORAT':pl.Float32,\n",
    "    'INTERES_GENERADO':pl.Float32,\n",
    "    'INTERESES': pl.Float32,\n",
    "    'MONTO': pl.Float32,\n",
    "    'MONTO_CREDITO_MN': pl.Float64,\n",
    "    'MORATORIOS': pl.Float32,\n",
    "    'Número de registros': pl.Int8,\n",
    "    'PENALIZACION': pl.Float32\n",
    "}\n",
    "\n",
    "\n",
    "schema_recuperaciones_bancomext = {\n",
    "    'DESC_INDICADOR': pl.String,\n",
    "    'DESCRIPCION': pl.String,\n",
    "    'ESTATUS': pl.String,\n",
    "    'FECHA': pl.Date,\n",
    "    'FECHA_APERTURA': pl.Date,\n",
    "    'FECHA_CONSULTA': pl.Date,\n",
    "    'FECHA_GARANTIA_HONRADA': pl.Date,\n",
    "    'FECHA_REGISTRO': pl.Date,\n",
    "    'FECHA_REGISTRO_ALTA': pl.Date,\n",
    "    'HISTORICO': pl.String,\n",
    "    'ID': pl.Int64,\n",
    "    'INTERMEDIARIO_ID': pl.String,\n",
    "    'MONEDA_ID': pl.Int8,\n",
    "    'NOMBRE_EMPRESA': pl.String,\n",
    "    'NUMERO_CREDITO': pl.String,\n",
    "    'PORCENTAJE_GARANTIZADO': pl.Float32,\n",
    "    'PROGRAMA_ID': pl.Int32,\n",
    "    'PROGRAMA_ORIGINAL': pl.Int32,\n",
    "    'RAZON_SOCIAL': pl.String,\n",
    "    'RFC_EMPRESA': pl.String,\n",
    "    'TIPO_CAMBIO_GARANTIA': pl.Float32,\n",
    "    'TIPO_CREDITO_ID': pl.Int32,\n",
    "    'TIPO_GARANTIA_ID': pl.Int32,\n",
    "    'TIPO_PERSONA': pl.String,\n",
    "    'GASTO_JUICIOS': pl.String,\n",
    "    'INTER_MORAT': pl.Float32,\n",
    "    'INTERES_GENERADO': pl.Float32,\n",
    "    'INTERESES': pl.Float32,\n",
    "    'MONTO': pl.Float32,\n",
    "    'MONTO_CREDITO_MN': pl.Float64,\n",
    "    'MORATORIOS': pl.Float32,\n",
    "    'Número de registros': pl.Int8,\n",
    "    'PENALIZACION': pl.Float32\n",
    "}"
   ]
  },
  {
   "cell_type": "code",
   "execution_count": 10,
   "metadata": {},
   "outputs": [],
   "source": [
    "def importa_recuperaciones():\n",
    "    dwh_recup = pl.read_csv('../data/raw/SRC_FL_RECUP_MES_ANT_Datos migrados.csv', schema=schema_recuperaciones)\n",
    "    dwh_recup = dwh_recup.drop(['ANIO DEGL', 'FISO_ID', 'MES DEGL'])\n",
    "\n",
    "    dwh_recup_bmxt = pl.read_csv('../data/raw/SRC_FLUJOS_RECUPERACIONES_BANCOMEXT_Datos migrados.csv', schema=schema_recuperaciones_bancomext)\n",
    "    dwh_recup_bmxt = dwh_recup_bmxt.with_columns(\n",
    "        pl.col(\"GASTO_JUICIOS\").str.replace(\",\", \"\").cast(pl.Float32)\n",
    "    )\n",
    "\n",
    "    aux = pl.concat([dwh_recup, dwh_recup_bmxt], rechunk=True)\n",
    "\n",
    "    dwh_recuperaciones = aux.rename({\n",
    "        \"DESC_INDICADOR\": \"Producto\",\n",
    "        \"FECHA_REGISTRO_ALTA\": \"Fecha Registro Alta\",\n",
    "        \"NOMBRE_EMPRESA\": \"Empresa / Acreditado (Descripción)\",\n",
    "        \"RAZON_SOCIAL\": \"Razón Social (Intermediario)\",\n",
    "        \"RFC_EMPRESA\": \"RFC Empresa / Acreditado\",\n",
    "        \"TIPO_CAMBIO_GARANTIA\":\"Tipo_Cambio_Cierre\",\n",
    "        \"GASTO_JUICIOS\": \"Gastos Juicio\",\n",
    "        \"INTER_MORAT\": \"Moratorios\",\n",
    "        \"INTERES_GENERADO\": \"Interes Generado\", \n",
    "        \"INTERESES\": \"Interes\", \n",
    "        \"MONTO\": \"Monto\",\n",
    "        \"MONTO_CREDITO_MN\": \"Monto _Credito_Mn\",\n",
    "        \"MORATORIOS\": \"Excedente\",\n",
    "        \"PENALIZACION\": \"Penalizacion\"\n",
    "    }).select([\n",
    "        \"Producto\", \n",
    "        \"DESCRIPCION\", \n",
    "        \"ESTATUS\", \n",
    "        \"FECHA\", \n",
    "        \"FECHA_APERTURA\", \n",
    "        \"FECHA_CONSULTA\", \n",
    "        \"FECHA_GARANTIA_HONRADA\", \n",
    "        \"FECHA_REGISTRO\",\n",
    "        \"Fecha Registro Alta\",\n",
    "        \"HISTORICO\", \n",
    "        \"ID\", \n",
    "        \"INTERMEDIARIO_ID\", \n",
    "        \"MONEDA_ID\", \n",
    "        \"Empresa / Acreditado (Descripción)\", \n",
    "        \"NUMERO_CREDITO\", \n",
    "        \"PORCENTAJE_GARANTIZADO\", \n",
    "        \"PROGRAMA_ID\", \n",
    "        \"PROGRAMA_ORIGINAL\", \n",
    "        \"Razón Social (Intermediario)\", \n",
    "        \"RFC Empresa / Acreditado\",\n",
    "        \"Tipo_Cambio_Cierre\", \n",
    "        \"TIPO_CREDITO_ID\", \n",
    "        \"TIPO_GARANTIA_ID\", \n",
    "        \"TIPO_PERSONA\", \n",
    "        \"Gastos Juicio\", \n",
    "        \"Moratorios\", \n",
    "        \"Interes Generado\", \n",
    "        \"Interes\", \n",
    "        \"Monto\", \n",
    "        \"Monto _Credito_Mn\", \n",
    "        \"Excedente\",\n",
    "        \"Penalizacion\"\n",
    "    ])\n",
    "\n",
    "    dwh_recuperaciones = dwh_recuperaciones.with_columns(pl.col(\"TIPO_GARANTIA_ID\").fill_null(999))\n",
    "    dwh_recuperaciones = genera_tpro_clave(dwh_recuperaciones)\n",
    "\n",
    "    return dwh_recuperaciones"
   ]
  },
  {
   "cell_type": "code",
   "execution_count": 11,
   "metadata": {},
   "outputs": [],
   "source": [
    "def genera_recuperadas_global_inter(df):\n",
    "    # Requiere que se hayan importado los catálogos\n",
    "    result = (df\n",
    "    .join(programa.select(['PROGRAMA_ID', 'AGRUPAMIENTO_ID', 'ESQUEMA', 'SUBESQUEMA']), on=\"PROGRAMA_ID\", how='left')\n",
    "        .join(agrupamiento, on='AGRUPAMIENTO_ID', how='left')\n",
    "        .join(udis, left_on=\"FECHA_APERTURA\", right_on=\"Fecha_Paridad\", how='left')\n",
    "        .join(tipo_credito.select(['Tipo_Credito_ID', 'NR_R']), left_on='TIPO_CREDITO_ID', right_on=\"Tipo_Credito_ID\", how='left')\n",
    "        .join(tipo_garantia.select(['Tipo_garantia_ID', 'CSG']), left_on='TIPO_GARANTIA_ID', right_on='Tipo_garantia_ID', how='left')\n",
    "        .join(sfc.select(['Intermediario_Id', 'CLAVE_CREDITO', 'FONDOS_CONTRAGARANTIA']), left_on=['INTERMEDIARIO_ID', 'NUMERO_CREDITO'], right_on=['Intermediario_Id', 'CLAVE_CREDITO'], how='left')\n",
    "        .join(estatus.select(['Estatus ID', 'Recup/Rescat']), left_on='ESTATUS', right_on='Estatus ID', how='left')\n",
    "        ).rename({'Recup/Rescat': 'Recup_Rescat'})\n",
    "\n",
    "    # Complementa\n",
    "    result = (result\n",
    "        .with_columns(pl.when(pl.col('MONEDA_ID')==54)\n",
    "                    .then(tdc).otherwise(1).alias(\"TC\"))\n",
    "        .with_columns(pl.when(pl.col(\"Monto _Credito_Mn\")<=(900000*pl.col(\"Paridad_Peso\")))\n",
    "                    .then(0).otherwise(1).alias(\"MM_UDIS\"))\n",
    "        .with_columns(pl.when(pl.col(\"FONDOS_CONTRAGARANTIA\")==\"SF\")\n",
    "                    .then(pl.lit(\"SF\")).otherwise(pl.lit(\"CF\")).alias(\"CSF\"))\n",
    "        )\n",
    "    \n",
    "    return result"
   ]
  },
  {
   "cell_type": "code",
   "execution_count": 12,
   "metadata": {},
   "outputs": [],
   "source": [
    "def genera_recuperadas_global_vf(df):\n",
    "    aux = df.select(['Monto', 'Interes', 'Moratorios', 'Excedente']).sum_horizontal(ignore_nulls=True)\n",
    "    result = (df\n",
    "        .with_columns((pl.col(\"Monto\") * pl.col(\"TC\")).alias(\"Monto_Mn\"))\n",
    "        .with_columns((pl.col(\"Interes\") * pl.col(\"TC\")).alias(\"Interes_Mn\"))\n",
    "        .with_columns((pl.col(\"Moratorios\") * pl.col(\"TC\")).alias(\"Moratorios_Mn\"))\n",
    "        .with_columns((pl.col(\"Excedente\") * pl.col(\"TC\")).alias(\"Excedente_Mn\"))\n",
    "        .with_columns((pl.col(\"Gastos Juicio\") * pl.col(\"TC\")).alias(\"Gastos_Juicio_Mn\"))\n",
    "        .with_columns((aux * pl.col(\"TC\")).alias(\"Sub_Total_Mn\"))\n",
    "        .with_columns((pl.col(\"Sub_Total_Mn\")-pl.col(\"Gastos_Juicio_Mn\")).alias(\"Monto_Total_Mn\"))\n",
    "        .with_columns(pl.when(((pl.col(\"NUMERO_CREDITO\")==\"9842725312\") & (pl.col(\"INTERMEDIARIO_ID\")==\"10040012\")))\n",
    "               .then(date(2011,8,2))\n",
    "               .otherwise(pl.col(\"FECHA_GARANTIA_HONRADA\"))\n",
    "               .alias(\"FECHA_GARANTIA_HONRADA\"))\n",
    "    )\n",
    "    return result"
   ]
  },
  {
   "cell_type": "code",
   "execution_count": 13,
   "metadata": {},
   "outputs": [],
   "source": [
    "def genera_recuperadas_global_bancomext(df):\n",
    "    result = (df.filter(\n",
    "        (pl.col(\"Producto\") == \"GARANTIAS BANCOMEXT\") |\n",
    "        (pl.col(\"Producto\") == \"GARANTIAS SHF/LI FINANCIERO\") |\n",
    "        (pl.col(\"Producto\") == \"GARANTIAS BANSEFI\") |\n",
    "        (pl.col(\"Producto\").is_null())\n",
    "    ))\n",
    "    return result\n",
    "\n",
    "def genera_recuperadas_global_sin_bancomext(df):\n",
    "    result = (df.filter(\n",
    "        (pl.col(\"Producto\") != \"GARANTIAS BANCOMEXT\") |\n",
    "        (pl.col(\"Producto\") != \"GARANTIAS SHF/LI FINANCIERO\") |\n",
    "        (pl.col(\"Producto\") != \"GARANTIAS BANSEFI\")\n",
    "    ))\n",
    "    return result"
   ]
  },
  {
   "cell_type": "code",
   "execution_count": 14,
   "metadata": {},
   "outputs": [],
   "source": [
    "def genera_valida_dwh_dac(df):\n",
    "    result = (df\n",
    "      .group_by(['HISTORICO', 'Tipo_Cambio_Cierre', 'Producto'])\n",
    "      .agg(pl.col(\"Monto\").sum().alias(\"S_Monto\"),\n",
    "            pl.col(\"Interes\").sum().alias(\"S_Interes\"),\n",
    "            pl.col(\"Moratorios\").sum().alias(\"S_Moratorios\"),\n",
    "            pl.col(\"Excedente\").sum().alias(\"S_Excedente\"),\n",
    "            pl.col(\"Gastos Juicio\").sum().alias(\"S_Gastos_Juicio\"),\n",
    "          )\n",
    "    )\n",
    "    return result"
   ]
  },
  {
   "cell_type": "code",
   "execution_count": 15,
   "metadata": {},
   "outputs": [],
   "source": [
    "def genera_valida_td(df):\n",
    "    result = (df\n",
    "      .group_by(['Producto', 'Tipo_Cambio_Cierre'])\n",
    "      .agg(pl.col(\"Monto\").sum().alias(\"S_Monto\"),\n",
    "            pl.col(\"Interes\").sum().alias(\"S_Interes\"),\n",
    "            pl.col(\"Moratorios\").sum().alias(\"S_Moratorios\"),\n",
    "            pl.col(\"Excedente\").sum().alias(\"S_Excedente\"),\n",
    "            pl.col(\"Gastos Juicio\").sum().alias(\"S_Gastos_Juicio\"),\n",
    "          )\n",
    "      )\n",
    "    return result"
   ]
  },
  {
   "cell_type": "code",
   "execution_count": null,
   "metadata": {},
   "outputs": [],
   "source": []
  },
  {
   "cell_type": "markdown",
   "metadata": {},
   "source": [
    "#### Ejecución"
   ]
  },
  {
   "cell_type": "code",
   "execution_count": 16,
   "metadata": {},
   "outputs": [],
   "source": [
    "def main_querie_recuperaciones():\n",
    "    dwh_recuperaciones = importa_recuperaciones()\n",
    "    recuperadas_global_inter = genera_recuperadas_global_inter(dwh_recuperaciones)\n",
    "    recuperadas_global_vf = genera_recuperadas_global_vf(recuperadas_global_inter)\n",
    "\n",
    "    recuperadas_global_vf_bancomext = genera_recuperadas_global_bancomext(recuperadas_global_vf)\n",
    "    recuperadas_global_vf_sin_bancomext = genera_recuperadas_global_sin_bancomext(recuperadas_global_vf)\n",
    "\n",
    "    valida_dwh_dac = genera_valida_dwh_dac(dwh_recuperaciones)\n",
    "    valida_td = genera_valida_td(dwh_recuperaciones)\n",
    "\n",
    "    recuperadas_global_vf.write_csv('./../data/processed/DWH/python/recuperadas_global_vf.csv')\n",
    "    recuperadas_global_vf_bancomext.write_csv('./../data/processed/DWH/python/recuperadas_global_vf_bancomext.csv')\n",
    "    recuperadas_global_vf_sin_bancomext.write_csv('./../data/processed/DWH/python/recuperadas_global_vf_sin_bancomext.csv')\n",
    "    valida_dwh_dac.write_csv('./../data/processed/DWH/python/valida_dwh_dac.csv')\n",
    "    valida_td.write_csv('./../data/processed/DWH/python/valida_td.csv')\n",
    "\n",
    "    return recuperadas_global_vf"
   ]
  },
  {
   "cell_type": "code",
   "execution_count": 17,
   "metadata": {},
   "outputs": [],
   "source": [
    "#main_querie_recuperaciones()"
   ]
  },
  {
   "cell_type": "markdown",
   "metadata": {},
   "source": [
    "### Querie Union Flujos"
   ]
  },
  {
   "cell_type": "markdown",
   "metadata": {},
   "source": [
    "#### Funciones"
   ]
  },
  {
   "cell_type": "code",
   "execution_count": 18,
   "metadata": {},
   "outputs": [],
   "source": [
    "def genera_pagos_agrup(pagadas_global_vf):\n",
    "    pagos_agrup = pagadas_global_vf.group_by([\n",
    "        'Producto', \n",
    "        'INTERMEDIARIO_ID', \n",
    "        'NUMERO_CREDITO', \n",
    "        'FECHA_GARANTIA_HONRADA', \n",
    "        'MM_UDIS', \n",
    "        'NR_R', \n",
    "        'Razón Social (Intermediario)', \n",
    "        'TPRO_CLAVE', \n",
    "        'AGRUPAMIENTO'\n",
    "    ]).agg(\n",
    "        pl.col(\"Monto_Desembolso_Mn\").sum().alias(\"Monto_Desem_Mn\"),\n",
    "        pl.col(\"Interes_Desembolso_Mn\").sum().alias(\"Interes_Desem_Mn\"),\n",
    "        pl.col(\"Interes_Moratorios_Mn\").sum().alias(\"Interes_Morat_Mn\"),\n",
    "        pl.col(\"Monto_Pagado_Mn\").sum().alias(\"MPagado_Mn\"),\n",
    "    )\n",
    "\n",
    "\n",
    "    return pagos_agrup"
   ]
  },
  {
   "cell_type": "code",
   "execution_count": 19,
   "metadata": {},
   "outputs": [],
   "source": [
    "def genera_recuperaciones_agrup(recuperadas_global_vf):\n",
    "    recuperaciones_agrup = (recuperadas_global_vf\n",
    "        .group_by([\"ESTATUS\", \"INTERMEDIARIO_ID\", \"NUMERO_CREDITO\", \"Concatenado\"])\n",
    "        .agg(pl.col(\"Monto_Mn\").sum().alias(\"Monto_Recup_Mn\"),\n",
    "            pl.col(\"Interes_Mn\").sum().alias(\"Interes_Recup_Mn\"),\n",
    "            pl.col(\"Moratorios_Mn\").sum().alias(\"Moratorios_Recup_Mn\"),\n",
    "            pl.col(\"Excedente_Mn\").sum().alias(\"Excedente_Recup_Mn\"),\n",
    "            pl.col(\"Monto_Total_Mn\").sum().alias(\"Monto_Total_Recup_Mn\"))\n",
    "        )\n",
    "    return recuperaciones_agrup\n"
   ]
  },
  {
   "cell_type": "code",
   "execution_count": 20,
   "metadata": {},
   "outputs": [],
   "source": [
    "def genera_recupera_con_pagos_flujos(uf_recuperaciones_pagos):\n",
    "    order_columns = [\n",
    "        \"Concatenado\", \n",
    "        \"FECHA_CONSULTA\", \n",
    "        \"PROGRAMA_ID\",\n",
    "        \"TIPO_GARANTIA_ID\", \n",
    "        \"Tipo_Cambio_Cierre\", \n",
    "        \"PROGRAMA_ORIGINAL\", \n",
    "        \"PORCENTAJE_GARANTIZADO\",\n",
    "        \"Monto _Credito_Mn\", \n",
    "        \"FECHA_APERTURA\", \n",
    "        \"MONEDA_ID\", \n",
    "        \"TIPO_CREDITO_ID\", \n",
    "        \"FECHA_GARANTIA_HONRADA\", \n",
    "        \"TPRO_CLAVE\",\n",
    "        \"NR_R\", \n",
    "        \"Producto\", \n",
    "        \"AGRUPAMIENTO_ID\", \n",
    "        \"AGRUPAMIENTO\", \n",
    "        \"INTERMEDIARIO_ID\",\n",
    "        \"NUMERO_CREDITO\", \n",
    "        \"ID\", \n",
    "        \"Monto\", \n",
    "        \"Interes\", \n",
    "        \"Moratorios\", \n",
    "        \"DESCRIPCION\", \n",
    "        \"ESTATUS\", \n",
    "        \"FECHA_REGISTRO\", \n",
    "        \"FECHA\", \n",
    "        \"Monto_Mn\",\n",
    "        \"Interes_Mn\", \n",
    "        \"Excedente\", \n",
    "        \"Excedente_Mn\", \n",
    "        \"Moratorios_Mn\", \n",
    "        \"Sub_Total_Mn\",\n",
    "        \"Razón Social (Intermediario)\",\n",
    "        \"Empresa / Acreditado (Descripción)\",\n",
    "        \"RFC Empresa / Acreditado\", \n",
    "        \"TIPO_PERSONA\", \n",
    "        \"Recup_Rescat\",\n",
    "        \"MM_UDIS\", \n",
    "        \"ESQUEMA\", \n",
    "        \"CSG\", \n",
    "        \"CSF\", \n",
    "        \"Gastos_Juicio_Mn\", \n",
    "        \"Monto_Total_Mn\", \n",
    "        \"MPagado_Mn\",\n",
    "        \"HISTORICO\", \n",
    "        \"Fecha Registro Alta\"\n",
    "        ]\n",
    "\n",
    "    recupera_con_pagos_flujos = uf_recuperaciones_pagos.select(order_columns)\n",
    "    return recupera_con_pagos_flujos"
   ]
  },
  {
   "cell_type": "code",
   "execution_count": 21,
   "metadata": {},
   "outputs": [],
   "source": [
    "def genera_recupera_con_pagos_flujos_bancomext(df):\n",
    "    result = (df.filter(\n",
    "        (pl.col(\"Producto\") == \"GARANTIAS BANCOMEXT\") |\n",
    "        (pl.col(\"Producto\") == \"GARANTIAS SHF/LI FINANCIERO\") |\n",
    "        (pl.col(\"Producto\") == \"GARANTIAS BANSEFI\") |\n",
    "        (pl.col(\"Producto\").is_null())\n",
    "    ))\n",
    "    return result\n",
    "\n",
    "\n",
    "def genera_recupera_con_pagos_flujos_sin_bancomext(df):\n",
    "    result = (df.filter(\n",
    "        (pl.col(\"Producto\") != \"GARANTIAS BANCOMEXT\") |\n",
    "        (pl.col(\"Producto\") != \"GARANTIAS SHF/LI FINANCIERO\") |\n",
    "        (pl.col(\"Producto\") != \"GARANTIAS BANSEFI\")\n",
    "    ))\n",
    "    return result\n",
    "\n",
    "def genera_valida_base_pagos_recup_mn(recupera_con_pagos_flujos):\n",
    "     valida_base_pagos_mn = (recupera_con_pagos_flujos\n",
    "     .group_by('Producto')\n",
    "     .agg(pl.col('Monto_Mn').sum().alias('Monto_Mn_Suma'),\n",
    "          pl.col('Interes_Mn').sum().alias('Interes_Mn_Suma'),\n",
    "          pl.col('Moratorios_Mn').sum().alias('Moratorios_Mn_Suma'),\n",
    "          pl.col('Excedente_Mn').sum().alias('Excedente_Mn_Suma'),\n",
    "          pl.col('Gastos_Juicio_Mn').sum().alias('Gastos_Juicio_Mn_Suma')\n",
    "          )\n",
    "     )\n",
    "     return valida_base_pagos_mn\n",
    "\n",
    "def genera_valida_base_pagos_recup(recupera_con_pagos_flujos):\n",
    "     valida_base_pagos = (recupera_con_pagos_flujos\n",
    "     .group_by('Producto')\n",
    "     .agg(pl.col('Monto').sum().alias('Monto_Suma'),\n",
    "          pl.col('Interes').sum().alias('Interes_Suma'),\n",
    "          pl.col('Moratorios').sum().alias('Moratorios_Suma'),\n",
    "          pl.col('Excedente').sum().alias('Excedente_Suma'),\n",
    "          pl.col('Gastos Juicio').sum().alias('Gastos_Juicio_Suma')\n",
    "          )\n",
    "     )\n",
    "     return valida_base_pagos"
   ]
  },
  {
   "cell_type": "markdown",
   "metadata": {},
   "source": [
    "#### Ejecución"
   ]
  },
  {
   "cell_type": "code",
   "execution_count": 22,
   "metadata": {},
   "outputs": [],
   "source": [
    "def main_querie_union_flujos(pagadas_global_vf, recuperadas_global_vf):\n",
    "    pagos_agrup = genera_pagos_agrup(pagadas_global_vf)\n",
    "    pagos_agrup = genera_concatenado(pagos_agrup)\n",
    "\n",
    "    recuperadas_global_vf = genera_concatenado(recuperadas_global_vf)\n",
    "    recuperaciones_agrup = genera_recuperaciones_agrup(recuperadas_global_vf)\n",
    "\n",
    "    # Falta depurar columnas de B\n",
    "    uf_pagos_recuperaciones = pagos_agrup.join(recuperadas_global_vf, on=\"Concatenado\", how='left')\n",
    "\n",
    "    # Falta depurar columnas de B\n",
    "    uf_recuperaciones_pagos = recuperadas_global_vf.join(pagos_agrup, on=\"Concatenado\", how='left')\n",
    "\n",
    "    t_roberto = pagos_agrup.join(recuperaciones_agrup, on=\"Concatenado\", how='left')\n",
    "\n",
    "    recupera_con_pagos_flujos = genera_recupera_con_pagos_flujos(uf_recuperaciones_pagos)\n",
    "    recupera_con_pagos_flujos_bmxt = genera_recupera_con_pagos_flujos_bancomext(recupera_con_pagos_flujos)\n",
    "    recupera_con_pagos_flujos_sin_bmxt = genera_recupera_con_pagos_flujos_sin_bancomext(recupera_con_pagos_flujos)\n",
    "\n",
    "    valida_base_pagos_recup = genera_valida_base_pagos_recup(recuperadas_global_vf)\n",
    "    valida_base_pagos_recup_mn = genera_valida_base_pagos_recup_mn(recuperadas_global_vf)\n",
    "    \n",
    "    recupera_con_pagos_flujos.write_csv('./../data/processed/DWH/python/recupera_con_pagos_flujos.csv')\n",
    "    recupera_con_pagos_flujos_bmxt.write_csv('./../data/processed/DWH/python/recupera_con_pagos_flujos_bmxt.csv')\n",
    "    recupera_con_pagos_flujos_sin_bmxt.write_csv('./../data/processed/DWH/python/recupera_con_pagos_flujos_sin_bmxt.csv')\n",
    "    valida_base_pagos_recup.write_csv('./../data/processed/DWH/python/valida_base_pagos_recup.csv')\n",
    "    valida_base_pagos_recup_mn.write_csv('./../data/processed/DWH/python/valida_base_pagos_recup_mn.csv')\n",
    "\n",
    "    return 0\n"
   ]
  },
  {
   "cell_type": "markdown",
   "metadata": {},
   "source": [
    "### Ejecución Principal"
   ]
  },
  {
   "cell_type": "code",
   "execution_count": 23,
   "metadata": {},
   "outputs": [],
   "source": [
    "if __name__ ==  \"__main__\":\n",
    "    pagadas_global_vf = main_querie_pagadas()\n",
    "    recuperadas_global_vf = main_querie_recuperaciones()\n",
    "    main_querie_union_flujos(pagadas_global_vf, recuperadas_global_vf)"
   ]
  },
  {
   "cell_type": "code",
   "execution_count": 24,
   "metadata": {},
   "outputs": [
    {
     "data": {
      "text/plain": [
       "24.845292806625366"
      ]
     },
     "execution_count": 24,
     "metadata": {},
     "output_type": "execute_result"
    }
   ],
   "source": [
    "end_time = time.time()\n",
    "end_time - start_time"
   ]
  }
 ],
 "metadata": {
  "kernelspec": {
   "display_name": ".venv",
   "language": "python",
   "name": "python3"
  },
  "language_info": {
   "codemirror_mode": {
    "name": "ipython",
    "version": 3
   },
   "file_extension": ".py",
   "mimetype": "text/x-python",
   "name": "python",
   "nbconvert_exporter": "python",
   "pygments_lexer": "ipython3",
   "version": "3.13.2"
  }
 },
 "nbformat": 4,
 "nbformat_minor": 2
}
