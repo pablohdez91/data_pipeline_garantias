{
 "cells": [
  {
   "cell_type": "code",
   "execution_count": 13,
   "metadata": {},
   "outputs": [],
   "source": [
    "import polars as pl\n",
    "import pyodbc\n",
    "from datetime import date\n",
    "\n",
    "import time\n",
    "start_time = time.time()"
   ]
  },
  {
   "cell_type": "code",
   "execution_count": 14,
   "metadata": {},
   "outputs": [],
   "source": [
    "from IPython import get_ipython\n",
    "get_ipython().run_line_magic(\"run\", \"functions.ipynb\")"
   ]
  },
  {
   "cell_type": "markdown",
   "metadata": {},
   "source": [
    "#### Definición de Rutas"
   ]
  },
  {
   "cell_type": "code",
   "execution_count": 15,
   "metadata": {},
   "outputs": [],
   "source": [
    "cierre = \"202502\"\n",
    "cierre_l = \"Feb25\"\n",
    "\n",
    "# Carpetas\n",
    "path = \"E:/Users/jhernandezr/DAR/garantias/reporte/fotos/\"\n",
    "wd_data_raw = path + \"data/raw/\"\n",
    "wd_data_external = path + \"data/external/\"\n",
    "\n",
    "# Archivos\n",
    "fl_desembolsos_p1 = wd_data_raw + f'Desembolsos_P1_{cierre}'\n",
    "fl_desembolsos_p1_bmxt = wd_data_raw + f'Desembolsos_P1_80686_{cierre}'\n",
    "fl_desembolsos_p1_fianzas = wd_data_raw + f'Desembolsos_P1_BMXT_{cierre}'\n",
    "fl_desembolsos_p2 = wd_data_raw + f'Desembolsos_P2_{cierre}'\n",
    "fl_desembolsos_p2_bmxt = wd_data_raw + f'Desembolsos_P2_80686_{cierre}'\n",
    "fl_desembolsos_p2_fianzas = wd_data_raw + f'Desembolsos_P2_BMXT_{cierre}'\n",
    "fl_catalogos = wd_data_external + f'Catálogos_{cierre_l}'\n",
    "fl_recuperaciones = wd_data_raw + f'Recuperaciones_{cierre}.csv'\n",
    "fl_recuperaciones_bmxt = wd_data_raw + f'Recuperaciones_BMXT_{cierre}.mdb'\n"
   ]
  },
  {
   "cell_type": "markdown",
   "metadata": {},
   "source": [
    "### Catálogos"
   ]
  },
  {
   "cell_type": "code",
   "execution_count": 16,
   "metadata": {},
   "outputs": [
    {
     "data": {
      "text/plain": [
       "20.8829"
      ]
     },
     "execution_count": 16,
     "metadata": {},
     "output_type": "execute_result"
    }
   ],
   "source": [
    "conn_str = r\"DRIVER={Microsoft Access Driver (*.mdb, *.accdb)};DBQ=\" + fl_catalogos + '.accdb'\n",
    "conn = pyodbc.connect(conn_str)\n",
    "\n",
    "# Solo Recuperaciones\n",
    "estatus = pl.read_database(query='SELECT * FROM [ESTATUS]', connection=conn)\n",
    "\n",
    "# Recuperaciones, Pagos\n",
    "tipo_cambio = pl.read_database(query='SELECT * FROM [TIPO CAMBIO]', connection=conn)\n",
    "programa = pl.read_database(query='SELECT * FROM [PROGRAMA]', connection=conn, schema_overrides={'PROGRAMA_ID': pl.Int128})\n",
    "agrupamiento = pl.read_database(query='SELECT * FROM [AGRUPAMIENTO]', connection=conn)\n",
    "udis = pl.read_database(query='SELECT * FROM [UDIS]', connection=conn, schema_overrides={'Fecha_Paridad': pl.Datetime})\n",
    "#udis = udis.with_columns(pl.col(\"Fecha_Paridad\").cast(pl.Date))\n",
    "tipo_credito = pl.read_database(query='SELECT * FROM [TIPO_CREDITO]', connection=conn, schema_overrides={'Tipo_Credito_ID': pl.Int32})\n",
    "tipo_garantia = pl.read_database(query='SELECT * FROM [TIPO_GARANTIA]', connection=conn, schema_overrides={'Tipo_garantia_ID': pl.Int32})\n",
    "sfc = pl.read_database(query='SELECT * FROM [SIN FONDOS CONTRAGARANTIA]', connection=conn)\n",
    "\n",
    "conn.close()\n",
    "\n",
    "tipo_cambio.columns = [\"Anio\", \"Mes\", \"TC\"]\n",
    "cierre = date(2024,12,31)\n",
    "tdc = tipo_cambio.filter((pl.col(\"Anio\")==cierre.year) & (pl.col(\"Mes\")==cierre.month)).select(\"TC\").item()\n",
    "tdc"
   ]
  },
  {
   "cell_type": "markdown",
   "metadata": {},
   "source": [
    "### Querie Pagos"
   ]
  },
  {
   "cell_type": "code",
   "execution_count": null,
   "metadata": {},
   "outputs": [],
   "source": [
    "def main_querie_pagadas():\n",
    "    pagos_f1 = import_f1()\n",
    "    pagos_f2 = import_f2()\n",
    "\n",
    "    # Crea Concatenados y TPRO_CLAVE\n",
    "    pagos_f1 = genera_concatenado(pagos_f1)\n",
    "    pagos_f1 = genera_tpro_clave(pagos_f1)\n",
    "    pagos_f2 = genera_concatenado(pagos_f2)\n",
    "\n",
    "    pagadas_global_inter = genera_pagadas_global_inter(pagos_f1, pagos_f2)\n",
    "    pagadas_global_vf = genera_pagadas_global_vf(pagadas_global_inter)\n",
    "    pagadas_global_vf = complementa_pagadas_global_vf(pagadas_global_vf)\n",
    "\n",
    "    valida_pagos = genera_validador(pagos_f2)\n",
    "    pagadas_global_vf_bancomext = genera_pagadas_global_bancomext(pagadas_global_vf)\n",
    "    pagadas_global_vf_sin_bancomext = genera_pagadas_global_sin_bancomext(pagadas_global_vf)\n",
    "\n",
    "    valida_base_pagos = genera_valida_base_pagos(pagadas_global_vf)\n",
    "    valida_base_pagos_mn = genera_valida_base_pagos_mn(pagadas_global_vf)\n",
    "\n",
    "    #pagadas_global_vf.write_csv('./../data/processed/DWH/pagadas_global_vf.csv')\n",
    "    #pagadas_global_vf_bancomext.write_csv('./../data/processed/DWH/pagadas_global_vf_bancomext.csv')\n",
    "    #pagadas_global_vf_sin_bancomext.write_csv('./../data/processed/DWH/pagadas_global_vf_sin_bancomext.csv')\n",
    "    #valida_pagos.write_csv('./../data/processed/DWH/valida_pagos.csv')\n",
    "    #valida_base_pagos.write_csv('./../data/processed/DWH/valida_base_pagos.csv')\n",
    "    #valida_base_pagos_mn.write_csv('./../data/processed/DWH/valida_base_pagos_mn.csv')\n",
    "\n",
    "    return pagadas_global_vf\n",
    "\n",
    "#pagadas_global_vf = main_querie_pagadas()"
   ]
  },
  {
   "cell_type": "code",
   "execution_count": null,
   "metadata": {},
   "outputs": [],
   "source": []
  },
  {
   "cell_type": "markdown",
   "metadata": {},
   "source": [
    "### Querie Recuperaciones"
   ]
  },
  {
   "cell_type": "markdown",
   "metadata": {},
   "source": [
    "#### Ejecución"
   ]
  },
  {
   "cell_type": "code",
   "execution_count": null,
   "metadata": {},
   "outputs": [],
   "source": [
    "def main_querie_recuperaciones():\n",
    "    dwh_recuperaciones = importa_recuperaciones()\n",
    "    recuperadas_global_inter = genera_recuperadas_global_inter(dwh_recuperaciones)\n",
    "    recuperadas_global_vf = genera_recuperadas_global_vf(recuperadas_global_inter)\n",
    "\n",
    "    recuperadas_global_vf_bancomext = genera_recuperadas_global_bancomext(recuperadas_global_vf)\n",
    "    recuperadas_global_vf_sin_bancomext = genera_recuperadas_global_sin_bancomext(recuperadas_global_vf)\n",
    "\n",
    "    valida_dwh_dac = genera_valida_dwh_dac(dwh_recuperaciones)\n",
    "    valida_td = genera_valida_td(dwh_recuperaciones)\n",
    "\n",
    "    #recuperadas_global_vf.write_csv('./../data/processed/DWH/recuperadas_global_vf.csv')\n",
    "    #recuperadas_global_vf_bancomext.write_csv('./../data/processed/DWH/recuperadas_global_vf_bancomext.csv')\n",
    "    #recuperadas_global_vf_sin_bancomext.write_csv('./../data/processed/DWH/recuperadas_global_vf_sin_bancomext.csv')\n",
    "    #valida_dwh_dac.write_csv('./../data/processed/DWH/valida_dwh_dac.csv')\n",
    "    #valida_td.write_csv('./../data/processed/DWH/valida_td.csv')\n",
    "\n",
    "    return recuperadas_global_vf"
   ]
  },
  {
   "cell_type": "code",
   "execution_count": null,
   "metadata": {},
   "outputs": [
    {
     "data": {
      "text/html": [
       "<div><style>\n",
       ".dataframe > thead > tr,\n",
       ".dataframe > tbody > tr {\n",
       "  text-align: right;\n",
       "  white-space: pre-wrap;\n",
       "}\n",
       "</style>\n",
       "<small>shape: (1_561_429, 52)</small><table border=\"1\" class=\"dataframe\"><thead><tr><th>Producto</th><th>DESCRIPCION</th><th>ESTATUS</th><th>FECHA</th><th>FECHA_APERTURA</th><th>FECHA_CONSULTA</th><th>FECHA_GARANTIA_HONRADA</th><th>FECHA_REGISTRO</th><th>Fecha Registro Alta</th><th>HISTORICO</th><th>ID</th><th>INTERMEDIARIO_ID</th><th>MONEDA_ID</th><th>Empresa / Acreditado (Descripción)</th><th>NUMERO_CREDITO</th><th>PORCENTAJE_GARANTIZADO</th><th>PROGRAMA_ID</th><th>PROGRAMA_ORIGINAL</th><th>Razón Social (Intermediario)</th><th>RFC Empresa / Acreditado</th><th>Tipo_Cambio_Cierre</th><th>TIPO_CREDITO_ID</th><th>TIPO_GARANTIA_ID</th><th>TIPO_PERSONA</th><th>Gastos Juicio</th><th>Moratorios</th><th>Interes Generado</th><th>Interes</th><th>Monto</th><th>Monto _Credito_Mn</th><th>Excedente</th><th>Penalizacion</th><th>TPRO_CLAVE</th><th>AGRUPAMIENTO_ID</th><th>ESQUEMA</th><th>SUBESQUEMA</th><th>AGRUPAMIENTO</th><th>Paridad_Peso</th><th>NR_R</th><th>CSG</th><th>FONDOS_CONTRAGARANTIA</th><th>Recup_Rescat</th><th>TC</th><th>MM_UDIS</th><th>CSF</th><th>Monto_Mn</th><th>Interes_Mn</th><th>Moratorios_Mn</th><th>Excedente_Mn</th><th>Gastos_Juicio_Mn</th><th>Sub_Total_Mn</th><th>Monto_Total_Mn</th></tr><tr><td>str</td><td>str</td><td>str</td><td>datetime[μs]</td><td>datetime[μs]</td><td>datetime[μs]</td><td>datetime[μs]</td><td>datetime[μs]</td><td>datetime[μs]</td><td>str</td><td>i64</td><td>str</td><td>i64</td><td>str</td><td>str</td><td>f32</td><td>i32</td><td>i32</td><td>str</td><td>str</td><td>f32</td><td>i32</td><td>i32</td><td>str</td><td>f32</td><td>f32</td><td>f32</td><td>f32</td><td>f32</td><td>f64</td><td>f32</td><td>f32</td><td>i32</td><td>f64</td><td>str</td><td>str</td><td>str</td><td>f64</td><td>str</td><td>str</td><td>str</td><td>str</td><td>f64</td><td>i32</td><td>str</td><td>f64</td><td>f64</td><td>f64</td><td>f64</td><td>f64</td><td>f64</td><td>f64</td></tr></thead><tbody><tr><td>&quot;GARANTIA EMERGENTES&quot;</td><td>&quot;CS P.253 - 1063733 DEP 2408201…</td><td>&quot;CS&quot;</td><td>2010-08-24 00:00:00</td><td>2008-02-21 00:00:00</td><td>2025-03-31 00:00:00</td><td>2010-02-15 00:00:00</td><td>2010-08-24 00:00:00</td><td>2008-05-15 00:00:00</td><td>&quot;H&quot;</td><td>2</td><td>&quot;10040200&quot;</td><td>1</td><td>&quot;ANA PATRICIA MARTINEZ VELAZQUE…</td><td>&quot;12795429602668697&quot;</td><td>100.0</td><td>3253</td><td>3999</td><td>&quot;BANCO AZTECA&quot;</td><td>&quot;MAVA-740317-&quot;</td><td>1.0</td><td>25</td><td>3</td><td>&quot;F&quot;</td><td>0.0</td><td>null</td><td>0.0</td><td>-225.639999</td><td>-8744.450195</td><td>25291.67</td><td>0.0</td><td>0.0</td><td>3253</td><td>1335.0</td><td>&quot;PP&quot;</td><td>&quot;Tradicional&quot;</td><td>&quot;Emergente 2007 Tabasco&quot;</td><td>3.96304</td><td>&quot;NR&quot;</td><td>&quot;CG&quot;</td><td>null</td><td>&quot;Rescatada&quot;</td><td>1.0</td><td>0</td><td>&quot;CF&quot;</td><td>-8744.450195</td><td>-225.639999</td><td>null</td><td>0.0</td><td>0.0</td><td>-8970.089844</td><td>-8970.089844</td></tr><tr><td>&quot;GARANTIA EMERGENTES&quot;</td><td>&quot;CS P.253 - 1063733 DEP 2408201…</td><td>&quot;CS&quot;</td><td>2010-08-24 00:00:00</td><td>2008-03-03 00:00:00</td><td>2025-03-31 00:00:00</td><td>2010-05-10 00:00:00</td><td>2010-08-24 00:00:00</td><td>2008-04-18 00:00:00</td><td>&quot;H&quot;</td><td>2</td><td>&quot;10040200&quot;</td><td>1</td><td>&quot;JUDITH VILLEGAS OVANDO&quot;</td><td>&quot;12747509602670610&quot;</td><td>100.0</td><td>3253</td><td>3999</td><td>&quot;BANCO AZTECA&quot;</td><td>&quot;VIOJ-640719-&quot;</td><td>1.0</td><td>25</td><td>3</td><td>&quot;F&quot;</td><td>0.0</td><td>null</td><td>0.0</td><td>-220.789993</td><td>-18881.779297</td><td>80933.33</td><td>0.0</td><td>-308.279999</td><td>3253</td><td>1335.0</td><td>&quot;PP&quot;</td><td>&quot;Tradicional&quot;</td><td>&quot;Emergente 2007 Tabasco&quot;</td><td>3.96604</td><td>&quot;NR&quot;</td><td>&quot;CG&quot;</td><td>null</td><td>&quot;Rescatada&quot;</td><td>1.0</td><td>0</td><td>&quot;CF&quot;</td><td>-18881.779297</td><td>-220.789993</td><td>null</td><td>0.0</td><td>0.0</td><td>-19102.568359</td><td>-19102.568359</td></tr><tr><td>&quot;GARANTIA EMERGENTES&quot;</td><td>&quot;CS P.253 - 1063733 DEP 2408201…</td><td>&quot;CS&quot;</td><td>2010-08-24 00:00:00</td><td>2008-03-04 00:00:00</td><td>2025-03-31 00:00:00</td><td>2010-03-03 00:00:00</td><td>2010-08-24 00:00:00</td><td>2008-04-18 00:00:00</td><td>&quot;H&quot;</td><td>4</td><td>&quot;10040200&quot;</td><td>1</td><td>&quot;FEDERICO GARCIA VALENCIA&quot;</td><td>&quot;12722069602671071&quot;</td><td>100.0</td><td>3253</td><td>3999</td><td>&quot;BANCO AZTECA&quot;</td><td>&quot;GAVF-740908-&quot;</td><td>1.0</td><td>25</td><td>3</td><td>&quot;F&quot;</td><td>0.0</td><td>null</td><td>0.0</td><td>-152.100006</td><td>-15713.110352</td><td>60700.0</td><td>0.0</td><td>-407.679993</td><td>3253</td><td>1335.0</td><td>&quot;PP&quot;</td><td>&quot;Tradicional&quot;</td><td>&quot;Emergente 2007 Tabasco&quot;</td><td>3.9664</td><td>&quot;NR&quot;</td><td>&quot;CG&quot;</td><td>null</td><td>&quot;Rescatada&quot;</td><td>1.0</td><td>0</td><td>&quot;CF&quot;</td><td>-15713.110352</td><td>-152.100006</td><td>null</td><td>0.0</td><td>0.0</td><td>-15865.209961</td><td>-15865.209961</td></tr><tr><td>&quot;GARANTIA EMERGENTES&quot;</td><td>&quot;RP P.253 - 1063733 DEP 1412200…</td><td>&quot;D&quot;</td><td>2009-12-29 00:00:00</td><td>2008-01-07 00:00:00</td><td>2025-03-31 00:00:00</td><td>2009-10-06 00:00:00</td><td>2009-12-29 00:00:00</td><td>2008-07-08 00:00:00</td><td>&quot;H&quot;</td><td>1</td><td>&quot;10040200&quot;</td><td>1</td><td>&quot;MARIO GARCIA GERONIMO&quot;</td><td>&quot;12762089602662070&quot;</td><td>100.0</td><td>3253</td><td>3999</td><td>&quot;BANCO AZTECA&quot;</td><td>&quot;GAGM-500106-&quot;</td><td>1.0</td><td>25</td><td>3</td><td>&quot;F&quot;</td><td>null</td><td>null</td><td>null</td><td>0.0</td><td>169.600006</td><td>22256.67</td><td>0.0</td><td>null</td><td>3253</td><td>1335.0</td><td>&quot;PP&quot;</td><td>&quot;Tradicional&quot;</td><td>&quot;Emergente 2007 Tabasco&quot;</td><td>3.93636</td><td>&quot;NR&quot;</td><td>&quot;CG&quot;</td><td>null</td><td>&quot;Recuperada&quot;</td><td>1.0</td><td>0</td><td>&quot;CF&quot;</td><td>169.600006</td><td>0.0</td><td>null</td><td>0.0</td><td>null</td><td>169.600006</td><td>null</td></tr><tr><td>&quot;GARANTIA EMERGENTES&quot;</td><td>&quot;Recuperacion automatica, carga…</td><td>&quot;D&quot;</td><td>2010-09-06 00:00:00</td><td>2008-03-18 00:00:00</td><td>2025-03-31 00:00:00</td><td>2010-08-03 00:00:00</td><td>2010-09-07 00:00:00</td><td>2008-04-18 00:00:00</td><td>&quot;H&quot;</td><td>1</td><td>&quot;10040200&quot;</td><td>1</td><td>&quot;VICTOR MANUEL FALCON CALCANEO&quot;</td><td>&quot;12762089602672517&quot;</td><td>100.0</td><td>3253</td><td>3999</td><td>&quot;BANCO AZTECA&quot;</td><td>&quot;FACV-460115-&quot;</td><td>1.0</td><td>25</td><td>3</td><td>&quot;F&quot;</td><td>0.0</td><td>null</td><td>0.01</td><td>0.0</td><td>3.24</td><td>20233.33</td><td>0.0</td><td>0.0</td><td>3253</td><td>1335.0</td><td>&quot;PP&quot;</td><td>&quot;Tradicional&quot;</td><td>&quot;Emergente 2007 Tabasco&quot;</td><td>3.97476</td><td>&quot;NR&quot;</td><td>&quot;CG&quot;</td><td>null</td><td>&quot;Recuperada&quot;</td><td>1.0</td><td>0</td><td>&quot;CF&quot;</td><td>3.24</td><td>0.0</td><td>null</td><td>0.0</td><td>0.0</td><td>3.24</td><td>3.24</td></tr><tr><td>&hellip;</td><td>&hellip;</td><td>&hellip;</td><td>&hellip;</td><td>&hellip;</td><td>&hellip;</td><td>&hellip;</td><td>&hellip;</td><td>&hellip;</td><td>&hellip;</td><td>&hellip;</td><td>&hellip;</td><td>&hellip;</td><td>&hellip;</td><td>&hellip;</td><td>&hellip;</td><td>&hellip;</td><td>&hellip;</td><td>&hellip;</td><td>&hellip;</td><td>&hellip;</td><td>&hellip;</td><td>&hellip;</td><td>&hellip;</td><td>&hellip;</td><td>&hellip;</td><td>&hellip;</td><td>&hellip;</td><td>&hellip;</td><td>&hellip;</td><td>&hellip;</td><td>&hellip;</td><td>&hellip;</td><td>&hellip;</td><td>&hellip;</td><td>&hellip;</td><td>&hellip;</td><td>&hellip;</td><td>&hellip;</td><td>&hellip;</td><td>&hellip;</td><td>&hellip;</td><td>&hellip;</td><td>&hellip;</td><td>&hellip;</td><td>&hellip;</td><td>&hellip;</td><td>&hellip;</td><td>&hellip;</td><td>&hellip;</td><td>&hellip;</td><td>&hellip;</td></tr><tr><td>&quot;GARANTIAS BANCOMEXT&quot;</td><td>&quot;Recuperacion automatica, carga…</td><td>&quot;D&quot;</td><td>2024-11-29 00:00:00</td><td>2024-05-31 00:00:00</td><td>2025-02-28 00:00:00</td><td>2024-11-13 00:00:00</td><td>2024-12-03 09:20:05</td><td>2024-06-06 15:01:36</td><td>&quot;V&quot;</td><td>1</td><td>&quot;60423958&quot;</td><td>1</td><td>&quot;GNESHA COMMERCE AND RELATED SE…</td><td>&quot;9666359810&quot;</td><td>60.0</td><td>390160</td><td>3999</td><td>&quot;BANCOMEXT BBVA BANCOMER&quot;</td><td>&quot;GCR-200622-A1A&quot;</td><td>1.0</td><td>2</td><td>4</td><td>&quot;M&quot;</td><td>0.0</td><td>0.0</td><td>0.0</td><td>0.0</td><td>83876.65625</td><td>2.5e6</td><td>0.0</td><td>0.0</td><td>390160</td><td>1225.0</td><td>&quot;PP&quot;</td><td>&quot;Tradicional&quot;</td><td>&quot;Bancomext&quot;</td><td>8.149281</td><td>&quot;NR&quot;</td><td>&quot;SG&quot;</td><td>null</td><td>&quot;Recuperada&quot;</td><td>1.0</td><td>0</td><td>&quot;CF&quot;</td><td>83876.65625</td><td>0.0</td><td>0.0</td><td>0.0</td><td>0.0</td><td>83876.65625</td><td>83876.65625</td></tr><tr><td>&quot;GARANTIAS BANCOMEXT&quot;</td><td>&quot;Recuperacion automatica, carga…</td><td>&quot;D&quot;</td><td>2024-12-13 00:00:00</td><td>2024-05-31 00:00:00</td><td>2025-02-28 00:00:00</td><td>2024-11-13 00:00:00</td><td>2024-12-16 10:13:57</td><td>2024-06-06 15:01:36</td><td>&quot;V&quot;</td><td>2</td><td>&quot;60423958&quot;</td><td>1</td><td>&quot;GNESHA COMMERCE AND RELATED SE…</td><td>&quot;9666359810&quot;</td><td>60.0</td><td>390160</td><td>3999</td><td>&quot;BANCOMEXT BBVA BANCOMER&quot;</td><td>&quot;GCR-200622-A1A&quot;</td><td>1.0</td><td>2</td><td>4</td><td>&quot;M&quot;</td><td>0.0</td><td>0.0</td><td>0.0</td><td>0.0</td><td>18608.820312</td><td>2.5e6</td><td>0.0</td><td>0.0</td><td>390160</td><td>1225.0</td><td>&quot;PP&quot;</td><td>&quot;Tradicional&quot;</td><td>&quot;Bancomext&quot;</td><td>8.149281</td><td>&quot;NR&quot;</td><td>&quot;SG&quot;</td><td>null</td><td>&quot;Recuperada&quot;</td><td>1.0</td><td>0</td><td>&quot;CF&quot;</td><td>18608.820312</td><td>0.0</td><td>0.0</td><td>0.0</td><td>0.0</td><td>18608.820312</td><td>18608.820312</td></tr><tr><td>&quot;GARANTIAS BANCOMEXT&quot;</td><td>&quot;Recuperacion automatica, carga…</td><td>&quot;RS&quot;</td><td>2025-01-16 00:00:00</td><td>2024-05-31 00:00:00</td><td>2025-02-28 00:00:00</td><td>2024-11-13 00:00:00</td><td>2025-01-17 10:03:14</td><td>2024-06-06 15:01:36</td><td>&quot;V&quot;</td><td>3</td><td>&quot;60423958&quot;</td><td>1</td><td>&quot;GNESHA COMMERCE AND RELATED SE…</td><td>&quot;9666359810&quot;</td><td>60.0</td><td>390160</td><td>3999</td><td>&quot;BANCOMEXT BBVA BANCOMER&quot;</td><td>&quot;GCR-200622-A1A&quot;</td><td>1.0</td><td>2</td><td>4</td><td>&quot;M&quot;</td><td>0.0</td><td>0.0</td><td>0.0</td><td>47017.671875</td><td>1397514.5</td><td>2.5e6</td><td>0.0</td><td>40343.480469</td><td>390160</td><td>1225.0</td><td>&quot;PP&quot;</td><td>&quot;Tradicional&quot;</td><td>&quot;Bancomext&quot;</td><td>8.149281</td><td>&quot;NR&quot;</td><td>&quot;SG&quot;</td><td>null</td><td>&quot;Rescatada&quot;</td><td>1.0</td><td>0</td><td>&quot;CF&quot;</td><td>1397514.5</td><td>47017.671875</td><td>0.0</td><td>0.0</td><td>0.0</td><td>1.4445e6</td><td>1.4445e6</td></tr><tr><td>&quot;GARANTIAS BANCOMEXT&quot;</td><td>&quot;Recuperacion automatica, carga…</td><td>&quot;D&quot;</td><td>2024-12-30 00:00:00</td><td>2024-05-03 00:00:00</td><td>2025-02-28 00:00:00</td><td>2024-11-28 00:00:00</td><td>2024-12-31 09:27:06</td><td>2024-05-28 15:35:00</td><td>&quot;V&quot;</td><td>1</td><td>&quot;478809852&quot;</td><td>1</td><td>&quot;AGAVE TRADING MEXICO S DE RL D&quot;</td><td>&quot;86616798&quot;</td><td>60.0</td><td>390163</td><td>3999</td><td>&quot;BANCOMEXTHSBC&quot;</td><td>&quot;ATM-051107-AU7&quot;</td><td>1.0</td><td>2</td><td>4</td><td>&quot;M&quot;</td><td>0.0</td><td>0.0</td><td>0.0</td><td>0.0</td><td>46366.589844</td><td>2.2e6</td><td>0.0</td><td>0.0</td><td>390163</td><td>1225.0</td><td>&quot;PP&quot;</td><td>&quot;Tradicional&quot;</td><td>&quot;Bancomext&quot;</td><td>8.131995</td><td>&quot;NR&quot;</td><td>&quot;SG&quot;</td><td>null</td><td>&quot;Recuperada&quot;</td><td>1.0</td><td>0</td><td>&quot;CF&quot;</td><td>46366.589844</td><td>0.0</td><td>0.0</td><td>0.0</td><td>0.0</td><td>46366.589844</td><td>46366.589844</td></tr><tr><td>&quot;GARANTIAS BANCOMEXT&quot;</td><td>&quot;DEVOLUCIÓN A SOL DEL IF&quot;</td><td>&quot;D&quot;</td><td>2025-02-11 00:00:00</td><td>2024-05-03 00:00:00</td><td>2025-02-28 00:00:00</td><td>2024-11-28 00:00:00</td><td>2025-02-11 00:00:00</td><td>2024-05-28 15:35:00</td><td>&quot;V&quot;</td><td>2</td><td>&quot;478809852&quot;</td><td>1</td><td>&quot;AGAVE TRADING MEXICO S DE RL D&quot;</td><td>&quot;86616798&quot;</td><td>60.0</td><td>390163</td><td>3999</td><td>&quot;BANCOMEXTHSBC&quot;</td><td>&quot;ATM-051107-AU7&quot;</td><td>1.0</td><td>2</td><td>4</td><td>&quot;M&quot;</td><td>0.0</td><td>0.0</td><td>0.0</td><td>0.0</td><td>-46366.589844</td><td>2.2e6</td><td>0.0</td><td>0.0</td><td>390163</td><td>1225.0</td><td>&quot;PP&quot;</td><td>&quot;Tradicional&quot;</td><td>&quot;Bancomext&quot;</td><td>8.131995</td><td>&quot;NR&quot;</td><td>&quot;SG&quot;</td><td>null</td><td>&quot;Recuperada&quot;</td><td>1.0</td><td>0</td><td>&quot;CF&quot;</td><td>-46366.589844</td><td>0.0</td><td>0.0</td><td>0.0</td><td>0.0</td><td>-46366.589844</td><td>-46366.589844</td></tr></tbody></table></div>"
      ],
      "text/plain": [
       "shape: (1_561_429, 52)\n",
       "┌────────────┬───────────┬─────────┬───────────┬───┬───────────┬───────────┬───────────┬───────────┐\n",
       "│ Producto   ┆ DESCRIPCI ┆ ESTATUS ┆ FECHA     ┆ … ┆ Excedente ┆ Gastos_Ju ┆ Sub_Total ┆ Monto_Tot │\n",
       "│ ---        ┆ ON        ┆ ---     ┆ ---       ┆   ┆ _Mn       ┆ icio_Mn   ┆ _Mn       ┆ al_Mn     │\n",
       "│ str        ┆ ---       ┆ str     ┆ datetime[ ┆   ┆ ---       ┆ ---       ┆ ---       ┆ ---       │\n",
       "│            ┆ str       ┆         ┆ μs]       ┆   ┆ f64       ┆ f64       ┆ f64       ┆ f64       │\n",
       "╞════════════╪═══════════╪═════════╪═══════════╪═══╪═══════════╪═══════════╪═══════════╪═══════════╡\n",
       "│ GARANTIA   ┆ CS P.253  ┆ CS      ┆ 2010-08-2 ┆ … ┆ 0.0       ┆ 0.0       ┆ -8970.089 ┆ -8970.089 │\n",
       "│ EMERGENTES ┆ - 1063733 ┆         ┆ 4         ┆   ┆           ┆           ┆ 844       ┆ 844       │\n",
       "│            ┆ DEP       ┆         ┆ 00:00:00  ┆   ┆           ┆           ┆           ┆           │\n",
       "│            ┆ 2408201…  ┆         ┆           ┆   ┆           ┆           ┆           ┆           │\n",
       "│ GARANTIA   ┆ CS P.253  ┆ CS      ┆ 2010-08-2 ┆ … ┆ 0.0       ┆ 0.0       ┆ -19102.56 ┆ -19102.56 │\n",
       "│ EMERGENTES ┆ - 1063733 ┆         ┆ 4         ┆   ┆           ┆           ┆ 8359      ┆ 8359      │\n",
       "│            ┆ DEP       ┆         ┆ 00:00:00  ┆   ┆           ┆           ┆           ┆           │\n",
       "│            ┆ 2408201…  ┆         ┆           ┆   ┆           ┆           ┆           ┆           │\n",
       "│ GARANTIA   ┆ CS P.253  ┆ CS      ┆ 2010-08-2 ┆ … ┆ 0.0       ┆ 0.0       ┆ -15865.20 ┆ -15865.20 │\n",
       "│ EMERGENTES ┆ - 1063733 ┆         ┆ 4         ┆   ┆           ┆           ┆ 9961      ┆ 9961      │\n",
       "│            ┆ DEP       ┆         ┆ 00:00:00  ┆   ┆           ┆           ┆           ┆           │\n",
       "│            ┆ 2408201…  ┆         ┆           ┆   ┆           ┆           ┆           ┆           │\n",
       "│ GARANTIA   ┆ RP P.253  ┆ D       ┆ 2009-12-2 ┆ … ┆ 0.0       ┆ null      ┆ 169.60000 ┆ null      │\n",
       "│ EMERGENTES ┆ - 1063733 ┆         ┆ 9         ┆   ┆           ┆           ┆ 6         ┆           │\n",
       "│            ┆ DEP       ┆         ┆ 00:00:00  ┆   ┆           ┆           ┆           ┆           │\n",
       "│            ┆ 1412200…  ┆         ┆           ┆   ┆           ┆           ┆           ┆           │\n",
       "│ GARANTIA   ┆ Recuperac ┆ D       ┆ 2010-09-0 ┆ … ┆ 0.0       ┆ 0.0       ┆ 3.24      ┆ 3.24      │\n",
       "│ EMERGENTES ┆ ion autom ┆         ┆ 6         ┆   ┆           ┆           ┆           ┆           │\n",
       "│            ┆ atica,    ┆         ┆ 00:00:00  ┆   ┆           ┆           ┆           ┆           │\n",
       "│            ┆ carga…    ┆         ┆           ┆   ┆           ┆           ┆           ┆           │\n",
       "│ …          ┆ …         ┆ …       ┆ …         ┆ … ┆ …         ┆ …         ┆ …         ┆ …         │\n",
       "│ GARANTIAS  ┆ Recuperac ┆ D       ┆ 2024-11-2 ┆ … ┆ 0.0       ┆ 0.0       ┆ 83876.656 ┆ 83876.656 │\n",
       "│ BANCOMEXT  ┆ ion autom ┆         ┆ 9         ┆   ┆           ┆           ┆ 25        ┆ 25        │\n",
       "│            ┆ atica,    ┆         ┆ 00:00:00  ┆   ┆           ┆           ┆           ┆           │\n",
       "│            ┆ carga…    ┆         ┆           ┆   ┆           ┆           ┆           ┆           │\n",
       "│ GARANTIAS  ┆ Recuperac ┆ D       ┆ 2024-12-1 ┆ … ┆ 0.0       ┆ 0.0       ┆ 18608.820 ┆ 18608.820 │\n",
       "│ BANCOMEXT  ┆ ion autom ┆         ┆ 3         ┆   ┆           ┆           ┆ 312       ┆ 312       │\n",
       "│            ┆ atica,    ┆         ┆ 00:00:00  ┆   ┆           ┆           ┆           ┆           │\n",
       "│            ┆ carga…    ┆         ┆           ┆   ┆           ┆           ┆           ┆           │\n",
       "│ GARANTIAS  ┆ Recuperac ┆ RS      ┆ 2025-01-1 ┆ … ┆ 0.0       ┆ 0.0       ┆ 1.4445e6  ┆ 1.4445e6  │\n",
       "│ BANCOMEXT  ┆ ion autom ┆         ┆ 6         ┆   ┆           ┆           ┆           ┆           │\n",
       "│            ┆ atica,    ┆         ┆ 00:00:00  ┆   ┆           ┆           ┆           ┆           │\n",
       "│            ┆ carga…    ┆         ┆           ┆   ┆           ┆           ┆           ┆           │\n",
       "│ GARANTIAS  ┆ Recuperac ┆ D       ┆ 2024-12-3 ┆ … ┆ 0.0       ┆ 0.0       ┆ 46366.589 ┆ 46366.589 │\n",
       "│ BANCOMEXT  ┆ ion autom ┆         ┆ 0         ┆   ┆           ┆           ┆ 844       ┆ 844       │\n",
       "│            ┆ atica,    ┆         ┆ 00:00:00  ┆   ┆           ┆           ┆           ┆           │\n",
       "│            ┆ carga…    ┆         ┆           ┆   ┆           ┆           ┆           ┆           │\n",
       "│ GARANTIAS  ┆ DEVOLUCIÓ ┆ D       ┆ 2025-02-1 ┆ … ┆ 0.0       ┆ 0.0       ┆ -46366.58 ┆ -46366.58 │\n",
       "│ BANCOMEXT  ┆ N A SOL   ┆         ┆ 1         ┆   ┆           ┆           ┆ 9844      ┆ 9844      │\n",
       "│            ┆ DEL IF    ┆         ┆ 00:00:00  ┆   ┆           ┆           ┆           ┆           │\n",
       "└────────────┴───────────┴─────────┴───────────┴───┴───────────┴───────────┴───────────┴───────────┘"
      ]
     },
     "execution_count": 26,
     "metadata": {},
     "output_type": "execute_result"
    }
   ],
   "source": [
    "main_querie_recuperaciones()"
   ]
  },
  {
   "cell_type": "markdown",
   "metadata": {},
   "source": [
    "### Querie Union Flujos"
   ]
  },
  {
   "cell_type": "markdown",
   "metadata": {},
   "source": [
    "#### Ejecución"
   ]
  },
  {
   "cell_type": "code",
   "execution_count": null,
   "metadata": {},
   "outputs": [],
   "source": []
  },
  {
   "cell_type": "code",
   "execution_count": null,
   "metadata": {},
   "outputs": [],
   "source": []
  },
  {
   "cell_type": "code",
   "execution_count": null,
   "metadata": {},
   "outputs": [],
   "source": [
    "def main_querie_union_flujos(pagadas_global_vf, recuperadas_global_vf):\n",
    "    pagos_agrup = genera_pagos_agrup(pagadas_global_vf)\n",
    "    pagos_agrup = genera_concatenado(pagos_agrup)\n",
    "\n",
    "    recuperadas_global_vf = genera_concatenado(recuperadas_global_vf)\n",
    "    recuperaciones_agrup = genera_recuperaciones_agrup(recuperadas_global_vf)\n",
    "\n",
    "    # Falta depurar columnas de B\n",
    "    uf_pagos_recuperaciones = pagos_agrup.join(recuperadas_global_vf, on=\"Concatenado\", how='left')\n",
    "\n",
    "    # Falta depurar columnas de B\n",
    "    uf_recuperaciones_pagos = recuperadas_global_vf.join(pagos_agrup, on=\"Concatenado\", how='left')\n",
    "\n",
    "    t_roberto = pagos_agrup.join(recuperaciones_agrup, on=\"Concatenado\", how='left')\n",
    "\n",
    "    recupera_con_pagos_flujos = genera_recupera_con_pagos_flujos(uf_recuperaciones_pagos)\n",
    "    recupera_con_pagos_flujos_bmxt = genera_recupera_con_pagos_flujos_bancomext(recupera_con_pagos_flujos)\n",
    "    recupera_con_pagos_flujos_sin_bmxt = genera_recupera_con_pagos_flujos_sin_bancomext(recupera_con_pagos_flujos)\n",
    "\n",
    "    valida_base_pagos_recup = genera_valida_base_pagos_recup(recuperadas_global_vf)\n",
    "    valida_base_pagos_recup_mn = genera_valida_base_pagos_recup_mn(recuperadas_global_vf)\n",
    "    \n",
    "    recupera_con_pagos_flujos.write_csv('./../data/processed/DWH/python/recupera_con_pagos_flujos.csv')\n",
    "    recupera_con_pagos_flujos_bmxt.write_csv('./../data/processed/DWH/python/recupera_con_pagos_flujos_bmxt.csv')\n",
    "    recupera_con_pagos_flujos_sin_bmxt.write_csv('./../data/processed/DWH/python/recupera_con_pagos_flujos_sin_bmxt.csv')\n",
    "    valida_base_pagos_recup.write_csv('./../data/processed/DWH/python/valida_base_pagos_recup.csv')\n",
    "    valida_base_pagos_recup_mn.write_csv('./../data/processed/DWH/python/valida_base_pagos_recup_mn.csv')\n",
    "\n",
    "    return 0\n"
   ]
  },
  {
   "cell_type": "markdown",
   "metadata": {},
   "source": [
    "### Ejecución Principal"
   ]
  },
  {
   "cell_type": "code",
   "execution_count": null,
   "metadata": {},
   "outputs": [],
   "source": [
    "if __name__ ==  \"__main__\":\n",
    "    pagadas_global_vf = main_querie_pagadas()\n",
    "    recuperadas_global_vf = main_querie_recuperaciones()\n",
    "    main_querie_union_flujos(pagadas_global_vf, recuperadas_global_vf)"
   ]
  },
  {
   "cell_type": "code",
   "execution_count": null,
   "metadata": {},
   "outputs": [],
   "source": [
    "end_time = time.time()\n",
    "end_time - start_time"
   ]
  }
 ],
 "metadata": {
  "kernelspec": {
   "display_name": ".venv",
   "language": "python",
   "name": "python3"
  },
  "language_info": {
   "codemirror_mode": {
    "name": "ipython",
    "version": 3
   },
   "file_extension": ".py",
   "mimetype": "text/x-python",
   "name": "python",
   "nbconvert_exporter": "python",
   "pygments_lexer": "ipython3",
   "version": "3.13.2"
  }
 },
 "nbformat": 4,
 "nbformat_minor": 2
}
