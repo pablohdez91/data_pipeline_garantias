{
 "cells": [
  {
   "cell_type": "code",
   "execution_count": 1,
   "metadata": {},
   "outputs": [],
   "source": [
    "import polars as pl"
   ]
  },
  {
   "cell_type": "code",
   "execution_count": 2,
   "metadata": {},
   "outputs": [],
   "source": [
    "from IPython import get_ipython\n",
    "get_ipython().run_line_magic(\"run\", \"functions.ipynb\")"
   ]
  },
  {
   "cell_type": "code",
   "execution_count": 13,
   "metadata": {},
   "outputs": [],
   "source": [
    "cierre = \"202503\"\n",
    "cierre_l = \"Mar25\"\n",
    "\n",
    "# Carpetas\n",
    "path = \"E:/Users/jhernandezr/DAR/garantias/reporte/fotos/\"\n",
    "wd_data_raw = path + \"data/raw/\"\n",
    "wd_data_external = path + \"data/external/\"\n",
    "wd_data_processed_dwh = \"E:/Users/jhernandezr/DAR/garantias/data_pipeline_garantias/data/processed/DWH/csv/\"\n",
    "\n",
    "\n",
    "# Archivos\n",
    "fl_catalogos = wd_data_external + f'Catálogos_{cierre_l}.accdb'\n",
    "fl_saldos = wd_data_raw + f\"Saldos_{cierre}.mdb\"\n",
    "fl_saldos_bmxt = wd_data_raw + f\"Saldos_BMXT_{cierre}.mdb\"\n",
    "fl_saldos_fianzas = wd_data_raw + f\"Saldos_80686_{cierre}.mdb\"\n",
    "\n",
    "fl_saldos_totales_vf = wd_data_processed_dwh + f'DWH_Saldos_Totales_{cierre}_VF.csv'\n",
    "fl_agrup_saldo_total = wd_data_processed_dwh + f'BD_DWH_Agrup_SaldoTotal_{cierre}.csv'\n",
    "fl_agrup_taxo_saldo_total = wd_data_processed_dwh + f'BD_DWH_AgrupTaxo_SaldoTotal_{cierre}.csv'"
   ]
  },
  {
   "cell_type": "code",
   "execution_count": 7,
   "metadata": {},
   "outputs": [],
   "source": [
    "schema_saldos = {\n",
    "    'DESC_INDICADOR': pl.String,\n",
    "    'FECHA_CONSULTA': pl.Date,\n",
    "    'HISTORICO': pl.String,\n",
    "    'INDICADOR_ID': pl.Int32,\n",
    "    'INTERMEDIARIO_ID': pl.String,\n",
    "    'PROGRAMA_DESCRIPCION': pl.String,\n",
    "    'PROGRAMA_ID': pl.Int32,\n",
    "    'PROGRAMA_ORIGINAL': pl.Int32,\n",
    "    'RAZON_SOCIAL': pl.String,\n",
    "    'TIPO_CREDITO_ID': pl.Int16,\n",
    "    'Número de registros': pl.Int16,\n",
    "    'SALDO_CONTINGENTE_MN (SUMA)': pl.Float64\n",
    "}"
   ]
  },
  {
   "cell_type": "code",
   "execution_count": 8,
   "metadata": {},
   "outputs": [],
   "source": [
    "def import_saldos_totales():\n",
    "    df_saldos = read_access(fl_saldos, \"DATOS\")\n",
    "    df_saldos_bmxt = read_access(fl_saldos_bmxt, \"DATOS\")\n",
    "    df_saldos_fianzas = read_access(fl_saldos_fianzas, \"DATOS\")\n",
    "\n",
    "    df_saldos_totales = pl.concat([\n",
    "        df_saldos, \n",
    "        df_saldos_bmxt, \n",
    "        df_saldos_fianzas\n",
    "        ], rechunk=True)\n",
    "    \n",
    "    df_saldos_totales = (\n",
    "        df_saldos_totales.select(\n",
    "            pl.col(\"DESC_INDICADOR\").alias(\"Producto\"),\n",
    "            pl.col(\"FECHA_CONSULTA\"),\n",
    "            pl.col(\"INDICADOR_ID\").alias(\"Producto ID\"),\n",
    "            pl.col(\"INTERMEDIARIO_ID\"),\n",
    "            pl.col(\"PROGRAMA_DESCRIPCION\").alias(\"Programa Descripción (ID)\"),\n",
    "            pl.col(\"PROGRAMA_ID\"),\n",
    "            pl.col(\"PROGRAMA_ORIGINAL\"),\n",
    "            pl.col(\"RAZON_SOCIAL\").alias(\"Razón Social (Intermediario)\"),\n",
    "            pl.col(\"TIPO_CREDITO_ID\"),\n",
    "            pl.col(\"SALDO_CONTINGENTE_MN (SUMA)\").alias(\"SUM Saldo_Contingente_Mn\")\n",
    "        )\n",
    "    )\n",
    "    df_saldos_totales = genera_tpro_clave(df_saldos_totales)\n",
    "    return df_saldos_totales\n",
    "\n",
    "df_saldos_totales = import_saldos_totales()"
   ]
  },
  {
   "cell_type": "code",
   "execution_count": null,
   "metadata": {},
   "outputs": [],
   "source": []
  },
  {
   "cell_type": "code",
   "execution_count": 9,
   "metadata": {},
   "outputs": [],
   "source": [
    "def genera_saldos_totales_vf(df):\n",
    "    tipo_credito = read_access(fl_catalogos, \"TIPO_CREDITO\")\n",
    "    tipo_credito = tipo_credito.cast({'Tipo_Credito_ID': pl.Int32})\n",
    "\n",
    "    df_saldos_totales_vf = (\n",
    "        df.join(tipo_credito.select(['Tipo_Credito_ID', 'NR_R']),\n",
    "                            left_on='TIPO_CREDITO_ID', right_on='Tipo_Credito_ID',\n",
    "                            how='left')\n",
    "    )\n",
    "    return df_saldos_totales_vf\n",
    "\n",
    "saldos_totales_vf = genera_saldos_totales_vf(df_saldos_totales)\n"
   ]
  },
  {
   "cell_type": "code",
   "execution_count": 12,
   "metadata": {},
   "outputs": [],
   "source": [
    "saldos_totales_vf.write_csv(fl_saldos_totales_vf, datetime_format=\"%Y-%m-%d\", float_precision=6)"
   ]
  },
  {
   "cell_type": "code",
   "execution_count": null,
   "metadata": {},
   "outputs": [],
   "source": []
  },
  {
   "cell_type": "code",
   "execution_count": null,
   "metadata": {},
   "outputs": [],
   "source": []
  },
  {
   "cell_type": "code",
   "execution_count": 17,
   "metadata": {},
   "outputs": [],
   "source": [
    "# Agrup saldo total\n",
    "agrup_saldo_total = (\n",
    "    saldos_totales_vf\n",
    "    .group_by([\n",
    "        \"Producto\", \n",
    "        \"Razón Social (Intermediario)\", \n",
    "        \"INTERMEDIARIO_ID\", \n",
    "        \"PROGRAMA_ORIGINAL\", \n",
    "        \"PROGRAMA_ID\"\n",
    "        ]).agg(\n",
    "            pl.col(\"SUM Saldo_Contingente_Mn\").sum().alias(\"SALDO_MN\")\n",
    "        )\n",
    ")\n",
    "agrup_saldo_total.write_csv(fl_agrup_saldo_total, datetime_format=\"%Y-%m-%d\", float_precision=6)"
   ]
  },
  {
   "cell_type": "code",
   "execution_count": 20,
   "metadata": {},
   "outputs": [
    {
     "data": {
      "text/html": [
       "<div><style>\n",
       ".dataframe > thead > tr,\n",
       ".dataframe > tbody > tr {\n",
       "  text-align: right;\n",
       "  white-space: pre-wrap;\n",
       "}\n",
       "</style>\n",
       "<small>shape: (265, 6)</small><table border=\"1\" class=\"dataframe\"><thead><tr><th>Producto</th><th>Razón Social (Intermediario)</th><th>INTERMEDIARIO_ID</th><th>PROGRAMA_ORIGINAL</th><th>PROGRAMA_ID</th><th>SALDO_MN</th></tr><tr><td>str</td><td>str</td><td>str</td><td>i64</td><td>i64</td><td>f64</td></tr></thead><tbody><tr><td>&quot;GARANTIAS BANCOMEXT&quot;</td><td>&quot;BANCOMEXT BBVA BANCOMER&quot;</td><td>&quot;60423958&quot;</td><td>3999</td><td>39698</td><td>1.0321e6</td></tr><tr><td>&quot;GARANTIAS BANCOMEXT&quot;</td><td>&quot;BANCOMEXT BBVA BANCOMER&quot;</td><td>&quot;60423958&quot;</td><td>3999</td><td>390082</td><td>3.3546e8</td></tr><tr><td>&quot;GARANTIAS BANCOMEXT&quot;</td><td>&quot;BANCOMEXT-BANORTE&quot;</td><td>&quot;59639999&quot;</td><td>3999</td><td>390213</td><td>1.8667e6</td></tr><tr><td>&quot;GARANTIAS BANCOMEXT&quot;</td><td>&quot;BANCOMEXT BBVA BANCOMER&quot;</td><td>&quot;60423958&quot;</td><td>3999</td><td>390084</td><td>8.3609e7</td></tr><tr><td>&quot;GARANTIAS BANCOMEXT&quot;</td><td>&quot;BANCOMEXT/BANCO SABADELL, S.A.…</td><td>&quot;162042417&quot;</td><td>3999</td><td>390167</td><td>1.9622e7</td></tr><tr><td>&hellip;</td><td>&hellip;</td><td>&hellip;</td><td>&hellip;</td><td>&hellip;</td><td>&hellip;</td></tr><tr><td>&quot;GARANTIAS BANCOMEXT&quot;</td><td>&quot;BANCOMEXT BBVA BANCOMER&quot;</td><td>&quot;60423958&quot;</td><td>3999</td><td>39897</td><td>1.9928e8</td></tr><tr><td>&quot;GARANTIAS BANCOMEXT&quot;</td><td>&quot;BANCOMEXT/BAJIO&quot;</td><td>&quot;64991057&quot;</td><td>3999</td><td>390154</td><td>1.0413e9</td></tr><tr><td>&quot;GARANTIAS BANCOMEXT&quot;</td><td>&quot;BANCOMEXT/BAJIO&quot;</td><td>&quot;64991057&quot;</td><td>3999</td><td>390056</td><td>6.8062e7</td></tr><tr><td>&quot;GARANTIAS BANCOMEXT&quot;</td><td>&quot;BANCOMEXT/BAJIO&quot;</td><td>&quot;64991057&quot;</td><td>3999</td><td>39831</td><td>1.5366e8</td></tr><tr><td>&quot;GARANTIAS BANCOMEXT&quot;</td><td>&quot;BANCOMEXTBANAMEX&quot;</td><td>&quot;468297752&quot;</td><td>3999</td><td>39620</td><td>1.1172e6</td></tr></tbody></table></div>"
      ],
      "text/plain": [
       "shape: (265, 6)\n",
       "┌───────────┬────────────────────┬────────────────────┬───────────────────┬─────────────┬──────────┐\n",
       "│ Producto  ┆ Razón Social       ┆ INTERMEDIARIO_ID   ┆ PROGRAMA_ORIGINAL ┆ PROGRAMA_ID ┆ SALDO_MN │\n",
       "│ ---       ┆ (Intermediario)    ┆ ---                ┆ ---               ┆ ---         ┆ ---      │\n",
       "│ str       ┆ ---                ┆ str                ┆ i64               ┆ i64         ┆ f64      │\n",
       "│           ┆ str                ┆                    ┆                   ┆             ┆          │\n",
       "╞═══════════╪════════════════════╪════════════════════╪═══════════════════╪═════════════╪══════════╡\n",
       "│ GARANTIAS ┆ BANCOMEXT BBVA     ┆ 60423958           ┆ 3999              ┆ 39698       ┆ 1.0321e6 │\n",
       "│ BANCOMEXT ┆ BANCOMER           ┆                    ┆                   ┆             ┆          │\n",
       "│ GARANTIAS ┆ BANCOMEXT BBVA     ┆ 60423958           ┆ 3999              ┆ 390082      ┆ 3.3546e8 │\n",
       "│ BANCOMEXT ┆ BANCOMER           ┆                    ┆                   ┆             ┆          │\n",
       "│ GARANTIAS ┆ BANCOMEXT-BANORTE  ┆ 59639999           ┆ 3999              ┆ 390213      ┆ 1.8667e6 │\n",
       "│ BANCOMEXT ┆                    ┆                    ┆                   ┆             ┆          │\n",
       "│ GARANTIAS ┆ BANCOMEXT BBVA     ┆ 60423958           ┆ 3999              ┆ 390084      ┆ 8.3609e7 │\n",
       "│ BANCOMEXT ┆ BANCOMER           ┆                    ┆                   ┆             ┆          │\n",
       "│ GARANTIAS ┆ BANCOMEXT/BANCO    ┆ 162042417          ┆ 3999              ┆ 390167      ┆ 1.9622e7 │\n",
       "│ BANCOMEXT ┆ SABADELL, S.A.…    ┆                    ┆                   ┆             ┆          │\n",
       "│ …         ┆ …                  ┆ …                  ┆ …                 ┆ …           ┆ …        │\n",
       "│ GARANTIAS ┆ BANCOMEXT BBVA     ┆ 60423958           ┆ 3999              ┆ 39897       ┆ 1.9928e8 │\n",
       "│ BANCOMEXT ┆ BANCOMER           ┆                    ┆                   ┆             ┆          │\n",
       "│ GARANTIAS ┆ BANCOMEXT/BAJIO    ┆ 64991057           ┆ 3999              ┆ 390154      ┆ 1.0413e9 │\n",
       "│ BANCOMEXT ┆                    ┆                    ┆                   ┆             ┆          │\n",
       "│ GARANTIAS ┆ BANCOMEXT/BAJIO    ┆ 64991057           ┆ 3999              ┆ 390056      ┆ 6.8062e7 │\n",
       "│ BANCOMEXT ┆                    ┆                    ┆                   ┆             ┆          │\n",
       "│ GARANTIAS ┆ BANCOMEXT/BAJIO    ┆ 64991057           ┆ 3999              ┆ 39831       ┆ 1.5366e8 │\n",
       "│ BANCOMEXT ┆                    ┆                    ┆                   ┆             ┆          │\n",
       "│ GARANTIAS ┆ BANCOMEXTBANAMEX   ┆ 468297752          ┆ 3999              ┆ 39620       ┆ 1.1172e6 │\n",
       "│ BANCOMEXT ┆                    ┆                    ┆                   ┆             ┆          │\n",
       "└───────────┴────────────────────┴────────────────────┴───────────────────┴─────────────┴──────────┘"
      ]
     },
     "execution_count": 20,
     "metadata": {},
     "output_type": "execute_result"
    }
   ],
   "source": [
    "# Agrup saldo total resto\n",
    "(\n",
    "    saldos_totales_vf\n",
    "    .filter(\n",
    "        (pl.col(\"Producto\") == \"GARANTIAS BANCOMEXT\") |\n",
    "        (pl.col(\"Producto\") == \"GARANTIAS SHF/LI FINANCIERO\") |\n",
    "        (pl.col(\"Producto\") == \"GARANTIAS BANSEFI\") |\n",
    "        (pl.col(\"Razón Social (Intermediario)\") == \"FISO PARA EL AHORRO DE ENERGIA ELECTRICA (FASE II)\")\n",
    "    ).group_by([\n",
    "        \"Producto\", \n",
    "        \"Razón Social (Intermediario)\", \n",
    "        \"INTERMEDIARIO_ID\", \n",
    "        \"PROGRAMA_ORIGINAL\", \n",
    "        \"PROGRAMA_ID\"\n",
    "        ]).agg(\n",
    "            pl.col(\"SUM Saldo_Contingente_Mn\").sum().alias(\"SALDO_MN\")\n",
    "        )\n",
    ")"
   ]
  },
  {
   "cell_type": "code",
   "execution_count": 21,
   "metadata": {},
   "outputs": [
    {
     "data": {
      "text/html": [
       "<div><style>\n",
       ".dataframe > thead > tr,\n",
       ".dataframe > tbody > tr {\n",
       "  text-align: right;\n",
       "  white-space: pre-wrap;\n",
       "}\n",
       "</style>\n",
       "<small>shape: (1_016, 6)</small><table border=\"1\" class=\"dataframe\"><thead><tr><th>Producto</th><th>Razón Social (Intermediario)</th><th>INTERMEDIARIO_ID</th><th>PROGRAMA_ORIGINAL</th><th>PROGRAMA_ID</th><th>SALDO_MN</th></tr><tr><td>str</td><td>str</td><td>str</td><td>i64</td><td>i64</td><td>f64</td></tr></thead><tbody><tr><td>&quot;GARANTIA EMPRESARIAL&quot;</td><td>&quot;HSBC MEXICO&quot;</td><td>&quot;10000171&quot;</td><td>3999</td><td>35794</td><td>375455.26656</td></tr><tr><td>&quot;GARANTIA SECTORIAL&quot;</td><td>&quot;BANAMEX&quot;</td><td>&quot;10000233&quot;</td><td>3999</td><td>33735</td><td>186992.472</td></tr><tr><td>&quot;GARANTIA EMPRESARIAL&quot;</td><td>&quot;BANCO DEL BAJIO&quot;</td><td>&quot;10040030&quot;</td><td>3999</td><td>310034</td><td>2.3485e7</td></tr><tr><td>&quot;GARANTIA SECTORIAL&quot;</td><td>&quot;BANCA AFIRME&quot;</td><td>&quot;10040062&quot;</td><td>3999</td><td>320938</td><td>3.7250e6</td></tr><tr><td>&quot;GARANTIA EMPRESARIAL&quot;</td><td>&quot;BBV BANCOMER&quot;</td><td>&quot;10040012&quot;</td><td>3999</td><td>310176</td><td>3.2522e9</td></tr><tr><td>&hellip;</td><td>&hellip;</td><td>&hellip;</td><td>&hellip;</td><td>&hellip;</td><td>&hellip;</td></tr><tr><td>&quot;GARANTIA SECTORIAL&quot;</td><td>&quot;BANCO SANTANDER&quot;</td><td>&quot;10000144&quot;</td><td>3999</td><td>36693</td><td>1.1669e6</td></tr><tr><td>&quot;GARANTIA SECTORIAL&quot;</td><td>&quot;BANCO DEL BAJIO&quot;</td><td>&quot;10040030&quot;</td><td>3999</td><td>320943</td><td>541666.98</td></tr><tr><td>&quot;GARANTIA SECTORIAL&quot;</td><td>&quot;HSBC MEXICO&quot;</td><td>&quot;10000171&quot;</td><td>3999</td><td>320630</td><td>4.8606e6</td></tr><tr><td>&quot;GARANTIA SECTORIAL&quot;</td><td>&quot;BANCO SANTANDER&quot;</td><td>&quot;10000144&quot;</td><td>3999</td><td>320400</td><td>1.3818e7</td></tr><tr><td>&quot;GARANTIA SECTORIAL&quot;</td><td>&quot;BANAMEX&quot;</td><td>&quot;10000233&quot;</td><td>3999</td><td>320680</td><td>2.9506e7</td></tr></tbody></table></div>"
      ],
      "text/plain": [
       "shape: (1_016, 6)\n",
       "┌─────────────┬──────────────────┬──────────────────┬─────────────────┬─────────────┬──────────────┐\n",
       "│ Producto    ┆ Razón Social     ┆ INTERMEDIARIO_ID ┆ PROGRAMA_ORIGIN ┆ PROGRAMA_ID ┆ SALDO_MN     │\n",
       "│ ---         ┆ (Intermediario)  ┆ ---              ┆ AL              ┆ ---         ┆ ---          │\n",
       "│ str         ┆ ---              ┆ str              ┆ ---             ┆ i64         ┆ f64          │\n",
       "│             ┆ str              ┆                  ┆ i64             ┆             ┆              │\n",
       "╞═════════════╪══════════════════╪══════════════════╪═════════════════╪═════════════╪══════════════╡\n",
       "│ GARANTIA    ┆ HSBC MEXICO      ┆ 10000171         ┆ 3999            ┆ 35794       ┆ 375455.26656 │\n",
       "│ EMPRESARIAL ┆                  ┆                  ┆                 ┆             ┆              │\n",
       "│ GARANTIA    ┆ BANAMEX          ┆ 10000233         ┆ 3999            ┆ 33735       ┆ 186992.472   │\n",
       "│ SECTORIAL   ┆                  ┆                  ┆                 ┆             ┆              │\n",
       "│ GARANTIA    ┆ BANCO DEL BAJIO  ┆ 10040030         ┆ 3999            ┆ 310034      ┆ 2.3485e7     │\n",
       "│ EMPRESARIAL ┆                  ┆                  ┆                 ┆             ┆              │\n",
       "│ GARANTIA    ┆ BANCA AFIRME     ┆ 10040062         ┆ 3999            ┆ 320938      ┆ 3.7250e6     │\n",
       "│ SECTORIAL   ┆                  ┆                  ┆                 ┆             ┆              │\n",
       "│ GARANTIA    ┆ BBV BANCOMER     ┆ 10040012         ┆ 3999            ┆ 310176      ┆ 3.2522e9     │\n",
       "│ EMPRESARIAL ┆                  ┆                  ┆                 ┆             ┆              │\n",
       "│ …           ┆ …                ┆ …                ┆ …               ┆ …           ┆ …            │\n",
       "│ GARANTIA    ┆ BANCO SANTANDER  ┆ 10000144         ┆ 3999            ┆ 36693       ┆ 1.1669e6     │\n",
       "│ SECTORIAL   ┆                  ┆                  ┆                 ┆             ┆              │\n",
       "│ GARANTIA    ┆ BANCO DEL BAJIO  ┆ 10040030         ┆ 3999            ┆ 320943      ┆ 541666.98    │\n",
       "│ SECTORIAL   ┆                  ┆                  ┆                 ┆             ┆              │\n",
       "│ GARANTIA    ┆ HSBC MEXICO      ┆ 10000171         ┆ 3999            ┆ 320630      ┆ 4.8606e6     │\n",
       "│ SECTORIAL   ┆                  ┆                  ┆                 ┆             ┆              │\n",
       "│ GARANTIA    ┆ BANCO SANTANDER  ┆ 10000144         ┆ 3999            ┆ 320400      ┆ 1.3818e7     │\n",
       "│ SECTORIAL   ┆                  ┆                  ┆                 ┆             ┆              │\n",
       "│ GARANTIA    ┆ BANAMEX          ┆ 10000233         ┆ 3999            ┆ 320680      ┆ 2.9506e7     │\n",
       "│ SECTORIAL   ┆                  ┆                  ┆                 ┆             ┆              │\n",
       "└─────────────┴──────────────────┴──────────────────┴─────────────────┴─────────────┴──────────────┘"
      ]
     },
     "execution_count": 21,
     "metadata": {},
     "output_type": "execute_result"
    }
   ],
   "source": [
    "# Agrup saldo total automatica\n",
    "(\n",
    "    saldos_totales_vf\n",
    "    .filter(\n",
    "        (pl.col(\"Producto\") != \"GARANTIAS BANCOMEXT\") &\n",
    "        (pl.col(\"Producto\") != \"GARANTIAS SHF/LI FINANCIERO\") &\n",
    "        (pl.col(\"Producto\") != \"GARANTIAS BANSEFI\") &\n",
    "        (pl.col(\"Razón Social (Intermediario)\") != \"FISO PARA EL AHORRO DE ENERGIA ELECTRICA (FASE II)\")\n",
    "    ).group_by([\n",
    "        \"Producto\", \n",
    "        \"Razón Social (Intermediario)\", \n",
    "        \"INTERMEDIARIO_ID\", \n",
    "        \"PROGRAMA_ORIGINAL\", \n",
    "        \"PROGRAMA_ID\"\n",
    "        ]).agg(\n",
    "            pl.col(\"SUM Saldo_Contingente_Mn\").sum().alias(\"SALDO_MN\")\n",
    "        )\n",
    ")"
   ]
  },
  {
   "cell_type": "code",
   "execution_count": 18,
   "metadata": {},
   "outputs": [],
   "source": [
    "# AgrupTaxo saldo total\n",
    "agrup_taxo_saldo_total = (\n",
    "    saldos_totales_vf\n",
    "    .group_by([\n",
    "        \"Producto\"\n",
    "        ]).agg(\n",
    "            pl.col(\"SUM Saldo_Contingente_Mn\").sum().alias(\"SALDO_MN\")\n",
    "        )\n",
    ")\n",
    "agrup_taxo_saldo_total.write_csv(fl_agrup_taxo_saldo_total, datetime_format=\"%Y-%m-%d\", float_precision=6)"
   ]
  },
  {
   "cell_type": "code",
   "execution_count": null,
   "metadata": {},
   "outputs": [],
   "source": []
  },
  {
   "cell_type": "code",
   "execution_count": null,
   "metadata": {},
   "outputs": [],
   "source": [
    "# AgrupTaxo saldo total resto\n",
    "(\n",
    "    saldos_totales_vf\n",
    "        .filter(\n",
    "            (pl.col(\"Producto\") == \"GARANTIAS BANCOMEXT\") |\n",
    "            (pl.col(\"Producto\") == \"GARANTIAS SHF-LI FINANCIERO\") |\n",
    "            (pl.col(\"Producto\") == \"GARANTIAS BANSEFI\") |\n",
    "            (pl.col(\"Razón Social (Intermediario)\") == \"FISO PARA EL AHORRO DE ENERGIA ELECTRICA (FASE II)\")\n",
    "        ).group_by([\n",
    "            \"Producto\"\n",
    "            ]).agg(\n",
    "            pl.col(\"SUM Saldo_Contingente_Mn\").sum().alias(\"SALDO_MN\")\n",
    "        )\n",
    ")"
   ]
  },
  {
   "cell_type": "code",
   "execution_count": 24,
   "metadata": {},
   "outputs": [
    {
     "data": {
      "text/html": [
       "<div><style>\n",
       ".dataframe > thead > tr,\n",
       ".dataframe > tbody > tr {\n",
       "  text-align: right;\n",
       "  white-space: pre-wrap;\n",
       "}\n",
       "</style>\n",
       "<small>shape: (8, 2)</small><table border=\"1\" class=\"dataframe\"><thead><tr><th>Producto</th><th>SALDO_MN</th></tr><tr><td>str</td><td>f64</td></tr></thead><tbody><tr><td>&quot;GARANTIA ESPECIAL&quot;</td><td>6.2906e7</td></tr><tr><td>&quot;GARANTIA EMERGENTES&quot;</td><td>4.7975e8</td></tr><tr><td>&quot;GARANTIA SECTORIAL&quot;</td><td>1.8266e10</td></tr><tr><td>&quot;EMPRESA MEDIANA&quot;</td><td>5.1653e8</td></tr><tr><td>&quot;GARANTIA FIANZA&quot;</td><td>6.3914e9</td></tr><tr><td>&quot;GARANTIAS FEFA&quot;</td><td>4.0824e8</td></tr><tr><td>&quot;GARANTIA EMPRESARIAL&quot;</td><td>8.6838e10</td></tr><tr><td>&quot;GARANTIA SUBASTA&quot;</td><td>618635.560894</td></tr></tbody></table></div>"
      ],
      "text/plain": [
       "shape: (8, 2)\n",
       "┌──────────────────────┬───────────────┐\n",
       "│ Producto             ┆ SALDO_MN      │\n",
       "│ ---                  ┆ ---           │\n",
       "│ str                  ┆ f64           │\n",
       "╞══════════════════════╪═══════════════╡\n",
       "│ GARANTIA ESPECIAL    ┆ 6.2906e7      │\n",
       "│ GARANTIA EMERGENTES  ┆ 4.7975e8      │\n",
       "│ GARANTIA SECTORIAL   ┆ 1.8266e10     │\n",
       "│ EMPRESA MEDIANA      ┆ 5.1653e8      │\n",
       "│ GARANTIA FIANZA      ┆ 6.3914e9      │\n",
       "│ GARANTIAS FEFA       ┆ 4.0824e8      │\n",
       "│ GARANTIA EMPRESARIAL ┆ 8.6838e10     │\n",
       "│ GARANTIA SUBASTA     ┆ 618635.560894 │\n",
       "└──────────────────────┴───────────────┘"
      ]
     },
     "execution_count": 24,
     "metadata": {},
     "output_type": "execute_result"
    }
   ],
   "source": [
    "(\n",
    "    saldos_totales_vf\n",
    "    .filter(\n",
    "        (pl.col(\"Producto\") != \"GARANTIAS BANCOMEXT\") &\n",
    "        (pl.col(\"Producto\") != \"GARANTIAS SHF/LI FINANCIERO\") &\n",
    "        (pl.col(\"Producto\") != \"GARANTIAS BANSEFI\") &\n",
    "        (pl.col(\"Razón Social (Intermediario)\") != \"FISO PARA EL AHORRO DE ENERGIA ELECTRICA (FASE II)\")\n",
    "        ).group_by([\n",
    "            \"Producto\"\n",
    "            ]).agg(\n",
    "            pl.col(\"SUM Saldo_Contingente_Mn\").sum().alias(\"SALDO_MN\")\n",
    "        )\n",
    ")"
   ]
  }
 ],
 "metadata": {
  "kernelspec": {
   "display_name": ".venv",
   "language": "python",
   "name": "python3"
  },
  "language_info": {
   "codemirror_mode": {
    "name": "ipython",
    "version": 3
   },
   "file_extension": ".py",
   "mimetype": "text/x-python",
   "name": "python",
   "nbconvert_exporter": "python",
   "pygments_lexer": "ipython3",
   "version": "3.13.2"
  }
 },
 "nbformat": 4,
 "nbformat_minor": 2
}
