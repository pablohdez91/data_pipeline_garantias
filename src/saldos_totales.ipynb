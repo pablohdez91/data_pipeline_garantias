{
 "cells": [
  {
   "cell_type": "code",
   "execution_count": 40,
   "metadata": {},
   "outputs": [],
   "source": [
    "import polars as pl\n",
    "import pyodbc"
   ]
  },
  {
   "cell_type": "code",
   "execution_count": 50,
   "metadata": {},
   "outputs": [],
   "source": [
    "schema_saldos = {\n",
    "    'DESC_INDICADOR': pl.String,\n",
    "    'FECHA_CONSULTA': pl.Date,\n",
    "    'HISTORICO': pl.String,\n",
    "    'INDICADOR_ID': pl.Int32,\n",
    "    'INTERMEDIARIO_ID': pl.String,\n",
    "    'PROGRAMA_DESCRIPCION': pl.String,\n",
    "    'PROGRAMA_ID': pl.Int32,\n",
    "    'PROGRAMA_ORIGINAL': pl.Int32,\n",
    "    'RAZON_SOCIAL': pl.String,\n",
    "    'TIPO_CREDITO_ID': pl.Int16,\n",
    "    'Número de registros': pl.Int16,\n",
    "    'SALDO_CONTINGENTE_MN': pl.Float64\n",
    "}\n",
    "\n",
    "path_saldos = \"../data/raw/LNTG_SALDOS_SIN_AGRUPAMIENTO_Datos migrados.csv\"\n",
    "path_saldos_bmxt = \"../data/raw/LNTG_SALDOS_SIN_AGRUPAMIENTO_BANCOMEXT_Datos migrados.csv\"\n",
    "path_saldos_fianzas = \"../data/raw/LNTG_SALDOS_SIN_AGRUPAMIENTO_80686_Datos migrados.csv\"\n",
    "\n",
    "saldos = pl.read_csv(path_saldos, schema_overrides=schema_saldos)\n",
    "saldos_fianzas = pl.read_csv(path_saldos_fianzas, schema_overrides=schema_saldos)\n",
    "saldos_bmxt = pl.read_csv(path_saldos_bmxt, schema_overrides=schema_saldos)\n",
    "\n",
    "saldos_totales = pl.concat([saldos, saldos_bmxt, saldos_fianzas.drop(\"HISTORICO\")])\n",
    "\n",
    "saldos_totales = (\n",
    "    saldos_totales.select(\n",
    "        pl.col(\"DESC_INDICADOR\").alias(\"Producto\"),\n",
    "        pl.col(\"FECHA_CONSULTA\"),\n",
    "        pl.col(\"INDICADOR_ID\").alias(\"Producto ID\"),\n",
    "        pl.col(\"INTERMEDIARIO_ID\"),\n",
    "        pl.col(\"PROGRAMA_DESCRIPCION\").alias(\"Programa Descripción (ID)\"),\n",
    "        pl.col(\"PROGRAMA_ID\"),\n",
    "        pl.col(\"PROGRAMA_ORIGINAL\"),\n",
    "        pl.col(\"RAZON_SOCIAL\").alias(\"Razón Social (Intermediario)\"),\n",
    "        pl.col(\"TIPO_CREDITO_ID\"),\n",
    "        pl.col(\"SALDO_CONTINGENTE_MN\").alias(\"SUM Saldo_Contingente_Mn\")\n",
    "    )\n",
    ")\n"
   ]
  },
  {
   "cell_type": "code",
   "execution_count": 51,
   "metadata": {},
   "outputs": [],
   "source": [
    "def genera_tpro_clave(df):\n",
    "    result = df.with_columns(\n",
    "        pl.when((pl.col(\"PROGRAMA_ID\")>=32000)&(pl.col(\"PROGRAMA_ID\")<=32100))\n",
    "        .then(pl.col(\"PROGRAMA_ID\"))\n",
    "        .when((pl.col(\"PROGRAMA_ID\")==3976)&(pl.col(\"PROGRAMA_ORIGINAL\")==31415))\n",
    "        .then(pl.col(\"PROGRAMA_ID\"))\n",
    "        .when((pl.col(\"PROGRAMA_ID\")==33366)&(pl.col(\"PROGRAMA_ORIGINAL\")==33842))\n",
    "        .then(pl.col(\"PROGRAMA_ID\"))\n",
    "        .when((pl.col(\"PROGRAMA_ID\").is_in([3536, 3537, 3539, 3542,3544, 3545, 3546,3547,3548,3549,3550, 3553, 3555, 3558,3559, 3560, 3564,3566]))&(pl.col(\"PROGRAMA_ORIGINAL\")==3200))\n",
    "        .then(pl.col(\"PROGRAMA_ID\"))\n",
    "        .when(pl.col(\"PROGRAMA_ORIGINAL\")==3999)\n",
    "        .then(\"PROGRAMA_ID\")\n",
    "        .otherwise(pl.col(\"PROGRAMA_ORIGINAL\")).alias(\"TPRO_CLAVE\")\n",
    "    )\n",
    "    return result\n"
   ]
  },
  {
   "cell_type": "code",
   "execution_count": 52,
   "metadata": {},
   "outputs": [],
   "source": [
    "saldos_totales = genera_tpro_clave(saldos_totales)"
   ]
  },
  {
   "cell_type": "code",
   "execution_count": 53,
   "metadata": {},
   "outputs": [],
   "source": [
    "# Agregar archivos .accdb con ´sudo nano /etc/odbc.ini´\n",
    "dsn = \"Catalogos_Dic24\"\n",
    "user = \"\"\n",
    "password = \"\"\n",
    "\n",
    "conn = pyodbc.connect(f\"DSN={dsn};UID={user};PWD={password}\")\n",
    "cursor = conn.cursor()\n",
    "\n",
    "tipo_credito = pl.read_database(query='SELECT * FROM [TIPO_CREDITO]', connection=conn, schema_overrides={'Tipo_Credito_ID': pl.Int32})\n",
    "\n",
    "conn.close()"
   ]
  },
  {
   "cell_type": "code",
   "execution_count": 54,
   "metadata": {},
   "outputs": [],
   "source": [
    "saldos_totales_vf = (\n",
    "    saldos_totales.join(tipo_credito.select(['Tipo_Credito_ID', 'NR_R']),\n",
    "                        left_on='TIPO_CREDITO_ID', right_on='Tipo_Credito_ID',\n",
    "                        how='left')\n",
    ")"
   ]
  },
  {
   "cell_type": "code",
   "execution_count": null,
   "metadata": {},
   "outputs": [],
   "source": []
  },
  {
   "cell_type": "code",
   "execution_count": null,
   "metadata": {},
   "outputs": [
    {
     "data": {
      "text/html": [
       "<div><style>\n",
       ".dataframe > thead > tr,\n",
       ".dataframe > tbody > tr {\n",
       "  text-align: right;\n",
       "  white-space: pre-wrap;\n",
       "}\n",
       "</style>\n",
       "<small>shape: (1_291, 6)</small><table border=\"1\" class=\"dataframe\"><thead><tr><th>Producto</th><th>Razón Social (Intermediario)</th><th>INTERMEDIARIO_ID</th><th>PROGRAMA_ORIGINAL</th><th>PROGRAMA_ID</th><th>SALDO_MN</th></tr><tr><td>str</td><td>str</td><td>str</td><td>i32</td><td>i32</td><td>f64</td></tr></thead><tbody><tr><td>&quot;GARANTIA SECTORIAL&quot;</td><td>&quot;BBV BANCOMER&quot;</td><td>&quot;10040012&quot;</td><td>3999</td><td>321292</td><td>4.9334e8</td></tr><tr><td>&quot;GARANTIA EMPRESARIAL&quot;</td><td>&quot;BANCA AFIRME&quot;</td><td>&quot;10040062&quot;</td><td>37006</td><td>34784</td><td>1.3356e6</td></tr><tr><td>&quot;GARANTIA SECTORIAL&quot;</td><td>&quot;BANCO DEL BAJIO&quot;</td><td>&quot;10040030&quot;</td><td>3999</td><td>320540</td><td>4.3609e6</td></tr><tr><td>&quot;GARANTIA EMPRESARIAL&quot;</td><td>&quot;BANCO MERCANTIL DEL NORTE&quot;</td><td>&quot;10040072&quot;</td><td>35209</td><td>34282</td><td>448671.71778</td></tr><tr><td>&quot;GARANTIA SECTORIAL&quot;</td><td>&quot;BANCO SANTANDER&quot;</td><td>&quot;10000144&quot;</td><td>3999</td><td>321055</td><td>495428.598</td></tr><tr><td>&hellip;</td><td>&hellip;</td><td>&hellip;</td><td>&hellip;</td><td>&hellip;</td><td>&hellip;</td></tr><tr><td>&quot;GARANTIA SUBASTA&quot;</td><td>&quot;BANCO SANTANDER&quot;</td><td>&quot;10000144&quot;</td><td>3999</td><td>36866</td><td>2416.904768</td></tr><tr><td>&quot;GARANTIA SUBASTA&quot;</td><td>&quot;BANCO MERCANTIL DEL NORTE&quot;</td><td>&quot;10040072&quot;</td><td>3999</td><td>36614</td><td>17091.063888</td></tr><tr><td>&quot;GARANTIA SECTORIAL&quot;</td><td>&quot;BANCO MERCANTIL DEL NORTE&quot;</td><td>&quot;10040072&quot;</td><td>3999</td><td>320933</td><td>4.0498e8</td></tr><tr><td>&quot;GARANTIAS BANCOMEXT&quot;</td><td>&quot;BANCOMEXT BBVA BANCOMER&quot;</td><td>&quot;60423958&quot;</td><td>3999</td><td>390185</td><td>6.1103e8</td></tr><tr><td>&quot;GARANTIA SECTORIAL&quot;</td><td>&quot;BANCO DEL BAJIO&quot;</td><td>&quot;10040030&quot;</td><td>3999</td><td>320510</td><td>294583.415</td></tr></tbody></table></div>"
      ],
      "text/plain": [
       "shape: (1_291, 6)\n",
       "┌─────────────┬──────────────────┬──────────────────┬─────────────────┬─────────────┬──────────────┐\n",
       "│ Producto    ┆ Razón Social     ┆ INTERMEDIARIO_ID ┆ PROGRAMA_ORIGIN ┆ PROGRAMA_ID ┆ SALDO_MN     │\n",
       "│ ---         ┆ (Intermediario)  ┆ ---              ┆ AL              ┆ ---         ┆ ---          │\n",
       "│ str         ┆ ---              ┆ str              ┆ ---             ┆ i32         ┆ f64          │\n",
       "│             ┆ str              ┆                  ┆ i32             ┆             ┆              │\n",
       "╞═════════════╪══════════════════╪══════════════════╪═════════════════╪═════════════╪══════════════╡\n",
       "│ GARANTIA    ┆ BBV BANCOMER     ┆ 10040012         ┆ 3999            ┆ 321292      ┆ 4.9334e8     │\n",
       "│ SECTORIAL   ┆                  ┆                  ┆                 ┆             ┆              │\n",
       "│ GARANTIA    ┆ BANCA AFIRME     ┆ 10040062         ┆ 37006           ┆ 34784       ┆ 1.3356e6     │\n",
       "│ EMPRESARIAL ┆                  ┆                  ┆                 ┆             ┆              │\n",
       "│ GARANTIA    ┆ BANCO DEL BAJIO  ┆ 10040030         ┆ 3999            ┆ 320540      ┆ 4.3609e6     │\n",
       "│ SECTORIAL   ┆                  ┆                  ┆                 ┆             ┆              │\n",
       "│ GARANTIA    ┆ BANCO MERCANTIL  ┆ 10040072         ┆ 35209           ┆ 34282       ┆ 448671.71778 │\n",
       "│ EMPRESARIAL ┆ DEL NORTE        ┆                  ┆                 ┆             ┆              │\n",
       "│ GARANTIA    ┆ BANCO SANTANDER  ┆ 10000144         ┆ 3999            ┆ 321055      ┆ 495428.598   │\n",
       "│ SECTORIAL   ┆                  ┆                  ┆                 ┆             ┆              │\n",
       "│ …           ┆ …                ┆ …                ┆ …               ┆ …           ┆ …            │\n",
       "│ GARANTIA    ┆ BANCO SANTANDER  ┆ 10000144         ┆ 3999            ┆ 36866       ┆ 2416.904768  │\n",
       "│ SUBASTA     ┆                  ┆                  ┆                 ┆             ┆              │\n",
       "│ GARANTIA    ┆ BANCO MERCANTIL  ┆ 10040072         ┆ 3999            ┆ 36614       ┆ 17091.063888 │\n",
       "│ SUBASTA     ┆ DEL NORTE        ┆                  ┆                 ┆             ┆              │\n",
       "│ GARANTIA    ┆ BANCO MERCANTIL  ┆ 10040072         ┆ 3999            ┆ 320933      ┆ 4.0498e8     │\n",
       "│ SECTORIAL   ┆ DEL NORTE        ┆                  ┆                 ┆             ┆              │\n",
       "│ GARANTIAS   ┆ BANCOMEXT BBVA   ┆ 60423958         ┆ 3999            ┆ 390185      ┆ 6.1103e8     │\n",
       "│ BANCOMEXT   ┆ BANCOMER         ┆                  ┆                 ┆             ┆              │\n",
       "│ GARANTIA    ┆ BANCO DEL BAJIO  ┆ 10040030         ┆ 3999            ┆ 320510      ┆ 294583.415   │\n",
       "│ SECTORIAL   ┆                  ┆                  ┆                 ┆             ┆              │\n",
       "└─────────────┴──────────────────┴──────────────────┴─────────────────┴─────────────┴──────────────┘"
      ]
     },
     "execution_count": 60,
     "metadata": {},
     "output_type": "execute_result"
    }
   ],
   "source": [
    "# Agrup saldo total\n",
    "(\n",
    "    saldos_totales_vf\n",
    "    .group_by([\n",
    "        \"Producto\", \n",
    "        \"Razón Social (Intermediario)\", \n",
    "        \"INTERMEDIARIO_ID\", \n",
    "        \"PROGRAMA_ORIGINAL\", \n",
    "        \"PROGRAMA_ID\"\n",
    "        ]).agg(\n",
    "            pl.col(\"SUM Saldo_Contingente_Mn\").sum().alias(\"SALDO_MN\")\n",
    "        )\n",
    ")"
   ]
  },
  {
   "cell_type": "code",
   "execution_count": 64,
   "metadata": {},
   "outputs": [
    {
     "data": {
      "text/html": [
       "<div><style>\n",
       ".dataframe > thead > tr,\n",
       ".dataframe > tbody > tr {\n",
       "  text-align: right;\n",
       "  white-space: pre-wrap;\n",
       "}\n",
       "</style>\n",
       "<small>shape: (269, 6)</small><table border=\"1\" class=\"dataframe\"><thead><tr><th>Producto</th><th>Razón Social (Intermediario)</th><th>INTERMEDIARIO_ID</th><th>PROGRAMA_ORIGINAL</th><th>PROGRAMA_ID</th><th>SALDO_MN</th></tr><tr><td>str</td><td>str</td><td>str</td><td>i32</td><td>i32</td><td>f64</td></tr></thead><tbody><tr><td>&quot;GARANTIAS BANCOMEXT&quot;</td><td>&quot;BANCOMEXTBANCA AFIRME&quot;</td><td>&quot;478439031&quot;</td><td>3999</td><td>39538</td><td>528260.913</td></tr><tr><td>&quot;GARANTIAS BANCOMEXT&quot;</td><td>&quot;BANCOMEXT/BANCO SABADELL, S.A.…</td><td>&quot;162042417&quot;</td><td>3999</td><td>390100</td><td>4.2e6</td></tr><tr><td>&quot;GARANTIAS BANCOMEXT&quot;</td><td>&quot;BANCOMEXTHSBC&quot;</td><td>&quot;478809852&quot;</td><td>3999</td><td>390224</td><td>3.8209e7</td></tr><tr><td>&quot;GARANTIAS BANCOMEXT&quot;</td><td>&quot;BANCOMEXTBANAMEX&quot;</td><td>&quot;468297752&quot;</td><td>3999</td><td>390192</td><td>6.8588e6</td></tr><tr><td>&quot;GARANTIAS BANCOMEXT&quot;</td><td>&quot;BANCOMEXT/BAJIO&quot;</td><td>&quot;64991057&quot;</td><td>3999</td><td>32368</td><td>1.2884e6</td></tr><tr><td>&hellip;</td><td>&hellip;</td><td>&hellip;</td><td>&hellip;</td><td>&hellip;</td><td>&hellip;</td></tr><tr><td>&quot;GARANTIAS BANCOMEXT&quot;</td><td>&quot;BANCOMEXT-BANORTE&quot;</td><td>&quot;59639999&quot;</td><td>3999</td><td>39387</td><td>292278.708</td></tr><tr><td>&quot;GARANTIAS BANCOMEXT&quot;</td><td>&quot;BANCOMEXT MIFEL&quot;</td><td>&quot;468577182&quot;</td><td>3999</td><td>390088</td><td>2.5455e7</td></tr><tr><td>&quot;GARANTIAS BANCOMEXT&quot;</td><td>&quot;BANCOMEXT MIFEL&quot;</td><td>&quot;468577182&quot;</td><td>3999</td><td>39825</td><td>2.2250e6</td></tr><tr><td>&quot;GARANTIAS BANCOMEXT&quot;</td><td>&quot;BANCOMEXT-BANORTE&quot;</td><td>&quot;59639999&quot;</td><td>3999</td><td>39855</td><td>1.7270e7</td></tr><tr><td>&quot;GARANTIAS BANCOMEXT&quot;</td><td>&quot;BANCOMEXT MIFEL&quot;</td><td>&quot;468577182&quot;</td><td>3999</td><td>39551</td><td>7.0301e6</td></tr></tbody></table></div>"
      ],
      "text/plain": [
       "shape: (269, 6)\n",
       "┌───────────┬───────────────────┬───────────────────┬───────────────────┬─────────────┬────────────┐\n",
       "│ Producto  ┆ Razón Social      ┆ INTERMEDIARIO_ID  ┆ PROGRAMA_ORIGINAL ┆ PROGRAMA_ID ┆ SALDO_MN   │\n",
       "│ ---       ┆ (Intermediario)   ┆ ---               ┆ ---               ┆ ---         ┆ ---        │\n",
       "│ str       ┆ ---               ┆ str               ┆ i32               ┆ i32         ┆ f64        │\n",
       "│           ┆ str               ┆                   ┆                   ┆             ┆            │\n",
       "╞═══════════╪═══════════════════╪═══════════════════╪═══════════════════╪═════════════╪════════════╡\n",
       "│ GARANTIAS ┆ BANCOMEXTBANCA    ┆ 478439031         ┆ 3999              ┆ 39538       ┆ 528260.913 │\n",
       "│ BANCOMEXT ┆ AFIRME            ┆                   ┆                   ┆             ┆            │\n",
       "│ GARANTIAS ┆ BANCOMEXT/BANCO   ┆ 162042417         ┆ 3999              ┆ 390100      ┆ 4.2e6      │\n",
       "│ BANCOMEXT ┆ SABADELL, S.A.…   ┆                   ┆                   ┆             ┆            │\n",
       "│ GARANTIAS ┆ BANCOMEXTHSBC     ┆ 478809852         ┆ 3999              ┆ 390224      ┆ 3.8209e7   │\n",
       "│ BANCOMEXT ┆                   ┆                   ┆                   ┆             ┆            │\n",
       "│ GARANTIAS ┆ BANCOMEXTBANAMEX  ┆ 468297752         ┆ 3999              ┆ 390192      ┆ 6.8588e6   │\n",
       "│ BANCOMEXT ┆                   ┆                   ┆                   ┆             ┆            │\n",
       "│ GARANTIAS ┆ BANCOMEXT/BAJIO   ┆ 64991057          ┆ 3999              ┆ 32368       ┆ 1.2884e6   │\n",
       "│ BANCOMEXT ┆                   ┆                   ┆                   ┆             ┆            │\n",
       "│ …         ┆ …                 ┆ …                 ┆ …                 ┆ …           ┆ …          │\n",
       "│ GARANTIAS ┆ BANCOMEXT-BANORTE ┆ 59639999          ┆ 3999              ┆ 39387       ┆ 292278.708 │\n",
       "│ BANCOMEXT ┆                   ┆                   ┆                   ┆             ┆            │\n",
       "│ GARANTIAS ┆ BANCOMEXT MIFEL   ┆ 468577182         ┆ 3999              ┆ 390088      ┆ 2.5455e7   │\n",
       "│ BANCOMEXT ┆                   ┆                   ┆                   ┆             ┆            │\n",
       "│ GARANTIAS ┆ BANCOMEXT MIFEL   ┆ 468577182         ┆ 3999              ┆ 39825       ┆ 2.2250e6   │\n",
       "│ BANCOMEXT ┆                   ┆                   ┆                   ┆             ┆            │\n",
       "│ GARANTIAS ┆ BANCOMEXT-BANORTE ┆ 59639999          ┆ 3999              ┆ 39855       ┆ 1.7270e7   │\n",
       "│ BANCOMEXT ┆                   ┆                   ┆                   ┆             ┆            │\n",
       "│ GARANTIAS ┆ BANCOMEXT MIFEL   ┆ 468577182         ┆ 3999              ┆ 39551       ┆ 7.0301e6   │\n",
       "│ BANCOMEXT ┆                   ┆                   ┆                   ┆             ┆            │\n",
       "└───────────┴───────────────────┴───────────────────┴───────────────────┴─────────────┴────────────┘"
      ]
     },
     "execution_count": 64,
     "metadata": {},
     "output_type": "execute_result"
    }
   ],
   "source": [
    "# Agrup saldo total resto\n",
    "(\n",
    "    saldos_totales_vf\n",
    "    .filter(\n",
    "        (pl.col(\"Producto\") == \"GARANTIAS BANCOMEXT\") |\n",
    "        (pl.col(\"Producto\") == \"GARANTIAS SHF/LI FINANCIERO\") |\n",
    "        (pl.col(\"Producto\") == \"GARANTIAS BANSEFI\") |\n",
    "        (pl.col(\"Razón Social (Intermediario)\") == \"FISO PARA EL AHORRO DE ENERGIA ELECTRICA (FASE II)\")\n",
    "    ).group_by([\n",
    "        \"Producto\", \n",
    "        \"Razón Social (Intermediario)\", \n",
    "        \"INTERMEDIARIO_ID\", \n",
    "        \"PROGRAMA_ORIGINAL\", \n",
    "        \"PROGRAMA_ID\"\n",
    "        ]).agg(\n",
    "            pl.col(\"SUM Saldo_Contingente_Mn\").sum().alias(\"SALDO_MN\")\n",
    "        )\n",
    ")"
   ]
  },
  {
   "cell_type": "code",
   "execution_count": 66,
   "metadata": {},
   "outputs": [
    {
     "data": {
      "text/html": [
       "<div><style>\n",
       ".dataframe > thead > tr,\n",
       ".dataframe > tbody > tr {\n",
       "  text-align: right;\n",
       "  white-space: pre-wrap;\n",
       "}\n",
       "</style>\n",
       "<small>shape: (1_022, 6)</small><table border=\"1\" class=\"dataframe\"><thead><tr><th>Producto</th><th>Razón Social (Intermediario)</th><th>INTERMEDIARIO_ID</th><th>PROGRAMA_ORIGINAL</th><th>PROGRAMA_ID</th><th>SALDO_MN</th></tr><tr><td>str</td><td>str</td><td>str</td><td>i32</td><td>i32</td><td>f64</td></tr></thead><tbody><tr><td>&quot;GARANTIA EMPRESARIAL&quot;</td><td>&quot;BANAMEX&quot;</td><td>&quot;10000233&quot;</td><td>3999</td><td>310101</td><td>9.1811e8</td></tr><tr><td>&quot;GARANTIA EMPRESARIAL&quot;</td><td>&quot;BANSI SA&quot;</td><td>&quot;10040060&quot;</td><td>3999</td><td>310023</td><td>5.3915e6</td></tr><tr><td>&quot;GARANTIA SECTORIAL&quot;</td><td>&quot;HSBC MEXICO&quot;</td><td>&quot;10000171&quot;</td><td>3999</td><td>321567</td><td>1.7815e7</td></tr><tr><td>&quot;GARANTIA SECTORIAL&quot;</td><td>&quot;BANCO SANTANDER&quot;</td><td>&quot;10000144&quot;</td><td>3999</td><td>320460</td><td>1.6620e6</td></tr><tr><td>&quot;GARANTIA SECTORIAL&quot;</td><td>&quot;BANAMEX&quot;</td><td>&quot;10000233&quot;</td><td>3999</td><td>320458</td><td>701500.912</td></tr><tr><td>&hellip;</td><td>&hellip;</td><td>&hellip;</td><td>&hellip;</td><td>&hellip;</td><td>&hellip;</td></tr><tr><td>&quot;GARANTIA EMPRESARIAL&quot;</td><td>&quot;BANCO DEL BAJIO&quot;</td><td>&quot;10040030&quot;</td><td>3999</td><td>33423</td><td>572823.94</td></tr><tr><td>&quot;GARANTIA SECTORIAL&quot;</td><td>&quot;BBV BANCOMER&quot;</td><td>&quot;10040012&quot;</td><td>3999</td><td>320658</td><td>5.7054e7</td></tr><tr><td>&quot;GARANTIA SECTORIAL&quot;</td><td>&quot;BANCA MIFEL&quot;</td><td>&quot;10000420&quot;</td><td>3999</td><td>320360</td><td>1.7551e7</td></tr><tr><td>&quot;GARANTIA SECTORIAL&quot;</td><td>&quot;BANCO DEL BAJIO&quot;</td><td>&quot;10040030&quot;</td><td>3999</td><td>321036</td><td>1.3969e7</td></tr><tr><td>&quot;GARANTIA SECTORIAL&quot;</td><td>&quot;BANCO REGIONAL DE MONTERREY&quot;</td><td>&quot;10040058&quot;</td><td>3999</td><td>321327</td><td>2.3469e6</td></tr></tbody></table></div>"
      ],
      "text/plain": [
       "shape: (1_022, 6)\n",
       "┌─────────────┬───────────────────┬──────────────────┬──────────────────┬─────────────┬────────────┐\n",
       "│ Producto    ┆ Razón Social      ┆ INTERMEDIARIO_ID ┆ PROGRAMA_ORIGINA ┆ PROGRAMA_ID ┆ SALDO_MN   │\n",
       "│ ---         ┆ (Intermediario)   ┆ ---              ┆ L                ┆ ---         ┆ ---        │\n",
       "│ str         ┆ ---               ┆ str              ┆ ---              ┆ i32         ┆ f64        │\n",
       "│             ┆ str               ┆                  ┆ i32              ┆             ┆            │\n",
       "╞═════════════╪═══════════════════╪══════════════════╪══════════════════╪═════════════╪════════════╡\n",
       "│ GARANTIA    ┆ BANAMEX           ┆ 10000233         ┆ 3999             ┆ 310101      ┆ 9.1811e8   │\n",
       "│ EMPRESARIAL ┆                   ┆                  ┆                  ┆             ┆            │\n",
       "│ GARANTIA    ┆ BANSI SA          ┆ 10040060         ┆ 3999             ┆ 310023      ┆ 5.3915e6   │\n",
       "│ EMPRESARIAL ┆                   ┆                  ┆                  ┆             ┆            │\n",
       "│ GARANTIA    ┆ HSBC MEXICO       ┆ 10000171         ┆ 3999             ┆ 321567      ┆ 1.7815e7   │\n",
       "│ SECTORIAL   ┆                   ┆                  ┆                  ┆             ┆            │\n",
       "│ GARANTIA    ┆ BANCO SANTANDER   ┆ 10000144         ┆ 3999             ┆ 320460      ┆ 1.6620e6   │\n",
       "│ SECTORIAL   ┆                   ┆                  ┆                  ┆             ┆            │\n",
       "│ GARANTIA    ┆ BANAMEX           ┆ 10000233         ┆ 3999             ┆ 320458      ┆ 701500.912 │\n",
       "│ SECTORIAL   ┆                   ┆                  ┆                  ┆             ┆            │\n",
       "│ …           ┆ …                 ┆ …                ┆ …                ┆ …           ┆ …          │\n",
       "│ GARANTIA    ┆ BANCO DEL BAJIO   ┆ 10040030         ┆ 3999             ┆ 33423       ┆ 572823.94  │\n",
       "│ EMPRESARIAL ┆                   ┆                  ┆                  ┆             ┆            │\n",
       "│ GARANTIA    ┆ BBV BANCOMER      ┆ 10040012         ┆ 3999             ┆ 320658      ┆ 5.7054e7   │\n",
       "│ SECTORIAL   ┆                   ┆                  ┆                  ┆             ┆            │\n",
       "│ GARANTIA    ┆ BANCA MIFEL       ┆ 10000420         ┆ 3999             ┆ 320360      ┆ 1.7551e7   │\n",
       "│ SECTORIAL   ┆                   ┆                  ┆                  ┆             ┆            │\n",
       "│ GARANTIA    ┆ BANCO DEL BAJIO   ┆ 10040030         ┆ 3999             ┆ 321036      ┆ 1.3969e7   │\n",
       "│ SECTORIAL   ┆                   ┆                  ┆                  ┆             ┆            │\n",
       "│ GARANTIA    ┆ BANCO REGIONAL DE ┆ 10040058         ┆ 3999             ┆ 321327      ┆ 2.3469e6   │\n",
       "│ SECTORIAL   ┆ MONTERREY         ┆                  ┆                  ┆             ┆            │\n",
       "└─────────────┴───────────────────┴──────────────────┴──────────────────┴─────────────┴────────────┘"
      ]
     },
     "execution_count": 66,
     "metadata": {},
     "output_type": "execute_result"
    }
   ],
   "source": [
    "# Agrup saldo total automatica\n",
    "(\n",
    "    saldos_totales_vf\n",
    "    .filter(\n",
    "        (pl.col(\"Producto\") != \"GARANTIAS BANCOMEXT\") &\n",
    "        (pl.col(\"Producto\") != \"GARANTIAS SHF/LI FINANCIERO\") &\n",
    "        (pl.col(\"Producto\") != \"GARANTIAS BANSEFI\") &\n",
    "        (pl.col(\"Razón Social (Intermediario)\") != \"FISO PARA EL AHORRO DE ENERGIA ELECTRICA (FASE II)\")\n",
    "    ).group_by([\n",
    "        \"Producto\", \n",
    "        \"Razón Social (Intermediario)\", \n",
    "        \"INTERMEDIARIO_ID\", \n",
    "        \"PROGRAMA_ORIGINAL\", \n",
    "        \"PROGRAMA_ID\"\n",
    "        ]).agg(\n",
    "            pl.col(\"SUM Saldo_Contingente_Mn\").sum().alias(\"SALDO_MN\")\n",
    "        )\n",
    ")"
   ]
  },
  {
   "cell_type": "code",
   "execution_count": 67,
   "metadata": {},
   "outputs": [
    {
     "data": {
      "text/html": [
       "<div><style>\n",
       ".dataframe > thead > tr,\n",
       ".dataframe > tbody > tr {\n",
       "  text-align: right;\n",
       "  white-space: pre-wrap;\n",
       "}\n",
       "</style>\n",
       "<small>shape: (10, 2)</small><table border=\"1\" class=\"dataframe\"><thead><tr><th>Producto</th><th>SALDO_MN</th></tr><tr><td>str</td><td>f64</td></tr></thead><tbody><tr><td>&quot;EMPRESA MEDIANA&quot;</td><td>5.6700e8</td></tr><tr><td>&quot;GARANTIA EMPRESARIAL&quot;</td><td>8.5872e10</td></tr><tr><td>&quot;GARANTIAS BANCOMEXT&quot;</td><td>1.7804e10</td></tr><tr><td>&quot;GARANTIAS FEFA&quot;</td><td>4.3282e8</td></tr><tr><td>&quot;GARANTIA SECTORIAL&quot;</td><td>1.8809e10</td></tr><tr><td>&quot;GARANTIA EMERGENCIAS&quot;</td><td>4.7684e8</td></tr><tr><td>&quot;GARANTIA EMERGENTES&quot;</td><td>4.2845e6</td></tr><tr><td>&quot;GARANTIA FIANZA&quot;</td><td>4.8309e9</td></tr><tr><td>&quot;GARANTIA ESPECIAL&quot;</td><td>6.3411e7</td></tr><tr><td>&quot;GARANTIA SUBASTA&quot;</td><td>830523.326002</td></tr></tbody></table></div>"
      ],
      "text/plain": [
       "shape: (10, 2)\n",
       "┌──────────────────────┬───────────────┐\n",
       "│ Producto             ┆ SALDO_MN      │\n",
       "│ ---                  ┆ ---           │\n",
       "│ str                  ┆ f64           │\n",
       "╞══════════════════════╪═══════════════╡\n",
       "│ EMPRESA MEDIANA      ┆ 5.6700e8      │\n",
       "│ GARANTIA EMPRESARIAL ┆ 8.5872e10     │\n",
       "│ GARANTIAS BANCOMEXT  ┆ 1.7804e10     │\n",
       "│ GARANTIAS FEFA       ┆ 4.3282e8      │\n",
       "│ GARANTIA SECTORIAL   ┆ 1.8809e10     │\n",
       "│ GARANTIA EMERGENCIAS ┆ 4.7684e8      │\n",
       "│ GARANTIA EMERGENTES  ┆ 4.2845e6      │\n",
       "│ GARANTIA FIANZA      ┆ 4.8309e9      │\n",
       "│ GARANTIA ESPECIAL    ┆ 6.3411e7      │\n",
       "│ GARANTIA SUBASTA     ┆ 830523.326002 │\n",
       "└──────────────────────┴───────────────┘"
      ]
     },
     "execution_count": 67,
     "metadata": {},
     "output_type": "execute_result"
    }
   ],
   "source": [
    "# AgrupTaxo saldo total\n",
    "(\n",
    "    saldos_totales_vf\n",
    "    .group_by([\n",
    "        \"Producto\"\n",
    "        ]).agg(\n",
    "            pl.col(\"SUM Saldo_Contingente_Mn\").sum().alias(\"SALDO_MN\")\n",
    "        )\n",
    ")"
   ]
  },
  {
   "cell_type": "code",
   "execution_count": null,
   "metadata": {},
   "outputs": [
    {
     "data": {
      "text/html": [
       "<div><style>\n",
       ".dataframe > thead > tr,\n",
       ".dataframe > tbody > tr {\n",
       "  text-align: right;\n",
       "  white-space: pre-wrap;\n",
       "}\n",
       "</style>\n",
       "<small>shape: (1, 2)</small><table border=\"1\" class=\"dataframe\"><thead><tr><th>Producto</th><th>SALDO_MN</th></tr><tr><td>str</td><td>f64</td></tr></thead><tbody><tr><td>&quot;GARANTIAS BANCOMEXT&quot;</td><td>1.7804e10</td></tr></tbody></table></div>"
      ],
      "text/plain": [
       "shape: (1, 2)\n",
       "┌─────────────────────┬───────────┐\n",
       "│ Producto            ┆ SALDO_MN  │\n",
       "│ ---                 ┆ ---       │\n",
       "│ str                 ┆ f64       │\n",
       "╞═════════════════════╪═══════════╡\n",
       "│ GARANTIAS BANCOMEXT ┆ 1.7804e10 │\n",
       "└─────────────────────┴───────────┘"
      ]
     },
     "execution_count": 69,
     "metadata": {},
     "output_type": "execute_result"
    }
   ],
   "source": [
    "# AgrupTaxo saldo total resto\n",
    "(\n",
    "    saldos_totales_vf\n",
    "        .filter(\n",
    "            (pl.col(\"Producto\") == \"GARANTIAS BANCOMEXT\") |\n",
    "            (pl.col(\"Producto\") == \"GARANTIAS SHF-LI FINANCIERO\") |\n",
    "            (pl.col(\"Producto\") == \"GARANTIAS BANSEFI\") |\n",
    "            (pl.col(\"Razón Social (Intermediario)\") == \"FISO PARA EL AHORRO DE ENERGIA ELECTRICA (FASE II)\")\n",
    "        ).group_by([\n",
    "            \"Producto\"\n",
    "            ]).agg(\n",
    "            pl.col(\"SUM Saldo_Contingente_Mn\").sum().alias(\"SALDO_MN\")\n",
    "        )\n",
    ")"
   ]
  },
  {
   "cell_type": "code",
   "execution_count": 70,
   "metadata": {},
   "outputs": [
    {
     "data": {
      "text/html": [
       "<div><style>\n",
       ".dataframe > thead > tr,\n",
       ".dataframe > tbody > tr {\n",
       "  text-align: right;\n",
       "  white-space: pre-wrap;\n",
       "}\n",
       "</style>\n",
       "<small>shape: (9, 2)</small><table border=\"1\" class=\"dataframe\"><thead><tr><th>Producto</th><th>SALDO_MN</th></tr><tr><td>str</td><td>f64</td></tr></thead><tbody><tr><td>&quot;GARANTIA EMPRESARIAL&quot;</td><td>8.5872e10</td></tr><tr><td>&quot;GARANTIA EMERGENCIAS&quot;</td><td>4.7684e8</td></tr><tr><td>&quot;GARANTIA ESPECIAL&quot;</td><td>6.3411e7</td></tr><tr><td>&quot;GARANTIAS FEFA&quot;</td><td>4.3282e8</td></tr><tr><td>&quot;GARANTIA EMERGENTES&quot;</td><td>4.2845e6</td></tr><tr><td>&quot;GARANTIA SUBASTA&quot;</td><td>830523.326002</td></tr><tr><td>&quot;GARANTIA SECTORIAL&quot;</td><td>1.8809e10</td></tr><tr><td>&quot;EMPRESA MEDIANA&quot;</td><td>5.6700e8</td></tr><tr><td>&quot;GARANTIA FIANZA&quot;</td><td>4.8309e9</td></tr></tbody></table></div>"
      ],
      "text/plain": [
       "shape: (9, 2)\n",
       "┌──────────────────────┬───────────────┐\n",
       "│ Producto             ┆ SALDO_MN      │\n",
       "│ ---                  ┆ ---           │\n",
       "│ str                  ┆ f64           │\n",
       "╞══════════════════════╪═══════════════╡\n",
       "│ GARANTIA EMPRESARIAL ┆ 8.5872e10     │\n",
       "│ GARANTIA EMERGENCIAS ┆ 4.7684e8      │\n",
       "│ GARANTIA ESPECIAL    ┆ 6.3411e7      │\n",
       "│ GARANTIAS FEFA       ┆ 4.3282e8      │\n",
       "│ GARANTIA EMERGENTES  ┆ 4.2845e6      │\n",
       "│ GARANTIA SUBASTA     ┆ 830523.326002 │\n",
       "│ GARANTIA SECTORIAL   ┆ 1.8809e10     │\n",
       "│ EMPRESA MEDIANA      ┆ 5.6700e8      │\n",
       "│ GARANTIA FIANZA      ┆ 4.8309e9      │\n",
       "└──────────────────────┴───────────────┘"
      ]
     },
     "execution_count": 70,
     "metadata": {},
     "output_type": "execute_result"
    }
   ],
   "source": [
    "(\n",
    "    saldos_totales_vf\n",
    "    .filter(\n",
    "        (pl.col(\"Producto\") != \"GARANTIAS BANCOMEXT\") &\n",
    "        (pl.col(\"Producto\") != \"GARANTIAS SHF/LI FINANCIERO\") &\n",
    "        (pl.col(\"Producto\") != \"GARANTIAS BANSEFI\") &\n",
    "        (pl.col(\"Razón Social (Intermediario)\") != \"FISO PARA EL AHORRO DE ENERGIA ELECTRICA (FASE II)\")\n",
    "        ).group_by([\n",
    "            \"Producto\"\n",
    "            ]).agg(\n",
    "            pl.col(\"SUM Saldo_Contingente_Mn\").sum().alias(\"SALDO_MN\")\n",
    "        )\n",
    ")"
   ]
  }
 ],
 "metadata": {
  "kernelspec": {
   "display_name": ".venv",
   "language": "python",
   "name": "python3"
  },
  "language_info": {
   "codemirror_mode": {
    "name": "ipython",
    "version": 3
   },
   "file_extension": ".py",
   "mimetype": "text/x-python",
   "name": "python",
   "nbconvert_exporter": "python",
   "pygments_lexer": "ipython3",
   "version": "3.11.2"
  }
 },
 "nbformat": 4,
 "nbformat_minor": 2
}
