{
 "cells": [
  {
   "cell_type": "code",
   "execution_count": 3,
   "metadata": {},
   "outputs": [],
   "source": [
    "import polars as pl\n",
    "import pyodbc"
   ]
  },
  {
   "cell_type": "code",
   "execution_count": 4,
   "metadata": {},
   "outputs": [],
   "source": [
    "from IPython import get_ipython\n",
    "get_ipython().run_line_magic(\"run\", \"functions.ipynb\")"
   ]
  },
  {
   "cell_type": "code",
   "execution_count": null,
   "metadata": {},
   "outputs": [],
   "source": [
    "cierre = \"202502\"\n",
    "cierre_l = \"Feb25\"\n",
    "cierre_l2 = \"Febrero 2025\"\n",
    "\n",
    "# Carpetas\n",
    "path = \"E:/Users/jhernandezr/DAR/garantias/reporte/fotos/\"\n",
    "wd_data_raw = path + \"data/raw/\"\n",
    "wd_data_external = path + \"data/external/\"\n",
    "\n",
    "# Archivos\n",
    "fl_catalogos = wd_data_external + f'Catálogos_{cierre_l}.accdb'\n",
    "fl_base_vigentes_xl = wd_data_external + f'Base Vigente {cierre_l2}.xlsx'"
   ]
  },
  {
   "cell_type": "code",
   "execution_count": null,
   "metadata": {},
   "outputs": [],
   "source": [
    "base_vigente = pl.read_excel(fl_base_vigentes_xl,\n",
    "                    schema_overrides={\"tpro_clave_original\": pl.String, \n",
    "                                    \"tpro_clave\": pl.String})"
   ]
  },
  {
   "cell_type": "code",
   "execution_count": 43,
   "metadata": {},
   "outputs": [],
   "source": [
    "# Agregar archivos .accdb con ´sudo nano /etc/odbc.ini´\n",
    "dsn = \"Catalogos_Dic24\"\n",
    "user = \"\"\n",
    "password = \"\"\n",
    "\n",
    "conn = pyodbc.connect(f\"DSN={dsn};UID={user};PWD={password}\")\n",
    "cursor = conn.cursor()\n",
    "\n",
    "banco = pl.read_database(query='SELECT * FROM [BANCO]', connection=conn)\n",
    "agrupamiento = pl.read_database(query='SELECT * FROM [AGRUPAMIENTO]', connection=conn)\n",
    "programa = pl.read_database(query='SELECT * FROM [PROGRAMA]', connection=conn, schema_overrides={'PROGRAMA_ID': pl.Int128})\n",
    "garantia = pl.read_database(query='SELECT * FROM [GARANTIA]', connection=conn)\n",
    "tipo_credito = pl.read_database(query='SELECT * FROM [TIPO_CREDITO]', connection=conn, schema_overrides={'Tipo_Credito_ID': pl.Int32})\n",
    "\n",
    "\n",
    "conn.close()\n"
   ]
  },
  {
   "cell_type": "code",
   "execution_count": 11,
   "metadata": {},
   "outputs": [
    {
     "data": {
      "text/html": [
       "<div><style>\n",
       ".dataframe > thead > tr,\n",
       ".dataframe > tbody > tr {\n",
       "  text-align: right;\n",
       "  white-space: pre-wrap;\n",
       "}\n",
       "</style>\n",
       "<small>shape: (10, 3)</small><table border=\"1\" class=\"dataframe\"><thead><tr><th>Producto</th><th>Programa</th><th>Programa_SIAG</th></tr><tr><td>str</td><td>str</td><td>str</td></tr></thead><tbody><tr><td>&quot;EMPRESA MEDIANA&quot;</td><td>&quot;Mediana&quot;</td><td>&quot;EMPRESA MEDIANA&quot;</td></tr><tr><td>&quot;GARANTIA EMERGENTES&quot;</td><td>&quot;Emergencias&quot;</td><td>&quot;EMERGENTE&quot;</td></tr><tr><td>&quot;GARANTIA EMPRESARIAL&quot;</td><td>&quot;Empresarial&quot;</td><td>&quot;EMPRESARIAL&quot;</td></tr><tr><td>&quot;GARANTIA ESPECIAL&quot;</td><td>&quot;Especial&quot;</td><td>&quot;ESPECIAL&quot;</td></tr><tr><td>&quot;GARANTIA FIANZA&quot;</td><td>&quot;Fianzas&quot;</td><td>&quot;FIANZAS&quot;</td></tr><tr><td>&quot;GARANTIA MICROCREDITO&quot;</td><td>&quot;Microcrédito&quot;</td><td>&quot;MICROCREDITO&quot;</td></tr><tr><td>&quot;GARANTIA SECTORIAL&quot;</td><td>&quot;Sectorial&quot;</td><td>&quot;SECTORIAL&quot;</td></tr><tr><td>&quot;GARANTIA SELECTIVA&quot;</td><td>&quot;Selectiva&quot;</td><td>&quot;SELECTIVAS&quot;</td></tr><tr><td>&quot;GARANTIA SUBASTA&quot;</td><td>&quot;Subasta&quot;</td><td>&quot;SUBASTA&quot;</td></tr><tr><td>&quot;GARANTIAS FEFA&quot;</td><td>&quot;FEFA&quot;</td><td>&quot;FEFA&quot;</td></tr></tbody></table></div>"
      ],
      "text/plain": [
       "shape: (10, 3)\n",
       "┌───────────────────────┬──────────────┬─────────────────┐\n",
       "│ Producto              ┆ Programa     ┆ Programa_SIAG   │\n",
       "│ ---                   ┆ ---          ┆ ---             │\n",
       "│ str                   ┆ str          ┆ str             │\n",
       "╞═══════════════════════╪══════════════╪═════════════════╡\n",
       "│ EMPRESA MEDIANA       ┆ Mediana      ┆ EMPRESA MEDIANA │\n",
       "│ GARANTIA EMERGENTES   ┆ Emergencias  ┆ EMERGENTE       │\n",
       "│ GARANTIA EMPRESARIAL  ┆ Empresarial  ┆ EMPRESARIAL     │\n",
       "│ GARANTIA ESPECIAL     ┆ Especial     ┆ ESPECIAL        │\n",
       "│ GARANTIA FIANZA       ┆ Fianzas      ┆ FIANZAS         │\n",
       "│ GARANTIA MICROCREDITO ┆ Microcrédito ┆ MICROCREDITO    │\n",
       "│ GARANTIA SECTORIAL    ┆ Sectorial    ┆ SECTORIAL       │\n",
       "│ GARANTIA SELECTIVA    ┆ Selectiva    ┆ SELECTIVAS      │\n",
       "│ GARANTIA SUBASTA      ┆ Subasta      ┆ SUBASTA         │\n",
       "│ GARANTIAS FEFA        ┆ FEFA         ┆ FEFA            │\n",
       "└───────────────────────┴──────────────┴─────────────────┘"
      ]
     },
     "execution_count": 11,
     "metadata": {},
     "output_type": "execute_result"
    }
   ],
   "source": [
    "garantia"
   ]
  },
  {
   "cell_type": "code",
   "execution_count": 2,
   "metadata": {},
   "outputs": [
    {
     "ename": "NameError",
     "evalue": "name 'base_vigente' is not defined",
     "output_type": "error",
     "traceback": [
      "\u001b[31m---------------------------------------------------------------------------\u001b[39m",
      "\u001b[31mNameError\u001b[39m                                 Traceback (most recent call last)",
      "\u001b[36mCell\u001b[39m\u001b[36m \u001b[39m\u001b[32mIn[2]\u001b[39m\u001b[32m, line 2\u001b[39m\n\u001b[32m      1\u001b[39m mes = (\n\u001b[32m----> \u001b[39m\u001b[32m2\u001b[39m     \u001b[43mbase_vigente\u001b[49m\n\u001b[32m      3\u001b[39m     .join(tipo_credito.select([\n\u001b[32m      4\u001b[39m         \u001b[33m\"\u001b[39m\u001b[33mClave (Garantias)\u001b[39m\u001b[33m\"\u001b[39m,\n\u001b[32m      5\u001b[39m         \u001b[33m\"\u001b[39m\u001b[33mTipo_Credito_ID\u001b[39m\u001b[33m\"\u001b[39m\n\u001b[32m      6\u001b[39m     ]), left_on= \u001b[33m\"\u001b[39m\u001b[33mticr_clave\u001b[39m\u001b[33m\"\u001b[39m, right_on=\u001b[33m\"\u001b[39m\u001b[33mClave (Garantias)\u001b[39m\u001b[33m\"\u001b[39m, how=\u001b[33m'\u001b[39m\u001b[33mleft\u001b[39m\u001b[33m'\u001b[39m)\n\u001b[32m      7\u001b[39m \n\u001b[32m      8\u001b[39m )\n",
      "\u001b[31mNameError\u001b[39m: name 'base_vigente' is not defined"
     ]
    }
   ],
   "source": [
    "mes = (\n",
    "    base_vigente\n",
    "    .join(tipo_credito.select([\n",
    "        \"Clave (Garantias)\",\n",
    "        \"Tipo_Credito_ID\"\n",
    "    ]), left_on= \"ticr_clave\", right_on=\"Clave (Garantias)\", how='left')\n",
    "\n",
    ")"
   ]
  },
  {
   "cell_type": "code",
   "execution_count": 41,
   "metadata": {},
   "outputs": [
    {
     "data": {
      "text/html": [
       "<div><style>\n",
       ".dataframe > thead > tr,\n",
       ".dataframe > tbody > tr {\n",
       "  text-align: right;\n",
       "  white-space: pre-wrap;\n",
       "}\n",
       "</style>\n",
       "<small>shape: (123_726, 17)</small><table border=\"1\" class=\"dataframe\"><thead><tr><th>rfc</th><th>tipgar_clave</th><th>fecha_valor</th><th>plazo</th><th>inter_clave</th><th>tpro_clave</th><th>clave_credito</th><th>fecha_registro_garantia</th><th>ticr_clave</th><th>plazo_dias</th><th>tpro_clave_original</th><th>descripcion portafolio</th><th>SALDO GARANTIZADO</th><th>SALDO INDUCIDO</th><th>FISO</th><th>IF</th><th>Tipo_Credito_ID</th></tr><tr><td>str</td><td>i64</td><td>date</td><td>i64</td><td>i64</td><td>i64</td><td>str</td><td>date</td><td>i64</td><td>i64</td><td>i16</td><td>str</td><td>f64</td><td>f64</td><td>str</td><td>str</td><td>i32</td></tr></thead><tbody><tr><td>&quot;LOGA9105191I8&quot;</td><td>4</td><td>2015-10-08</td><td>127</td><td>73</td><td>1795</td><td>&quot;00740997009654479734&quot;</td><td>2015-11-25</td><td>14</td><td>23</td><td>null</td><td>&quot;SECTORIAL&quot;</td><td>5680.016</td><td>7100.02</td><td>&quot;1148&quot;</td><td>&quot;BBVA&quot;</td><td>25</td></tr><tr><td>&quot;HEMF670802D20&quot;</td><td>1</td><td>2015-01-22</td><td>120</td><td>626</td><td>3426</td><td>&quot;00000017784500215001&quot;</td><td>2016-07-15</td><td>53</td><td>9</td><td>null</td><td>&quot;EMPRESARIAL&quot;</td><td>4375.39</td><td>8750.78</td><td>&quot;1148&quot;</td><td>&quot;BANCA AFIRME&quot;</td><td>63</td></tr><tr><td>&quot;MAML941122JR7&quot;</td><td>4</td><td>2015-10-08</td><td>125</td><td>73</td><td>1795</td><td>&quot;00740997009837043457&quot;</td><td>2015-11-25</td><td>14</td><td>23</td><td>null</td><td>&quot;SECTORIAL&quot;</td><td>7436.48</td><td>9295.6</td><td>&quot;1148&quot;</td><td>&quot;BBVA&quot;</td><td>25</td></tr><tr><td>&quot;AAEL800413K80&quot;</td><td>4</td><td>2014-10-03</td><td>120</td><td>304</td><td>2542</td><td>&quot;22565&quot;</td><td>2014-10-13</td><td>42</td><td>0</td><td>null</td><td>&quot;EMERGENTE&quot;</td><td>12369.44</td><td>12369.44</td><td>&quot;1148&quot;</td><td>&quot;BAJIO&quot;</td><td>52</td></tr><tr><td>&quot;SARA930623&quot;</td><td>4</td><td>2015-03-06</td><td>120</td><td>17</td><td>2326</td><td>&quot;14506257&quot;</td><td>2015-08-31</td><td>19</td><td>0</td><td>null</td><td>&quot;SECTORIAL&quot;</td><td>10433.328</td><td>13041.66</td><td>&quot;1148&quot;</td><td>&quot;HSBC MEXICO&quot;</td><td>30</td></tr><tr><td>&hellip;</td><td>&hellip;</td><td>&hellip;</td><td>&hellip;</td><td>&hellip;</td><td>&hellip;</td><td>&hellip;</td><td>&hellip;</td><td>&hellip;</td><td>&hellip;</td><td>&hellip;</td><td>&hellip;</td><td>&hellip;</td><td>&hellip;</td><td>&hellip;</td><td>&hellip;</td><td>&hellip;</td></tr><tr><td>&quot;APC130228HK3&quot;</td><td>5</td><td>2024-09-17</td><td>36</td><td>12056</td><td>21452</td><td>&quot;902233_PASIVOS&quot;</td><td>2024-10-24</td><td>2</td><td>0</td><td>null</td><td>&quot;FEFA&quot;</td><td>2.1946e7</td><td>2.1946e7</td><td>&quot;1148&quot;</td><td>&quot;FEFA&quot;</td><td>2</td></tr><tr><td>&quot;FAS090113NW7&quot;</td><td>5</td><td>2024-09-17</td><td>36</td><td>12056</td><td>21452</td><td>&quot;902240_LIQUIDEZ&quot;</td><td>2024-10-24</td><td>3</td><td>0</td><td>null</td><td>&quot;FEFA&quot;</td><td>3.03e7</td><td>3.03e7</td><td>&quot;1148&quot;</td><td>&quot;FEFA&quot;</td><td>3</td></tr><tr><td>&quot;AFI080212N57&quot;</td><td>5</td><td>2024-11-15</td><td>36</td><td>12056</td><td>21452</td><td>&quot;918344_LIQUIDEZ&quot;</td><td>2024-12-31</td><td>3</td><td>0</td><td>null</td><td>&quot;FEFA&quot;</td><td>1.5e7</td><td>1.5e7</td><td>&quot;1148&quot;</td><td>&quot;FEFA&quot;</td><td>3</td></tr><tr><td>&quot;AFI080212N57&quot;</td><td>5</td><td>2024-11-15</td><td>36</td><td>12056</td><td>21452</td><td>&quot;918344_PASIVOS&quot;</td><td>2024-12-31</td><td>2</td><td>0</td><td>null</td><td>&quot;FEFA&quot;</td><td>2.6293e6</td><td>2.6293e6</td><td>&quot;1148&quot;</td><td>&quot;FEFA&quot;</td><td>2</td></tr><tr><td>null</td><td>null</td><td>null</td><td>null</td><td>null</td><td>null</td><td>null</td><td>null</td><td>null</td><td>null</td><td>null</td><td>null</td><td>1.1121e11</td><td>2.1109e11</td><td>null</td><td>null</td><td>null</td></tr></tbody></table></div>"
      ],
      "text/plain": [
       "shape: (123_726, 17)\n",
       "┌──────────────┬─────────────┬─────────────┬───────┬───┬─────────────┬──────┬────────┬─────────────┐\n",
       "│ rfc          ┆ tipgar_clav ┆ fecha_valor ┆ plazo ┆ … ┆ SALDO       ┆ FISO ┆ IF     ┆ Tipo_Credit │\n",
       "│ ---          ┆ e           ┆ ---         ┆ ---   ┆   ┆ INDUCIDO    ┆ ---  ┆ ---    ┆ o_ID        │\n",
       "│ str          ┆ ---         ┆ date        ┆ i64   ┆   ┆ ---         ┆ str  ┆ str    ┆ ---         │\n",
       "│              ┆ i64         ┆             ┆       ┆   ┆ f64         ┆      ┆        ┆ i32         │\n",
       "╞══════════════╪═════════════╪═════════════╪═══════╪═══╪═════════════╪══════╪════════╪═════════════╡\n",
       "│ LOGA9105191I ┆ 4           ┆ 2015-10-08  ┆ 127   ┆ … ┆ 7100.02     ┆ 1148 ┆ BBVA   ┆ 25          │\n",
       "│ 8            ┆             ┆             ┆       ┆   ┆             ┆      ┆        ┆             │\n",
       "│ HEMF670802D2 ┆ 1           ┆ 2015-01-22  ┆ 120   ┆ … ┆ 8750.78     ┆ 1148 ┆ BANCA  ┆ 63          │\n",
       "│ 0            ┆             ┆             ┆       ┆   ┆             ┆      ┆ AFIRME ┆             │\n",
       "│ MAML941122JR ┆ 4           ┆ 2015-10-08  ┆ 125   ┆ … ┆ 9295.6      ┆ 1148 ┆ BBVA   ┆ 25          │\n",
       "│ 7            ┆             ┆             ┆       ┆   ┆             ┆      ┆        ┆             │\n",
       "│ AAEL800413K8 ┆ 4           ┆ 2014-10-03  ┆ 120   ┆ … ┆ 12369.44    ┆ 1148 ┆ BAJIO  ┆ 52          │\n",
       "│ 0            ┆             ┆             ┆       ┆   ┆             ┆      ┆        ┆             │\n",
       "│ SARA930623   ┆ 4           ┆ 2015-03-06  ┆ 120   ┆ … ┆ 13041.66    ┆ 1148 ┆ HSBC   ┆ 30          │\n",
       "│              ┆             ┆             ┆       ┆   ┆             ┆      ┆ MEXICO ┆             │\n",
       "│ …            ┆ …           ┆ …           ┆ …     ┆ … ┆ …           ┆ …    ┆ …      ┆ …           │\n",
       "│ APC130228HK3 ┆ 5           ┆ 2024-09-17  ┆ 36    ┆ … ┆ 2.1946e7    ┆ 1148 ┆ FEFA   ┆ 2           │\n",
       "│ FAS090113NW7 ┆ 5           ┆ 2024-09-17  ┆ 36    ┆ … ┆ 3.03e7      ┆ 1148 ┆ FEFA   ┆ 3           │\n",
       "│ AFI080212N57 ┆ 5           ┆ 2024-11-15  ┆ 36    ┆ … ┆ 1.5e7       ┆ 1148 ┆ FEFA   ┆ 3           │\n",
       "│ AFI080212N57 ┆ 5           ┆ 2024-11-15  ┆ 36    ┆ … ┆ 2.6293e6    ┆ 1148 ┆ FEFA   ┆ 2           │\n",
       "│ null         ┆ null        ┆ null        ┆ null  ┆ … ┆ 2.1109e11   ┆ null ┆ null   ┆ null        │\n",
       "└──────────────┴─────────────┴─────────────┴───────┴───┴─────────────┴──────┴────────┴─────────────┘"
      ]
     },
     "execution_count": 41,
     "metadata": {},
     "output_type": "execute_result"
    }
   ],
   "source": [
    "mes"
   ]
  },
  {
   "cell_type": "code",
   "execution_count": 1,
   "metadata": {},
   "outputs": [
    {
     "ename": "NameError",
     "evalue": "name 'mes' is not defined",
     "output_type": "error",
     "traceback": [
      "\u001b[31m---------------------------------------------------------------------------\u001b[39m",
      "\u001b[31mNameError\u001b[39m                                 Traceback (most recent call last)",
      "\u001b[36mCell\u001b[39m\u001b[36m \u001b[39m\u001b[32mIn[1]\u001b[39m\u001b[32m, line 1\u001b[39m\n\u001b[32m----> \u001b[39m\u001b[32m1\u001b[39m saldos_mes = (\u001b[43mmes\u001b[49m\n\u001b[32m      2\u001b[39m     \u001b[38;5;66;03m#.filter(~pl.col(\"descripcion portafolio\").is_in([\"SUBASTA\", \"SELECTIVA\", \"SELECTIVAS\"]))\u001b[39;00m\n\u001b[32m      3\u001b[39m     .join(banco, left_on=\u001b[33m\"\u001b[39m\u001b[33minter_clave\u001b[39m\u001b[33m\"\u001b[39m, right_on=\u001b[33m\"\u001b[39m\u001b[33mIntermediario_ID_SIAG\u001b[39m\u001b[33m\"\u001b[39m, how=\u001b[33m\"\u001b[39m\u001b[33mleft\u001b[39m\u001b[33m\"\u001b[39m)\n\u001b[32m      4\u001b[39m     .with_columns(\n\u001b[32m      5\u001b[39m         pl.when(pl.col(\u001b[33m\"\u001b[39m\u001b[33mtpro_clave\u001b[39m\u001b[33m\"\u001b[39m).str.len_chars() <= \u001b[32m3\u001b[39m)\n\u001b[32m      6\u001b[39m         .then(\u001b[32m3000\u001b[39m + pl.col(\u001b[33m\"\u001b[39m\u001b[33mtpro_clave\u001b[39m\u001b[33m\"\u001b[39m).cast(pl.Int64))\n\u001b[32m      7\u001b[39m         .otherwise(\u001b[32m30000\u001b[39m + pl.col(\u001b[33m\"\u001b[39m\u001b[33mtpro_clave\u001b[39m\u001b[33m\"\u001b[39m).cast(pl.Int64))\n\u001b[32m      8\u001b[39m         .alias(\u001b[33m\"\u001b[39m\u001b[33mPrograma_Id\u001b[39m\u001b[33m\"\u001b[39m),\n\u001b[32m      9\u001b[39m         pl.when(pl.col(\u001b[33m\"\u001b[39m\u001b[33mtpro_clave_original\u001b[39m\u001b[33m\"\u001b[39m).str.len_chars() <= \u001b[32m3\u001b[39m)\n\u001b[32m     10\u001b[39m         .then(\u001b[32m3000\u001b[39m + pl.col(\u001b[33m\"\u001b[39m\u001b[33mtpro_clave_original\u001b[39m\u001b[33m\"\u001b[39m).cast(pl.Int64))\n\u001b[32m     11\u001b[39m         .otherwise(\u001b[32m30000\u001b[39m + pl.col(\u001b[33m\"\u001b[39m\u001b[33mtpro_clave_original\u001b[39m\u001b[33m\"\u001b[39m).cast(pl.Int64))\n\u001b[32m     12\u001b[39m         .fill_null(\u001b[32m3999\u001b[39m)\n\u001b[32m     13\u001b[39m         .alias(\u001b[33m\"\u001b[39m\u001b[33mPrograma_Original\u001b[39m\u001b[33m\"\u001b[39m))\n\u001b[32m     14\u001b[39m     .join(programa, left_on=\u001b[33m\"\u001b[39m\u001b[33mPrograma_Id\u001b[39m\u001b[33m\"\u001b[39m, right_on=\u001b[33m\"\u001b[39m\u001b[33mPROGRAMA_ID\u001b[39m\u001b[33m\"\u001b[39m, how=\u001b[33m\"\u001b[39m\u001b[33mleft\u001b[39m\u001b[33m\"\u001b[39m)\n\u001b[32m     15\u001b[39m     .with_columns(\n\u001b[32m     16\u001b[39m         pl.when(pl.col(\u001b[33m\"\u001b[39m\u001b[33mESQUEMA\u001b[39m\u001b[33m\"\u001b[39m) == \u001b[33m\"\u001b[39m\u001b[33m1P\u001b[39m\u001b[33m\"\u001b[39m).then(pl.lit(\u001b[33m\"\u001b[39m\u001b[33m1P\u001b[39m\u001b[33m\"\u001b[39m)).otherwise(pl.lit(\u001b[33m\"\u001b[39m\u001b[33mPP\u001b[39m\u001b[33m\"\u001b[39m)).alias(\u001b[33m\"\u001b[39m\u001b[33mESQUEMA\u001b[39m\u001b[33m\"\u001b[39m)\n\u001b[32m     17\u001b[39m     )\n\u001b[32m     18\u001b[39m     .join(garantia, left_on=\u001b[33m\"\u001b[39m\u001b[33mdescripcion portafolio\u001b[39m\u001b[33m\"\u001b[39m, right_on=\u001b[33m\"\u001b[39m\u001b[33mPrograma_SIAG\u001b[39m\u001b[33m\"\u001b[39m, how=\u001b[33m\"\u001b[39m\u001b[33mleft\u001b[39m\u001b[33m\"\u001b[39m)\n\u001b[32m     19\u001b[39m     .rename({\u001b[33m\"\u001b[39m\u001b[33mProducto\u001b[39m\u001b[33m\"\u001b[39m: \u001b[33m\"\u001b[39m\u001b[33mTaxonomia\u001b[39m\u001b[33m\"\u001b[39m})\n\u001b[32m     20\u001b[39m     .join(agrupamiento, left_on=\u001b[33m\"\u001b[39m\u001b[33mAGRUPAMIENTO_ID\u001b[39m\u001b[33m\"\u001b[39m, right_on=\u001b[33m\"\u001b[39m\u001b[33mAGRUPAMIENTO_ID\u001b[39m\u001b[33m\"\u001b[39m, how=\u001b[33m\"\u001b[39m\u001b[33mleft\u001b[39m\u001b[33m\"\u001b[39m)\n\u001b[32m     21\u001b[39m )\n\u001b[32m     23\u001b[39m saldos_mes\n",
      "\u001b[31mNameError\u001b[39m: name 'mes' is not defined"
     ]
    }
   ],
   "source": [
    "saldos_mes = (mes\n",
    "    #.filter(~pl.col(\"descripcion portafolio\").is_in([\"SUBASTA\", \"SELECTIVA\", \"SELECTIVAS\"]))\n",
    "    .join(banco, left_on=\"inter_clave\", right_on=\"Intermediario_ID_SIAG\", how=\"left\")\n",
    "    .with_columns(\n",
    "        pl.when(pl.col(\"tpro_clave\").str.len_chars() <= 3)\n",
    "        .then(3000 + pl.col(\"tpro_clave\").cast(pl.Int64))\n",
    "        .otherwise(30000 + pl.col(\"tpro_clave\").cast(pl.Int64))\n",
    "        .alias(\"Programa_Id\"),\n",
    "        pl.when(pl.col(\"tpro_clave_original\").str.len_chars() <= 3)\n",
    "        .then(3000 + pl.col(\"tpro_clave_original\").cast(pl.Int64))\n",
    "        .otherwise(30000 + pl.col(\"tpro_clave_original\").cast(pl.Int64))\n",
    "        .fill_null(3999)\n",
    "        .alias(\"Programa_Original\"))\n",
    "    .join(programa, left_on=\"Programa_Id\", right_on=\"PROGRAMA_ID\", how=\"left\")\n",
    "    .with_columns(\n",
    "        pl.when(pl.col(\"ESQUEMA\") == \"1P\").then(pl.lit(\"1P\")).otherwise(pl.lit(\"PP\")).alias(\"ESQUEMA\")\n",
    "    )\n",
    "    .join(garantia, left_on=\"descripcion portafolio\", right_on=\"Programa_SIAG\", how=\"left\")\n",
    "    .rename({\"Producto\": \"Taxonomia\"})\n",
    "    .join(agrupamiento, left_on=\"AGRUPAMIENTO_ID\", right_on=\"AGRUPAMIENTO_ID\", how=\"left\")\n",
    ")\n",
    "\n",
    "saldos_mes"
   ]
  },
  {
   "cell_type": "code",
   "execution_count": 49,
   "metadata": {},
   "outputs": [
    {
     "data": {
      "text/html": [
       "<div><style>\n",
       ".dataframe > thead > tr,\n",
       ".dataframe > tbody > tr {\n",
       "  text-align: right;\n",
       "  white-space: pre-wrap;\n",
       "}\n",
       "</style>\n",
       "<small>shape: (10, 3)</small><table border=\"1\" class=\"dataframe\"><thead><tr><th>Producto</th><th>Programa</th><th>Programa_SIAG</th></tr><tr><td>str</td><td>str</td><td>str</td></tr></thead><tbody><tr><td>&quot;EMPRESA MEDIANA&quot;</td><td>&quot;Mediana&quot;</td><td>&quot;EMPRESA MEDIANA&quot;</td></tr><tr><td>&quot;GARANTIA EMERGENTES&quot;</td><td>&quot;Emergencias&quot;</td><td>&quot;EMERGENTE&quot;</td></tr><tr><td>&quot;GARANTIA EMPRESARIAL&quot;</td><td>&quot;Empresarial&quot;</td><td>&quot;EMPRESARIAL&quot;</td></tr><tr><td>&quot;GARANTIA ESPECIAL&quot;</td><td>&quot;Especial&quot;</td><td>&quot;ESPECIAL&quot;</td></tr><tr><td>&quot;GARANTIA FIANZA&quot;</td><td>&quot;Fianzas&quot;</td><td>&quot;FIANZAS&quot;</td></tr><tr><td>&quot;GARANTIA MICROCREDITO&quot;</td><td>&quot;Microcrédito&quot;</td><td>&quot;MICROCREDITO&quot;</td></tr><tr><td>&quot;GARANTIA SECTORIAL&quot;</td><td>&quot;Sectorial&quot;</td><td>&quot;SECTORIAL&quot;</td></tr><tr><td>&quot;GARANTIA SELECTIVA&quot;</td><td>&quot;Selectiva&quot;</td><td>&quot;SELECTIVAS&quot;</td></tr><tr><td>&quot;GARANTIA SUBASTA&quot;</td><td>&quot;Subasta&quot;</td><td>&quot;SUBASTA&quot;</td></tr><tr><td>&quot;GARANTIAS FEFA&quot;</td><td>&quot;FEFA&quot;</td><td>&quot;FEFA&quot;</td></tr></tbody></table></div>"
      ],
      "text/plain": [
       "shape: (10, 3)\n",
       "┌───────────────────────┬──────────────┬─────────────────┐\n",
       "│ Producto              ┆ Programa     ┆ Programa_SIAG   │\n",
       "│ ---                   ┆ ---          ┆ ---             │\n",
       "│ str                   ┆ str          ┆ str             │\n",
       "╞═══════════════════════╪══════════════╪═════════════════╡\n",
       "│ EMPRESA MEDIANA       ┆ Mediana      ┆ EMPRESA MEDIANA │\n",
       "│ GARANTIA EMERGENTES   ┆ Emergencias  ┆ EMERGENTE       │\n",
       "│ GARANTIA EMPRESARIAL  ┆ Empresarial  ┆ EMPRESARIAL     │\n",
       "│ GARANTIA ESPECIAL     ┆ Especial     ┆ ESPECIAL        │\n",
       "│ GARANTIA FIANZA       ┆ Fianzas      ┆ FIANZAS         │\n",
       "│ GARANTIA MICROCREDITO ┆ Microcrédito ┆ MICROCREDITO    │\n",
       "│ GARANTIA SECTORIAL    ┆ Sectorial    ┆ SECTORIAL       │\n",
       "│ GARANTIA SELECTIVA    ┆ Selectiva    ┆ SELECTIVAS      │\n",
       "│ GARANTIA SUBASTA      ┆ Subasta      ┆ SUBASTA         │\n",
       "│ GARANTIAS FEFA        ┆ FEFA         ┆ FEFA            │\n",
       "└───────────────────────┴──────────────┴─────────────────┘"
      ]
     },
     "execution_count": 49,
     "metadata": {},
     "output_type": "execute_result"
    }
   ],
   "source": [
    "garantia"
   ]
  }
 ],
 "metadata": {
  "kernelspec": {
   "display_name": ".venv",
   "language": "python",
   "name": "python3"
  },
  "language_info": {
   "codemirror_mode": {
    "name": "ipython",
    "version": 3
   },
   "file_extension": ".py",
   "mimetype": "text/x-python",
   "name": "python",
   "nbconvert_exporter": "python",
   "pygments_lexer": "ipython3",
   "version": "3.13.2"
  }
 },
 "nbformat": 4,
 "nbformat_minor": 2
}
