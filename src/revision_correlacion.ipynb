{
 "cells": [
  {
   "cell_type": "code",
   "execution_count": 2,
   "id": "421b7375",
   "metadata": {},
   "outputs": [],
   "source": [
    "import polars as pl\n",
    "import pyodbc"
   ]
  },
  {
   "cell_type": "code",
   "execution_count": 4,
   "id": "2f577fdd",
   "metadata": {},
   "outputs": [],
   "source": [
    "wd = \"E:/Users/jhernandezr/OneDrive - Nacional Financiera, S.N.C/Archivos de Itzel Romo Cruz - Garantías/Producto Nafin/Análisis spread/\"\n",
    "wd_foto = \"E:/Users/jhernandezr/OneDrive - Nacional Financiera, S.N.C/Archivos de Itzel Romo Cruz - Garantías/Reporte/2024/2024_06/\"\n",
    "\n",
    "fl_spread = wd + \"Análisis_Spread_202506.xlsx\"\n",
    "fl_spread_ant = wd + \"Análisis_Spread_202406.xlsx\"\n",
    "fl_spread_ant_access = wd_foto + \"FOTOS_R-NR_Jun24.accdb\""
   ]
  },
  {
   "cell_type": "code",
   "execution_count": null,
   "id": "b0b6feaf",
   "metadata": {},
   "outputs": [],
   "source": []
  },
  {
   "cell_type": "markdown",
   "id": "41ef57f7",
   "metadata": {},
   "source": [
    "### Importar y exportar access to csv"
   ]
  },
  {
   "cell_type": "code",
   "execution_count": null,
   "id": "9633ac7f",
   "metadata": {},
   "outputs": [],
   "source": [
    "sql = \"\"\"\n",
    "SELECT \n",
    " FOTOS.FECHA_VALOR, \n",
    " FOTOS.BANCO, \n",
    " FOTOS.BUCKET, \n",
    " FOTOS.Tasa_Id, \n",
    " FOTOS.Tasa_Interes, \n",
    " FOTOS.[SALDO (MDP)] AS SALDO_MDP, \n",
    " FOTOS.[MONTO CREDITO (MDP)] AS MONTO_CREDITO_MDP, \n",
    " FOTOS.[MGI (MDP)] AS MGI_MDP, \n",
    " FOTOS.[MPAGADO (MDP)] AS M_PAGADO_MDP, \n",
    " FOTOS.[RECUPERADOS (MDP)] AS M_RECUPERADO_MDP, \n",
    " FOTOS.[RESCATADOS (MDP)] AS M_RESCATADO_MDP, \n",
    " FOTOS.PLAZO,\n",
    " FOTOS.PORCENTAJE_COMISION_GARANTIA,\n",
    " FOTOS.ESTADO_ID,\n",
    " FOTOS.DESCRIBE_DESREC,\n",
    " FOTOS.ESTRATO_ID,\n",
    " FOTOS.SECTOR_ID\n",
    "FROM \n",
    "(SELECT * \n",
    "FROM Foto_VF\n",
    "WHERE AGRUPAMIENTO_ID = 10000)  AS FOTOS ;\n",
    "\"\"\"\n",
    "\n",
    "def read_access(file, sql):\n",
    "    conn_str = r\"DRIVER={Microsoft Access Driver (*.mdb, *.accdb)};DBQ=\" + file\n",
    "    conn = pyodbc.connect(conn_str)\n",
    "    df = pl.read_database(query=sql, connection=conn)\n",
    "    conn.close()\n",
    "    return df\n",
    "\n",
    "df2 = read_access(fl_spread_ant_access, sql)\n",
    "df2.write_csv(\"pn2.csv\")"
   ]
  },
  {
   "cell_type": "code",
   "execution_count": null,
   "id": "786089be",
   "metadata": {},
   "outputs": [],
   "source": []
  },
  {
   "cell_type": "code",
   "execution_count": 5,
   "id": "c0f42093",
   "metadata": {},
   "outputs": [
    {
     "name": "stderr",
     "output_type": "stream",
     "text": [
      "Could not determine dtype for column 23, falling back to string\n",
      "Could not determine dtype for column 24, falling back to string\n"
     ]
    }
   ],
   "source": [
    "df = pl.read_excel(fl_spread, sheet_name=\"Datos\")\n",
    "df = df[:,:-2]"
   ]
  },
  {
   "cell_type": "code",
   "execution_count": 6,
   "id": "e148df17",
   "metadata": {},
   "outputs": [
    {
     "name": "stderr",
     "output_type": "stream",
     "text": [
      "Could not determine dtype for column 5, falling back to string\n",
      "Could not determine dtype for column 23, falling back to string\n",
      "Could not determine dtype for column 24, falling back to string\n"
     ]
    }
   ],
   "source": [
    "df3 = pl.read_excel(fl_spread_ant, sheet_name=\"Datos\")\n",
    "df3 = df3[:,:-2]"
   ]
  },
  {
   "cell_type": "code",
   "execution_count": null,
   "id": "47a96f39",
   "metadata": {},
   "outputs": [],
   "source": []
  },
  {
   "cell_type": "code",
   "execution_count": 7,
   "id": "c1a831d8",
   "metadata": {},
   "outputs": [
    {
     "data": {
      "text/html": [
       "<div><style>\n",
       ".dataframe > thead > tr,\n",
       ".dataframe > tbody > tr {\n",
       "  text-align: right;\n",
       "  white-space: pre-wrap;\n",
       "}\n",
       "</style>\n",
       "<small>shape: (5, 3)</small><table border=\"1\" class=\"dataframe\"><thead><tr><th>BUCKET</th><th>spread</th><th>PO</th></tr><tr><td>i64</td><td>f64</td><td>f64</td></tr></thead><tbody><tr><td>1</td><td>0.04435</td><td>0.039237</td></tr><tr><td>3</td><td>0.088004</td><td>0.054659</td></tr><tr><td>5</td><td>0.186573</td><td>0.065553</td></tr><tr><td>4</td><td>0.121495</td><td>0.068638</td></tr><tr><td>2</td><td>0.064204</td><td>0.040208</td></tr></tbody></table></div>"
      ],
      "text/plain": [
       "shape: (5, 3)\n",
       "┌────────┬──────────┬──────────┐\n",
       "│ BUCKET ┆ spread   ┆ PO       │\n",
       "│ ---    ┆ ---      ┆ ---      │\n",
       "│ i64    ┆ f64      ┆ f64      │\n",
       "╞════════╪══════════╪══════════╡\n",
       "│ 1      ┆ 0.04435  ┆ 0.039237 │\n",
       "│ 3      ┆ 0.088004 ┆ 0.054659 │\n",
       "│ 5      ┆ 0.186573 ┆ 0.065553 │\n",
       "│ 4      ┆ 0.121495 ┆ 0.068638 │\n",
       "│ 2      ┆ 0.064204 ┆ 0.040208 │\n",
       "└────────┴──────────┴──────────┘"
      ]
     },
     "execution_count": 7,
     "metadata": {},
     "output_type": "execute_result"
    }
   ],
   "source": [
    "# Correlacion General\n",
    "(df.filter(pl.col(\"SALDO_MDP\")==0)\n",
    " .group_by(\"BUCKET\")\n",
    " .agg(\n",
    "     pl.col(\"SPREAD\").mean().alias(\"spread\"),\n",
    "     pl.col(\"PO\").mean().alias(\"PO\"))\n",
    " #.select([\"spread\", \"PO\"]).corr()\n",
    " #.select(\"PO\")[0].item()\n",
    " )"
   ]
  },
  {
   "cell_type": "code",
   "execution_count": 63,
   "id": "c3e467c2",
   "metadata": {},
   "outputs": [
    {
     "data": {
      "text/plain": [
       "0.8999494713839442"
      ]
     },
     "execution_count": 63,
     "metadata": {},
     "output_type": "execute_result"
    }
   ],
   "source": [
    "(df3.filter(pl.col(\"SALDO_MDP\")==0)\n",
    " .group_by(\"BUCKET\")\n",
    " .agg(\n",
    "     pl.col(\"SPREAD\").mean().alias(\"spread\"),\n",
    "     pl.col(\"PO\").mean().alias(\"PO\"))\n",
    " .select([\"spread\", \"PO\"]).corr()\n",
    " .select(\"PO\")[0].item()\n",
    " )"
   ]
  },
  {
   "cell_type": "code",
   "execution_count": 26,
   "id": "229cf732",
   "metadata": {},
   "outputs": [
    {
     "data": {
      "text/html": [
       "<div><style>\n",
       ".dataframe > thead > tr,\n",
       ".dataframe > tbody > tr {\n",
       "  text-align: right;\n",
       "  white-space: pre-wrap;\n",
       "}\n",
       "</style>\n",
       "<small>shape: (2, 2)</small><table border=\"1\" class=\"dataframe\"><thead><tr><th>spread</th><th>PO</th></tr><tr><td>f64</td><td>f64</td></tr></thead><tbody><tr><td>1.0</td><td>-0.359512</td></tr><tr><td>-0.359512</td><td>1.0</td></tr></tbody></table></div>"
      ],
      "text/plain": [
       "shape: (2, 2)\n",
       "┌───────────┬───────────┐\n",
       "│ spread    ┆ PO        │\n",
       "│ ---       ┆ ---       │\n",
       "│ f64       ┆ f64       │\n",
       "╞═══════════╪═══════════╡\n",
       "│ 1.0       ┆ -0.359512 │\n",
       "│ -0.359512 ┆ 1.0       │\n",
       "└───────────┴───────────┘"
      ]
     },
     "execution_count": 26,
     "metadata": {},
     "output_type": "execute_result"
    }
   ],
   "source": [
    "def calcula_correlacion(df, banco=\"\"):\n",
    "\n",
    "    if banco != \"\":\n",
    "        df = df.filter(pl.col(\"BANCO\")==banco)#.filter(pl.col(\"SALDO_MDP\")==0)\n",
    "\n",
    "\n",
    "    corr = (df\n",
    "    .group_by(\"BUCKET\")\n",
    "    .agg(\n",
    "        pl.col(\"SPREAD\").mean().alias(\"spread\"),\n",
    "        pl.col(\"PO\").mean().alias(\"PO\"))\n",
    "    .select([\"spread\", \"PO\"]).corr()\n",
    "    #.select(\"PO\")[0].item()\n",
    "    )\n",
    "    return corr\n",
    "\n",
    "calcula_correlacion(df, \"BBV BANCOMER\")"
   ]
  },
  {
   "cell_type": "code",
   "execution_count": 29,
   "id": "59b0c80a",
   "metadata": {},
   "outputs": [],
   "source": [
    "def spread_por_bucket(df, banco=\"\"):\n",
    "\n",
    "\n",
    "    corr = (df\n",
    "    .group_by([\"BANCO\",\"BUCKET\"])\n",
    "    .agg(\n",
    "        pl.col(\"SPREAD\").mean().alias(\"spread\"),\n",
    "        pl.col(\"PO\").mean().alias(\"PO\"))\n",
    "    #.select([\"BUCKET\", \"PO\"]).corr()\n",
    "    #.select(\"PO\")[0].item()\n",
    "    ).sort([\"BANCO\", \"BUCKET\"])\n",
    "    return corr\n",
    "\n",
    "spread_po = spread_por_bucket(df3)"
   ]
  },
  {
   "cell_type": "code",
   "execution_count": 30,
   "id": "f108fc45",
   "metadata": {},
   "outputs": [],
   "source": [
    "spread_po.write_csv(\"spread_po_2024.csv\")"
   ]
  },
  {
   "cell_type": "code",
   "execution_count": 21,
   "id": "d088c5ac",
   "metadata": {},
   "outputs": [],
   "source": [
    "(df\n",
    " .group_by(\"BANCO\")\n",
    " .agg(\n",
    "     pl.col(\"SALDO_MDP\").sum(),\n",
    "     pl.col(\"MGI_MDP\").sum(),\n",
    "     pl.col(\"M_PAGADO_MDP\").sum(),\n",
    "     pl.col(\"PO\").mean(),\n",
    "     pl.col(\"SPREAD\").mean()\n",
    " )\n",
    " ).write_csv(\"saldos.csv\")"
   ]
  },
  {
   "cell_type": "code",
   "execution_count": 59,
   "id": "675b0ebb",
   "metadata": {},
   "outputs": [
    {
     "name": "stdout",
     "output_type": "stream",
     "text": [
      "BANAMEX :  -0.5301250406879578 ;\n",
      "BANCA AFIRME :  0.7755522554406108 ;\n",
      "BANCA MIFEL :  -0.3881741226270517 ;\n",
      "BANCO DEL BAJIO :  0.7701219799125647 ;\n",
      "BANCO INVERLAT MEXICO BROKER :  -0.27035732849682964 ;\n",
      "BANCO MERCANTIL DEL NORTE :  -0.13121905646196513 ;\n",
      "BANCO MULTIVA SA DE CV :  0.9946066711686606 ;\n",
      "BANCO REGIONAL DE MONTERREY :  0.67654077863017 ;\n",
      "BANCO SANTANDER :  0.9858192864243968 ;\n",
      "BANCO VE POR MAS :  -0.9999999999999999 ;\n",
      "BANCOPPEL SA INSTITUCION DE BANCA MULTIPLE :  -0.8468336186604299 ;\n",
      "BANSI SA :  -1.0 ;\n",
      "BBV BANCOMER :  -0.4660941613304094 ;\n",
      "FINANCIERA BAJIO SA DE CV :  0.9180639892661828 ;\n",
      "HSBC MEXICO :  0.9018688085046442 ;\n"
     ]
    }
   ],
   "source": [
    "bancos = [\n",
    "    #'AF BANREGIO (SOFOM)',\n",
    "    'BANAMEX',\n",
    "    'BANCA AFIRME',\n",
    "    'BANCA MIFEL',\n",
    "    #'BANCO AHORRO FAMSA SA INSTITUCION BANCARIA',\n",
    "    'BANCO DEL BAJIO',\n",
    "    'BANCO INVERLAT MEXICO BROKER',\n",
    "    'BANCO MERCANTIL DEL NORTE',\n",
    "    'BANCO MULTIVA SA DE CV',\n",
    "    'BANCO REGIONAL DE MONTERREY',\n",
    "    'BANCO SANTANDER',\n",
    "    'BANCO VE POR MAS',\n",
    "    'BANCOPPEL SA INSTITUCION DE BANCA MULTIPLE',\n",
    "    'BANSI SA',\n",
    "    'BBV BANCOMER',\n",
    "    'FINANCIERA BAJIO SA DE CV',\n",
    "    'HSBC MEXICO'\n",
    "]\n",
    "for banco in bancos:\n",
    "    print(banco, \": \", calcula_correlacion(df, banco), \";\")"
   ]
  },
  {
   "cell_type": "code",
   "execution_count": 60,
   "id": "c101e411",
   "metadata": {},
   "outputs": [
    {
     "name": "stdout",
     "output_type": "stream",
     "text": [
      "BANAMEX :  -0.6063483460396376 ;\n",
      "BANCA AFIRME :  0.8595359389873057 ;\n",
      "BANCA MIFEL :  0.11114951843078982 ;\n",
      "BANCO DEL BAJIO :  0.7655036537656684 ;\n",
      "BANCO INVERLAT MEXICO BROKER :  0.01824020250422989 ;\n",
      "BANCO MERCANTIL DEL NORTE :  -0.31304288865961705 ;\n",
      "BANCO MULTIVA SA DE CV :  0.9969644728445411 ;\n",
      "BANCO REGIONAL DE MONTERREY :  0.628744994701132 ;\n",
      "BANCO SANTANDER :  0.9795166653631994 ;\n",
      "BANCO VE POR MAS :  -1.0 ;\n",
      "BANCOPPEL SA INSTITUCION DE BANCA MULTIPLE :  -0.8176303485108952 ;\n",
      "BANSI SA :  -1.0 ;\n",
      "BBV BANCOMER :  0.36914563769513214 ;\n",
      "FINANCIERA BAJIO SA DE CV :  0.7050306169980757 ;\n",
      "HSBC MEXICO :  0.8444615125906381 ;\n"
     ]
    }
   ],
   "source": [
    "for banco in bancos:\n",
    "    print(banco, \": \", calcula_correlacion(df3, banco), \";\")"
   ]
  },
  {
   "cell_type": "code",
   "execution_count": 39,
   "id": "aaea811d",
   "metadata": {},
   "outputs": [
    {
     "data": {
      "text/html": [
       "<div><style>\n",
       ".dataframe > thead > tr,\n",
       ".dataframe > tbody > tr {\n",
       "  text-align: right;\n",
       "  white-space: pre-wrap;\n",
       "}\n",
       "</style>\n",
       "<small>shape: (5, 2)</small><table border=\"1\" class=\"dataframe\"><thead><tr><th>BUCKET</th><th>PO</th></tr><tr><td>i64</td><td>f64</td></tr></thead><tbody><tr><td>1</td><td>0.021118</td></tr><tr><td>2</td><td>0.023644</td></tr><tr><td>3</td><td>0.037071</td></tr><tr><td>4</td><td>0.047197</td></tr><tr><td>5</td><td>0.041837</td></tr></tbody></table></div>"
      ],
      "text/plain": [
       "shape: (5, 2)\n",
       "┌────────┬──────────┐\n",
       "│ BUCKET ┆ PO       │\n",
       "│ ---    ┆ ---      │\n",
       "│ i64    ┆ f64      │\n",
       "╞════════╪══════════╡\n",
       "│ 1      ┆ 0.021118 │\n",
       "│ 2      ┆ 0.023644 │\n",
       "│ 3      ┆ 0.037071 │\n",
       "│ 4      ┆ 0.047197 │\n",
       "│ 5      ┆ 0.041837 │\n",
       "└────────┴──────────┘"
      ]
     },
     "execution_count": 39,
     "metadata": {},
     "output_type": "execute_result"
    }
   ],
   "source": [
    "(df3\n",
    ".group_by(\"BUCKET\")\n",
    ".agg(\n",
    "    #pl.col(\"SPREAD\").mean().alias(\"spread\"),\n",
    "    pl.col(\"PO\").mean().alias(\"PO\"))\n",
    "#.select([\"spread\", \"PO\"]).corr()\n",
    "#.select(\"PO\")[0].item()\n",
    ").sort(\"BUCKET\")"
   ]
  },
  {
   "cell_type": "code",
   "execution_count": 40,
   "id": "94f20021",
   "metadata": {},
   "outputs": [
    {
     "data": {
      "text/html": [
       "<div><style>\n",
       ".dataframe > thead > tr,\n",
       ".dataframe > tbody > tr {\n",
       "  text-align: right;\n",
       "  white-space: pre-wrap;\n",
       "}\n",
       "</style>\n",
       "<small>shape: (5, 2)</small><table border=\"1\" class=\"dataframe\"><thead><tr><th>BUCKET</th><th>PO</th></tr><tr><td>i64</td><td>f64</td></tr></thead><tbody><tr><td>1</td><td>0.025174</td></tr><tr><td>2</td><td>0.025145</td></tr><tr><td>3</td><td>0.037843</td></tr><tr><td>4</td><td>0.046923</td></tr><tr><td>5</td><td>0.040189</td></tr></tbody></table></div>"
      ],
      "text/plain": [
       "shape: (5, 2)\n",
       "┌────────┬──────────┐\n",
       "│ BUCKET ┆ PO       │\n",
       "│ ---    ┆ ---      │\n",
       "│ i64    ┆ f64      │\n",
       "╞════════╪══════════╡\n",
       "│ 1      ┆ 0.025174 │\n",
       "│ 2      ┆ 0.025145 │\n",
       "│ 3      ┆ 0.037843 │\n",
       "│ 4      ┆ 0.046923 │\n",
       "│ 5      ┆ 0.040189 │\n",
       "└────────┴──────────┘"
      ]
     },
     "execution_count": 40,
     "metadata": {},
     "output_type": "execute_result"
    }
   ],
   "source": [
    "(df\n",
    ".group_by(\"BUCKET\")\n",
    ".agg(\n",
    "    #pl.col(\"SPREAD\").mean().alias(\"spread\"),\n",
    "    pl.col(\"PO\").mean().alias(\"PO\"))\n",
    "#.select([\"spread\", \"PO\"]).corr()\n",
    "#.select(\"PO\")[0].item()\n",
    ").sort(\"BUCKET\")"
   ]
  }
 ],
 "metadata": {
  "kernelspec": {
   "display_name": ".venv",
   "language": "python",
   "name": "python3"
  },
  "language_info": {
   "codemirror_mode": {
    "name": "ipython",
    "version": 3
   },
   "file_extension": ".py",
   "mimetype": "text/x-python",
   "name": "python",
   "nbconvert_exporter": "python",
   "pygments_lexer": "ipython3",
   "version": "3.13.2"
  }
 },
 "nbformat": 4,
 "nbformat_minor": 5
}
