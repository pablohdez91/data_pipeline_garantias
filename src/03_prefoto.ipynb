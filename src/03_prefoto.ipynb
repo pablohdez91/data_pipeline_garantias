{
 "cells": [
  {
   "cell_type": "code",
   "execution_count": 1,
   "id": "e7dffc44",
   "metadata": {},
   "outputs": [],
   "source": [
    "import polars as pl\n",
    "import pyodbc\n",
    "from datetime import date"
   ]
  },
  {
   "cell_type": "code",
   "execution_count": 2,
   "id": "d64272e1",
   "metadata": {},
   "outputs": [],
   "source": [
    "# import functions.common as fn"
   ]
  },
  {
   "cell_type": "markdown",
   "id": "3895961a",
   "metadata": {},
   "source": [
    "### Definición de Rutas"
   ]
  },
  {
   "cell_type": "code",
   "execution_count": 38,
   "id": "72b6651c",
   "metadata": {},
   "outputs": [],
   "source": [
    "cierre = \"202504\"\n",
    "cierre_l = \"Abr25\"\n",
    "cierre_d = date(2025,4,30)\n",
    "\n",
    "# Carpetas\n",
    "wd = \"E:/Users/jhernandezr/DAR/garantias/reporte/fotos/\"\n",
    "wd_data_raw = wd + \"data/raw/\"\n",
    "wd_data_external = wd + \"data/external/\"\n",
    "wd_data_processed_dwh = \"E:/Users/jhernandezr/DAR/garantias/data_pipeline_garantias/data/processed/DWH/\"\n",
    "wd_data_processed_fotos = \"E:/Users/jhernandezr/DAR/garantias/data_pipeline_garantias/data/processed/Fotos/\"\n",
    "wd_data_validations = \"E:/Users/jhernandezr/DAR/garantias/data_pipeline_garantias/data/validations/\"\n",
    "\n",
    "# Inputs\n",
    "fl_catalogos = wd_data_external + f'Catálogos_{cierre_l}'\n",
    "fl_cohortes_1 = wd_data_raw + f'Cohortes_{cierre}_1.mdb'\n",
    "fl_cohortes_2 = wd_data_raw + f'Cohortes_{cierre}_2.mdb'\n",
    "fl_cohortes_3 = wd_data_raw + f'Cohortes_{cierre}_3.mdb'\n",
    "fl_cohortes_4 = wd_data_raw + f'Cohortes_{cierre}_4.mdb'\n",
    "fl_cohortes_5 = wd_data_raw + f'Cohortes_{cierre}_5.mdb'\n",
    "fl_saldo_mgi = wd_data_raw + f'Saldo_MGI_{cierre}.mdb'\n",
    "fl_saldo_mgi_fianzas = wd_data_raw + f'Saldo_MGI_80686_{cierre}.mdb'\n",
    "\n",
    "# Outputs\n",
    "fl_bd_dwh_saldoymgi_vf = wd_data_processed_dwh + f'parquet/BD_DWH_SaldoyMGI_{cierre}_VF.parquet'\n",
    "fl_db_dwh_r = wd_data_processed_fotos + f'parquet/DB_DWH_R_{cierre}.parquet'\n",
    "fl_db_dwh_nr = wd_data_processed_fotos + f'parquet/DB_DWH_NR_{cierre}.parquet'\n",
    "\n",
    "fl_valida_r = wd_data_validations + f'Valida_R.csv'\n",
    "fl_valida_nr = wd_data_validations + f'Valida_NR.csv'\n",
    "fl_valida_agrup_nr = wd_data_validations + f'Valida_Agrup_NR.csv'\n",
    "fl_valida_agrup_r = wd_data_validations + f'Valida_Agrup_R.csv'\n"
   ]
  },
  {
   "cell_type": "code",
   "execution_count": 4,
   "id": "1f1ab3d4",
   "metadata": {},
   "outputs": [],
   "source": [
    "conn_str = r\"DRIVER={Microsoft Access Driver (*.mdb, *.accdb)};DBQ=\" + fl_catalogos + '.accdb'\n",
    "conn = pyodbc.connect(conn_str)\n",
    "tipo_credito = pl.read_database(query='SELECT * FROM [TIPO_CREDITO]', connection=conn, schema_overrides={'Tipo_Credito_ID': pl.Int32})\n",
    "conn.close()\n"
   ]
  },
  {
   "cell_type": "markdown",
   "id": "3b1c5c03",
   "metadata": {},
   "source": [
    "### 04 Carga BD"
   ]
  },
  {
   "cell_type": "code",
   "execution_count": 5,
   "id": "037f881d",
   "metadata": {},
   "outputs": [],
   "source": [
    "schema_cohortes = {\n",
    "        'BUCKET': pl.Int16,\n",
    "        'CONREC_CLAVE': pl.Int32,\n",
    "        'DESC_INDICADOR': pl.String,\n",
    "        'Describe_Desrec': pl.String,\n",
    "        'ESTADO_ID': pl.Int32,\n",
    "        'ESTRATO_ID': pl.Int16,\n",
    "        'FECHA_APERTURA': pl.Datetime,\n",
    "        'FECHA_PRIMER_INCUMPLIMIENTO': pl.Datetime,\n",
    "        'FECHA_REGISTRO_ALTA': pl.Datetime,\n",
    "        'INDICADOR_ID': pl.Int32,\n",
    "        'INTERMEDIARIO_ID': pl.String,\n",
    "        'NOMBRE_EMPRESA': pl.String,\n",
    "        'NUMERO_CREDITO': pl.String,\n",
    "        'PLAZO': pl.Int32,\n",
    "        'PLAZO_DIAS': pl.Int32,\n",
    "        'PORCENTAJE_COMISION_GARANTIA': pl.Float32,\n",
    "        'PORCENTAJE_GARANTIZADO': pl.Float32,\n",
    "        'PROGRAMA_ID': pl.Int32,\n",
    "        'PROGRAMA_ORIGINAL': pl.Int32,\n",
    "        'RAZON_SOCIAL': pl.String,\n",
    "        'RFC_EMPRESA': pl.String,\n",
    "        'SECTOR_ID': pl.Int16,\n",
    "        'TASA_ID': pl.Int16,\n",
    "        'TIPO_CREDITO_ID': pl.Int32,\n",
    "        'TIPO_GARANTIA_ID': pl.Int32,\n",
    "        'VALOR_TASA_INTERES': pl.Float32,\n",
    "        'MONTO_CREDITO_MN (SUMA)': pl.Float64\n",
    "}"
   ]
  },
  {
   "cell_type": "code",
   "execution_count": 6,
   "id": "ad871d6e",
   "metadata": {},
   "outputs": [],
   "source": [
    "def read_access(file, table, schema):\n",
    "    conn_str = r\"DRIVER={Microsoft Access Driver (*.mdb, *.accdb)};DBQ=\" + file\n",
    "    conn = pyodbc.connect(conn_str)\n",
    "    df = pl.read_database(query=f\"SELECT * FROM {table}\", connection=conn, schema_overrides=schema)\n",
    "    conn.close()\n",
    "    return df\n"
   ]
  },
  {
   "cell_type": "code",
   "execution_count": 7,
   "id": "5e9ef327",
   "metadata": {},
   "outputs": [],
   "source": [
    "def import_bd_dwh():\n",
    "    \"\"\"Importa y pega Cohortes\"\"\"\n",
    "\n",
    "    db_dwh = read_access(fl_cohortes_1, \"DATOS\", schema_cohortes)\n",
    "\n",
    "    cohortes = [\n",
    "        fl_cohortes_2,\n",
    "        fl_cohortes_3,\n",
    "        fl_cohortes_4,\n",
    "        fl_cohortes_5\n",
    "    ]\n",
    "\n",
    "    def import_db_dwh_(db_dwh, db):\n",
    "        aux = read_access(db, \"DATOS\", schema_cohortes)\n",
    "        db_dwh = pl.concat([db_dwh, aux], rechunk=True, how='diagonal')\n",
    "        return db_dwh\n",
    "\n",
    "\n",
    "    for db in cohortes:\n",
    "        db_dwh = import_db_dwh_(db_dwh, db)\n",
    "\n",
    "    return db_dwh\n",
    "\n",
    "db_dwh = import_bd_dwh()"
   ]
  },
  {
   "cell_type": "code",
   "execution_count": null,
   "id": "29ed13a1",
   "metadata": {},
   "outputs": [],
   "source": []
  },
  {
   "cell_type": "code",
   "execution_count": 8,
   "id": "787207a0",
   "metadata": {},
   "outputs": [],
   "source": [
    "def genera_dwh_nr_r(db_dwh):\n",
    "    db_dwh = (db_dwh\n",
    "            .join(tipo_credito, \n",
    "                    how=\"left\", \n",
    "                    left_on=\"TIPO_CREDITO_ID\", \n",
    "                    right_on=\"Tipo_Credito_ID\"\n",
    "                )\n",
    "            )\n",
    "    \n",
    "    db_dwh = db_dwh.select(\n",
    "        pl.col(\"BUCKET\"),\n",
    "        pl.col(\"DESC_INDICADOR\").alias(\"Producto\"),\n",
    "        pl.col(\"ESTADO_ID\"),\n",
    "        pl.col(\"ESTRATO_ID\"),\n",
    "        pl.col(\"FECHA_APERTURA\").alias(\"Fecha de Apertura\"),\n",
    "        pl.col(\"FECHA_PRIMER_INCUMPLIMIENTO\"),\n",
    "        pl.col(\"FECHA_REGISTRO_ALTA\").alias(\"Fecha Registro Alta\"),\n",
    "        pl.col(\"INDICADOR_ID\").alias(\"Producto ID\"),\n",
    "        pl.col(\"INTERMEDIARIO_ID\"),\n",
    "        pl.col(\"NOMBRE_EMPRESA\").alias(\"Empresa / Acreditado (Descripción)\"),\n",
    "        pl.col(\"NUMERO_CREDITO\"),\n",
    "        pl.col(\"PLAZO\"),\n",
    "        pl.col(\"PLAZO_DIAS\").alias(\"Plazo Días\"),\n",
    "        pl.col(\"PORCENTAJE_COMISION_GARANTIA\").alias(\"Porcentaje de Comisión Garantia\"),\n",
    "        pl.col(\"PORCENTAJE_GARANTIZADO\").alias(\"Porcentaje Garantizado\"),\n",
    "        pl.col(\"PROGRAMA_ID\"),\n",
    "        pl.col(\"PROGRAMA_ORIGINAL\"),\n",
    "        pl.col(\"RAZON_SOCIAL\").alias(\"Razón Social (Intermediario)\"),\n",
    "        pl.col(\"RFC_EMPRESA\").alias(\"RFC Empresa / Acreditado\"),\n",
    "        pl.col(\"SECTOR_ID\"),\n",
    "        pl.col(\"TASA_ID\"),\n",
    "        pl.col(\"TIPO_CREDITO_ID\"),\n",
    "        pl.col(\"TIPO_GARANTIA_ID\"),\n",
    "        pl.col(\"VALOR_TASA_INTERES\"),\n",
    "        pl.col(\"MONTO_CREDITO_MN (SUMA)\").alias(\"Monto _Credito_Mn\"),\n",
    "        pl.col(\"CONREC_CLAVE\"),\n",
    "        pl.col(\"Describe_Desrec\"),\n",
    "        pl.col(\"NR_R\")\n",
    "    )\n",
    "\n",
    "    db_dwh_r = db_dwh.filter(pl.col(\"NR_R\")==\"R\")\n",
    "    db_dwh_nr = db_dwh.filter(pl.col(\"NR_R\")==\"NR\")\n",
    "\n",
    "    return db_dwh_r, db_dwh_nr\n",
    "\n",
    "db_dwh_r, db_dwh_nr = genera_dwh_nr_r(db_dwh)\n",
    "del(db_dwh)"
   ]
  },
  {
   "cell_type": "code",
   "execution_count": 9,
   "id": "9d6086c4",
   "metadata": {},
   "outputs": [],
   "source": [
    "def generate_fvto(df):\n",
    "    result = (df\n",
    "        .with_columns(\n",
    "            (pl.col(\"Fecha de Apertura\") +\n",
    "            pl.duration(days=(365 * pl.col(\"PLAZO\") / 12).round()) + \n",
    "            pl.duration(days=(pl.col(\"Plazo Días\").fill_null(0)))\n",
    "            )\n",
    "            .alias(\"test\")))\n",
    "    return result\n",
    "\n",
    "db_dwh_r = generate_fvto(db_dwh_r)\n",
    "db_dwh_nr = generate_fvto(db_dwh_nr)"
   ]
  },
  {
   "cell_type": "code",
   "execution_count": 10,
   "id": "866f1546",
   "metadata": {},
   "outputs": [],
   "source": [
    "def genera_tpro_clave(df):\n",
    "    result = df.with_columns(\n",
    "        pl.when((pl.col(\"PROGRAMA_ID\")>=32000)&(pl.col(\"PROGRAMA_ID\")<=32100))\n",
    "        .then(pl.col(\"PROGRAMA_ID\"))\n",
    "        .when((pl.col(\"PROGRAMA_ID\")==3976)&(pl.col(\"PROGRAMA_ORIGINAL\")==31415))\n",
    "        .then(pl.col(\"PROGRAMA_ID\"))\n",
    "        .when((pl.col(\"PROGRAMA_ID\")==33366)&(pl.col(\"PROGRAMA_ORIGINAL\")==33842))\n",
    "        .then(pl.col(\"PROGRAMA_ID\"))\n",
    "        .when((pl.col(\"PROGRAMA_ID\").is_in([3536, 3537, 3539, 3542,3544, 3545, 3546,3547,3548,3549,3550, 3553, 3555, 3558,3559, 3560, 3564,3566]))&(pl.col(\"PROGRAMA_ORIGINAL\")==3200))\n",
    "        .then(pl.col(\"PROGRAMA_ID\"))\n",
    "        .when(pl.col(\"PROGRAMA_ORIGINAL\")==3999)\n",
    "        .then(\"PROGRAMA_ID\")\n",
    "        .otherwise(pl.col(\"PROGRAMA_ORIGINAL\")).alias(\"TPRO_CLAVE\")\n",
    "    )\n",
    "    return result\n",
    "\n",
    "db_dwh_r = genera_tpro_clave(db_dwh_r)\n",
    "db_dwh_nr = genera_tpro_clave(db_dwh_nr)"
   ]
  },
  {
   "cell_type": "code",
   "execution_count": 11,
   "id": "1b1ded20",
   "metadata": {},
   "outputs": [],
   "source": [
    "def genera_tipo_persona(df):\n",
    "    result = df.with_columns(\n",
    "        pl.when(pl.col(\"RFC Empresa / Acreditado\").str.slice(3, length=1) == \"-\")\n",
    "        .then(pl.lit(\"M\"))\n",
    "        .otherwise(pl.lit(\"F\")).alias(\"Tipo_Persona\")\n",
    "    )\n",
    "    return result\n",
    "\n",
    "db_dwh_r = genera_tipo_persona(db_dwh_r)\n",
    "db_dwh_nr = genera_tipo_persona(db_dwh_nr)"
   ]
  },
  {
   "cell_type": "code",
   "execution_count": 12,
   "id": "1569cdb7",
   "metadata": {},
   "outputs": [],
   "source": [
    "def genera_nombrev1(df):\n",
    "    result = (\n",
    "        df.with_columns(\n",
    "            pl.col(\"Empresa / Acreditado (Descripción)\").str.replace(\"'\", \"\")\n",
    "                .alias(\"Nombre_v1\")\n",
    "        )\n",
    "    ) \n",
    "    return result\n",
    "\n",
    "db_dwh_r = genera_nombrev1(db_dwh_r)\n",
    "db_dwh_nr = genera_nombrev1(db_dwh_nr)"
   ]
  },
  {
   "cell_type": "markdown",
   "id": "9e92e329",
   "metadata": {},
   "source": [
    "### 05 Genera prefotos"
   ]
  },
  {
   "cell_type": "code",
   "execution_count": 13,
   "id": "d9837ffc",
   "metadata": {},
   "outputs": [
    {
     "data": {
      "text/plain": [
       "19.6136"
      ]
     },
     "execution_count": 13,
     "metadata": {},
     "output_type": "execute_result"
    }
   ],
   "source": [
    "# importa catalogos x2\n",
    "conn_str = r\"DRIVER={Microsoft Access Driver (*.mdb, *.accdb)};DBQ=\" + fl_catalogos + '.accdb'\n",
    "conn = pyodbc.connect(conn_str)\n",
    "\n",
    "tipo_cambio = pl.read_database(query='SELECT * FROM [TIPO CAMBIO]', connection=conn)\n",
    "tipo_garantia = pl.read_database(query='SELECT * FROM [TIPO_GARANTIA]', connection=conn, schema_overrides={'Tipo_garantia_ID': pl.Int32})\n",
    "udis = pl.read_database(query='SELECT * FROM [UDIS]', connection=conn, schema_overrides={'Fecha_Paridad': pl.Datetime})\n",
    "programa = pl.read_database(query='SELECT * FROM [PROGRAMA]', connection=conn, schema_overrides={'PROGRAMA_ID': pl.Int128})\n",
    "agrupamiento = pl.read_database(query='SELECT * FROM [AGRUPAMIENTO]', connection=conn)\n",
    "sfc = pl.read_database(query='SELECT * FROM [SIN FONDOS CONTRAGARANTIA]', connection=conn)\n",
    "\n",
    "#udis = udis.with_columns(pl.col(\"Fecha_Paridad\").cast(pl.Date))\n",
    "conn.close()\n",
    "\n",
    "tipo_cambio.columns = [\"Anio\", \"Mes\", \"TC\"]\n",
    "\n",
    "tdc = tipo_cambio.filter((pl.col(\"Anio\")==cierre_d.year) & (pl.col(\"Mes\")==cierre_d.month)).select(\"TC\").item()\n",
    "tdc"
   ]
  },
  {
   "cell_type": "code",
   "execution_count": 14,
   "id": "1b92a209",
   "metadata": {},
   "outputs": [],
   "source": [
    "# Crea columna Fecha_Consulta x2\n",
    "def gen_col_fecha_consulta(df):\n",
    "    result = (\n",
    "        df.with_columns(\n",
    "            pl.lit(cierre).alias(\"Fecha_Consulta\")\n",
    "        )\n",
    "    )\n",
    "    return result\n",
    "\n",
    "db_dwh_r = gen_col_fecha_consulta(db_dwh_r)\n",
    "db_dwh_nr = gen_col_fecha_consulta(db_dwh_nr)"
   ]
  },
  {
   "cell_type": "code",
   "execution_count": 15,
   "id": "930708f1",
   "metadata": {},
   "outputs": [],
   "source": [
    "# Modifica columna Tipo_Garantia_Id x2\n",
    "def cor_col_garantia_id(df):\n",
    "    result = df.with_columns(pl.col(\"TIPO_GARANTIA_ID\").fill_null(999))\n",
    "    return result\n",
    "\n",
    "db_dwh_r = cor_col_garantia_id(db_dwh_r)\n",
    "db_dwh_nr = cor_col_garantia_id(db_dwh_nr)"
   ]
  },
  {
   "cell_type": "code",
   "execution_count": 16,
   "id": "7d846ee4",
   "metadata": {},
   "outputs": [],
   "source": [
    "# pega catalogos x2\n",
    "def cruza_catalogos(df):\n",
    "    \"\"\"\n",
    "    Requiere que se hayan importado los catálogos. Se omite pegado de tipo de cambio porque lo pega todo parejo :/ Si se va a usar funciona mejor como escalar.\n",
    "    \n",
    "    \"\"\"\n",
    "\n",
    "    result = (df\n",
    "    .join(programa.select(['PROGRAMA_ID', 'AGRUPAMIENTO_ID', 'ESQUEMA', 'SUBESQUEMA']), on=\"PROGRAMA_ID\", how='left')\n",
    "        .join(agrupamiento, on='AGRUPAMIENTO_ID', how='left')\n",
    "        .join(udis, left_on=\"Fecha de Apertura\", right_on=\"Fecha_Paridad\", how='left')\n",
    "        .join(tipo_credito.select(['Tipo_Credito_ID', 'NR_R']), left_on='TIPO_CREDITO_ID', right_on=\"Tipo_Credito_ID\", how='left')\n",
    "        .join(tipo_garantia.select(['Tipo_garantia_ID', 'CSG']), left_on='TIPO_GARANTIA_ID', right_on='Tipo_garantia_ID', how='left')\n",
    "        .join(sfc.select(['Intermediario_Id', 'CLAVE_CREDITO', 'FONDOS_CONTRAGARANTIA']), left_on=['INTERMEDIARIO_ID', 'NUMERO_CREDITO'], right_on=['Intermediario_Id', 'CLAVE_CREDITO'], how='left')\n",
    "        )\n",
    "     \n",
    "    # Complementa\n",
    "    result = (result\n",
    "        .with_columns(pl.when(pl.col(\"Monto _Credito_Mn\")<=(900000*pl.col(\"Paridad_Peso\")))\n",
    "                    .then(0).otherwise(1).alias(\"MM_UDIS\"))\n",
    "        .with_columns(pl.when(pl.col(\"FONDOS_CONTRAGARANTIA\")==\"SF\")\n",
    "                    .then(pl.lit(\"SF\")).otherwise(pl.lit(\"CF\")).alias(\"CSF\"))\n",
    "        )\n",
    "    \n",
    "    return result\n",
    "\n",
    "db_dwh_r = cruza_catalogos(db_dwh_r)\n",
    "db_dwh_nr = cruza_catalogos(db_dwh_nr)"
   ]
  },
  {
   "cell_type": "markdown",
   "id": "b31d694f",
   "metadata": {},
   "source": [
    "### 06 Sube Saldos y MGI"
   ]
  },
  {
   "cell_type": "code",
   "execution_count": 17,
   "id": "a7479a56",
   "metadata": {},
   "outputs": [],
   "source": [
    "# importa tablas + concatenación\n",
    "def import_saldos_mgi():\n",
    "\n",
    "    schema_saldos = {\n",
    "        \"INTERMEDIARIO_ID\": pl.String,\n",
    "        \"MONEDA_ID\": pl.Int16,\n",
    "        \"NUMERO_CREDITO\": pl.String,\n",
    "        \"MONTO_GARANTIZADO (SUMA)\": pl.Float64,\n",
    "        \"SALDO_CONTINGENTE (SUMA)\": pl.Float64\n",
    "    }\n",
    "    df_saldo_mgi = read_access(fl_saldo_mgi, \"DATOS\", schema_saldos)\n",
    "    df_saldo_mgi_fianzas = read_access(fl_saldo_mgi_fianzas, \"DATOS\", schema_saldos)\n",
    "\n",
    "    result = pl.concat([\n",
    "        df_saldo_mgi,\n",
    "        df_saldo_mgi_fianzas\n",
    "    ], rechunk=True)\n",
    "    return result\n",
    "\n",
    "db_dwh_saldoymgi = import_saldos_mgi()"
   ]
  },
  {
   "cell_type": "code",
   "execution_count": 18,
   "id": "199c9e0c",
   "metadata": {},
   "outputs": [],
   "source": [
    "def genera_concatenado(df):\n",
    "    result = (df.with_columns(\n",
    "                (pl.col(\"INTERMEDIARIO_ID\") + pl.col(\"NUMERO_CREDITO\"))\n",
    "                .alias(\"Concatenado\"))\n",
    "            )\n",
    "    return result\n",
    "\n",
    "def genera_bd_dwh_saldoymgi_vf(df):\n",
    "    result = genera_concatenado(df)\n",
    "    result = (\n",
    "        result.select(\n",
    "            pl.col(\"Concatenado\"),\n",
    "            pl.col(\"INTERMEDIARIO_ID\"),\n",
    "            pl.col(\"MONEDA_ID\"),\n",
    "            pl.col(\"NUMERO_CREDITO\"), \n",
    "            pl.col(\"MONTO_GARANTIZADO (SUMA)\").alias(\"Monto_Garantizado\"),\n",
    "            pl.col(\"SALDO_CONTINGENTE (SUMA)\").alias(\"Saldo_Contingente\")\n",
    "        )\n",
    "    )\n",
    "    return result \n",
    "\n",
    "# Exporta\n",
    "db_dwh_saldoymgi_vf = genera_bd_dwh_saldoymgi_vf(db_dwh_saldoymgi)"
   ]
  },
  {
   "cell_type": "markdown",
   "id": "03b74b3a",
   "metadata": {},
   "source": [
    "### 07 Genera Saldos"
   ]
  },
  {
   "cell_type": "code",
   "execution_count": 19,
   "id": "4023799e",
   "metadata": {},
   "outputs": [],
   "source": [
    "db_dwh_r = genera_concatenado(db_dwh_r)\n",
    "db_dwh_nr = genera_concatenado(db_dwh_nr)"
   ]
  },
  {
   "cell_type": "code",
   "execution_count": 25,
   "id": "da289d16",
   "metadata": {},
   "outputs": [
    {
     "data": {
      "text/html": [
       "<div><style>\n",
       ".dataframe > thead > tr,\n",
       ".dataframe > tbody > tr {\n",
       "  text-align: right;\n",
       "  white-space: pre-wrap;\n",
       "}\n",
       "</style>\n",
       "<small>shape: (2_756_330, 6)</small><table border=\"1\" class=\"dataframe\"><thead><tr><th>Concatenado</th><th>INTERMEDIARIO_ID</th><th>MONEDA_ID</th><th>NUMERO_CREDITO</th><th>Monto_Garantizado</th><th>Saldo_Contingente</th></tr><tr><td>str</td><td>str</td><td>i16</td><td>str</td><td>f64</td><td>f64</td></tr></thead><tbody><tr><td>&quot;100001441303695150&quot;</td><td>&quot;10000144&quot;</td><td>1</td><td>&quot;1303695150&quot;</td><td>10258.92</td><td>0.0</td></tr><tr><td>&quot;100001442000712164&quot;</td><td>&quot;10000144&quot;</td><td>1</td><td>&quot;2000712164&quot;</td><td>21250.0</td><td>0.0</td></tr><tr><td>&quot;100001445000027685&quot;</td><td>&quot;10000144&quot;</td><td>1</td><td>&quot;5000027685&quot;</td><td>83021.09</td><td>0.0</td></tr><tr><td>&quot;100001445000030359&quot;</td><td>&quot;10000144&quot;</td><td>1</td><td>&quot;5000030359&quot;</td><td>20670.29</td><td>0.0</td></tr><tr><td>&quot;100001445000333372&quot;</td><td>&quot;10000144&quot;</td><td>1</td><td>&quot;5000333372&quot;</td><td>2875.0</td><td>0.0</td></tr><tr><td>&hellip;</td><td>&hellip;</td><td>&hellip;</td><td>&hellip;</td><td>&hellip;</td><td>&hellip;</td></tr><tr><td>&quot;4736216161617818&quot;</td><td>&quot;473621616&quot;</td><td>1</td><td>&quot;1617818&quot;</td><td>149761.76</td><td>0.0</td></tr><tr><td>&quot;4736216161617930&quot;</td><td>&quot;473621616&quot;</td><td>1</td><td>&quot;1617930&quot;</td><td>25214.37</td><td>0.0</td></tr><tr><td>&quot;4736216161621651&quot;</td><td>&quot;473621616&quot;</td><td>54</td><td>&quot;1621651&quot;</td><td>2780.38</td><td>0.0</td></tr><tr><td>&quot;4736216161621719&quot;</td><td>&quot;473621616&quot;</td><td>54</td><td>&quot;1621719&quot;</td><td>3722.82</td><td>0.0</td></tr><tr><td>&quot;4736216161624131&quot;</td><td>&quot;473621616&quot;</td><td>1</td><td>&quot;1624131&quot;</td><td>20618.2</td><td>0.0</td></tr></tbody></table></div>"
      ],
      "text/plain": [
       "shape: (2_756_330, 6)\n",
       "┌─────────────────┬─────────────────┬───────────┬────────────────┬────────────────┬────────────────┐\n",
       "│ Concatenado     ┆ INTERMEDIARIO_I ┆ MONEDA_ID ┆ NUMERO_CREDITO ┆ Monto_Garantiz ┆ Saldo_Continge │\n",
       "│ ---             ┆ D               ┆ ---       ┆ ---            ┆ ado            ┆ nte            │\n",
       "│ str             ┆ ---             ┆ i16       ┆ str            ┆ ---            ┆ ---            │\n",
       "│                 ┆ str             ┆           ┆                ┆ f64            ┆ f64            │\n",
       "╞═════════════════╪═════════════════╪═══════════╪════════════════╪════════════════╪════════════════╡\n",
       "│ 100001441303695 ┆ 10000144        ┆ 1         ┆ 1303695150     ┆ 10258.92       ┆ 0.0            │\n",
       "│ 150             ┆                 ┆           ┆                ┆                ┆                │\n",
       "│ 100001442000712 ┆ 10000144        ┆ 1         ┆ 2000712164     ┆ 21250.0        ┆ 0.0            │\n",
       "│ 164             ┆                 ┆           ┆                ┆                ┆                │\n",
       "│ 100001445000027 ┆ 10000144        ┆ 1         ┆ 5000027685     ┆ 83021.09       ┆ 0.0            │\n",
       "│ 685             ┆                 ┆           ┆                ┆                ┆                │\n",
       "│ 100001445000030 ┆ 10000144        ┆ 1         ┆ 5000030359     ┆ 20670.29       ┆ 0.0            │\n",
       "│ 359             ┆                 ┆           ┆                ┆                ┆                │\n",
       "│ 100001445000333 ┆ 10000144        ┆ 1         ┆ 5000333372     ┆ 2875.0         ┆ 0.0            │\n",
       "│ 372             ┆                 ┆           ┆                ┆                ┆                │\n",
       "│ …               ┆ …               ┆ …         ┆ …              ┆ …              ┆ …              │\n",
       "│ 473621616161781 ┆ 473621616       ┆ 1         ┆ 1617818        ┆ 149761.76      ┆ 0.0            │\n",
       "│ 8               ┆                 ┆           ┆                ┆                ┆                │\n",
       "│ 473621616161793 ┆ 473621616       ┆ 1         ┆ 1617930        ┆ 25214.37       ┆ 0.0            │\n",
       "│ 0               ┆                 ┆           ┆                ┆                ┆                │\n",
       "│ 473621616162165 ┆ 473621616       ┆ 54        ┆ 1621651        ┆ 2780.38        ┆ 0.0            │\n",
       "│ 1               ┆                 ┆           ┆                ┆                ┆                │\n",
       "│ 473621616162171 ┆ 473621616       ┆ 54        ┆ 1621719        ┆ 3722.82        ┆ 0.0            │\n",
       "│ 9               ┆                 ┆           ┆                ┆                ┆                │\n",
       "│ 473621616162413 ┆ 473621616       ┆ 1         ┆ 1624131        ┆ 20618.2        ┆ 0.0            │\n",
       "│ 1               ┆                 ┆           ┆                ┆                ┆                │\n",
       "└─────────────────┴─────────────────┴───────────┴────────────────┴────────────────┴────────────────┘"
      ]
     },
     "execution_count": 25,
     "metadata": {},
     "output_type": "execute_result"
    }
   ],
   "source": [
    "db_dwh_saldoymgi_vf"
   ]
  },
  {
   "cell_type": "code",
   "execution_count": 26,
   "id": "418b73e2",
   "metadata": {},
   "outputs": [],
   "source": [
    "def genera_dwh_nrr_vf(df, db_dwh_saldoymgi_vf):\n",
    "    result = (df.join(db_dwh_saldoymgi_vf, how=\"left\", on=\"Concatenado\")\n",
    "    .with_columns(\n",
    "        pl.when(pl.col(\"MONEDA_ID\") == 1).then(pl.lit(1))\n",
    "        .when(pl.col(\"MONEDA_ID\") == 54).then(pl.lit(tdc))\n",
    "        .alias(\"TC\")\n",
    "        )\n",
    "    .with_columns(\n",
    "        (pl.col(\"Saldo_Contingente\") * pl.col(\"TC\")).alias(\"Saldo_Contingente_Mn\"),\n",
    "        (pl.col(\"Monto_Garantizado\") * pl.col(\"TC\")).alias(\"Monto_Garantizado_Mn_Original\"),\n",
    "        (pl.col(\"Monto _Credito_Mn\") * pl.col(\"Porcentaje Garantizado\") / 100).alias(\"Monto_Garantizado_Mn\")\n",
    "        )\n",
    "    .drop([\"NR_R_right\", \"INTERMEDIARIO_ID_right\", \"NUMERO_CREDITO_right\"])\n",
    "    )\n",
    "    return result\n",
    "\n",
    "#Falta compara_registros\n",
    "db_dwh_r = genera_dwh_nrr_vf(db_dwh_r, db_dwh_saldoymgi_vf)\n",
    "db_dwh_nr = genera_dwh_nrr_vf(db_dwh_nr, db_dwh_saldoymgi_vf)"
   ]
  },
  {
   "cell_type": "code",
   "execution_count": null,
   "id": "d95a1e54",
   "metadata": {},
   "outputs": [
    {
     "data": {
      "text/html": [
       "<div><style>\n",
       ".dataframe > thead > tr,\n",
       ".dataframe > tbody > tr {\n",
       "  text-align: right;\n",
       "  white-space: pre-wrap;\n",
       "}\n",
       "</style>\n",
       "<small>shape: (0, 2)</small><table border=\"1\" class=\"dataframe\"><thead><tr><th>Producto</th><th>Saldo_Contingente_Mn</th></tr><tr><td>str</td><td>f64</td></tr></thead><tbody></tbody></table></div>"
      ],
      "text/plain": [
       "shape: (0, 2)\n",
       "┌──────────┬──────────────────────┐\n",
       "│ Producto ┆ Saldo_Contingente_Mn │\n",
       "│ ---      ┆ ---                  │\n",
       "│ str      ┆ f64                  │\n",
       "╞══════════╪══════════════════════╡\n",
       "└──────────┴──────────────────────┘"
      ]
     },
     "execution_count": 35,
     "metadata": {},
     "output_type": "execute_result"
    }
   ],
   "source": [
    "valida_agrup_r = (db_dwh_r\n",
    " .filter(pl.col(\"AGRUPAMIENTO\").is_null()==True)\n",
    " .group_by(\"Producto\")\n",
    " .agg(\n",
    "    pl.col(\"Saldo_Contingente_Mn\").sum()\n",
    "))\n",
    "valida_agrup_r"
   ]
  },
  {
   "cell_type": "code",
   "execution_count": 36,
   "id": "8ff72389",
   "metadata": {},
   "outputs": [
    {
     "data": {
      "text/html": [
       "<div><style>\n",
       ".dataframe > thead > tr,\n",
       ".dataframe > tbody > tr {\n",
       "  text-align: right;\n",
       "  white-space: pre-wrap;\n",
       "}\n",
       "</style>\n",
       "<small>shape: (0, 2)</small><table border=\"1\" class=\"dataframe\"><thead><tr><th>Producto</th><th>Saldo_Contingente_Mn</th></tr><tr><td>str</td><td>f64</td></tr></thead><tbody></tbody></table></div>"
      ],
      "text/plain": [
       "shape: (0, 2)\n",
       "┌──────────┬──────────────────────┐\n",
       "│ Producto ┆ Saldo_Contingente_Mn │\n",
       "│ ---      ┆ ---                  │\n",
       "│ str      ┆ f64                  │\n",
       "╞══════════╪══════════════════════╡\n",
       "└──────────┴──────────────────────┘"
      ]
     },
     "execution_count": 36,
     "metadata": {},
     "output_type": "execute_result"
    }
   ],
   "source": [
    "valida_agrup_nr = (db_dwh_nr\n",
    " .filter(pl.col(\"AGRUPAMIENTO\").is_null()==True)\n",
    " .group_by(\"Producto\")\n",
    " .agg(\n",
    "    pl.col(\"Saldo_Contingente_Mn\").sum()\n",
    "))\n",
    "valida_agrup_nr"
   ]
  },
  {
   "cell_type": "code",
   "execution_count": 33,
   "id": "3d724d78",
   "metadata": {},
   "outputs": [
    {
     "data": {
      "text/html": [
       "<div><style>\n",
       ".dataframe > thead > tr,\n",
       ".dataframe > tbody > tr {\n",
       "  text-align: right;\n",
       "  white-space: pre-wrap;\n",
       "}\n",
       "</style>\n",
       "<small>shape: (8, 2)</small><table border=\"1\" class=\"dataframe\"><thead><tr><th>Producto</th><th>Saldo_MDP_Suma</th></tr><tr><td>str</td><td>f64</td></tr></thead><tbody><tr><td>&quot;GARANTIA SELECTIVA&quot;</td><td>0.0</td></tr><tr><td>&quot;GARANTIAS FEFA&quot;</td><td>4.7177e8</td></tr><tr><td>&quot;GARANTIA EMPRESARIAL&quot;</td><td>4.6452e10</td></tr><tr><td>&quot;GARANTIA MICROCREDITO&quot;</td><td>0.0</td></tr><tr><td>&quot;EMPRESA MEDIANA&quot;</td><td>8.6273e8</td></tr><tr><td>&quot;GARANTIA SECTORIAL&quot;</td><td>2.2700e9</td></tr><tr><td>&quot;GARANTIA SUBASTA&quot;</td><td>0.0</td></tr><tr><td>&quot;GARANTIA ESPECIAL&quot;</td><td>1.3675e8</td></tr></tbody></table></div>"
      ],
      "text/plain": [
       "shape: (8, 2)\n",
       "┌───────────────────────┬────────────────┐\n",
       "│ Producto              ┆ Saldo_MDP_Suma │\n",
       "│ ---                   ┆ ---            │\n",
       "│ str                   ┆ f64            │\n",
       "╞═══════════════════════╪════════════════╡\n",
       "│ GARANTIA SELECTIVA    ┆ 0.0            │\n",
       "│ GARANTIAS FEFA        ┆ 4.7177e8       │\n",
       "│ GARANTIA EMPRESARIAL  ┆ 4.6452e10      │\n",
       "│ GARANTIA MICROCREDITO ┆ 0.0            │\n",
       "│ EMPRESA MEDIANA       ┆ 8.6273e8       │\n",
       "│ GARANTIA SECTORIAL    ┆ 2.2700e9       │\n",
       "│ GARANTIA SUBASTA      ┆ 0.0            │\n",
       "│ GARANTIA ESPECIAL     ┆ 1.3675e8       │\n",
       "└───────────────────────┴────────────────┘"
      ]
     },
     "execution_count": 33,
     "metadata": {},
     "output_type": "execute_result"
    }
   ],
   "source": [
    "valida_r = (db_dwh_r\n",
    " .group_by(\"Producto\")\n",
    " .agg(\n",
    "    pl.col(\"Saldo_Contingente_Mn\").sum().alias(\"Saldo_MDP_Suma\")\n",
    "))\n",
    "valida_r"
   ]
  },
  {
   "cell_type": "code",
   "execution_count": 32,
   "id": "6183a526",
   "metadata": {},
   "outputs": [
    {
     "data": {
      "text/html": [
       "<div><style>\n",
       ".dataframe > thead > tr,\n",
       ".dataframe > tbody > tr {\n",
       "  text-align: right;\n",
       "  white-space: pre-wrap;\n",
       "}\n",
       "</style>\n",
       "<small>shape: (9, 2)</small><table border=\"1\" class=\"dataframe\"><thead><tr><th>Producto</th><th>Saldo_MDP_Suma</th></tr><tr><td>str</td><td>f64</td></tr></thead><tbody><tr><td>&quot;GARANTIA SUBASTA&quot;</td><td>483068.119124</td></tr><tr><td>&quot;GARANTIA MICROCREDITO&quot;</td><td>0.0</td></tr><tr><td>&quot;EMPRESA MEDIANA&quot;</td><td>1.3198e8</td></tr><tr><td>&quot;GARANTIA SECTORIAL&quot;</td><td>3.3334e10</td></tr><tr><td>&quot;GARANTIA EMERGENTES&quot;</td><td>9.5083e8</td></tr><tr><td>&quot;GARANTIA FIANZA&quot;</td><td>1.3038e10</td></tr><tr><td>&quot;GARANTIA SELECTIVA&quot;</td><td>0.0</td></tr><tr><td>&quot;GARANTIAS FEFA&quot;</td><td>2.8792e8</td></tr><tr><td>&quot;GARANTIA EMPRESARIAL&quot;</td><td>1.3517e11</td></tr></tbody></table></div>"
      ],
      "text/plain": [
       "shape: (9, 2)\n",
       "┌───────────────────────┬────────────────┐\n",
       "│ Producto              ┆ Saldo_MDP_Suma │\n",
       "│ ---                   ┆ ---            │\n",
       "│ str                   ┆ f64            │\n",
       "╞═══════════════════════╪════════════════╡\n",
       "│ GARANTIA SUBASTA      ┆ 483068.119124  │\n",
       "│ GARANTIA MICROCREDITO ┆ 0.0            │\n",
       "│ EMPRESA MEDIANA       ┆ 1.3198e8       │\n",
       "│ GARANTIA SECTORIAL    ┆ 3.3334e10      │\n",
       "│ GARANTIA EMERGENTES   ┆ 9.5083e8       │\n",
       "│ GARANTIA FIANZA       ┆ 1.3038e10      │\n",
       "│ GARANTIA SELECTIVA    ┆ 0.0            │\n",
       "│ GARANTIAS FEFA        ┆ 2.8792e8       │\n",
       "│ GARANTIA EMPRESARIAL  ┆ 1.3517e11      │\n",
       "└───────────────────────┴────────────────┘"
      ]
     },
     "execution_count": 32,
     "metadata": {},
     "output_type": "execute_result"
    }
   ],
   "source": [
    "valida_nr = (db_dwh_nr\n",
    " .group_by(\"Producto\")\n",
    " .agg(\n",
    "    pl.col(\"Saldo_Contingente_Mn\").sum().alias(\"Saldo_MDP_Suma\")\n",
    "))\n",
    "valida_nr"
   ]
  },
  {
   "cell_type": "code",
   "execution_count": 41,
   "id": "55140469",
   "metadata": {},
   "outputs": [],
   "source": [
    "# Exporta Parquets\n",
    "db_dwh_saldoymgi_vf.write_parquet(fl_bd_dwh_saldoymgi_vf)\n",
    "db_dwh_nr.write_parquet(fl_db_dwh_nr)\n",
    "db_dwh_r.write_parquet(fl_db_dwh_r)\n",
    "\n",
    "# Exporta Validadores\n",
    "valida_agrup_r.write_csv(fl_valida_agrup_r)\n",
    "valida_agrup_nr.write_csv(fl_valida_agrup_nr)\n",
    "valida_r.write_csv(fl_valida_r)\n",
    "valida_nr.write_csv(fl_valida_nr)"
   ]
  }
 ],
 "metadata": {
  "kernelspec": {
   "display_name": ".venv",
   "language": "python",
   "name": "python3"
  },
  "language_info": {
   "codemirror_mode": {
    "name": "ipython",
    "version": 3
   },
   "file_extension": ".py",
   "mimetype": "text/x-python",
   "name": "python",
   "nbconvert_exporter": "python",
   "pygments_lexer": "ipython3",
   "version": "3.13.2"
  }
 },
 "nbformat": 4,
 "nbformat_minor": 5
}
