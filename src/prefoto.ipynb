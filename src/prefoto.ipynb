{
 "cells": [
  {
   "cell_type": "code",
   "execution_count": 12,
   "id": "e7dffc44",
   "metadata": {},
   "outputs": [],
   "source": [
    "import polars as pl\n",
    "import pyodbc"
   ]
  },
  {
   "cell_type": "code",
   "execution_count": 13,
   "id": "d64272e1",
   "metadata": {},
   "outputs": [],
   "source": [
    "import functions.common as fn"
   ]
  },
  {
   "cell_type": "markdown",
   "id": "3895961a",
   "metadata": {},
   "source": [
    "### Definición de Rutas"
   ]
  },
  {
   "cell_type": "code",
   "execution_count": 14,
   "id": "72b6651c",
   "metadata": {},
   "outputs": [],
   "source": [
    "cierre = \"202503\"\n",
    "cierre_l = \"Mar25\"\n",
    "\n",
    "# Carpetas\n",
    "path = \"E:/Users/jhernandezr/DAR/garantias/reporte/fotos/\"\n",
    "wd_data_raw = path + \"data/raw/\"\n",
    "wd_data_external = path + \"data/external/\"\n",
    "wd_data_processed_dwh = \"E:/Users/jhernandezr/DAR/garantias/data_pipeline_garantias/data/processed/DWH/csv/\"\n",
    "wd_data_processed_dwh = \"E:/Users/jhernandezr/DAR/garantias/data_pipeline_garantias/data/processed/Fotos/csv/\"\n",
    "\n",
    "# Inputs\n",
    "fl_catalogos = wd_data_external + f'Catálogos_{cierre_l}'\n",
    "fl_cohortes_1 = wd_data_raw + f'Cohortes_{cierre}_1.mdb'\n",
    "fl_cohortes_2 = wd_data_raw + f'Cohortes_{cierre}_2.mdb'\n",
    "fl_cohortes_3 = wd_data_raw + f'Cohortes_{cierre}_3.mdb'\n",
    "fl_cohortes_4 = wd_data_raw + f'Cohortes_{cierre}_4.mdb'\n",
    "fl_cohortes_5 = wd_data_raw + f'Cohortes_{cierre}_5.mdb'\n",
    "\n",
    "# Outputs\n"
   ]
  },
  {
   "cell_type": "code",
   "execution_count": null,
   "id": "1f1ab3d4",
   "metadata": {},
   "outputs": [
    {
     "data": {
      "text/plain": [
       "<function Connection.close()>"
      ]
     },
     "execution_count": 15,
     "metadata": {},
     "output_type": "execute_result"
    }
   ],
   "source": [
    "conn_str = r\"DRIVER={Microsoft Access Driver (*.mdb, *.accdb)};DBQ=\" + fl_catalogos + '.accdb'\n",
    "conn = pyodbc.connect(conn_str)\n",
    "tipo_credito = pl.read_database(query='SELECT * FROM [TIPO_CREDITO]', connection=conn, schema_overrides={'Tipo_Credito_ID': pl.Int32})\n",
    "conn.close()\n"
   ]
  },
  {
   "cell_type": "markdown",
   "id": "3b1c5c03",
   "metadata": {},
   "source": [
    "### 04 Carga BD"
   ]
  },
  {
   "cell_type": "code",
   "execution_count": 16,
   "id": "037f881d",
   "metadata": {},
   "outputs": [],
   "source": [
    "schema_cohortes = {\n",
    "        'BUCKET': pl.Int16,\n",
    "        'CONREC_CLAVE': pl.Int32,\n",
    "        'DESC_INDICADOR': pl.String,\n",
    "        'Describe_Desrec': pl.String,\n",
    "        'ESTADO_ID': pl.Int32,\n",
    "        'ESTRATO_ID': pl.Int16,\n",
    "        'FECHA_APERTURA': pl.Datetime,\n",
    "        'FECHA_PRIMER_INCUMPLIMIENTO': pl.Datetime,\n",
    "        'FECHA_REGISTRO_ALTA': pl.Datetime,\n",
    "        'INDICADOR_ID': pl.Int32,\n",
    "        'INTERMEDIARIO_ID': pl.String,\n",
    "        'NOMBRE_EMPRESA': pl.String,\n",
    "        'NUMERO_CREDITO': pl.String,\n",
    "        'PLAZO': pl.Int32,\n",
    "        'PLAZO_DIAS': pl.Int32,\n",
    "        'PORCENTAJE_COMISION_GARANTIA': pl.Float32,\n",
    "        'PORCENTAJE_GARANTIZADO': pl.Float32,\n",
    "        'PROGRAMA_ID': pl.Int32,\n",
    "        'PROGRAMA_ORIGINAL': pl.Int32,\n",
    "        'RAZON_SOCIAL': pl.String,\n",
    "        'RFC_EMPRESA': pl.String,\n",
    "        'SECTOR_ID': pl.Int16,\n",
    "        'TASA_ID': pl.Int16,\n",
    "        'TIPO_CREDITO_ID': pl.Int32,\n",
    "        'TIPO_GARANTIA_ID': pl.Int32,\n",
    "        'VALOR_TASA_INTERES': pl.Float32,\n",
    "        'MONTO_CREDITO_MN (SUMA)': pl.Float64\n",
    "}"
   ]
  },
  {
   "cell_type": "code",
   "execution_count": 17,
   "id": "ad871d6e",
   "metadata": {},
   "outputs": [],
   "source": [
    "def read_access(file, table, schema):\n",
    "    conn_str = r\"DRIVER={Microsoft Access Driver (*.mdb, *.accdb)};DBQ=\" + file\n",
    "    conn = pyodbc.connect(conn_str)\n",
    "    df = pl.read_database(query=f\"SELECT * FROM {table}\", connection=conn, schema_overrides=schema)\n",
    "    conn.close()\n",
    "    return df\n"
   ]
  },
  {
   "cell_type": "code",
   "execution_count": null,
   "id": "507792ce",
   "metadata": {},
   "outputs": [],
   "source": []
  },
  {
   "cell_type": "code",
   "execution_count": 31,
   "id": "29ed13a1",
   "metadata": {},
   "outputs": [],
   "source": [
    "def import_bd_dwh():\n",
    "    cohortes_1 = read_access(fl_cohortes_1, \"DATOS\", schema_cohortes)\n",
    "    cohortes_2 = read_access(fl_cohortes_2, \"DATOS\", schema_cohortes)\n",
    "    cohortes_3 = read_access(fl_cohortes_3, \"DATOS\", schema_cohortes)\n",
    "    cohortes_4 = read_access(fl_cohortes_4, \"DATOS\", schema_cohortes)\n",
    "    cohortes_5 = read_access(fl_cohortes_5, \"DATOS\", schema_cohortes)\n",
    "\n",
    "    db_dwh = pl.concat([\n",
    "                        cohortes_1, \n",
    "                        cohortes_2, \n",
    "                        cohortes_3, \n",
    "                        cohortes_4, \n",
    "                        cohortes_5\n",
    "                        ], rechunk=True, how=\"diagonal\")\n",
    "    return db_dwh\n",
    "\n",
    "db_dwh = import_bd_dwh()"
   ]
  },
  {
   "cell_type": "code",
   "execution_count": null,
   "id": "787207a0",
   "metadata": {},
   "outputs": [],
   "source": [
    "def genera_dwh_nr_r(db_dwh):\n",
    "    db_dwh = (db_dwh\n",
    "            .join(tipo_credito, \n",
    "                    how=\"left\", \n",
    "                    left_on=\"TIPO_CREDITO_ID\", \n",
    "                    right_on=\"Tipo_Credito_ID\"\n",
    "                )\n",
    "            )\n",
    "    \n",
    "    db_dwh = db_dwh.select(\n",
    "        pl.col(\"BUCKET\"),\n",
    "        pl.col(\"DESC_INDICADOR\").alias(\"Producto\"),\n",
    "        pl.col(\"ESTADO_ID\"),\n",
    "        pl.col(\"ESTRATO_ID\"),\n",
    "        pl.col(\"FECHA_APERTURA\").alias(\"Fecha de Apertura\"),\n",
    "        pl.col(\"FECHA_PRIMER_INCUMPLIMIENTO\"),\n",
    "        pl.col(\"FECHA_REGISTRO_ALTA\").alias(\"Fecha Registro Alta\"),\n",
    "        pl.col(\"INDICADOR_ID\").alias(\"Producto ID\"),\n",
    "        pl.col(\"INTERMEDIARIO_ID\"),\n",
    "        pl.col(\"NOMBRE_EMPRESA\").alias(\"Empresa / Acreditado (Descripción)\"),\n",
    "        pl.col(\"NUMERO_CREDITO\"),\n",
    "        pl.col(\"PLAZO\"),\n",
    "        pl.col(\"PLAZO_DIAS\").alias(\"Plazo Días\"),\n",
    "        pl.col(\"PORCENTAJE_COMISION_GARANTIA\").alias(\"Porcentaje de Comisión Garantia\"),\n",
    "        pl.col(\"PORCENTAJE_GARANTIZADO\").alias(\"Porcentaje Garantizado\"),\n",
    "        pl.col(\"PROGRAMA_ID\"),\n",
    "        pl.col(\"PROGRAMA_ORIGINAL\"),\n",
    "        pl.col(\"RAZON_SOCIAL\").alias(\"Razón Social (Intermediario)\"),\n",
    "        pl.col(\"RFC_EMPRESA\").alias(\"RFC Empresa / Acreditado\"),\n",
    "        pl.col(\"SECTOR_ID\"),\n",
    "        pl.col(\"TASA_ID\"),\n",
    "        pl.col(\"TIPO_CREDITO_ID\"),\n",
    "        pl.col(\"TIPO_GARANTIA_ID\"),\n",
    "        pl.col(\"VALOR_TASA_INTERES\"),\n",
    "        pl.col(\"MONTO_CREDITO_MN (SUMA)\").alias(\"Monto _Credito_Mn\"),\n",
    "        pl.col(\"CONREC_CLAVE\"),\n",
    "        pl.col(\"Describe_Desrec\"),\n",
    "        pl.col(\"NR_R\")\n",
    "    )\n",
    "\n",
    "    db_dwh_r = db_dwh.filter(pl.col(\"NR_R\")==\"R\")\n",
    "    db_dwh_nr = db_dwh.filter(pl.col(\"NR_R\")==\"NR\")\n",
    "\n",
    "    return db_dwh_r, db_dwh_nr\n",
    "\n",
    "db_dwh_r, db_dwh_nr = genera_dwh_nr_r(db_dwh)"
   ]
  },
  {
   "cell_type": "code",
   "execution_count": null,
   "id": "9d6086c4",
   "metadata": {},
   "outputs": [],
   "source": [
    "def generate_fvto(df):\n",
    "    result = (df\n",
    "        .with_columns(\n",
    "            (pl.col(\"Fecha de Apertura\") +\n",
    "            pl.duration(days=(365 * pl.col(\"PLAZO\") / 12).round()) + \n",
    "            pl.duration(days=(pl.col(\"Plazo Días\").fill_null(0)))\n",
    "            )\n",
    "            .alias(\"test\")))\n",
    "    return result\n",
    "\n",
    "db_dwh_r = generate_fvto(db_dwh_r)\n",
    "db_dwh_nr = genera_dwh_nr_r(db_dwh_nr)"
   ]
  },
  {
   "cell_type": "code",
   "execution_count": null,
   "id": "866f1546",
   "metadata": {},
   "outputs": [],
   "source": [
    "def genera_tpro_clave(df):\n",
    "    result = df.with_columns(\n",
    "        pl.when((pl.col(\"PROGRAMA_ID\")>=32000)&(pl.col(\"PROGRAMA_ID\")<=32100))\n",
    "        .then(pl.col(\"PROGRAMA_ID\"))\n",
    "        .when((pl.col(\"PROGRAMA_ID\")==3976)&(pl.col(\"PROGRAMA_ORIGINAL\")==31415))\n",
    "        .then(pl.col(\"PROGRAMA_ID\"))\n",
    "        .when((pl.col(\"PROGRAMA_ID\")==33366)&(pl.col(\"PROGRAMA_ORIGINAL\")==33842))\n",
    "        .then(pl.col(\"PROGRAMA_ID\"))\n",
    "        .when((pl.col(\"PROGRAMA_ID\").is_in([3536, 3537, 3539, 3542,3544, 3545, 3546,3547,3548,3549,3550, 3553, 3555, 3558,3559, 3560, 3564,3566]))&(pl.col(\"PROGRAMA_ORIGINAL\")==3200))\n",
    "        .then(pl.col(\"PROGRAMA_ID\"))\n",
    "        .when(pl.col(\"PROGRAMA_ORIGINAL\")==3999)\n",
    "        .then(\"PROGRAMA_ID\")\n",
    "        .otherwise(pl.col(\"PROGRAMA_ORIGINAL\")).alias(\"TPRO_CLAVE\")\n",
    "    )\n",
    "    return result\n",
    "\n",
    "db_dwh_r = genera_tpro_clave(db_dwh_r)\n",
    "db_dwh_nr = genera_tpro_clave(db_dwh_nr)"
   ]
  },
  {
   "cell_type": "code",
   "execution_count": null,
   "id": "1b1ded20",
   "metadata": {},
   "outputs": [],
   "source": [
    "def genera_tipo_persona(df):\n",
    "    result = df.with_columns(\n",
    "        pl.when(pl.col(\"RFC Empresa / Acreditado\").str.slice(3, length=1) == \"-\")\n",
    "        .then(pl.lit(\"M\"))\n",
    "        .otherwise(pl.lit(\"F\")).alias(\"Tipo_Persona\")\n",
    "    )\n",
    "    return result\n",
    "\n",
    "db_dwh_r = genera_tipo_persona(db_dwh_r)\n",
    "db_dwh_nr = genera_tipo_persona(db_dwh_nr)"
   ]
  },
  {
   "cell_type": "code",
   "execution_count": null,
   "id": "1569cdb7",
   "metadata": {},
   "outputs": [],
   "source": [
    "def genera_nombrev1(df):\n",
    "    result = (\n",
    "        df.with_columns(\n",
    "            pl.col(\"Empresa / Acreditado (Descripción)\").str.replace(\"'\", \"\")\n",
    "                .alias(\"Nombre_v1\")\n",
    "        )\n",
    "    ) \n",
    "    return result\n",
    "\n",
    "db_dwh_r = genera_nombrev1(db_dwh_r)\n",
    "db_dwh_nr = genera_nombrev1(db_dwh_nr)"
   ]
  },
  {
   "cell_type": "markdown",
   "id": "9e92e329",
   "metadata": {},
   "source": [
    "### 05 Genera prefotos"
   ]
  },
  {
   "cell_type": "code",
   "execution_count": null,
   "id": "d9837ffc",
   "metadata": {},
   "outputs": [],
   "source": []
  },
  {
   "cell_type": "code",
   "execution_count": null,
   "id": "7d846ee4",
   "metadata": {},
   "outputs": [],
   "source": []
  },
  {
   "cell_type": "markdown",
   "id": "a08bf4e3",
   "metadata": {},
   "source": []
  },
  {
   "cell_type": "markdown",
   "id": "b31d694f",
   "metadata": {},
   "source": [
    "### 06 Sube Saldos y MGI"
   ]
  },
  {
   "cell_type": "code",
   "execution_count": null,
   "id": "a7479a56",
   "metadata": {},
   "outputs": [],
   "source": []
  },
  {
   "cell_type": "code",
   "execution_count": null,
   "id": "0945e3f4",
   "metadata": {},
   "outputs": [],
   "source": []
  },
  {
   "cell_type": "markdown",
   "id": "03b74b3a",
   "metadata": {},
   "source": [
    "### 07 Genera Saldos"
   ]
  },
  {
   "cell_type": "code",
   "execution_count": null,
   "id": "4023799e",
   "metadata": {},
   "outputs": [],
   "source": []
  },
  {
   "cell_type": "code",
   "execution_count": null,
   "id": "da289d16",
   "metadata": {},
   "outputs": [],
   "source": []
  }
 ],
 "metadata": {
  "kernelspec": {
   "display_name": ".venv",
   "language": "python",
   "name": "python3"
  },
  "language_info": {
   "codemirror_mode": {
    "name": "ipython",
    "version": 3
   },
   "file_extension": ".py",
   "mimetype": "text/x-python",
   "name": "python",
   "nbconvert_exporter": "python",
   "pygments_lexer": "ipython3",
   "version": "3.13.2"
  }
 },
 "nbformat": 4,
 "nbformat_minor": 5
}
